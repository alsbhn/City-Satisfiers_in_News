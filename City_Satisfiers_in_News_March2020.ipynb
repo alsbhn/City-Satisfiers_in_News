{
  "nbformat": 4,
  "nbformat_minor": 0,
  "metadata": {
    "colab": {
      "name": "City-Satisfiers in News_March2020",
      "provenance": [],
      "collapsed_sections": [],
      "machine_shape": "hm",
      "authorship_tag": "ABX9TyNKTkoZtADqqE48w46sWY4S",
      "include_colab_link": true
    },
    "kernelspec": {
      "name": "python3",
      "display_name": "Python 3"
    }
  },
  "cells": [
    {
      "cell_type": "markdown",
      "metadata": {
        "id": "view-in-github",
        "colab_type": "text"
      },
      "source": [
        "<a href=\"https://colab.research.google.com/github/alsbhn/City-Satisfiers_in_News/blob/master/City_Satisfiers_in_News_March2020.ipynb\" target=\"_parent\"><img src=\"https://colab.research.google.com/assets/colab-badge.svg\" alt=\"Open In Colab\"/></a>"
      ]
    },
    {
      "cell_type": "markdown",
      "metadata": {
        "id": "I1kxrrsRfwMK",
        "colab_type": "text"
      },
      "source": [
        "# Cities and Human Needs Satisfiers in the News"
      ]
    },
    {
      "cell_type": "markdown",
      "metadata": {
        "id": "gjYFfXwKf-g9",
        "colab_type": "text"
      },
      "source": [
        "## Introduction\n",
        "<P> For centuries people have flocked to cities to enjoy the benefits of urban agglomeration. However, the literature on agglomeration theory mostly takes the perspective of firms. Advocating a people-centred agglomeration theory, this project sees cities as elevators to more than economic progress and asks whether fundamental human needs are also better catered for in cities. </P>\n",
        "<P> The availability of big data and exploring the promising field of data science to add to our understanding of social science have opened up new opportunities to employ new methodologies to study the complexity of social systems. There is a significant amount of textual data on the internet which are being produced every moment all over the world and, surprisingly, this data has remarkable multi-scale geographical details. This text data may reveal information about many objective indicators of satisfiers in cities and can be retrieved through a text mining approach that focuses on words that signal the presence of satisfiers and dissatisfiers of human needs in connection to geographical names that co-occur in the same texts. Such a ‘bag of words’ approach can be also used to analyse subjective feelings of residents, how people expressed their emotion about places in ‘social media’. </P>\n",
        "<P> To answer this geographical questions, I need to discover levels of semantic relatedness between ‘place names’ (Cities, small towns, rural areas etc.), and a ‘bag of words’ which represents the indicators for human needs satisfiers. These keywords are provided through a literature review. For instance, words like ‘isolation’, ‘loneliness’, ‘friends’, ‘family’, ‘love’, ‘marriage’, ‘partner’, ‘divorce’, ‘separation’, ‘party’, ‘encounter’, ‘meet’ etc. can be used to proxy the ‘close relationship’ indicator that partly captures the human need for ‘affection’. To excavate the relations between place names and satisfiers we need to create a corpus from internet news archives and use natural language processing methods. </P>\n",
        "<P> The first phase of this project is going to focus on US urban system.</p>"
      ]
    },
    {
      "cell_type": "markdown",
      "metadata": {
        "id": "oFaWBOavgMPH",
        "colab_type": "text"
      },
      "source": [
        "## This Notebook\n",
        "This notebook includes the initial steps of this project in the following sections:\n",
        "- **_SECTION 1_**: The introduction of the _MediaCloud_ as the project's database\n",
        "- **_SECTION 2_**: Crawling and corpus creation\n",
        "- **_SECTION 3_**: Fltering & cleaning the corpus\n",
        "- **_SECTION 4_**: Training TF-IDF & Topic Modeling\n",
        "- **_SECTION 5_**: Training a Word2Vec model"
      ]
    },
    {
      "cell_type": "markdown",
      "metadata": {
        "id": "-FcXBSF25_0E",
        "colab_type": "text"
      },
      "source": [
        "## Seteup prerequisites\n",
        "### _Mount the Google Drive_"
      ]
    },
    {
      "cell_type": "code",
      "metadata": {
        "id": "4GM52H-x6HK4",
        "colab_type": "code",
        "outputId": "ec961438-3b3c-4913-fce4-2d7bc5abaeb6",
        "colab": {
          "base_uri": "https://localhost:8080/",
          "height": 124
        }
      },
      "source": [
        "from google.colab import drive\n",
        "drive.mount('/content/drive')"
      ],
      "execution_count": 1,
      "outputs": [
        {
          "output_type": "stream",
          "text": [
            "Go to this URL in a browser: https://accounts.google.com/o/oauth2/auth?client_id=947318989803-6bn6qk8qdgf4n4g3pfee6491hc0brc4i.apps.googleusercontent.com&redirect_uri=urn%3aietf%3awg%3aoauth%3a2.0%3aoob&response_type=code&scope=email%20https%3a%2f%2fwww.googleapis.com%2fauth%2fdocs.test%20https%3a%2f%2fwww.googleapis.com%2fauth%2fdrive%20https%3a%2f%2fwww.googleapis.com%2fauth%2fdrive.photos.readonly%20https%3a%2f%2fwww.googleapis.com%2fauth%2fpeopleapi.readonly\n",
            "\n",
            "Enter your authorization code:\n",
            "··········\n",
            "Mounted at /content/drive\n"
          ],
          "name": "stdout"
        }
      ]
    },
    {
      "cell_type": "markdown",
      "metadata": {
        "id": "Mp6bY1umh75b",
        "colab_type": "text"
      },
      "source": [
        "### _Import Libraries_"
      ]
    },
    {
      "cell_type": "code",
      "metadata": {
        "id": "QTOXJrcSh3Vz",
        "colab_type": "code",
        "outputId": "594c7086-ddf8-4698-efde-5bfa111f4fe3",
        "colab": {
          "base_uri": "https://localhost:8080/",
          "height": 35
        }
      },
      "source": [
        "# Function to show the progress of loops execution\n",
        "from IPython.display import HTML, display\n",
        "def progress(value, max=100):\n",
        "    return HTML(\"\"\"\n",
        "        <progress\n",
        "            value='{value}'\n",
        "            max='{max}',\n",
        "            style='width: 100%'\n",
        "        >\n",
        "            {value}\n",
        "        </progress>\n",
        "    \"\"\".format(value=value, max=max))\n",
        "out = display(progress(0, 100), display_id=True)"
      ],
      "execution_count": 7,
      "outputs": [
        {
          "output_type": "display_data",
          "data": {
            "text/html": [
              "\n",
              "        <progress\n",
              "            value='0'\n",
              "            max='100',\n",
              "            style='width: 100%'\n",
              "        >\n",
              "            0\n",
              "        </progress>\n",
              "    "
            ],
            "text/plain": [
              "<IPython.core.display.HTML object>"
            ]
          },
          "metadata": {
            "tags": []
          }
        }
      ]
    },
    {
      "cell_type": "markdown",
      "metadata": {
        "id": "nXHmLyDNkzxH",
        "colab_type": "text"
      },
      "source": [
        "## <font color='red'>SECTION 1.</font>  The introduction of the MediaCloud database\n",
        "[Media Cloud](https://mediacloud.org) is an open source and open data platform for storing, retrieving, visualizing, and analyzing online news, developed at _MIT Center for Civic Media_ which trackes millions of stories published online. This project has a very handy [python API client](https://github.com/mitmedialab/MediaCloud-API-Client) to crawl news stories from their database. Due to copyright restrictions the actual text of a stories are not available.\n",
        "<p>Let's have a look at the tools that are provided by MediaCloud and the structure of the data that is availeble out there.</p>"
      ]
    },
    {
      "cell_type": "markdown",
      "metadata": {
        "id": "6zKzkyWzmHE4",
        "colab_type": "text"
      },
      "source": [
        "### _importing the libraries_"
      ]
    },
    {
      "cell_type": "code",
      "metadata": {
        "id": "RWoXtDnSmOGc",
        "colab_type": "code",
        "colab": {}
      },
      "source": [
        "!pip install mediacloud\n",
        "import mediacloud.api\n",
        "import pandas as pd\n",
        "mc = mediacloud.api.MediaCloud('bdcca348bfe34e9c3695255eabf129ad0c6c74dec6bae62efcaf712d14e63326') # Define the api_key"
      ],
      "execution_count": 0,
      "outputs": []
    },
    {
      "cell_type": "markdown",
      "metadata": {
        "id": "2cpSQUazmKZ4",
        "colab_type": "text"
      },
      "source": [
        "### _import the list of US city names_"
      ]
    },
    {
      "cell_type": "code",
      "metadata": {
        "id": "MEEOZcrCm7dZ",
        "colab_type": "code",
        "colab": {}
      },
      "source": [
        "us_cities = pd.read_csv('/content/drive/My Drive/Colab_Notebooks/My_PhD/US Cities/uscities.csv')\n",
        "us_cities.sort_values(by=['population'], inplace=True, ascending=False)\n",
        "us_cities = us_cities.reset_index(drop=True)\n",
        "us_cities = us_cities.loc[:9,'city'] # Let's get the first 10 most populous US cities\n",
        "us_cities = us_cities.values.tolist()"
      ],
      "execution_count": 0,
      "outputs": []
    },
    {
      "cell_type": "markdown",
      "metadata": {
        "id": "a_13OVlsrH0a",
        "colab_type": "text"
      },
      "source": [
        "### _import the list of US media_\n",
        "- Total number of us national + local media resources in mediacloud is __10,670__ which __10,341__ of those are in English or multilingual\n",
        "- In this project the focus is on English media that published in US. The id numbers of this set of media have been extracted from MediaCloud's website."
      ]
    },
    {
      "cell_type": "code",
      "metadata": {
        "id": "qAHU7ZVDrJMx",
        "colab_type": "code",
        "colab": {}
      },
      "source": [
        "us_media = pd.read_csv('/content/drive/My Drive/Colab_Notebooks/My_PhD/media_list/us_media_modified.csv')\n",
        "us_media.drop_duplicates(subset =\"media_id\", \n",
        "                     keep = \"first\", inplace = True)\n",
        "us_media.sort_values(by=['media_id'],inplace=True, ascending=True)\n",
        "us_media = us_media.reset_index(drop=True)\n",
        "us_media_id = us_media.loc [:2,'media_id'] # Let's get the first 3 media resources\n",
        "us_media_id = us_media_id.values.tolist()"
      ],
      "execution_count": 0,
      "outputs": []
    },
    {
      "cell_type": "markdown",
      "metadata": {
        "id": "rNw0x__hsBWq",
        "colab_type": "text"
      },
      "source": [
        "### _Retrieve the list of news in a period of time for a city_"
      ]
    },
    {
      "cell_type": "code",
      "metadata": {
        "id": "hCpHn0SAsCyY",
        "colab_type": "code",
        "colab": {}
      },
      "source": [
        "import datetime\n",
        "start_date = datetime.date(2020,1,30) \n",
        "end_date = datetime.date(2020,1,31) # The period of data collection"
      ],
      "execution_count": 0,
      "outputs": []
    },
    {
      "cell_type": "markdown",
      "metadata": {
        "id": "3W3g3nG5sHAV",
        "colab_type": "text"
      },
      "source": [
        "- Retrieve the list of news in a period of time for given cities and media"
      ]
    },
    {
      "cell_type": "code",
      "metadata": {
        "id": "5FnV5vn8sNQm",
        "colab_type": "code",
        "outputId": "e86b7573-b556-40c4-edb1-312147441459",
        "colab": {
          "base_uri": "https://localhost:8080/",
          "height": 55
        }
      },
      "source": [
        "story_list = []\n",
        "for media_id in us_media_id:\n",
        "    for cities in us_cities:\n",
        "        story_count = mc.storyCount('\\\"'+cities +'\\\"'+ \" AND media_id: \" + \n",
        "                                    str(media_id) , mc.publish_date_query(start_date,end_date))\n",
        "        stories = mc.storyList('\\\"'+cities +'\\\"'+ \" AND media_id: \" + \n",
        "                               str(media_id), mc.publish_date_query(start_date, end_date), rows= 2)\n",
        "        for i in range(len(stories)):\n",
        "            stories [i]['city_name'] = cities\n",
        "        story_list = story_list + stories\n",
        "        print (\"Media:\",str(media_id) + \", \" + cities + \", Number of stories: \" + str(story_count['count']), end = '; ')"
      ],
      "execution_count": 8,
      "outputs": [
        {
          "output_type": "stream",
          "text": [
            "Media: 1, New York, Number of stories: 70; Media: 1, Los Angeles, Number of stories: 18; Media: 1, Chicago, Number of stories: 9; Media: 1, Miami, Number of stories: 4; Media: 1, Dallas, Number of stories: 3; Media: 1, Philadelphia, Number of stories: 3; Media: 1, Houston, Number of stories: 3; Media: 1, Washington, Number of stories: 35; Media: 1, Atlanta, Number of stories: 3; Media: 1, Boston, Number of stories: 4; Media: 2, New York, Number of stories: 32; Media: 2, Los Angeles, Number of stories: 14; Media: 2, Chicago, Number of stories: 13; Media: 2, Miami, Number of stories: 7; Media: 2, Dallas, Number of stories: 5; Media: 2, Philadelphia, Number of stories: 3; Media: 2, Houston, Number of stories: 4; Media: 2, Washington, Number of stories: 71; Media: 2, Atlanta, Number of stories: 5; Media: 2, Boston, Number of stories: 9; Media: 3, New York, Number of stories: 3; Media: 3, Los Angeles, Number of stories: 0; Media: 3, Chicago, Number of stories: 0; Media: 3, Miami, Number of stories: 0; Media: 3, Dallas, Number of stories: 0; Media: 3, Philadelphia, Number of stories: 0; Media: 3, Houston, Number of stories: 0; Media: 3, Washington, Number of stories: 5; Media: 3, Atlanta, Number of stories: 0; Media: 3, Boston, Number of stories: 0; "
          ],
          "name": "stdout"
        }
      ]
    },
    {
      "cell_type": "markdown",
      "metadata": {
        "id": "FJJsbfTZsYxw",
        "colab_type": "text"
      },
      "source": [
        "- As a result story_list is a list of dictionaries\n",
        "- Information about a single story is available by the unique ID of the news"
      ]
    },
    {
      "cell_type": "code",
      "metadata": {
        "id": "6SGFTkuUsaF-",
        "colab_type": "code",
        "outputId": "dee81941-e8fa-4921-c2aa-43feb69ef71a",
        "colab": {
          "base_uri": "https://localhost:8080/",
          "height": 121
        }
      },
      "source": [
        "story = story_list [1]\n",
        "story_url = story ['url']\n",
        "print('id: ' , story['stories_id'])\n",
        "print ('url: ' ,story_url)\n",
        "print ('city: ',story ['city_name'])\n",
        "print ('resource: ', story['media_name'])\n",
        "print ('title: ', story ['title'])\n",
        "print ('date: ' ,story ['collect_date'])"
      ],
      "execution_count": 9,
      "outputs": [
        {
          "output_type": "stream",
          "text": [
            "id:  1509833080\n",
            "url:  https://www.nytimes.com/2020/01/30/learning/lesson-of-the-day-ready-set-vote-heres-everything-you-need-to-know-for-the-2020-primaries.html\n",
            "city:  New York\n",
            "resource:  New York Times\n",
            "title:  Lesson of the Day: ‘Ready, Set, Vote: Here’s Everything You Need to Know for the 2020 Primaries’\n",
            "date:  2020-01-30 04:13:07.439250\n"
          ],
          "name": "stdout"
        }
      ]
    },
    {
      "cell_type": "markdown",
      "metadata": {
        "id": "qpXsK2Wjs26v",
        "colab_type": "text"
      },
      "source": [
        "## <font color='red'>SECTION 2.</font>  Crawling and corpus creation\n",
        "### _Limits of using the API for Crawling_\n",
        "- Since there are some limits for the requests for each user (1,000 API calls and 20,000 stories returned in any 7 day period), with the help of backend experts of MediaCloud I created a very big query for all US cities with population of more than 10000 inhabitants (almost 4100 cities or in some cases census districts) in all US English media and for a period of 10 years (2010-2020).\n",
        "- The outcome of this query is about 140 million stories\n",
        "- The stories are those urls that contains one or more city names matching, including some of the names that are being written in different forms such as 'saint louis' and 'st. louis'\n",
        "- The result is stored in number of _*.csv.gz_ files each for a period of one month"
      ]
    },
    {
      "cell_type": "markdown",
      "metadata": {
        "id": "jghWkfvetHum",
        "colab_type": "text"
      },
      "source": [
        "### _Importing libraries and data_"
      ]
    },
    {
      "cell_type": "code",
      "metadata": {
        "id": "0bZpR_R6tIqv",
        "colab_type": "code",
        "colab": {}
      },
      "source": [
        "import gzip\n",
        "import csv\n",
        "import time\n",
        "from multiprocessing import Pool\n",
        "from sklearn.utils import shuffle\n",
        "\n",
        "#from my_functions import crawler"
      ],
      "execution_count": 0,
      "outputs": []
    },
    {
      "cell_type": "code",
      "metadata": {
        "id": "EcDUwL8WtMd3",
        "colab_type": "code",
        "outputId": "164fa4c0-dfba-41d3-f6d0-bef1fec0ef3d",
        "colab": {
          "base_uri": "https://localhost:8080/",
          "height": 35
        }
      },
      "source": [
        "df = pd.read_csv('/content/drive/My Drive/Colab_Notebooks/My_PhD/delft/delft_2019-12.csv.gz', compression='gzip', error_bad_lines=False)\n",
        "df = shuffle (df) # shuffle the urls in order to avoid sending many request to a single website in a short time\n",
        "story_list = df.to_dict(orient = 'records')\n",
        "print(\"Total number of stories: \", end='')\n",
        "print(len(story_list))"
      ],
      "execution_count": 0,
      "outputs": [
        {
          "output_type": "stream",
          "text": [
            "Total number of stories: 2669144\n"
          ],
          "name": "stdout"
        }
      ]
    },
    {
      "cell_type": "markdown",
      "metadata": {
        "id": "4Cym-BjEyuvt",
        "colab_type": "text"
      },
      "source": [
        "### _Crawling and text parsing_\n",
        "- To parse the text of the news from web pages a handy python library has been used which named: _'newspaper'_ \n",
        "- The follwoing function named _crawler_ has been deveoped and stored in 'my_functions.py' to crawl and parse the texts\n",
        "- In this step all the stories that their url does not work due to restrictions for accessibility to the content outside of the US or the ones that are already removed from the internet and also all the stories that _newspaper_ returnes no text for them will be removed form database (almost half of the stories) "
      ]
    },
    {
      "cell_type": "code",
      "metadata": {
        "id": "xaYsc2C1y0FJ",
        "colab_type": "code",
        "colab": {}
      },
      "source": [
        "!pip install newspaper3k\n",
        "!pip install pyOpenSSL\n",
        "from newspaper import Article\n",
        "import newspaper\n",
        "from OpenSSL import SSL\n",
        "\n",
        "def crawler(story):\n",
        "    try:\n",
        "        article = Article(story['url'])\n",
        "        article.download()\n",
        "        article.parse()\n",
        "    except newspaper.article.ArticleException: # handle url missing\n",
        "        pass\n",
        "    except SSL.Error: \n",
        "        pass\n",
        "    except UnicodeError:\n",
        "        pass\n",
        "    else:\n",
        "        story_article = article.text\n",
        "        if not story_article: # handle text missing\n",
        "            pass\n",
        "        else:\n",
        "            article_text_list = {'stories_id':story['stories_id'],\n",
        "                                      'title':story['title'],\n",
        "                                      'url':story['url'],\n",
        "                                      'text':story_article,\n",
        "                                      'publish_date':story['publish_date'],\n",
        "                                      'media_id':story['media_id'],\n",
        "                                      'media_name':story['media_name'],\n",
        "                                      'media_url':story['media_url'],\n",
        "                                     }\n",
        "            return article_text_list"
      ],
      "execution_count": 0,
      "outputs": []
    },
    {
      "cell_type": "markdown",
      "metadata": {
        "id": "w_XfAPfyznqa",
        "colab_type": "text"
      },
      "source": [
        "- To speed uo the crawling a multiprocessing method has been employed\n",
        "- The results of crawling has been stored in a set of _*.csv.gz_ files"
      ]
    },
    {
      "cell_type": "code",
      "metadata": {
        "id": "HGCWVq_R3oC3",
        "colab_type": "code",
        "colab": {}
      },
      "source": [
        "for i in range(0,len(df),30000):\n",
        "    j = i+30000\n",
        "    start_time = time.time()\n",
        "    with Pool (50) as p:\n",
        "        res = p.map(crawler, story_list[i:j])\n",
        "    print(str(i) + \"to\" + str(j) + \"--- %s seconds ---\" % (time.time() - start_time)+\n",
        "          \" total: \" + str(len([i for i in res if i])))\n",
        "    res_1 = [i for i in res if i]\n",
        "    df = pd.DataFrame(res_1)\n",
        "    df.to_csv('/content/drive/My Drive/Colab_Notebooks/My_PhD/data_12_2019.csv.gz', mode='a',index=False,header = False, compression = 'gzip')"
      ],
      "execution_count": 0,
      "outputs": []
    },
    {
      "cell_type": "markdown",
      "metadata": {
        "id": "T-Z4aUHxP45p",
        "colab_type": "text"
      },
      "source": [
        "## <font color='red'>SECTION 3.</font>  Fltering & cleaning the corpus\n",
        "- The aim of this section is to filter those news that are definitely referring to city entities and alos those news that reporting something in close relation with city name. In other words, the news that city names are important entities to the entire document (SECTION 4).\n",
        "- In this notebook two pretrained models developed by _stanford_ and _spacy_ are used to recognize name entities. These two models are not such powerful tools regarding our aim since the spacy model does the NER task just in location level (not city level), and also there is still a significant need for disambiguation for recognizing city names in a list of location names that some names are repetitive in the list or the names that are mutual with the names of other entities.\n",
        "- One solution could be _entity linking_. To do so, there is a pretrained tools developed by [dbpedi spotlight](https://www.dbpedia-spotlight.org/demo/). Unfortunately, their online api is working for limited number of requests. Although they have a local [docker based model](https://hub.docker.com/r/dbpedia/spotlight-english), due to the large size of the model it is not possible to run this model on my laptop. In addition, _spacy_ has some tools for [entity linking](https://spacy.io/usage/training#entity-linker) but it is still in its beta version and there is no pretrained model for that and it is neccessary to train the model in your own corpus.\n",
        "\n",
        "### _Mthod of this Notebook_\n",
        "As the stanford model is so time consuming, in this notebook firstly I used spacy model to find the sentences that contains a location name matching our list and afterwards, only these sentences passed into the stanford model to check whether they are containing a city-name or not. All the news stories that did not have any citiy name regarding our list have been removed from the database."
      ]
    },
    {
      "cell_type": "markdown",
      "metadata": {
        "id": "3qrf8cInKZ9T",
        "colab_type": "text"
      },
      "source": [
        "### _Setup Named Entity Recognition (NER) tools_\n",
        "- Installing Spacy libraries and running Stanford Corenlp"
      ]
    },
    {
      "cell_type": "code",
      "metadata": {
        "id": "N_hOvXRBK_8o",
        "colab_type": "code",
        "colab": {}
      },
      "source": [
        "# Load SpaCy Model\n",
        "import spacy\n",
        "from spacy import displacy\n",
        "nlp = spacy.load(\"en_core_web_sm\")"
      ],
      "execution_count": 0,
      "outputs": []
    },
    {
      "cell_type": "code",
      "metadata": {
        "id": "Pj8b47--LGPV",
        "colab_type": "code",
        "outputId": "e4139870-f639-4020-acce-fdfac71044c2",
        "colab": {
          "base_uri": "https://localhost:8080/",
          "height": 1000
        }
      },
      "source": [
        "# Install stanfordnlp; note that the prefix \"!\" is not needed if you are running in a terminal\n",
        "!pip install stanfordnlp\n",
        "# Import stanfordnlp\n",
        "import stanfordnlp\n",
        "# Download the Stanford CoreNLP Java library and unzip it to a ./corenlp folder\n",
        "!echo \"Downloading CoreNLP...\"\n",
        "!wget \"http://nlp.stanford.edu/software/stanford-corenlp-full-2018-10-05.zip\" -O corenlp.zip\n",
        "!unzip corenlp.zip\n",
        "!mv ./stanford-corenlp-full-2018-10-05 ./corenlp\n",
        "# Set the CORENLP_HOME environment variable to point to the installation location\n",
        "import os\n",
        "os.environ[\"CORENLP_HOME\"] = \"./corenlp\"\n",
        "# Import client module\n",
        "from stanfordnlp.server import CoreNLPClient\n",
        "# Construct a CoreNLPClient with some basic annotators, a memory allocation of 16GB, and port number 9001\n",
        "client = CoreNLPClient(annotators=['tokenize','ssplit', 'pos', 'lemma', 'ner'], memory='16G', threads=8,timeout=90000, endpoint='http://localhost:9001')\n",
        "print(client)\n",
        "# Start the background server and wait for some time\n",
        "# Note that in practice this is totally optional, as by default the server will be started when the first annotation is performed\n",
        "client.start()\n",
        "import time; time.sleep(10)\n",
        "# Print background processes and look for java\n",
        "!ps -o pid,cmd | grep java\n",
        "# Shut down the background CoreNLP server ###IF REQUIERED###\n",
        "#client.stop()"
      ],
      "execution_count": 0,
      "outputs": [
        {
          "output_type": "stream",
          "text": [
            "Collecting stanfordnlp\n",
            "\u001b[?25l  Downloading https://files.pythonhosted.org/packages/41/bf/5d2898febb6e993fcccd90484cba3c46353658511a41430012e901824e94/stanfordnlp-0.2.0-py3-none-any.whl (158kB)\n",
            "\r\u001b[K     |██                              | 10kB 14.8MB/s eta 0:00:01\r\u001b[K     |████▏                           | 20kB 1.8MB/s eta 0:00:01\r\u001b[K     |██████▏                         | 30kB 2.4MB/s eta 0:00:01\r\u001b[K     |████████▎                       | 40kB 1.7MB/s eta 0:00:01\r\u001b[K     |██████████▎                     | 51kB 1.9MB/s eta 0:00:01\r\u001b[K     |████████████▍                   | 61kB 2.3MB/s eta 0:00:01\r\u001b[K     |██████████████▌                 | 71kB 2.5MB/s eta 0:00:01\r\u001b[K     |████████████████▌               | 81kB 2.6MB/s eta 0:00:01\r\u001b[K     |██████████████████▋             | 92kB 3.0MB/s eta 0:00:01\r\u001b[K     |████████████████████▋           | 102kB 2.8MB/s eta 0:00:01\r\u001b[K     |██████████████████████▊         | 112kB 2.8MB/s eta 0:00:01\r\u001b[K     |████████████████████████▊       | 122kB 2.8MB/s eta 0:00:01\r\u001b[K     |██████████████████████████▉     | 133kB 2.8MB/s eta 0:00:01\r\u001b[K     |█████████████████████████████   | 143kB 2.8MB/s eta 0:00:01\r\u001b[K     |███████████████████████████████ | 153kB 2.8MB/s eta 0:00:01\r\u001b[K     |████████████████████████████████| 163kB 2.8MB/s \n",
            "\u001b[?25hRequirement already satisfied: protobuf in /usr/local/lib/python3.6/dist-packages (from stanfordnlp) (3.10.0)\n",
            "Requirement already satisfied: torch>=1.0.0 in /usr/local/lib/python3.6/dist-packages (from stanfordnlp) (1.4.0)\n",
            "Requirement already satisfied: requests in /usr/local/lib/python3.6/dist-packages (from stanfordnlp) (2.21.0)\n",
            "Requirement already satisfied: numpy in /usr/local/lib/python3.6/dist-packages (from stanfordnlp) (1.17.5)\n",
            "Requirement already satisfied: tqdm in /usr/local/lib/python3.6/dist-packages (from stanfordnlp) (4.28.1)\n",
            "Requirement already satisfied: six>=1.9 in /usr/local/lib/python3.6/dist-packages (from protobuf->stanfordnlp) (1.12.0)\n",
            "Requirement already satisfied: setuptools in /usr/local/lib/python3.6/dist-packages (from protobuf->stanfordnlp) (45.2.0)\n",
            "Requirement already satisfied: urllib3<1.25,>=1.21.1 in /usr/local/lib/python3.6/dist-packages (from requests->stanfordnlp) (1.24.3)\n",
            "Requirement already satisfied: certifi>=2017.4.17 in /usr/local/lib/python3.6/dist-packages (from requests->stanfordnlp) (2019.11.28)\n",
            "Requirement already satisfied: chardet<3.1.0,>=3.0.2 in /usr/local/lib/python3.6/dist-packages (from requests->stanfordnlp) (3.0.4)\n",
            "Requirement already satisfied: idna<2.9,>=2.5 in /usr/local/lib/python3.6/dist-packages (from requests->stanfordnlp) (2.8)\n",
            "Installing collected packages: stanfordnlp\n",
            "Successfully installed stanfordnlp-0.2.0\n",
            "Downloading CoreNLP...\n",
            "--2020-03-16 07:52:08--  http://nlp.stanford.edu/software/stanford-corenlp-full-2018-10-05.zip\n",
            "Resolving nlp.stanford.edu (nlp.stanford.edu)... 171.64.67.140\n",
            "Connecting to nlp.stanford.edu (nlp.stanford.edu)|171.64.67.140|:80... connected.\n",
            "HTTP request sent, awaiting response... 302 Found\n",
            "Location: https://nlp.stanford.edu/software/stanford-corenlp-full-2018-10-05.zip [following]\n",
            "--2020-03-16 07:52:08--  https://nlp.stanford.edu/software/stanford-corenlp-full-2018-10-05.zip\n",
            "Connecting to nlp.stanford.edu (nlp.stanford.edu)|171.64.67.140|:443... connected.\n",
            "HTTP request sent, awaiting response... 200 OK\n",
            "Length: 393239982 (375M) [application/zip]\n",
            "Saving to: ‘corenlp.zip’\n",
            "\n",
            "corenlp.zip         100%[===================>] 375.02M  39.3MB/s    in 13s     \n",
            "\n",
            "2020-03-16 07:52:21 (29.9 MB/s) - ‘corenlp.zip’ saved [393239982/393239982]\n",
            "\n",
            "Archive:  corenlp.zip\n",
            "   creating: stanford-corenlp-full-2018-10-05/\n",
            "  inflating: stanford-corenlp-full-2018-10-05/jaxb-core-2.3.0.1-sources.jar  \n",
            "  inflating: stanford-corenlp-full-2018-10-05/xom-1.2.10-src.jar  \n",
            "  inflating: stanford-corenlp-full-2018-10-05/CoreNLP-to-HTML.xsl  \n",
            "  inflating: stanford-corenlp-full-2018-10-05/README.txt  \n",
            "  inflating: stanford-corenlp-full-2018-10-05/jollyday-0.4.9-sources.jar  \n",
            "  inflating: stanford-corenlp-full-2018-10-05/LIBRARY-LICENSES  \n",
            "   creating: stanford-corenlp-full-2018-10-05/sutime/\n",
            "  inflating: stanford-corenlp-full-2018-10-05/sutime/british.sutime.txt  \n",
            "  inflating: stanford-corenlp-full-2018-10-05/sutime/defs.sutime.txt  \n",
            "  inflating: stanford-corenlp-full-2018-10-05/sutime/spanish.sutime.txt  \n",
            "  inflating: stanford-corenlp-full-2018-10-05/sutime/english.sutime.txt  \n",
            "  inflating: stanford-corenlp-full-2018-10-05/sutime/english.holidays.sutime.txt  \n",
            " extracting: stanford-corenlp-full-2018-10-05/ejml-0.23-src.zip  \n",
            "  inflating: stanford-corenlp-full-2018-10-05/input.txt.xml  \n",
            "  inflating: stanford-corenlp-full-2018-10-05/build.xml  \n",
            "  inflating: stanford-corenlp-full-2018-10-05/pom.xml  \n",
            "  inflating: stanford-corenlp-full-2018-10-05/stanford-corenlp-3.9.2-javadoc.jar  \n",
            "   creating: stanford-corenlp-full-2018-10-05/tokensregex/\n",
            "  inflating: stanford-corenlp-full-2018-10-05/tokensregex/color.input.txt  \n",
            "  inflating: stanford-corenlp-full-2018-10-05/tokensregex/retokenize.txt  \n",
            "  inflating: stanford-corenlp-full-2018-10-05/tokensregex/color.properties  \n",
            "  inflating: stanford-corenlp-full-2018-10-05/tokensregex/color.rules.txt  \n",
            "  inflating: stanford-corenlp-full-2018-10-05/javax.json-api-1.0-sources.jar  \n",
            "  inflating: stanford-corenlp-full-2018-10-05/jaxb-api-2.4.0-b180830.0359-sources.jar  \n",
            "  inflating: stanford-corenlp-full-2018-10-05/stanford-corenlp-3.9.2-models.jar  \n",
            "  inflating: stanford-corenlp-full-2018-10-05/protobuf.jar  \n",
            "  inflating: stanford-corenlp-full-2018-10-05/javax.activation-api-1.2.0.jar  \n",
            "  inflating: stanford-corenlp-full-2018-10-05/StanfordDependenciesManual.pdf  \n",
            "   creating: stanford-corenlp-full-2018-10-05/patterns/\n",
            "  inflating: stanford-corenlp-full-2018-10-05/patterns/example.properties  \n",
            " extracting: stanford-corenlp-full-2018-10-05/patterns/otherpeople.txt  \n",
            " extracting: stanford-corenlp-full-2018-10-05/patterns/goldplaces.txt  \n",
            "  inflating: stanford-corenlp-full-2018-10-05/patterns/stopwords.txt  \n",
            "  inflating: stanford-corenlp-full-2018-10-05/patterns/presidents.txt  \n",
            "  inflating: stanford-corenlp-full-2018-10-05/patterns/names.txt  \n",
            " extracting: stanford-corenlp-full-2018-10-05/patterns/places.txt  \n",
            "  inflating: stanford-corenlp-full-2018-10-05/patterns/goldnames.txt  \n",
            "  inflating: stanford-corenlp-full-2018-10-05/slf4j-simple.jar  \n",
            "  inflating: stanford-corenlp-full-2018-10-05/stanford-corenlp-3.9.2-sources.jar  \n",
            "  inflating: stanford-corenlp-full-2018-10-05/input.txt  \n",
            "  inflating: stanford-corenlp-full-2018-10-05/joda-time.jar  \n",
            "  inflating: stanford-corenlp-full-2018-10-05/xom.jar  \n",
            "  inflating: stanford-corenlp-full-2018-10-05/jaxb-impl-2.4.0-b180830.0438-sources.jar  \n",
            "  inflating: stanford-corenlp-full-2018-10-05/StanfordCoreNlpDemo.java  \n",
            "  inflating: stanford-corenlp-full-2018-10-05/jaxb-core-2.3.0.1.jar  \n",
            "  inflating: stanford-corenlp-full-2018-10-05/RESOURCE-LICENSES  \n",
            "  inflating: stanford-corenlp-full-2018-10-05/javax.activation-api-1.2.0-sources.jar  \n",
            "  inflating: stanford-corenlp-full-2018-10-05/slf4j-api.jar  \n",
            "  inflating: stanford-corenlp-full-2018-10-05/pom-java-11.xml  \n",
            "  inflating: stanford-corenlp-full-2018-10-05/ejml-0.23.jar  \n",
            "  inflating: stanford-corenlp-full-2018-10-05/javax.json.jar  \n",
            "  inflating: stanford-corenlp-full-2018-10-05/Makefile  \n",
            "  inflating: stanford-corenlp-full-2018-10-05/corenlp.sh  \n",
            "  inflating: stanford-corenlp-full-2018-10-05/joda-time-2.9-sources.jar  \n",
            "  inflating: stanford-corenlp-full-2018-10-05/jaxb-api-2.4.0-b180830.0359.jar  \n",
            "  inflating: stanford-corenlp-full-2018-10-05/jollyday.jar  \n",
            "  inflating: stanford-corenlp-full-2018-10-05/ShiftReduceDemo.java  \n",
            "  inflating: stanford-corenlp-full-2018-10-05/jaxb-impl-2.4.0-b180830.0438.jar  \n",
            "  inflating: stanford-corenlp-full-2018-10-05/stanford-corenlp-3.9.2.jar  \n",
            "  inflating: stanford-corenlp-full-2018-10-05/SemgrexDemo.java  \n",
            "  inflating: stanford-corenlp-full-2018-10-05/LICENSE.txt  \n",
            "<stanfordnlp.server.client.CoreNLPClient object at 0x7f3b1fa1d438>\n",
            "Starting server with command: java -Xmx16G -cp ./corenlp/* edu.stanford.nlp.pipeline.StanfordCoreNLPServer -port 9001 -timeout 90000 -threads 8 -maxCharLength 100000 -quiet True -serverProperties corenlp_server-d719e114696944c1.props -preload tokenize,ssplit,pos,lemma,ner\n",
            "    380 java -Xmx16G -cp ./corenlp/* edu.stanford.nlp.pipeline.StanfordCoreNLPServer -port 9001 -timeout 90000 -threads 8 -maxCharLength 100000 -quiet True -serverProperties corenlp_server-d719e114696944c1.props -preload tokenize,ssplit,pos,lemma,ner\n",
            "    414 /bin/bash -c ps -o pid,cmd | grep java\n",
            "    416 grep java\n"
          ],
          "name": "stdout"
        }
      ]
    },
    {
      "cell_type": "markdown",
      "metadata": {
        "id": "zeti00nRP903",
        "colab_type": "text"
      },
      "source": [
        "### _Importing libraries and data_"
      ]
    },
    {
      "cell_type": "code",
      "metadata": {
        "id": "B0HmtBvgzshN",
        "colab_type": "code",
        "outputId": "b356b298-026e-492d-def7-382182694310",
        "colab": {
          "base_uri": "https://localhost:8080/",
          "height": 35
        }
      },
      "source": [
        "import re, regex\n",
        "import pandas as pd\n",
        "import time"
      ],
      "execution_count": 0,
      "outputs": [
        {
          "output_type": "display_data",
          "data": {
            "text/html": [
              "\n",
              "        <progress\n",
              "            value='0'\n",
              "            max='100',\n",
              "            style='width: 100%'\n",
              "        >\n",
              "            0\n",
              "        </progress>\n",
              "    "
            ],
            "text/plain": [
              "<IPython.core.display.HTML object>"
            ]
          },
          "metadata": {
            "tags": []
          }
        }
      ]
    },
    {
      "cell_type": "code",
      "metadata": {
        "id": "vd_dCidpQIQs",
        "colab_type": "code",
        "colab": {}
      },
      "source": [
        "df = pd.read_csv('/content/drive/My Drive/Colab_Notebooks/My_PhD/database/data_12_2019.csv.gz', compression='gzip', error_bad_lines=False,\n",
        "                names= ['stories_id','title','url','text','publish_date','media_id','media_name','media_url'])"
      ],
      "execution_count": 0,
      "outputs": []
    },
    {
      "cell_type": "code",
      "metadata": {
        "id": "Ya0xeZWESSOz",
        "colab_type": "code",
        "outputId": "188c940a-9860-4456-b30b-8462cdcb93ec",
        "colab": {
          "base_uri": "https://localhost:8080/",
          "height": 35
        }
      },
      "source": [
        "df_1 = df.iloc[:100000,:] # Let's slice a smaller dataframe for faster testing\n",
        "n = len(df_1)\n",
        "df_1 = df_1.drop_duplicates(subset='text', keep=\"first\")\n",
        "n_dup_rmv = len(df_1)\n",
        "df_1 ['cities'] = [list() for x in range(len(df_1))] # add a new column for city names\n",
        "df_1 = df_1.to_dict(orient='record') # convert it to a list of dictionaries\n",
        "print (\"--- Percentage of stories with unique text: %s \" % (n_dup_rmv*100/n))\n"
      ],
      "execution_count": 0,
      "outputs": [
        {
          "output_type": "stream",
          "text": [
            "--- Percentage of stories with unique text: 69.749 \n"
          ],
          "name": "stdout"
        }
      ]
    },
    {
      "cell_type": "code",
      "metadata": {
        "id": "92tUm2ArSTP3",
        "colab_type": "code",
        "colab": {}
      },
      "source": [
        "cities = pd.read_csv('/content/drive/My Drive/Colab_Notebooks/My_PhD/US Cities/uscities_key.csv',encoding='ISO-8859–1')\n",
        "cities_1  = cities.iloc [0:100,:] # Let's do analysis just over the first 100 most populous cities\n",
        "cities_1 = cities_1.to_dict(orient='records')"
      ],
      "execution_count": 0,
      "outputs": []
    },
    {
      "cell_type": "markdown",
      "metadata": {
        "id": "34lKS_SwSYDk",
        "colab_type": "text"
      },
      "source": [
        "### _Cleaning the text and parsing city names from it_"
      ]
    },
    {
      "cell_type": "code",
      "metadata": {
        "id": "SHBlMuL_SZIM",
        "colab_type": "code",
        "outputId": "6d661713-752d-45f4-f540-92199fc5be32",
        "colab": {
          "base_uri": "https://localhost:8080/",
          "height": 52
        }
      },
      "source": [
        "start_time = time.time()\n",
        "i=0\n",
        "for story in df_1:\n",
        "  # text cleaning\n",
        "  story ['text'] = story['text'].replace('!','.')\n",
        "  story ['text'] = story['text'].replace('?','.')\n",
        "  story ['text'] = re.sub(r\"[^A-Za-z0-9^,.'-]\", \" \", story ['text'])\n",
        "  story ['text'] = re.sub(' +',' ', story ['text'])\n",
        "  # replacing some city names\n",
        "  story ['text'] = re.sub(r'\\b'+'Saint Louis'+ r'\\b', \"St. Louis\" , story['text'])\n",
        "  story ['text'] = re.sub(r'\\b'+'Saint Lucie'+ r'\\b', \"St. Lucie\" , story['text'])\n",
        "\n",
        "  # Parsing city names\n",
        "  [story['cities'].append(city['city.1'].lower()) for city in cities_1 if regex.search(r'\\b'+str(city['city.1'].lower())+ r'\\b', story['text'].lower())]\n",
        "  story['cities']=list(set(story['cities']))\n",
        "\n",
        "  i += 1\n",
        "  out.update(progress(i,len(df_1)))\n",
        "print(\"--- %s seconds ---\" % (time.time() - start_time))"
      ],
      "execution_count": 0,
      "outputs": [
        {
          "output_type": "display_data",
          "data": {
            "text/html": [
              "\n",
              "        <progress\n",
              "            value='69749'\n",
              "            max='69749',\n",
              "            style='width: 100%'\n",
              "        >\n",
              "            69749\n",
              "        </progress>\n",
              "    "
            ],
            "text/plain": [
              "<IPython.core.display.HTML object>"
            ]
          },
          "metadata": {
            "tags": []
          }
        },
        {
          "output_type": "stream",
          "text": [
            "--- 195.93477034568787 seconds ---\n"
          ],
          "name": "stdout"
        }
      ]
    },
    {
      "cell_type": "markdown",
      "metadata": {
        "id": "Gy9zn5_yScMT",
        "colab_type": "text"
      },
      "source": [
        "### _Removing stories with city names missing_\n",
        "- In our database there are some news that are not containing any city name because either city name was appeared in another part of the web pag but the text or are not included in our selection of city names for analysis"
      ]
    },
    {
      "cell_type": "code",
      "metadata": {
        "id": "DA4eDcwLSfmB",
        "colab_type": "code",
        "outputId": "ae8fc8d1-9807-43f9-8862-e920e1d13b3c",
        "colab": {
          "base_uri": "https://localhost:8080/",
          "height": 52
        }
      },
      "source": [
        "df_2 = [story for story in df_1 if story['cities']!=[]] # remove city name missing\n",
        "print (\"--- totla number of stories: %s \" % str(len(df_2)))\n",
        "print (\"--- Percentage of stories containing city names: %s \" % str(len(df_2)*100/len(df_1)))"
      ],
      "execution_count": 0,
      "outputs": [
        {
          "output_type": "stream",
          "text": [
            "--- totla number of stories: 40412 \n",
            "--- Percentage of stories containing city names: 57.93918192375518 \n"
          ],
          "name": "stdout"
        }
      ]
    },
    {
      "cell_type": "markdown",
      "metadata": {
        "id": "mTpw0LYMMLDD",
        "colab_type": "text"
      },
      "source": [
        "### _Tokenizing with Stanford Corenlp_\n",
        "- Using Stanford Corenlp all the news are splited into sentences and tokens"
      ]
    },
    {
      "cell_type": "code",
      "metadata": {
        "id": "6U-gMReYMJLj",
        "colab_type": "code",
        "outputId": "36486815-384a-4df1-da76-4ac9614f4500",
        "colab": {
          "base_uri": "https://localhost:8080/",
          "height": 52
        }
      },
      "source": [
        "start_time = time.time()\n",
        "i=0\n",
        "def sent_tok(sentence):\n",
        "  t = [t.word for t in sentence.token]\n",
        "  s = ' '.join([t.word for t in sentence.token])\n",
        "  sent_token_split.append(t)\n",
        "  sent_split.append(s)\n",
        "\n",
        "for story in df_2:\n",
        "    st_annotated = client.annotate(story['text'],annotators=['ssplit'])\n",
        "    sent_split = []\n",
        "    sent_token_split=[]\n",
        "    [sent_tok(sentence) for sentence in st_annotated.sentence]\n",
        "  \n",
        "    story ['sent_list'] = sent_split\n",
        "    story ['sent_token'] = sent_token_split\n",
        "    i+=1\n",
        "    out.update(progress(i,len(df_2)))\n",
        "print(\"--- %s seconds ---\" % (time.time() - start_time))"
      ],
      "execution_count": 0,
      "outputs": [
        {
          "output_type": "display_data",
          "data": {
            "text/html": [
              "\n",
              "        <progress\n",
              "            value='40412'\n",
              "            max='40412',\n",
              "            style='width: 100%'\n",
              "        >\n",
              "            40412\n",
              "        </progress>\n",
              "    "
            ],
            "text/plain": [
              "<IPython.core.display.HTML object>"
            ]
          },
          "metadata": {
            "tags": []
          }
        },
        {
          "output_type": "stream",
          "text": [
            "--- 501.7079634666443 seconds ---\n"
          ],
          "name": "stdout"
        }
      ]
    },
    {
      "cell_type": "markdown",
      "metadata": {
        "id": "eK5j5m-PSlYC",
        "colab_type": "text"
      },
      "source": [
        "### _NER with SpaCy_"
      ]
    },
    {
      "cell_type": "code",
      "metadata": {
        "id": "1SISvGp49-cf",
        "colab_type": "code",
        "outputId": "29c96096-07f1-41c7-9e53-ca1ab0007a7c",
        "colab": {
          "base_uri": "https://localhost:8080/",
          "height": 52
        }
      },
      "source": [
        "start_time = time.time()\n",
        "texts = [df_2[i]['sent_list'] for i in range (len(df_2))]\n",
        "spacy_ner = []\n",
        "i = 0\n",
        "for doc in texts:\n",
        "  sent_ner = []\n",
        "  for sent in nlp.pipe (doc, disable=[\"tagger\", \"parser\"]):\n",
        "    GPE = [ent.text.lower() for ent in sent.ents if ent.label_ == 'GPE']\n",
        "    GPE = ' '.join(GPE)\n",
        "    sent_ner.append(GPE)\n",
        "  spacy_ner = spacy_ner + [{'city_entity_spacy': sent_ner}]\n",
        "  #spacy_ner_2.append(sent_ner)\n",
        "  i+=1\n",
        "  out.update(progress(i,len(texts)))\n",
        "i=0\n",
        "for i in range(len(df_2)):\n",
        "  df_2[i].update(spacy_ner[i])\n",
        "  #df_2[i]['city_entity_spacy']=' '.join(df_2[i]['city_entity_spacy'])\n",
        "  i+=1\n",
        "  out.update(progress(i,len(df_2)))\n",
        "print(\"--- %s seconds ---\" % (time.time() - start_time))"
      ],
      "execution_count": 0,
      "outputs": [
        {
          "output_type": "display_data",
          "data": {
            "text/html": [
              "\n",
              "        <progress\n",
              "            value='40412'\n",
              "            max='40412',\n",
              "            style='width: 100%'\n",
              "        >\n",
              "            40412\n",
              "        </progress>\n",
              "    "
            ],
            "text/plain": [
              "<IPython.core.display.HTML object>"
            ]
          },
          "metadata": {
            "tags": []
          }
        },
        {
          "output_type": "stream",
          "text": [
            "--- 2013.6330206394196 seconds ---\n"
          ],
          "name": "stdout"
        }
      ]
    },
    {
      "cell_type": "markdown",
      "metadata": {
        "id": "kFRQP472N5wU",
        "colab_type": "text"
      },
      "source": [
        "#### _Check city names/entities matching & removing entity missing for SpaCy_"
      ]
    },
    {
      "cell_type": "code",
      "metadata": {
        "id": "oba0FY81NjJP",
        "colab_type": "code",
        "outputId": "30be7a11-0301-405e-fd3d-7cb9c45d08d0",
        "colab": {
          "base_uri": "https://localhost:8080/",
          "height": 52
        }
      },
      "source": [
        "# Removing spacy tags for locations if it does not contain city name\n",
        "i = 0\n",
        "start_time = time.time()\n",
        "for story in df_2:\n",
        "  for city in story['cities']:\n",
        "    for j in range(len(story['city_entity_spacy'])):\n",
        "      if city not in story['city_entity_spacy'][j]:\n",
        "        story['city_entity_spacy'][j]=''\n",
        "  i+=1\n",
        "  out.update(progress(i,len(df_2)))\n",
        "print(\"--- %s seconds ---\" % (time.time() - start_time))"
      ],
      "execution_count": 0,
      "outputs": [
        {
          "output_type": "display_data",
          "data": {
            "text/html": [
              "\n",
              "        <progress\n",
              "            value='40412'\n",
              "            max='40412',\n",
              "            style='width: 100%'\n",
              "        >\n",
              "            40412\n",
              "        </progress>\n",
              "    "
            ],
            "text/plain": [
              "<IPython.core.display.HTML object>"
            ]
          },
          "metadata": {
            "tags": []
          }
        },
        {
          "output_type": "stream",
          "text": [
            "--- 45.162774324417114 seconds ---\n"
          ],
          "name": "stdout"
        }
      ]
    },
    {
      "cell_type": "code",
      "metadata": {
        "id": "MU2VyyprSrXl",
        "colab_type": "code",
        "outputId": "fb5a44d3-63ad-4a96-8cc0-b030b7536791",
        "colab": {
          "base_uri": "https://localhost:8080/",
          "height": 52
        }
      },
      "source": [
        "# Removing entity missing with SpaCy\n",
        "df_3 = [story for story in df_2 if ''.join(story['city_entity_spacy'])!=''] # remove city name missing\n",
        "print (\"--- totla number of stories: %s \" % str(len(df_3)))\n",
        "print (\"--- Percentage of stories containing city names: %s \" % str(len(df_3)*100/len(df_2)))"
      ],
      "execution_count": 0,
      "outputs": [
        {
          "output_type": "stream",
          "text": [
            "--- totla number of stories: 16563 \n",
            "--- Percentage of stories containing city names: 40.985350885875484 \n"
          ],
          "name": "stdout"
        }
      ]
    },
    {
      "cell_type": "markdown",
      "metadata": {
        "id": "27kznqaeTNLu",
        "colab_type": "text"
      },
      "source": [
        "### _NER with Stanford Corenlp_ "
      ]
    },
    {
      "cell_type": "code",
      "metadata": {
        "id": "qKV5BhG0RMYn",
        "colab_type": "code",
        "outputId": "929e6f85-79e3-4619-b7ce-cc3176b5076c",
        "colab": {
          "base_uri": "https://localhost:8080/",
          "height": 52
        }
      },
      "source": [
        "start_time = time.time()\n",
        "i=0\n",
        "test = []\n",
        "for story in df_3:\n",
        "  st_ner = []\n",
        "  for sent_index in range(len(story['sent_list'])):\n",
        "    if story['city_entity_spacy'][sent_index] != '':\n",
        "      st_annotated = client.annotate(story['sent_list'][sent_index],annotators=['ner'])\n",
        "      st_ner.append(' '.join([token.word.lower() for token in st_annotated.sentence[0].token if token.ner == 'CITY']))\n",
        "    else:\n",
        "      st_ner.append('')\n",
        "  story['city_entity_st']= st_ner\n",
        "  i += 1\n",
        "  out.update(progress(i,len(df_3)))\n",
        "print(\"--- %s seconds ---\" % (time.time() - start_time))"
      ],
      "execution_count": 0,
      "outputs": [
        {
          "output_type": "display_data",
          "data": {
            "text/html": [
              "\n",
              "        <progress\n",
              "            value='16563'\n",
              "            max='16563',\n",
              "            style='width: 100%'\n",
              "        >\n",
              "            16563\n",
              "        </progress>\n",
              "    "
            ],
            "text/plain": [
              "<IPython.core.display.HTML object>"
            ]
          },
          "metadata": {
            "tags": []
          }
        },
        {
          "output_type": "stream",
          "text": [
            "--- 3426.9532330036163 seconds ---\n"
          ],
          "name": "stdout"
        }
      ]
    },
    {
      "cell_type": "markdown",
      "metadata": {
        "id": "UY1hB-lgc0Lb",
        "colab_type": "text"
      },
      "source": [
        "### _Removing stories with city entity missing_\n",
        "- Just keep the news that are containing the city entities based in both _spacy_ and _stanford_ models"
      ]
    },
    {
      "cell_type": "code",
      "metadata": {
        "id": "GTkBADC-SONN",
        "colab_type": "code",
        "outputId": "f9151c93-8051-40b7-f40a-5633b5e01bb9",
        "colab": {
          "base_uri": "https://localhost:8080/",
          "height": 52
        }
      },
      "source": [
        "# Removing entity missing with Spacy and Stanford\n",
        "df_4 = [story for story in df_3 if ''.join(story['city_entity_st'])!=''] # remove entity name missing\n",
        "print (\"--- totla number of stories: %s \" % str(len(df_4)))\n",
        "print (\"--- Percentage of stories containing city names: %s \" % str(len(df_4)*100/len(df_3)))"
      ],
      "execution_count": 0,
      "outputs": [
        {
          "output_type": "stream",
          "text": [
            "--- totla number of stories: 12475 \n",
            "--- Percentage of stories containing city names: 75.31848095151844 \n"
          ],
          "name": "stdout"
        }
      ]
    },
    {
      "cell_type": "code",
      "metadata": {
        "id": "5nEHvldxDoDf",
        "colab_type": "code",
        "colab": {}
      },
      "source": [
        "pd.DataFrame(df_4).to_csv('/content/drive/My Drive/Colab_Notebooks/My_PhD/new_database.csv.gz',index=False,header = False, compression = 'gzip')"
      ],
      "execution_count": 0,
      "outputs": []
    },
    {
      "cell_type": "markdown",
      "metadata": {
        "id": "FxRn_Yoi0wJj",
        "colab_type": "text"
      },
      "source": [
        "## <font color='red'>SECTION 4.</font>  Training TF-IDF & Topic Modeling"
      ]
    },
    {
      "cell_type": "markdown",
      "metadata": {
        "id": "wPWj1huiemFC",
        "colab_type": "text"
      },
      "source": [
        "### _Defining the importance of city names to news using TF-IDF_\n",
        "#### Importing libraries"
      ]
    },
    {
      "cell_type": "code",
      "metadata": {
        "id": "7hwO3--3VA1Z",
        "colab_type": "code",
        "colab": {}
      },
      "source": [
        "import pandas as pd\n",
        "import numpy as np\n",
        "import time\n",
        "import re\n",
        "\n",
        "import gensim\n",
        "from gensim import corpora\n",
        "from gensim.models import TfidfModel\n",
        "from gensim.corpora import Dictionary"
      ],
      "execution_count": 0,
      "outputs": []
    },
    {
      "cell_type": "code",
      "metadata": {
        "id": "qD0CXrpaM2WT",
        "colab_type": "code",
        "colab": {}
      },
      "source": [
        " df_4 = pd.read_csv('/content/drive/My Drive/Colab_Notebooks/My_PhD/new_database.csv.gz', compression = 'gzip',\n",
        "                      names= ['stories_id','title','url','text','publish_date','media_id','media_name','media_url','cities','sent_list',\n",
        "                              'sent_token','city_entity_spacy','city_entity_st'],converters={'sent_token': eval, \n",
        "                                                                                             'sent_list': eval, \n",
        "                                                                                             'city_entity_st': eval})\n",
        " df_4 = df_4.to_dict(orient='record')"
      ],
      "execution_count": 0,
      "outputs": []
    },
    {
      "cell_type": "code",
      "metadata": {
        "id": "LFJJuO67NcNg",
        "colab_type": "code",
        "colab": {}
      },
      "source": [
        "cities = pd.read_csv('/content/drive/My Drive/Colab_Notebooks/My_PhD/US Cities/uscities_key.csv',encoding='ISO-8859–1')\n",
        "cities_1  = cities.iloc [0:100,:] # Let's do analysis just over the first 100 most populous cities\n",
        "cities_1 = cities_1.to_dict(orient='records')"
      ],
      "execution_count": 0,
      "outputs": []
    },
    {
      "cell_type": "markdown",
      "metadata": {
        "id": "fJOyK3wKerL9",
        "colab_type": "text"
      },
      "source": [
        "#### Cleaning the Texts, Handling the Multiword City Names & Split Tokens in All Documents\n",
        "- To train models sort of preprocessing have been done on the corpus.\n",
        "  - Removing Stopwords (such as by, has, where, ...)\n",
        "  - Lemmatization (training --> train)\n",
        "  - Stemming (facility --> facil)"
      ]
    },
    {
      "cell_type": "code",
      "metadata": {
        "id": "LXnwLpLy-Btc",
        "colab_type": "code",
        "outputId": "251a1df5-9ee7-417a-804e-fc7a0b398709",
        "colab": {
          "base_uri": "https://localhost:8080/",
          "height": 141
        }
      },
      "source": [
        "import string\n",
        "\n",
        "import itertools\n",
        "flatten = itertools.chain.from_iterable\n",
        "\n",
        "import spacy\n",
        "spacy_nlp = spacy.load('en_core_web_sm')\n",
        "from nltk.stem.snowball import SnowballStemmer\n",
        "stemmer = SnowballStemmer(language='english')\n",
        "spacy_stopwords = spacy.lang.en.stop_words.STOP_WORDS # Get the list of stop words from NLTK\n",
        "import nltk\n",
        "nltk.download('stopwords')\n",
        "from nltk.corpus import stopwords\n",
        "nltk_stopwords = stopwords.words('english') # Get the list of stop words from NLTK\n",
        "print('Number of stop words: %d' % len(spacy_stopwords))\n",
        "print('Number of stop words: %d' % len(nltk_stopwords))\n",
        "\n",
        "stop_words = list (set(list(string.ascii_lowercase) + list(spacy_stopwords) + nltk_stopwords))\n",
        "print('Number of stop words: %d' % len(stop_words))\n",
        "print('list of stop words: %s'% stop_words)"
      ],
      "execution_count": 5,
      "outputs": [
        {
          "output_type": "stream",
          "text": [
            "[nltk_data] Downloading package stopwords to /root/nltk_data...\n",
            "[nltk_data]   Package stopwords is already up-to-date!\n",
            "Number of stop words: 326\n",
            "Number of stop words: 179\n",
            "Number of stop words: 400\n",
            "list of stop words: ['now', 'everywhere', 'down', 'could', 'whole', 'having', 'can', 'get', 'may', 'otherwise', 'without', 'thus', 'nine', 'give', 'per', 'hereby', \"weren't\", 'another', \"she's\", 're', 'each', 'due', 'we', 'that', 'yet', \"shan't\", 'amount', 'b', 'did', 'them', 'c', 'two', 'besides', 'himself', 'nowhere', 'wherever', \"isn't\", 'other', 'whence', 'anyhow', 'l', 'must', 'anyway', 'do', '’d', 'move', 'ourselves', 'hence', 'toward', \"didn't\", 'own', 'above', 'please', 'those', \"won't\", \"haven't\", 'these', 'any', 'five', 'somehow', \"couldn't\", 'it', 'whoever', 'fifteen', 'no', 'therein', 'along', 'a', 'amongst', 'various', 'latter', '‘re', 'none', 'really', 'over', 'they', 'shan', 'indeed', 'seems', 'than', 'except', '‘ll', 'its', 'he', 'put', 'i', 'top', 'several', 'won', 'why', 'isn', 'n', 'couldn', 'to', 'already', 'in', 'take', 'ours', 'were', 'who', '‘s', \"it's\", 'towards', 'after', 'call', 'nobody', 'least', 'somewhere', 'see', 'h', 'm', 'but', 'here', 'just', 'out', 'wherein', \"wouldn't\", 'together', 'around', 'ma', 'next', 'themselves', 'regarding', 'four', 'itself', 'thru', 'whose', 'either', 'fifty', 'doing', 'j', 'whatever', 'eleven', 'for', \"that'll\", 'weren', 'last', 'serious', 'say', 'behind', 'become', 'though', 'hundred', '’s', 'something', 'everything', 'will', \"'d\", 'an', 'have', 'everyone', 'with', 'at', \"you've\", 'thereafter', 'nevertheless', 'ca', 'more', 'being', 'even', 'latterly', 'mostly', 'further', 'meanwhile', 'first', 'twenty', 'theirs', 'yourself', 'less', 'much', 'throughout', 'or', 'doesn', 'p', 'beyond', 't', \"aren't\", 'whither', 'until', 'would', 'my', 'still', 'seem', 'while', 'namely', 'among', 'else', 'thence', 'well', 'mine', 'most', 'from', 'neither', 'three', 'nothing', \"you'd\", 'others', 'moreover', 'should', \"doesn't\", 'forty', 'whenever', 'noone', 'eight', 'both', 'show', 'made', 'too', \"'re\", 'didn', 'yours', 'k', 'and', 'during', 'afterwards', 'beside', \"'ve\", 'some', '’re', 'yourselves', '’m', \"hasn't\", 'hadn', 'been', 'into', 'using', 'done', 'go', 'of', 'back', 'q', 'also', 'does', 'up', 'whereafter', 'on', 'hasn', 'myself', 'wouldn', 'whereupon', 'where', 'one', 'onto', 'you', 'all', 'haven', 'e', 'quite', \"don't\", 'anywhere', 'which', 'n’t', 'whereas', 'n‘t', \"hadn't\", 'once', 'almost', 've', 'thereby', 'anyone', 'are', 'only', 'part', 'their', 'keep', 'don', '‘ve', 'this', 'through', 'when', 'so', 'sometimes', 'g', 'make', 'someone', 'your', \"n't\", '‘m', 'empty', 'what', 'has', 'often', 'seemed', 'below', 'the', 'u', 'formerly', 'by', \"you'll\", 'became', 'aren', 'becomes', \"shouldn't\", 'wasn', 'within', 'she', 'against', 'had', 'f', 'was', 'full', '’ve', 'hers', 'again', 'name', 'his', 'sometime', 'whether', 'v', 'whom', 'whereby', 'as', 'rather', 'herein', 'ain', \"'m\", 'mightn', 'bottom', '’ll', 'never', 'upon', 'about', 'is', \"wasn't\", 'always', 'll', 'cannot', 'across', 'off', \"'ll\", \"mightn't\", 'since', \"mustn't\", 'anything', 'before', 'needn', 'via', 'z', 'hereupon', 'under', 'alone', 'if', 'perhaps', 'sixty', 'nor', 'us', 's', 'ever', 'am', \"'s\", 'seeming', 'r', 'however', 'therefore', 'same', 'used', 'd', 'w', 'former', 'elsewhere', 'very', 'six', '‘d', 'because', 'x', 'our', 'although', 'front', \"should've\", 'few', 'hereafter', 'such', 'him', 'many', 'enough', 'twelve', 'then', 'be', \"needn't\", 'side', 'her', 'o', 'me', 'might', 'unless', 'mustn', 'beforehand', 'between', 'y', 'becoming', 'shouldn', 'herself', 'thereupon', 'every', \"you're\", 'how', 'not', 'there', 'third', 'ten']\n"
          ],
          "name": "stdout"
        }
      ]
    },
    {
      "cell_type": "code",
      "metadata": {
        "id": "4fxIMSBg2niU",
        "colab_type": "code",
        "outputId": "d2160bf9-7fdd-4c4a-d685-150721b41e38",
        "colab": {
          "base_uri": "https://localhost:8080/",
          "height": 52
        }
      },
      "source": [
        "start_time = time.time()\n",
        "j = 0\n",
        "new_texts_token = []\n",
        "new_texts_sent_token=[]\n",
        "for story in df_4:\n",
        "  new_text = []\n",
        "  for i in range(len(story['sent_list'])):\n",
        "    new_sent = story['sent_list'][i].replace('.',' ')\n",
        "    new_sent = new_sent.replace(',',' ')\n",
        "    new_sent = new_sent.lower()\n",
        "    new_sent = re.sub(' +',' ', new_sent)\n",
        "    if story['city_entity_st'][i] != '':\n",
        "      for city in cities_1:\n",
        "        name = r'\\b'+ city['city.2'].lower()+ r'\\b'\n",
        "        new_sent = re.sub(name, str(city['city.2'].replace(\" \", \"_\").lower()) + \"$\", new_sent, flags=re.IGNORECASE)\n",
        "    new_sent = [token for token in new_sent.split() if token not in stop_words] # stop words\n",
        "    new_sent = [x for x in new_sent if not any(c.isdigit() for c in x)] # remove tokens including numbers\n",
        "    new_text.append(' '.join(new_sent))\n",
        "\n",
        "  new_text_2=[]\n",
        "  for sent in spacy_nlp.pipe (new_text, disable=[\"ner\", \"parser\"]):\n",
        "    new_sent = [x.lemma_ for x in sent]                         #Lemmatization with spacy\n",
        "    new_sent = [stemmer.stem(token) for token in new_sent]      #Stemming with nltk\n",
        "    new_text_2.append(new_sent)\n",
        "  \n",
        "  new_texts_token.append(list(flatten(new_text_2)))\n",
        "  new_texts_sent_token.append(new_text_2)\n",
        "  j+=1\n",
        "  out.update(progress(j,len(df_4)))\n",
        "print(\"--- %s seconds ---\" % (time.time() - start_time))"
      ],
      "execution_count": 8,
      "outputs": [
        {
          "output_type": "display_data",
          "data": {
            "text/html": [
              "\n",
              "        <progress\n",
              "            value='12475'\n",
              "            max='12475',\n",
              "            style='width: 100%'\n",
              "        >\n",
              "            12475\n",
              "        </progress>\n",
              "    "
            ],
            "text/plain": [
              "<IPython.core.display.HTML object>"
            ]
          },
          "metadata": {
            "tags": []
          }
        },
        {
          "output_type": "stream",
          "text": [
            "--- 400.770382642746 seconds ---\n"
          ],
          "name": "stdout"
        }
      ]
    },
    {
      "cell_type": "code",
      "metadata": {
        "id": "9llQngqHUsaB",
        "colab_type": "code",
        "outputId": "3a44987c-3c5b-4546-c568-45e20865a3d2",
        "colab": {
          "base_uri": "https://localhost:8080/",
          "height": 52
        }
      },
      "source": [
        "i=0\n",
        "for i in range(len(df_4)):\n",
        "  df_4[i].update(text_token = new_texts_token[i])\n",
        "  df_4[i].update(text_sent_token = new_texts_sent_token[i])\n",
        "  i+=1\n",
        "  out.update(progress(i,len(df_4)))\n",
        "print(\"--- %s seconds ---\" % (time.time() - start_time))\n"
      ],
      "execution_count": 9,
      "outputs": [
        {
          "output_type": "display_data",
          "data": {
            "text/html": [
              "\n",
              "        <progress\n",
              "            value='12475'\n",
              "            max='12475',\n",
              "            style='width: 100%'\n",
              "        >\n",
              "            12475\n",
              "        </progress>\n",
              "    "
            ],
            "text/plain": [
              "<IPython.core.display.HTML object>"
            ]
          },
          "metadata": {
            "tags": []
          }
        },
        {
          "output_type": "stream",
          "text": [
            "--- 470.1700620651245 seconds ---\n"
          ],
          "name": "stdout"
        }
      ]
    },
    {
      "cell_type": "code",
      "metadata": {
        "id": "zHw7RyB-CA9l",
        "colab_type": "code",
        "outputId": "d06509e6-3a0e-4481-d97e-c3c448e8a2ee",
        "colab": {
          "base_uri": "https://localhost:8080/",
          "height": 89
        }
      },
      "source": [
        "print(df_4[0]['text'])\n",
        "print(df_4[0]['text_token'])\n",
        "print(df_4[0]['text_sent_token'])"
      ],
      "execution_count": 10,
      "outputs": [
        {
          "output_type": "stream",
          "text": [
            "SAN DIEGO Parole was recommended Tuesday for a one-time champion skateboarder who has spent nearly three decades in prison for raping and killing a woman at his Southern California home. A parole board made the recommendation for Mark Gator Rogowski, 53, during a hearing at the Richard J. Donovan Correctional Facility in San Diego, KGTV-TV reported. Rogowski confessed to killing 22-year-old Jessica Bergsten in 1991 at his Carlsbad home. He beat her with a car lock, chained her to a bed, raped her, then placed her in a surfboard bag and strangled her before burying her in the desert, authorities said. Bergsten was a friend of Rogowski s former girlfriend and he said he attacked her out of misplaced revenge after he was dumped. CLICK HERE if you are having a problem viewing the video on a mobile device Rogowski pleaded guilty to rape and murder and was sentenced to 31 years in prison. He lost bids for parole in 2011 and 2016. I m disgusted with what I did. I think about it every day, the 1980s skateboarding champion told the parole panel Tuesday. I took everything from that poor family. They have every right to be angry with me. I want to make it go away but I can t. The panel noted Rogowski s remorse and his clean disciplinary record during 27 years behind bars in concluding he wasn t an unreasonable risk to the community, despite objections from Bergsten s father and the San Diego County district attorney s office, KGTV-TV said. The pain never goes away, Stephen Bergsten told the panel. This inmate received a life sentence, but he imposed a death sentence upon Jessica and our family. We think he still poses a threat, especially to women, Supervising Deputy District Attorney Richard Sachs said. When someone does something as horrible as this, it shocks the conscience that they would be granted parole. The state Board of Parole Hearings has 120 days to finalize the panel s recommendation. The case would then go before Gov. Gavin Newsom for review.\n",
            "['san', 'diego', 'parol', 'recommend', 'tuesday', 'one', '-', 'time', 'champion', 'skateboard', 'spend', 'near', 'decad', 'prison', 'rape', 'kill', 'woman', 'southern', 'california', 'home', 'parol', 'board', 'recommend', 'mark', 'gator', 'rogowski', 'hear', 'richard', 'donovan', 'correct', 'facil', 'san_diego$', 'kgtv', '-', 'tv', 'report', 'rogowski', 'confess', 'kill', 'jessica', 'bergsten', 'carlsbad', 'home', 'beat', 'car', 'lock', 'chain', 'bed', 'rape', 'place', 'surfboard', 'bag', 'strangl', 'buri', 'desert', 'author', 'say', 'bergsten', 'friend', 'rogowski', 'girlfriend', 'say', 'attack', 'misplac', 'reveng', 'dump', 'click', 'problem', 'view', 'video', 'mobil', 'devic', 'rogowski', 'plead', 'guilti', 'rape', 'murder', 'sentenc', 'year', 'prison', 'lost', 'bid', 'parol', 'disgust', 'think', 'day', 'skateboard', 'champion', 'tell', 'parol', 'panel', 'tuesday', 'take', 'poor', 'famili', 'right', 'angri', 'want', 'away', 'panel', 'note', 'rogowski', 'remors', 'clean', 'disciplinari', 'record', 'year', 'bar', 'conclud', 'unreason', 'risk', 'communiti', 'despit', 'object', 'bergsten', 'father', 'san_diego$', 'counti', 'district', 'attorney', 'offic', 'kgtv', '-', 'tv', 'say', 'pain', 'go', 'away', 'stephen', 'bergsten', 'tell', 'panel', 'inmat', 'receiv', 'life', 'sentenc', 'impos', 'death', 'sentenc', 'jessica', 'famili', 'think', 'pose', 'threat', 'especi', 'woman', 'supervis', 'deputi', 'district', 'attorney', 'richard', 'sach', 'say', 'horribl', 'shock', 'conscienc', 'grant', 'parol', 'state', 'board', 'parol', 'hear', 'day', 'final', 'panel', 'recommend', 'case', 'gov', 'gavin', 'newsom', 'review']\n",
            "[['san', 'diego', 'parol', 'recommend', 'tuesday', 'one', '-', 'time', 'champion', 'skateboard', 'spend', 'near', 'decad', 'prison', 'rape', 'kill', 'woman', 'southern', 'california', 'home'], ['parol', 'board', 'recommend', 'mark', 'gator', 'rogowski', 'hear', 'richard', 'donovan', 'correct', 'facil', 'san_diego$', 'kgtv', '-', 'tv', 'report'], ['rogowski', 'confess', 'kill', 'jessica', 'bergsten', 'carlsbad', 'home'], ['beat', 'car', 'lock', 'chain', 'bed', 'rape', 'place', 'surfboard', 'bag', 'strangl', 'buri', 'desert', 'author', 'say'], ['bergsten', 'friend', 'rogowski', 'girlfriend', 'say', 'attack', 'misplac', 'reveng', 'dump'], ['click', 'problem', 'view', 'video', 'mobil', 'devic', 'rogowski', 'plead', 'guilti', 'rape', 'murder', 'sentenc', 'year', 'prison'], ['lost', 'bid', 'parol'], ['disgust'], ['think', 'day', 'skateboard', 'champion', 'tell', 'parol', 'panel', 'tuesday'], ['take', 'poor', 'famili'], ['right', 'angri'], ['want', 'away'], ['panel', 'note', 'rogowski', 'remors', 'clean', 'disciplinari', 'record', 'year', 'bar', 'conclud', 'unreason', 'risk', 'communiti', 'despit', 'object', 'bergsten', 'father', 'san_diego$', 'counti', 'district', 'attorney', 'offic', 'kgtv', '-', 'tv', 'say'], ['pain', 'go', 'away', 'stephen', 'bergsten', 'tell', 'panel'], ['inmat', 'receiv', 'life', 'sentenc', 'impos', 'death', 'sentenc', 'jessica', 'famili'], ['think', 'pose', 'threat', 'especi', 'woman', 'supervis', 'deputi', 'district', 'attorney', 'richard', 'sach', 'say'], ['horribl', 'shock', 'conscienc', 'grant', 'parol'], ['state', 'board', 'parol', 'hear', 'day', 'final', 'panel', 'recommend'], ['case', 'gov', 'gavin', 'newsom', 'review']]\n"
          ],
          "name": "stdout"
        }
      ]
    },
    {
      "cell_type": "markdown",
      "metadata": {
        "id": "dZiXCNYWloqK",
        "colab_type": "text"
      },
      "source": [
        "#### Training TF-IDF with gensim"
      ]
    },
    {
      "cell_type": "code",
      "metadata": {
        "id": "cqUAY0s5jmUh",
        "colab_type": "code",
        "outputId": "cf48ac71-533a-4b3a-8e7b-db5192b94eec",
        "colab": {
          "base_uri": "https://localhost:8080/",
          "height": 35
        }
      },
      "source": [
        "# Make a dictionary form words in the corpus\n",
        "dictionary = corpora.Dictionary([story['text_token'] for story in df_4])\n",
        "print (\"--- Number of words in dictionary: %s \" % len(dictionary))"
      ],
      "execution_count": 11,
      "outputs": [
        {
          "output_type": "stream",
          "text": [
            "--- Number of words in dictionary: 71484 \n"
          ],
          "name": "stdout"
        }
      ]
    },
    {
      "cell_type": "code",
      "metadata": {
        "id": "ym9O9eSdpJHn",
        "colab_type": "code",
        "colab": {}
      },
      "source": [
        "corpus = [dictionary.doc2bow(story['text_token']) for story in df_4]  # convert corpus to BoW format\n",
        "tfidf = TfidfModel(corpus)  # fit model"
      ],
      "execution_count": 0,
      "outputs": []
    },
    {
      "cell_type": "code",
      "metadata": {
        "id": "VDpiGEeXlyXC",
        "colab_type": "code",
        "outputId": "b35e7976-d8a5-4399-cf46-b003bc03f7f5",
        "colab": {
          "base_uri": "https://localhost:8080/",
          "height": 35
        }
      },
      "source": [
        "# Calculate tfidf weights of words in texts\n",
        "start_time = time.time()\n",
        "for i in range(len(tfidf[corpus])):\n",
        "  df_4 [i].update(tfidf_weights = [[dictionary[id], np.around(freq, decimals=2)] for id, freq in tfidf[corpus][i]])\n",
        "print(\"--- %s seconds ---\" % (time.time() - start_time))"
      ],
      "execution_count": 13,
      "outputs": [
        {
          "output_type": "stream",
          "text": [
            "--- 28.773566961288452 seconds ---\n"
          ],
          "name": "stdout"
        }
      ]
    },
    {
      "cell_type": "code",
      "metadata": {
        "id": "C6uj2TZVvq11",
        "colab_type": "code",
        "colab": {}
      },
      "source": [
        "# add wights of citie to dataset\n",
        "cities = [str(city['city.2'].replace(' ', '_').lower())+\"$\" for city in cities_1]\n",
        "for story in df_4:\n",
        "  for word in story ['tfidf_weights']:\n",
        "    if word[0] in cities:\n",
        "      name= word[0]\n",
        "      val = word[1]\n",
        "      d= {name: val}\n",
        "      story.update(d)"
      ],
      "execution_count": 0,
      "outputs": []
    },
    {
      "cell_type": "markdown",
      "metadata": {
        "id": "dP-gtjRs7vju",
        "colab_type": "text"
      },
      "source": [
        "Results"
      ]
    },
    {
      "cell_type": "code",
      "metadata": {
        "id": "2L-EgYlx4aWA",
        "colab_type": "code",
        "outputId": "242bf2d3-06ec-4176-9d29-36c4777242f0",
        "colab": {
          "base_uri": "https://localhost:8080/",
          "height": 384
        }
      },
      "source": [
        "# Return important news of each city\n",
        "city = 'los_angeles$'\n",
        "top_news = pd.DataFrame(df_4).nlargest(20,city).loc[:,['stories_id','text',city, 'url']]\n",
        "for i in range (len(top_news)):\n",
        "  print(\"{}- {} -- weight {} -- url: {} -- text: {} \".format((i+1),top_news.iloc[i,0],top_news.iloc[i,2], top_news.iloc[i,3], top_news.iloc[i,1]))"
      ],
      "execution_count": 15,
      "outputs": [
        {
          "output_type": "stream",
          "text": [
            "1- 1479486783 -- weight 0.49 -- url: https://www.pe.com/2019/12/25/clippers-win-christmas-day-clash-as-lakers-lose-4th-in-a-row/ -- text: Los Angeles Lakers LeBron James, left, and Los Angeles Clippers Kawhi Leonard 2 chase the ball during the second half of an NBA basketball game Wednesday, Dec. 25, 2019, in Los Angeles. The Clippers won 111-106. AP Photo Ringo H.W. Chiu Los Angeles Lakers LeBron James 23 and Los Angeles Clippers Kawhi Leonard 2 chase the ball during an NBA basketball game between Los Angeles Lakers and Los Angeles Clippers, Wednesday, Dec. 25, 2019, in Los Angeles. The Clippers won 111-106. AP Photo Ringo H.W. Chiu Sound The gallery will resume in seconds Los Angeles Lakers LeBron James 23 and Los Angeles Clippers Kawhi Leonard 2 chase the ball during an NBA basketball game between Los Angeles Lakers and Los Angeles Clippers, Wednesday, Dec. 25, 2019, in Los Angeles. The Clippers won 111-106. AP Photo Ringo H.W. Chiu Los Angeles Lakers LeBron James 23 and Los Angeles Clippers Kawhi Leonard 2 chase the ball during an NBA basketball game between Los Angeles Lakers and Los Angeles Clippers, Wednesday, Dec. 25, 2019, in Los Angeles. The Clippers won 111-106. AP Photo Ringo H.W. Chiu Los Angeles Lakers LeBron James, left, and Los Angeles Clippers Kawhi Leonard 2 chase the ball during the second half of an NBA basketball game Wednesday, Dec. 25, 2019, in Los Angeles. The Clippers won 111-106. AP Photo Ringo H.W. Chiu Los Angeles Lakers LeBron James 23 and Los Angeles Lakers Anthony Davis 3 in actions during an NBA basketball game between Los Angeles Lakers and Los Angeles Clippers, Wednesday, Dec. 25, 2019, in Los Angeles. The Clippers won 111-106. AP Photo Ringo H.W. Chiu Los Angeles Clippers Ivica Zubac 40 dunks against Los Angeles Lakers JaVale McGee, left, during the first half of an NBA basketball game Wednesday, Dec. 25, 2019, in Los Angeles. AP Photo Ringo H.W. Chiu Los Angeles Lakers LeBron James 23 drives between Los Angeles Clippers Montrezl Harrell 5 and Patrick Beverley during the first half of an NBA basketball game Wednesday, Dec. 25, 2019, in Los Angeles. AP Photo Ringo H.W. Chiu Los Angeles Lakers LeBron James 23 is defended by Los Angeles Clippers Paul George 13 during an NBA basketball game between Los Angeles Lakers and Los Angeles Clippers, Wednesday, Dec. 25, 2019, in Los Angeles. The Clippers won 111-106. AP Photo Ringo H.W. Chiu Los Angeles Clippers Landry Shamet 20 goes up for a layup under pressure from Los Angeles Lakers Kentavious Caldwell-Pope 1 during the first half of an NBA basketball game Wednesday, Dec. 25, 2019, in Los Angeles. AP Photo Ringo H.W. Chiu Los Angeles Clippers Lou Williams 23 goes up for a layup against Los Angeles Lakers during the first half of an NBA basketball game Wednesday, Dec. 25, 2019, in Los Angeles. AP Photo Ringo H.W. Chiu Los Angeles Lakers Kyle Kuzma 0 shoots during an NBA basketball game between Los Angeles Lakers and Los Angeles Clippers, Wednesday, Dec. 25, 2019, in Los Angeles. The Clippers won 111-106. AP Photo Ringo H.W. Chiu Los Angeles Clippers Kawhi Leonard 2 shoots against Los Angeles Lakers during the first half of an NBA basketball game Wednesday, Dec. 25, 2019, in Los Angeles. AP Photo Ringo H.W. Chiu LOS ANGELES, CA DECEMBER 25 LeBron James 23 of the Los Angeles Lakers grimaces after he was kneed in the groin defending Patrick Beverley 21 of the Los Angeles Clippers in the first half of the game at Staples Center on December 25, 2019 in Los Angeles, California. NOTE TO USER User expressly acknowledges and agrees that, by downloading and or using this Photograph, user is consenting to the terms and conditions of the Getty Images License Agreement. Photo by Jayne Kamin-Oncea Getty Images LOS ANGELES, CA DECEMBER 25 LeBron James 23 of the Los Angeles Lakers grimaces after he was kneed in the groin defending Patrick Beverley 21 of the Los Angeles Clippers in the first half of the game at Staples Center on December 25, 2019 in Los Angeles, California. NOTE TO USER User expressly acknowledges and agrees that, by downloading and or using this Photograph, user is consenting to the terms and conditions of the Getty Images License Agreement. Photo by Jayne Kamin-Oncea Getty Images Los Angeles Clippers Paul George 13 talks with Los Angeles Clippers Patrick Beverley 21 during an NBA basketball game between Los Angeles Lakers and Los Angeles Clippers, Wednesday, Dec. 25, 2019, in Los Angeles. The Clippers won 111-106. AP Photo Ringo H.W. Chiu Los Angeles Clippers Ivica Zubac 40 is fouled by Los Angeles Lakers Anthony Davis 3 during the first half of an NBA basketball game Wednesday, Dec. 25, 2019, in Los Angeles. AP Photo Ringo H.W. Chiu Los Angeles Clippers head coach Doc Rivers reacts during an NBA basketball game between Los Angeles Lakers and Los Angeles Clippers, Wednesday, Dec. 25, 2019, in Los Angeles. The Clippers won 111-106. AP Photo Ringo H.W. Chiu Los Angeles Clippers Montrezl Harrell 5 dunks against Los Angeles Lakers during the first half of an NBA basketball game Wednesday, Dec. 25, 2019, in Los Angeles. AP Photo Ringo H.W. Chiu Los Angeles Clippers Kawhi Leonard 2 is defended by Los Angeles Lakers Danny Green 14 during an NBA basketball game between Los Angeles Lakers and Los Angeles Clippers, Wednesday, Dec. 25, 2019, in Los Angeles. The Clippers won 111-106. AP Photo Ringo H.W. Chiu Los Angeles Lakers Anthony Davis 3 goes up to basket against Los Angeles Clippers Paul George 13 during an NBA basketball game between Los Angeles Lakers and Los Angeles Clippers, Wednesday, Dec. 25, 2019, in Los Angeles. The Clippers won 111-106. AP Photo Ringo H.W. Chiu Los Angeles Lakers Kyle Kuzma 0 shoots against Los Angeles Clippers Landry Shamet 20 during an NBA basketball game between Los Angeles Lakers and Los Angeles Clippers, Wednesday, Dec. 25, 2019, in Los Angeles. The Clippers won 111-106. AP Photo Ringo H.W. Chiu Los Angeles Clippers Lou Williams 23 shoots against Los Angeles Lakers Avery Bradley 11 and Dwight Howard 39 during the first half of an NBA basketball game Wednesday, Dec. 25, 2019, in Los Angeles. AP Photo Ringo H.W. Chiu Los Angeles Lakers Anthony Davis 3 reacts during an NBA basketball game between Los Angeles Lakers and Los Angeles Clippers, Wednesday, Dec. 25, 2019, in Los Angeles. The Clippers won 111-106. AP Photo Ringo H.W. Chiu Los Angeles Lakers LeBron James 23 and Los Angeles Clippers Kawhi Leonard 2 fight for a ball during an NBA basketball game between Los Angeles Lakers and Los Angeles Clippers, Wednesday, Dec. 25, 2019, in Los Angeles. The Clippers won 111-106. AP Photo Ringo H.W. Chiu Los Angeles Lakers JaVale McGee 7 blocks a shot by Los Angeles Clippers Paul George 13 during the first half of an NBA basketball game Wednesday, Dec. 25, 2019, in Los Angeles. AP Photo Ringo H.W. Chiu Los Angeles Clippers Paul George 13 drives past Los Angeles Lakers Danny Green 14 during an NBA basketball game between Los Angeles Lakers and Los Angeles Clippers, Wednesday, Dec. 25, 2019, in Los Angeles. The Clippers won 111-106. AP Photo Ringo H.W. Chiu Los Angeles Lakers LeBron James 23 and Los Angeles Clippers Patrick Beverley 21 in actions during an NBA basketball game between Los Angeles Lakers and Los Angeles Clippers, Wednesday, Dec. 25, 2019, in Los Angeles. The Clippers won 111-106. AP Photo Ringo H.W. Chiu Los Angeles Lakers LeBron James 23 is defended by Los Angeles Clippers Kawhi Leonard 2 during an NBA basketball game between Los Angeles Lakers and Los Angeles Clippers, Wednesday, Dec. 25, 2019, in Los Angeles. The Clippers won 111-106. AP Photo Ringo H.W. Chiu Los Angeles Clippers Lou Williams 23 drives against Los Angeles Lakers Kentavious Caldwell-Pope 1 during an NBA basketball game between Los Angeles Lakers and Los Angeles Clippers, Wednesday, Dec. 25, 2019, in Los Angeles. The Clippers won 111-106. AP Photo Ringo H.W. Chiu Los Angeles Lakers LeBron James 23 reacts during an NBA basketball game between Los Angeles Lakers and Los Angeles Clippers, Wednesday, Dec. 25, 2019, in Los Angeles. The Clippers won 111-106. AP Photo Ringo H.W. Chiu Los Angeles Clippers Kawhi Leonard 2 is defended by Los Angeles Lakers Kyle Kuzma 0 during an NBA basketball game between Los Angeles Lakers and Los Angeles Clippers, Wednesday, Dec. 25, 2019, in Los Angeles. The Clippers won 111-106. AP Photo Ringo H.W. Chiu Los Angeles Lakers Anthony Davis 3 dunks during an NBA basketball game between Los Angeles Lakers and Los Angeles Clippers, Wednesday, Dec. 25, 2019, in Los Angeles. The Clippers won 111-106. AP Photo Ringo H.W. Chiu Los Angeles Clippers Ivica Zubac 40 dunks against Los Angeles Lakers JaVale McGee, left, during the first half of an NBA basketball game Wednesday, Dec. 25, 2019, in Los Angeles. AP Photo Ringo H.W. Chiu Los Angeles Lakers Anthony Davis 3 reacts during an NBA basketball game between Los Angeles Lakers and Los Angeles Clippers, Wednesday, Dec. 25, 2019, in Los Angeles. The Clippers won 111-106. AP Photo Ringo H.W. Chiu Los Angeles Clippers head coach Doc Rivers during an NBA basketball game between Los Angeles Lakers and Los Angeles Clippers, Wednesday, Dec. 25, 2019, in Los Angeles. The Clippers won 111-106. AP Photo Ringo H.W. Chiu Los Angeles Clippers Landry Shamet 20 goes up for a layup under pressure from Los Angeles Lakers Kentavious Caldwell-Pope 1 during the first half of an NBA basketball game Wednesday, Dec. 25, 2019, in Los Angeles. AP Photo Ringo H.W. Chiu Los Angeles Lakers Anthony Davis 3 and Los Angeles Lakers LeBron James 23 in an NBA basketball game between Los Angeles Lakers and Los Angeles Clippers, Wednesday, Dec. 25, 2019, in Los Angeles. The Clippers won 111-106. AP Photo Ringo H.W. Chiu Los Angeles Clippers Ivica Zubac 40 dunks against Los Angeles Lakers JaVale McGee 7 during the first half of an NBA basketball game, Wednesday, Dec. 25, 2019, in Los Angeles. AP Photo Ringo H.W. Chiu Los Angeles Lakers Quinn Cook 2 fights for the ball against Los Angeles Clippers Patrick Beverley 21 and Kawhi Leonard 2 during the second half of an NBA basketball game Wednesday, Dec. 25, 2019, in Los Angeles. The Clippers won 111-106. AP Photo Ringo H.W. Chiu Los Angeles Lakers LeBron James 23 dunks during an NBA basketball game between Los Angeles Lakers and Los Angeles Clippers, Wednesday, Dec. 25, 2019, in Los Angeles. The Clippers won 111-106. AP Photo Ringo H.W. Chiu Los Angeles Lakers Anthony Davis 3 is defended by Los Angeles Clippers Patrick Patterson 54 during an NBA basketball game between Los Angeles Lakers and Los Angeles Clippers, Wednesday, Dec. 25, 2019, in Los Angeles. The Clippers won 111-106. AP Photo Ringo H.W. Chiu Los Angeles Lakers Kentavious Caldwell-Pope 1 goes up to basket during an NBA basketball game between Los Angeles Lakers and Los Angeles Clippers, Wednesday, Dec. 25, 2019, in Los Angeles. The Clippers won 111-106. AP Photo Ringo H.W. Chiu Los Angeles Clippers Kawhi Leonard 2 drives against Los Angeles Lakers Anthony Davis 3 during an NBA basketball game between Los Angeles Lakers and Los Angeles Clippers, Wednesday, Dec. 25, 2019, in Los Angeles. The Clippers won 111-106. AP Photo Ringo H.W. Chiu Los Angeles Lakers LeBron James 23 and Los Angeles Clippers Paul George 13 in an NBA basketball game between Los Angeles Lakers and Los Angeles Clippers, Wednesday, Dec. 25, 2019, in Los Angeles. The Clippers won 111-106. AP Photo Ringo H.W. Chiu Los Angeles Lakers LeBron James 23 dribbles during an NBA basketball game between Los Angeles Lakers and Los Angeles Clippers, Wednesday, Dec. 25, 2019, in Los Angeles. The Clippers won 111-106. AP Photo Ringo H.W. Chiu Los Angeles Lakers LeBron James 23 reacts during an NBA basketball game between Los Angeles Lakers and Los Angeles Clippers, Wednesday, Dec. 25, 2019, in Los Angeles. The Clippers won 111-106. AP Photo Ringo H.W. Chiu Los Angeles Lakers Kyle Kuzma 0 dribbles during an NBA basketball game between Los Angeles Lakers and Los Angeles Clippers, Wednesday, Dec. 25, 2019, in Los Angeles. The Clippers won 111-106. AP Photo Ringo H.W. Chiu Los Angeles Lakers LeBron James 23 is defended by Los Angeles Clippers Paul George during the second half of an NBA basketball game Wednesday, Dec. 25, 2019, in Los Angeles. The Clippers won 111-106. AP Photo Ringo H.W. Chiu Los Angeles Lakers LeBron James 23 is defended by Los Angeles Clippers Paul George 13 during an NBA basketball game between Los Angeles Lakers and Los Angeles Clippers, Wednesday, Dec. 25, 2019, in Los Angeles. The Clippers won 111-106. AP Photo Ringo H.W. Chiu Los Angeles Clippers Lou Williams 23 dribbles during an NBA basketball game between Los Angeles Lakers and Los Angeles Clippers, Wednesday, Dec. 25, 2019, in Los Angeles. The Clippers won 111-106. AP Photo Ringo H.W. Chiu Los Angeles Clippers Kawhi Leonard 2 shoots against Los Angeles Lakers Kyle Kuzma 0 during an NBA basketball game between Los Angeles Lakers and Los Angeles Clippers, Wednesday, Dec. 25, 2019, in Los Angeles. The Clippers won 111-106. AP Photo Ringo H.W. Chiu Los Angeles Clippers Ivica Zubac 40 is fouled by Los Angeles Clippers Terance Mann 14 during the second half of an NBA basketball game Wednesday, Dec. 25, 2019, in Los Angeles. The Clippers won 111-106. AP Photo Ringo H.W. Chiu Los Angeles Clippers Lou Williams 23 dribbles during an NBA basketball game between Los Angeles Lakers and Los Angeles Clippers, Wednesday, Dec. 25, 2019, in Los Angeles. The Clippers won 111-106. AP Photo Ringo H.W. Chiu Los Angeles Lakers LeBron James 23 passes the ball against Los Angeles Clippers Montrezl Harrell 5 and Los Angeles Clippers JaMychal Green 4 during an NBA basketball game between Los Angeles Lakers and Los Angeles Clippers, Wednesday, Dec. 25, 2019, in Los Angeles. The Clippers won 111-106. AP Photo Ringo H.W. Chiu Los Angeles Lakers Quinn Cook 2 fights for the ball against Los Angeles Clippers Patrick Beverley 21 and Kawhi Leonard 2 during the second half of an NBA basketball game Wednesday, Dec. 25, 2019, in Los Angeles. The Clippers won 111-106. AP Photo Ringo H.W. Chiu Los Angeles Lakers Rajon Rondo 9 dribbles during an NBA basketball game between Los Angeles Lakers and Los Angeles Clippers, Wednesday, Dec. 25, 2019, in Los Angeles. The Clippers won 111-106. AP Photo Ringo H.W. Chiu Los Angeles Clippers Lou Williams 23 shoots against Los Angeles Lakers Kyle Kuzma 0 during an NBA basketball game between Los Angeles Lakers and Los Angeles Clippers, Wednesday, Dec. 25, 2019, in Los Angeles. The Clippers won 111-106. AP Photo Ringo H.W. Chiu Los Angeles Clippers Patrick Beverley 21 talks with Los Angeles Lakers Anthony Davis 3 during an NBA basketball game between Los Angeles Lakers and Los Angeles Clippers, Wednesday, Dec. 25, 2019, in Los Angeles. The Clippers won 111-106. AP Photo Ringo H.W. Chiu Los Angeles Clippers Ivica Zubac 40 is fouled by Los Angeles Lakers Anthony Davis 3 during the first half of an NBA basketball game Wednesday, Dec. 25, 2019, in Los Angeles. AP Photo Ringo H.W. Chiu Los Angeles Lakers Kyle Kuzma 0 drives against Los Angeles Clippers Maurice Harkless 8 during an NBA basketball game between Los Angeles Lakers and Los Angeles Clippers, Wednesday, Dec. 25, 2019, in Los Angeles. The Clippers won 111-106. AP Photo Ringo H.W. Chiu Los Angeles Clippers head coach Doc Rivers reacts during an NBA basketball game between Los Angeles Lakers and Los Angeles Clippers, Wednesday, Dec. 25, 2019, in Los Angeles. The Clippers won 111-106. AP Photo Ringo H.W. Chiu Los Angeles Lakers Anthony Davis 3 is defended by Los Angeles Clippers Paul George 13 during an NBA basketball game between Los Angeles Lakers and Los Angeles Clippers, Wednesday, Dec. 25, 2019, in Los Angeles. The Clippers won 111-106. AP Photo Ringo H.W. Chiu Los Angeles Clippers Montrezl Harrell 5 dunks against Los Angeles Lakers during the first half of an NBA basketball game Wednesday, Dec. 25, 2019, in Los Angeles. AP Photo Ringo H.W. Chiu Los Angeles Lakers Anthony Davis 3 reacts during an NBA basketball game between Los Angeles Lakers and Los Angeles Clippers, Wednesday, Dec. 25, 2019, in Los Angeles. The Clippers won 111-106. AP Photo Ringo H.W. Chiu Los Angeles Lakers LeBron James 23 dribbles during an NBA basketball game between Los Angeles Lakers and Los Angeles Clippers, Wednesday, Dec. 25, 2019, in Los Angeles. The Clippers won 111-106. AP Photo Ringo H.W. Chiu Los Angeles Clippers Kawhi Leonard 2 looks to pass the ball against Los Angeles Lakers LeBron James 23 and Los Angeles Lakers Anthony Davis 3 during an NBA basketball game between Los Angeles Lakers and Los Angeles Clippers, Wednesday, Dec. 25, 2019, in Los Angeles. The Clippers won 111-106. AP Photo Ringo H.W. Chiu Los Angeles Clippers Paul George 13 shoots against Los Angeles Lakers Anthony Davis 3 during the second half of an NBA basketball game Wednesday, Dec. 25, 2019, in Los Angeles. The Clippers won 111-106. AP Photo Ringo H.W. Chiu Los Angeles Lakers LeBron James 23 dribbles during an NBA basketball game between Los Angeles Lakers and Los Angeles Clippers, Wednesday, Dec. 25, 2019, in Los Angeles. The Clippers won 111-106. AP Photo Ringo H.W. Chiu Los Angeles Lakers Dwight Howard 39 dunk against Los Angeles Clippers Montrezl Harrell 5 during an NBA basketball game between Los Angeles Lakers and Los Angeles Clippers, Wednesday, Dec. 25, 2019, in Los Angeles. The Clippers won 111-106. AP Photo Ringo H.W. Chiu Los Angeles Clippers Ivica Zubac 40 dunks against Los Angeles Lakers JaVale McGee, left, during the first half of an NBA basketball game Wednesday, Dec. 25, 2019, in Los Angeles. AP Photo Ringo H.W. Chiu Los Angeles Lakers LeBron James 23 shoots against Los Angeles Clippers Paul George 13 during an NBA basketball game between Los Angeles Lakers and Los Angeles Clippers, Wednesday, Dec. 25, 2019, in Los Angeles. The Clippers won 111-106. AP Photo Ringo H.W. Chiu Los Angeles Lakers JaVale McGee 7 blocks a shot by Los Angeles Clippers Paul George 13 during the first half of an NBA basketball game Wednesday, Dec. 25, 2019, in Los Angeles. AP Photo Ringo H.W. Chiu Los Angeles Clippers Maurice Harkless 8 shoots against Los Angeles Lakers Anthony Davis 3 during an NBA basketball game between Los Angeles Lakers and Los Angeles Clippers, Wednesday, Dec. 25, 2019, in Los Angeles. The Clippers won 111-106. AP Photo Ringo H.W. Chiu Los Angeles Clippers Paul George 13 is defended by Los Angeles Lakers Alex Caruso 4 during an NBA basketball game between Los Angeles Lakers and Los Angeles Clippers, Wednesday, Dec. 25, 2019, in Los Angeles. The Clippers won 111-106. AP Photo Ringo H.W. Chiu Los Angeles Clippers Kawhi Leonard 2 shoots against the Los Angeles Lakers during the second half of an NBA basketball game Wednesday, Dec. 25, 2019, in Los Angeles. The Clippers won 111-106. AP Photo Ringo H.W. Chiu Los Angeles Lakers Rajon Rondo 9 dribbles during an NBA basketball game between Los Angeles Lakers and Los Angeles Clippers, Wednesday, Dec. 25, 2019, in Los Angeles. The Clippers won 111-106. AP Photo Ringo H.W. Chiu Los Angeles Clippers Kawhi Leonard 2 dribbles during an NBA basketball game between Los Angeles Lakers and Los Angeles Clippers, Wednesday, Dec. 25, 2019, in Los Angeles. The Clippers won 111-106. AP Photo Ringo H.W. Chiu Los Angeles Clippers Kawhi Leonard 2 shoots during an NBA basketball game between Los Angeles Lakers and Los Angeles Clippers, Wednesday, Dec. 25, 2019, in Los Angeles. The Clippers won 111-106. AP Photo Ringo H.W. Chiu Los Angeles Clippers Landry Shamet 20 goes up for a layup under pressure from Los Angeles Lakers Kentavious Caldwell-Pope 1 during the first half of an NBA basketball game Wednesday, Dec. 25, 2019, in Los Angeles. AP Photo Ringo H.W. Chiu Los Angeles Clippers head coach Doc Rivers reacts during an NBA basketball game between Los Angeles Lakers and Los Angeles Clippers, Wednesday, Dec. 25, 2019, in Los Angeles. The Clippers won 111-106. AP Photo Ringo H.W. Chiu Los Angeles Lakers LeBron James reacts after making a 3-pointer during the second half of the team s NBA basketball game against the Los Angeles Clippers on Wednesday, Dec. 25, 2019, in Los Angeles. The Clippers won 111-106. AP Photo Ringo H.W. Chiu Los Angeles Clippers Paul George 13 fights for a ball against Los Angeles Lakers Kentavious Caldwell-Pope 1 and Los Angeles Lakers Anthony Davis 3 during an NBA basketball game between Los Angeles Lakers and Los Angeles Clippers, Wednesday, Dec. 25, 2019, in Los Angeles. The Clippers won 111-106. AP Photo Ringo H.W. Chiu Los Angeles Clippers Kawhi Leonard 2 shoots during an NBA basketball game between Los Angeles Lakers and Los Angeles Clippers, Wednesday, Dec. 25, 2019, in Los Angeles. The Clippers won 111-106. AP Photo Ringo H.W. Chiu Los Angeles Clippers Kawhi Leonard 2 grabs a rebound next to Los Angeles Lakers Anthony Davis 3 during the second half of an NBA basketball game Wednesday, Dec. 25, 2019, in Los Angeles. The Clippers won 111-106. AP Photo Ringo H.W. Chiu Los Angeles Clippers Kawhi Leonard 2 shoots against Los Angeles Lakers Anthony Davis 3 during an NBA basketball game between Los Angeles Lakers and Los Angeles Clippers, Wednesday, Dec. 25, 2019, in Los Angeles. The Clippers won 111-106. AP Photo Ringo H.W. Chiu Los Angeles Lakers Anthony Davis 3 dunks during an NBA basketball game between Los Angeles Lakers and Los Angeles Clippers, Wednesday, Dec. 25, 2019, in Los Angeles. The Clippers won 111-106. AP Photo Ringo H.W. Chiu Los Angeles Clippers coach Doc Rivers, center, greets players during a timeout in the second half of the team s NBA basketball game against Los Angeles Lakers, Wednesday, Dec. 25, 2019, in Los Angeles. The Clippers won 111-106. AP Photo Ringo H.W. Chiu Los Angeles Clippers Ivica Zubac 40 shoots during an NBA basketball game between Los Angeles Lakers and Los Angeles Clippers, Wednesday, Dec. 25, 2019, in Los Angeles. The Clippers won 111-106. AP Photo Ringo H.W. Chiu Los Angeles Clippers Montrezl Harrell 5 is defended by Los Angeles Lakers LeBron James 23 during an NBA basketball game between Los Angeles Lakers and Los Angeles Clippers, Wednesday, Dec. 25, 2019, in Los Angeles. The Clippers won 111-106. AP Photo Ringo H.W. Chiu Los Angeles Clippers Lou Williams 23 drives past Los Angeles Lakers Anthony Davis 3 for a layup during the second half of an NBA basketball game Wednesday, Dec. 25, 2019, in Los Angeles. The Clippers won 111-106. AP Photo Ringo H.W. Chiu Los Angeles Clippers Kawhi Leonard 2 drives against Los Angeles Lakers Avery Bradley 11 during an NBA basketball game between Los Angeles Lakers and Los Angeles Clippers, Wednesday, Dec. 25, 2019, in Los Angeles. The Clippers won 111-106. AP Photo Ringo H.W. Chiu Los Angeles Clippers Kawhi Leonard 2 drives past Los Angeles Lakers Anthony Davis 3 during an NBA basketball game between Los Angeles Lakers and Los Angeles Clippers, Wednesday, Dec. 25, 2019, in Los Angeles. The Clippers won 111-106. AP Photo Ringo H.W. Chiu Los Angeles Clippers Paul George 13 shoots under pressure from Los Angeles Lakers Anthony Davis 3 and Danny Green 14 during the second half of an NBA basketball game Wednesday, Dec. 25, 2019, in Los Angeles. The Clippers won 111-106. AP Photo Ringo H.W. Chiu Los Angeles Clippers JaMychal Green 4 shoots against Los Angeles Lakers Rajon Rondo 9 during an NBA basketball game between Los Angeles Lakers and Los Angeles Clippers, Wednesday, Dec. 25, 2019, in Los Angeles. The Clippers won 111-106. AP Photo Ringo H.W. Chiu Los Angeles Lakers Dwight Howard 39 dunk against Los Angeles Clippers Montrezl Harrell 5 during an NBA basketball game between Los Angeles Lakers and Los Angeles Clippers, Wednesday, Dec. 25, 2019, in Los Angeles. The Clippers won 111-106. AP Photo Ringo H.W. Chiu Los Angeles Clippers head coach Doc Rivers during an NBA basketball game between Los Angeles Lakers and Los Angeles Clippers, Wednesday, Dec. 25, 2019, in Los Angeles. The Clippers won 111-106. AP Photo Ringo H.W. Chiu Los Angeles Clippers Kawhi Leonard 2 dribbles during an NBA basketball game between Los Angeles Lakers and Los Angeles Clippers, Wednesday, Dec. 25, 2019, in Los Angeles. The Clippers won 111-106. AP Photo Ringo H.W. Chiu Los Angeles Lakers Quinn Cook 2 fights for the ball against Los Angeles Clippers Patrick Beverley 21 and Kawhi Leonard 2 during the second half of an NBA basketball game Wednesday, Dec. 25, 2019, in Los Angeles. The Clippers won 111-106. AP Photo Ringo H.W. Chiu Los Angeles Clippers Paul George 13 is defended by Los Angeles Lakers Anthony Davis 3 during an NBA basketball game between Los Angeles Lakers and Los Angeles Clippers, Wednesday, Dec. 25, 2019, in Los Angeles. The Clippers won 111-106. AP Photo Ringo H.W. Chiu Los Angeles Clippers Patrick Beverley 21 and Los Angeles Lakers Anthony Davis 3 vie for control of the ball during the second half of an NBA basketball game Wednesday, Dec. 25, 2019, in Los Angeles. The Clippers won 111-106. AP Photo Ringo H.W. Chiu Los Angeles Clippers Kawhi Leonard 2 is defended by Los Angeles Lakers LeBron James 23 during an NBA basketball game between Los Angeles Lakers and Los Angeles Clippers, Wednesday, Dec. 25, 2019, in Los Angeles. The Clippers won 111-106. AP Photo Ringo H.W. Chiu Los Angeles Clippers Ivica Zubac 40 is fouled by Los Angeles Lakers Anthony Davis 3 during the first half of an NBA basketball game Wednesday, Dec. 25, 2019, in Los Angeles. AP Photo Ringo H.W. Chiu Los Angeles Clippers Montrezl Harrell 5 dunks against Los Angeles Lakers during the first half of an NBA basketball game Wednesday, Dec. 25, 2019, in Los Angeles. AP Photo Ringo H.W. Chiu LOS ANGELES, CA DECEMBER 25 Anthony Davis 3 of the Los Angeles Lakers guards Paul George 13 of the Los Angeles Clippers as he drives to the basket in the first quarter of the game at Staples Center on December 25, 2019 in Los Angeles, California. NOTE TO USER User expressly acknowledges and agrees that, by downloading and or using this Photograph, user is consenting to the terms and conditions of the Getty Images License Agreement. Photo by Jayne Kamin-Oncea Getty Images LOS ANGELES, CA DECEMBER 25 Kawhi Leonard 2 of the Los Angeles Clippers is fouled by Anthony Davis 3 of the Los Angeles Lakers as he drives to the basket in the first half of the game at Staples Center on December 25, 2019 in Los Angeles, California. NOTE TO USER User expressly acknowledges and agrees that, by downloading and or using this Photograph, user is consenting to the terms and conditions of the Getty Images License Agreement. Photo by Jayne Kamin-Oncea Getty Images LOS ANGELES, CA DECEMBER 25 Kawhi Leonard 2 of the Los Angeles Clippers is fouled by Anthony Davis 3 of the Los Angeles Lakers as he drives to the basket in the first half of the game at Staples Center on December 25, 2019 in Los Angeles, California. NOTE TO USER User expressly acknowledges and agrees that, by downloading and or using this Photograph, user is consenting to the terms and conditions of the Getty Images License Agreement. Photo by Jayne Kamin-Oncea Getty Images LOS ANGELES, CA DECEMBER 25 Avery Bradley 11 of the Los Angeles Lakers guards Lou Williams 23 of the Los Angeles Clippers as he drives to the basket in the first half of the game at Staples Center on December 25, 2019 in Los Angeles, California. NOTE TO USER User expressly acknowledges and agrees that, by downloading and or using this Photograph, user is consenting to the terms and conditions of the Getty Images License Agreement. Photo by Jayne Kamin-Oncea Getty Images LOS ANGELES, CA DECEMBER 25 Dwight Howard 39 of the Los Angeles Lakers guards Montrezl Harrell 5 of the Los Angeles Clippers as he takes a shot in the first half of the game at Staples Center on December 25, 2019 in Los Angeles, California. NOTE TO USER User expressly acknowledges and agrees that, by downloading and or using this Photograph, user is consenting to the terms and conditions of the Getty Images License Agreement. Photo by Jayne Kamin-Oncea Getty Images LOS ANGELES, CA DECEMBER 25 Danny Green 14 of the Los Angeles Lakers defends Paul George 13 of the Los Angeles Clippers as he drives to the basket in the first half of the game at Staples Center on December 25, 2019 in Los Angeles, California. NOTE TO USER User expressly acknowledges and agrees that, by downloading and or using this Photograph, user is consenting to the terms and conditions of the Getty Images License Agreement. Photo by Jayne Kamin-Oncea Getty Images LOS ANGELES, CA DECEMBER 25 Anthony Davis 3 of the Los Angeles Lakers blocks a dunk attempt by Paul George 13 of the Los Angeles Clippers in the first half of the game at Staples Center on December 25, 2019 in Los Angeles, California. NOTE TO USER User expressly acknowledges and agrees that, by downloading and or using this Photograph, user is consenting to the terms and conditions of the Getty Images License Agreement. Photo by Jayne Kamin-Oncea Getty Images LOS ANGELES, CA DECEMBER 25 JaVale McGee 7 and LeBron James 23 of the Los Angeles Lakers defend a shot by Paul George 13 of the Los Angeles Clippers in the second half of the game at Staples Center on December 25, 2019 in Los Angeles, California. NOTE TO USER User expressly acknowledges and agrees that, by downloading and or using this Photograph, user is consenting to the terms and conditions of the Getty Images License Agreement. Photo by Jayne Kamin-Oncea Getty Images LOS ANGELES, CA DECEMBER 25 LeBron James 23 of the Los Angeles Lakers guards Kawhi Leonard 2 of the Los Angeles Clippers in the second half of the game at Staples Center on December 25, 2019 in Los Angeles, California. NOTE TO USER User expressly acknowledges and agrees that, by downloading and or using this Photograph, user is consenting to the terms and conditions of the Getty Images License Agreement. Photo by Jayne Kamin-Oncea Getty Images LOS ANGELES, CA DECEMBER 25 Kyle Kuzma 0 of the Los Angeles Lakers guards Kawhi Leonard 2 of the Los Angeles Clippers in the second half of the game at Staples Center on December 25, 2019 in Los Angeles, California. NOTE TO USER User expressly acknowledges and agrees that, by downloading and or using this Photograph, user is consenting to the terms and conditions of the Getty Images License Agreement. Photo by Jayne Kamin-Oncea Getty Images LOS ANGELES, CA DECEMBER 25 Anthony Davis 3 of the Los Angeles Lakers defends guards Kawhi Leonard 2 of the Los Angeles Clippers as he makes a pass under the basket in the second half of the game at Staples Center on December 25, 2019 in Los Angeles, California. NOTE TO USER User expressly acknowledges and agrees that, by downloading and or using this Photograph, user is consenting to the terms and conditions of the Getty Images License Agreement. Photo by Jayne Kamin-Oncea Getty Images LOS ANGELES, CA DECEMBER 25 Montrezl Harrell 5 of the Los Angeles Clippers screens LeBron James 23 of the Los Angeles Lakers and Kawhi Leonard 2 of the Los Angeles Clippers drives to the basket in the second half of the game at Staples Center on December 25, 2019 in Los Angeles, California. NOTE TO USER User expressly acknowledges and agrees that, by downloading and or using this Photograph, user is consenting to the terms and conditions of the Getty Images License Agreement. Photo by Jayne Kamin-Oncea Getty Images LOS ANGELES, CA DECEMBER 25 JaVale McGee 7 and LeBron James 23 of the Los Angeles Lakers defend a shot by Paul George 13 of the Los Angeles Clippers in the second half of the game at Staples Center on December 25, 2019 in Los Angeles, California. NOTE TO USER User expressly acknowledges and agrees that, by downloading and or using this Photograph, user is consenting to the terms and conditions of the Getty Images License Agreement. Photo by Jayne Kamin-Oncea Getty Images LOS ANGELES, CA DECEMBER 25 LeBron James 23 of the Los Angeles Lakers blocks a shot by JaMychal Green 4 of the Los Angeles Clippers in the second half of the game at Staples Center on December 25, 2019 in Los Angeles, California. NOTE TO USER User expressly acknowledges and agrees that, by downloading and or using this Photograph, user is consenting to the terms and conditions of the Getty Images License Agreement. Photo by Jayne Kamin-Oncea Getty Images LOS ANGELES, CA DECEMBER 25 Paul George 13 shakes hands with head coach Doc Rivers of the Los Angeles Clippers during a time out in the second half of the game against the Los Angeles Lakers at Staples Center on December 25, 2019 in Los Angeles, California. NOTE TO USER User expressly acknowledges and agrees that, by downloading and or using this Photograph, user is consenting to the terms and conditions of the Getty Images License Agreement. Photo by Jayne Kamin-Oncea Getty Images LOS ANGELES, CA DECEMBER 25 Dwight Howard 39 of the Los Angeles Lakers and Montrezl Harrell 5 of the Los Angeles Clippers battle for a rebound off a shot by LeBron James 23 of the Los Angeles Lakers in the second half of the game at Staples Center on December 25, 2019 in Los Angeles, California. NOTE TO USER User expressly acknowledges and agrees that, by downloading and or using this Photograph, user is consenting to the terms and conditions of the Getty Images License Agreement. Photo by Jayne Kamin-Oncea Getty Images LOS ANGELES, CA DECEMBER 25 Montrezl Harrell 5 of the Los Angeles Clippers reacts to a basket in the second half of the game against the Los Angeles Lakers at Staples Center on December 25, 2019 in Los Angeles, California. NOTE TO USER User expressly acknowledges and agrees that, by downloading and or using this Photograph, user is consenting to the terms and conditions of the Getty Images License Agreement. Photo by Jayne Kamin-Oncea Getty Images LOS ANGELES, CA DECEMBER 25 Kawhi Leonard 2 shakes hands with head coach Doc Rivers of the Los Angeles Clippers during a time out in the second half of the game against the Los Angeles Lakers at Staples Center on December 25, 2019 in Los Angeles, California. NOTE TO USER User expressly acknowledges and agrees that, by downloading and or using this Photograph, user is consenting to the terms and conditions of the Getty Images License Agreement. Photo by Jayne Kamin-Oncea Getty Images LOS ANGELES, CA DECEMBER 25 Maurice Harkless 8 of the Los Angeles Clippers guards Kyle Kuzma 0 of the Los Angeles Lakers as he drives to the basket in the second half of the game at Staples Center on December 25, 2019 in Los Angeles, California. NOTE TO USER User expressly acknowledges and agrees that, by downloading and or using this Photograph, user is consenting to the terms and conditions of the Getty Images License Agreement. Photo by Jayne Kamin-Oncea Getty Images LOS ANGELES, CA DECEMBER 25 Patrick Beverley 21 of the Los Angeles Clippers guards LeBron James 23 of the Los Angeles Lakers in the second half of the game at Staples Center on December 25, 2019 in Los Angeles, California. NOTE TO USER User expressly acknowledges and agrees that, by downloading and or using this Photograph, user is consenting to the terms and conditions of the Getty Images License Agreement. Photo by Jayne Kamin-Oncea Getty Images LOS ANGELES, CA DECEMBER 25 Kyle Kuzma 0 of the Los Angeles Lakers defends Lou Williams 23 of the Los Angeles Clippers as he goes for a basket in the second half of the game at Staples Center on December 25, 2019 in Los Angeles, California. NOTE TO USER User expressly acknowledges and agrees that, by downloading and or using this Photograph, user is consenting to the terms and conditions of the Getty Images License Agreement. Photo by Jayne Kamin-Oncea Getty Images LOS ANGELES, CA DECEMBER 25 A Los Angeles Lakers fan covers his eyes as Los Angeles Clippers owner Steve Balmer cheers for his team in the fourth quarter of the game at Staples Center on December 25, 2019 in Los Angeles, California. NOTE TO USER User expressly acknowledges and agrees that, by downloading and or using this Photograph, user is consenting to the terms and conditions of the Getty Images License Agreement. Photo by Jayne Kamin-Oncea Getty Images LOS ANGELES, CA DECEMBER 25 Montrezl Harrell 5 of the Los Angeles Clippers blocks a shot by Anthony Davis 3 of the Los Angeles Lakers in the second half of the game at Staples Center on December 25, 2019 in Los Angeles, California. NOTE TO USER User expressly acknowledges and agrees that, by downloading and or using this Photograph, user is consenting to the terms and conditions of the Getty Images License Agreement. Photo by Jayne Kamin-Oncea Getty Images Los Angeles Lakers forward LeBron James R tries to defend Los Angeles Clippers forward Paul George C during a Christmas Day National Basketball Association NBA match-up between the Los Angeles Clippers and Los Angeles Lakers at the Staples Center in Los Angeles, California on December 25, 2019. Photo by Robyn Beck AFP Photo by ROBYN BECK AFP via Getty Images LOS ANGELES, CA DECEMBER 25 JaVale McGee 7 and LeBron James 23 of the Los Angeles Lakers defend a shot by Paul George 13 of the Los Angeles Clippers in the second half of the game at Staples Center on December 25, 2019 in Los Angeles, California. NOTE TO USER User expressly acknowledges and agrees that, by downloading and or using this Photograph, user is consenting to the terms and conditions of the Getty Images License Agreement. Photo by Jayne Kamin-Oncea Getty Images LOS ANGELES, CA DECEMBER 25 Ivica Zubac 40 and Patrick Beverley 21 of the Los Angeles Clippers defend LeBron James 23 of the Los Angeles Lakers as he goes for a basket in the first half of the game at Staples Center on December 25, 2019 in Los Angeles, California. NOTE TO USER User expressly acknowledges and agrees that, by downloading and or using this Photograph, user is consenting to the terms and conditions of the Getty Images License Agreement. Photo by Jayne Kamin-Oncea Getty Images Los Angeles Lakers forward Anthony Davis L is guarded by Los Angeles Clippers forward Paul George during a Christmas Day National Basketball Association NBA match-up between the Los Angeles Clippers and Los Angeles Lakers at the Staples Center in Los Angeles, California on December 25, 2019. Photo by Robyn Beck AFP Photo by ROBYN BECK AFP via Getty Images Los Angeles Clippers forward Kawhi Leonard C and Los Angeles Lakers center Dwight Howard L clash during a Christmas Day National Basketball Association NBA match-up between the Los Angeles Clippers and Los Angeles Lakers at the Staples Center in Los Angeles, California on December 25, 2019. Photo by Robyn Beck AFP Photo by ROBYN BECK AFP via Getty Images LOS ANGELES, CA DECEMBER 25 Alex Caruso 4 of the Los Angeles Lakers gets past Landry Shamet 20 of the Los Angeles Clippers for a basket in the first half of the game at Staples Center on December 25, 2019 in Los Angeles, California. NOTE TO USER User expressly acknowledges and agrees that, by downloading and or using this Photograph, user is consenting to the terms and conditions of the Getty Images License Agreement. Photo by Jayne Kamin-Oncea Getty Images Los Angeles Clippers forward Kawhi Leonard C drives to the basket during a Christmas Day National Basketball Association NBA match-up between the Los Angeles Clippers and Los Angeles Lakers at the Staples Center in Los Angeles, California on December 25, 2019. Photo by Robyn Beck AFP Photo by ROBYN BECK AFP via Getty Images LOS ANGELES, CA DECEMBER 25 Paul George 13 of the Los Angeles Clippers blocks a shot by LeBron James 23 of the Los Angeles Lakers as Montrezl Harrell 5 of the Los Angeles Clippers and Dwight Howard 39 of the Los Angeles Lakers look on in the first half of the game at Staples Center on December 25, 2019 in Los Angeles, California. NOTE TO USER User expressly acknowledges and agrees that, by downloading and or using this Photograph, user is consenting to the terms and conditions of the Getty Images License Agreement. Photo by Jayne Kamin-Oncea Getty Images Los Angeles Lakers forward LeBron James L guards Los Angeles Clippers forward Kawhi Leonard R during a Christmas Day National Basketball Association NBA match-up between the Los Angeles Clippers and Los Angeles Lakers at the Staples Center in Los Angeles, California on December 25, 2019. Photo by Robyn Beck AFP Photo by ROBYN BECK AFP via Getty Images LOS ANGELES, CA DECEMBER 25 Kyle Kuzma 0 of the Los Angeles Lakers gets by Patrick Beverley 21 and Paul George 13 of the Los Angeles Clippers as he goes for a basket in the first half of the game at Staples Center on December 25, 2019 in Los Angeles, California. NOTE TO USER User expressly acknowledges and agrees that, by downloading and or using this Photograph, user is consenting to the terms and conditions of the Getty Images License Agreement. Photo by Jayne Kamin-Oncea Getty Images LOS ANGELES, CA DECEMBER 25 Anthony Davis 3 of the Los Angeles Lakers drives to the basket in the game against the Los Angeles Clippers at Staples Center on December 25, 2019 in Los Angeles, California. NOTE TO USER User expressly acknowledges and agrees that, by downloading and or using this Photograph, user is consenting to the terms and conditions of the Getty Images License Agreement. Photo by Jayne Kamin-Oncea Getty Images Los Angeles Lakers center Dwight Howard reacts during a Christmas Day National Basketball Association NBA match-up between the Los Angeles Clippers and Los Angeles Lakers at the Staples Center in Los Angeles, California on December 25, 2019. Photo by Robyn Beck AFP Photo by ROBYN BECK AFP via Getty Images Los Angeles Lakers forward LeBron James L drives past Los Angeles Clippers forward Kawhi Leonard R during a Christmas Day National Basketball Association NBA match-up between the Los Angeles Clippers and Los Angeles Lakers at the Staples Center in Los Angeles, California on December 25, 2019. Photo by Robyn Beck AFP Photo by ROBYN BECK AFP via Getty Images Los Angeles Lakers forward LeBron James L and Los Angeles Clippers forward Montrezl Harrell R fight for the ball during a Christmas Day National Basketball Association NBA match-up between the Los Angeles Clippers and Los Angeles Lakers at the Staples Center in Los Angeles, California on December 25, 2019. Photo by Robyn Beck AFP Photo by ROBYN BECK AFP via Getty Images Los Angeles Lakers forward Anthony Davis centre L defends against Los Angeles Clippers forward Kawhi Leonard centre R during a Christmas Day National Basketball Association NBA match-up between the Los Angeles Clippers and Los Angeles Lakers at the Staples Center in Los Angeles, California on December 25, 2019. Photo by Robyn Beck AFP Photo by ROBYN BECK AFP via Getty Images LOS ANGELES, CA DECEMBER 25 Maurice Harkless 8 of the Los Angeles Clippers guards Kyle Kuzma 0 of the Los Angeles Lakers in the game at Staples Center on December 25, 2019 in Los Angeles, California. NOTE TO USER User expressly acknowledges and agrees that, by downloading and or using this Photograph, user is consenting to the terms and conditions of the Getty Images License Agreement. Photo by Jayne Kamin-Oncea Getty Images LOS ANGELES, CA DECEMBER 25 Danny Green 14 of the Los Angeles Lakers defends Ivica Zubac 40 of the Los Angeles Clippers as he goes for a basket in the game at Staples Center on December 25, 2019 in Los Angeles, California. NOTE TO USER User expressly acknowledges and agrees that, by downloading and or using this Photograph, user is consenting to the terms and conditions of the Getty Images License Agreement. Photo by Jayne Kamin-Oncea Getty Images LOS ANGELES, CA DECEMBER 25 Avery Bradley 11 of the Los Angeles Lakers chases down Patrick Beverley 21 of the Los Angeles Clippers as he drives to the basket in the game at Staples Center on December 25, 2019 in Los Angeles, California. NOTE TO USER User expressly acknowledges and agrees that, by downloading and or using this Photograph, user is consenting to the terms and conditions of the Getty Images License Agreement. Photo by Jayne Kamin-Oncea Getty Images LOS ANGELES, CA DECEMBER 25 LeBron James 23 of the Los Angeles Lakers blocks a shot by JaMychal Green 4 of the Los Angeles Clippers in the game at Staples Center on December 25, 2019 in Los Angeles, California. NOTE TO USER User expressly acknowledges and agrees that, by downloading and or using this Photograph, user is consenting to the terms and conditions of the Getty Images License Agreement. Photo by Jayne Kamin-Oncea Getty Images LOS ANGELES, CA DECEMBER 25 Maurice Harkless 8 of the Los Angeles Clippers guards Kyle Kuzma 0 of the Los Angeles Lakers in the game at Staples Center on December 25, 2019 in Los Angeles, California. NOTE TO USER User expressly acknowledges and agrees that, by downloading and or using this Photograph, user is consenting to the terms and conditions of the Getty Images License Agreement. Photo by Jayne Kamin-Oncea Getty Images LOS ANGELES, CA DECEMBER 25 Patrick Beverley 21 of the Los Angeles Clippers drives to the basket in the game against the Los Angeles Lakers at Staples Center on December 25, 2019 in Los Angeles, California. NOTE TO USER User expressly acknowledges and agrees that, by downloading and or using this Photograph, user is consenting to the terms and conditions of the Getty Images License Agreement. Photo by Jayne Kamin-Oncea Getty Images LOS ANGELES, CA DECEMBER 25 Danny Green 14 of the Los Angeles Lakers defends Kawhi Leonard 2 of the Los Angeles Clippers as he shoots a basket in the game at Staples Center on December 25, 2019 in Los Angeles, California. NOTE TO USER User expressly acknowledges and agrees that, by downloading and or using this Photograph, user is consenting to the terms and conditions of the Getty Images License Agreement. Photo by Jayne Kamin-Oncea Getty Images LOS ANGELES, CA DECEMBER 25 Paul George 13 of the Los Angeles Clippers takes a shot in the game against the Los Angeles Lakers at Staples Center on December 25, 2019 in Los Angeles, California. NOTE TO USER User expressly acknowledges and agrees that, by downloading and or using this Photograph, user is consenting to the terms and conditions of the Getty Images License Agreement. Photo by Jayne Kamin-Oncea Getty Images LOS ANGELES, CA DECEMBER 25 Dwight Howard 39 of the Los Angeles Lakers looks at Montrezl Harrell 5 of the Los Angeles Clippers on the court after he blocked a shot in the game at Staples Center on December 25, 2019 in Los Angeles, California. NOTE TO USER User expressly acknowledges and agrees that, by downloading and or using this Photograph, user is consenting to the terms and conditions of the Getty Images License Agreement. Photo by Jayne Kamin-Oncea Getty Images LOS ANGELES, CA DECEMBER 25 LeBron James 23 of the Los Angeles Lakers guards Paul George 13 of the Los Angeles Clippers in the game at Staples Center on December 25, 2019 in Los Angeles, California. NOTE TO USER User expressly acknowledges and agrees that, by downloading and or using this Photograph, user is consenting to the terms and conditions of the Getty Images License Agreement. Photo by Jayne Kamin-Oncea Getty Images LOS ANGELES, CA DECEMBER 25 Head coach Frank Vogel of the Los Angeles Lakers during the game against the Los Angeles Clippers at Staples Center on December 25, 2019 in Los Angeles, California. NOTE TO USER User expressly acknowledges and agrees that, by downloading and or using this Photograph, user is consenting to the terms and conditions of the Getty Images License Agreement. Photo by Jayne Kamin-Oncea Getty Images LOS ANGELES, CA DECEMBER 25 LeBron James 23 of the Los Angeles Lakers guards Montrezl Harrell 5 of the Los Angeles Clippers in the game at Staples Center on December 25, 2019 in Los Angeles, California. NOTE TO USER User expressly acknowledges and agrees that, by downloading and or using this Photograph, user is consenting to the terms and conditions of the Getty Images License Agreement. Photo by Jayne Kamin-Oncea Getty Images LOS ANGELES, CA DECEMBER 25 JaVale McGee 7 of the Los Angeles Lakers guards Patrick Beverley 21 of the Los Angeles Clippers as he drives to the basket in the game at Staples Center on December 25, 2019 in Los Angeles, California. NOTE TO USER User expressly acknowledges and agrees that, by downloading and or using this Photograph, user is consenting to the terms and conditions of the Getty Images License Agreement. Photo by Jayne Kamin-Oncea Getty Images LOS ANGELES, CA DECEMBER 25 Danny Green 14 of the Los Angeles Lakers guards Paul George 13 of the Los Angeles Clippers as he drives to the basket in the game at Staples Center on December 25, 2019 in Los Angeles, California. NOTE TO USER User expressly acknowledges and agrees that, by downloading and or using this Photograph, user is consenting to the terms and conditions of the Getty Images License Agreement. Photo by Jayne Kamin-Oncea Getty Images LOS ANGELES, CA DECEMBER 25 LeBron James 23 of the Los Angeles Lakers blocks a shot by JaMychal Green 4 of the Los Angeles Clippers in the game at Staples Center on December 25, 2019 in Los Angeles, California. NOTE TO USER User expressly acknowledges and agrees that, by downloading and or using this Photograph, user is consenting to the terms and conditions of the Getty Images License Agreement. Photo by Jayne Kamin-Oncea Getty Images LOS ANGELES, CA DECEMBER 25 Avery Bradley 11 of the Los Angeles Lakers chases down Patrick Beverley 21 of the Los Angeles Clippers as he drives to the basket in the game at Staples Center on December 25, 2019 in Los Angeles, California. NOTE TO USER User expressly acknowledges and agrees that, by downloading and or using this Photograph, user is consenting to the terms and conditions of the Getty Images License Agreement. Photo by Jayne Kamin-Oncea Getty Images LOS ANGELES, CA DECEMBER 25 LeBron James 23 and Anthony Davis 3 talk with DeMarcus Cousins 15 of the Los Angeles Lakers on the bench during a time out in the game against the Los Angeles Clippers at Staples Center on December 25, 2019 in Los Angeles, California. NOTE TO USER User expressly acknowledges and agrees that, by downloading and or using this Photograph, user is consenting to the terms and conditions of the Getty Images License Agreement. Photo by Jayne Kamin-Oncea Getty Images LOS ANGELES, CA DECEMBER 25 Kentavious Caldwell-Pope 1 of the Los Angeles Lakers looks to pass the ball in the game against the Los Angeles Clippers at Staples Center on December 25, 2019 in Los Angeles, California. NOTE TO USER User expressly acknowledges and agrees that, by downloading and or using this Photograph, user is consenting to the terms and conditions of the Getty Images License Agreement. Photo by Jayne Kamin-Oncea Getty Images LOS ANGELES, CA DECEMBER 25 Maurice Harkless 8 of the Los Angeles Clippers guards Kyle Kuzma 0 of the Los Angeles Lakers in the game at Staples Center on December 25, 2019 in Los Angeles, California. NOTE TO USER User expressly acknowledges and agrees that, by downloading and or using this Photograph, user is consenting to the terms and conditions of the Getty Images License Agreement. Photo by Jayne Kamin-Oncea Getty Images LOS ANGELES, CA DECEMBER 25 Kawhi Leonard 2 of the Los Angeles Clippers drives to the basket in the game against the Los Angeles Lakers at Staples Center on December 25, 2019 in Los Angeles, California. NOTE TO USER User expressly acknowledges and agrees that, by downloading and or using this Photograph, user is consenting to the terms and conditions of the Getty Images License Agreement. Photo by Jayne Kamin-Oncea Getty Images LOS ANGELES, CA DECEMBER 25 LeBron James 23 of the Los Angeles Lakers guards Paul George 13 of the Los Angeles Clippers in the game at Staples Center on December 25, 2019 in Los Angeles, California. NOTE TO USER User expressly acknowledges and agrees that, by downloading and or using this Photograph, user is consenting to the terms and conditions of the Getty Images License Agreement. Photo by Jayne Kamin-Oncea Getty Images LOS ANGELES, CA DECEMBER 25 Danny Green 14 of the Los Angeles Lakers guards Paul George 13 of the Los Angeles Clippers in the game at Staples Center on December 25, 2019 in Los Angeles, California. NOTE TO USER User expressly acknowledges and agrees that, by downloading and or using this Photograph, user is consenting to the terms and conditions of the Getty Images License Agreement. Photo by Jayne Kamin-Oncea Getty Images LOS ANGELES, CA DECEMBER 25 Lou Williams 23 of the Los Angeles Clippers drives to the basket in the game against the Los Angeles Lakers at Staples Center on December 25, 2019 in Los Angeles, California. NOTE TO USER User expressly acknowledges and agrees that, by downloading and or using this Photograph, user is consenting to the terms and conditions of the Getty Images License Agreement. Photo by Jayne Kamin-Oncea Getty Images LOS ANGELES, CA DECEMBER 25 Head coach Doc Rivers and assistant coach Tyronn Lue of the Los Angeles Clippers on the bench in the game against the Los Angeles Lakers at Staples Center on December 25, 2019 in Los Angeles, California. NOTE TO USER User expressly acknowledges and agrees that, by downloading and or using this Photograph, user is consenting to the terms and conditions of the Getty Images License Agreement. Photo by Jayne Kamin-Oncea Getty Images LOS ANGELES, CA DECEMBER 25 LeBron James 23 of the Los Angeles Lakers guards Kawhi Leonard 2 of the Los Angeles Clippers in the game at Staples Center on December 25, 2019 in Los Angeles, California. NOTE TO USER User expressly acknowledges and agrees that, by downloading and or using this Photograph, user is consenting to the terms and conditions of the Getty Images License Agreement. Photo by Jayne Kamin-Oncea Getty Images LOS ANGELES, CA DECEMBER 25 Anthony Davis 3 of the Los Angeles Lakers takes the ball down court in the game against the Los Angeles Clippers at Staples Center on December 25, 2019 in Los Angeles, California. NOTE TO USER User expressly acknowledges and agrees that, by downloading and or using this Photograph, user is consenting to the terms and conditions of the Getty Images License Agreement. Photo by Jayne Kamin-Oncea Getty Images LOS ANGELES, CA DECEMBER 25 LeBron James 23 of the Los Angeles Lakers guards Montrezl Harrell 5 of the Los Angeles Clippers in the game at Staples Center on December 25, 2019 in Los Angeles, California. NOTE TO USER User expressly acknowledges and agrees that, by downloading and or using this Photograph, user is consenting to the terms and conditions of the Getty Images License Agreement. Photo by Jayne Kamin-Oncea Getty Images LOS ANGELES, CA DECEMBER 25 LeBron James 23 argues a foul call in the game against the Los Angeles Clippers at Staples Center on December 25, 2019 in Los Angeles, California. NOTE TO USER User expressly acknowledges and agrees that, by downloading and or using this Photograph, user is consenting to the terms and conditions of the Getty Images License Agreement. Photo by Jayne Kamin-Oncea Getty Images LOS ANGELES, CA DECEMBER 25 Kawhi Leonard 2 of the Los Angeles Clippers drives to the basket in the game against the Los Angeles Lakers at Staples Center on December 25, 2019 in Los Angeles, California. NOTE TO USER User expressly acknowledges and agrees that, by downloading and or using this Photograph, user is consenting to the terms and conditions of the Getty Images License Agreement. Photo by Jayne Kamin-Oncea Getty Images LOS ANGELES, CA DECEMBER 25 Anthony Davis 3 of the Los Angeles Lakers drives to the basket between Ivica Zubac 40 and Paul George 13 of the Los Angeles Clippers in the game at Staples Center on December 25, 2019 in Los Angeles, California. NOTE TO USER User expressly acknowledges and agrees that, by downloading and or using this Photograph, user is consenting to the terms and conditions of the Getty Images License Agreement. Photo by Jayne Kamin-Oncea Getty Images LOS ANGELES, CA DECEMBER 25 Patrick Beverley 21 of the Los Angeles Clippers drives to the basket in the game against the Los Angeles Lakers at Staples Center on December 25, 2019 in Los Angeles, California. NOTE TO USER User expressly acknowledges and agrees that, by downloading and or using this Photograph, user is consenting to the terms and conditions of the Getty Images License Agreement. Photo by Jayne Kamin-Oncea Getty Images LOS ANGELES, CA DECEMBER 25 LeBron James 23 of the Los Angeles Lakers blocks a shot by JaMychal Green 4 of the Los Angeles Clippers in the game at Staples Center on December 25, 2019 in Los Angeles, California. NOTE TO USER User expressly acknowledges and agrees that, by downloading and or using this Photograph, user is consenting to the terms and conditions of the Getty Images License Agreement. Photo by Jayne Kamin-Oncea Getty Images LOS ANGELES, CA DECEMBER 25 LeBron James 23 of the Los Angeles Lakers takes the ball down court in the game against the Los Angeles Clippers at Staples Center on December 25, 2019 in Los Angeles, California. NOTE TO USER User expressly acknowledges and agrees that, by downloading and or using this Photograph, user is consenting to the terms and conditions of the Getty Images License Agreement. Photo by Jayne Kamin-Oncea Getty Images LOS ANGELES, CA DECEMBER 25 LeBron James 23 of the Los Angeles Lakers looks on from the court in the game against the Los Angeles Clippers at Staples Center on December 25, 2019 in Los Angeles, California. NOTE TO USER User expressly acknowledges and agrees that, by downloading and or using this Photograph, user is consenting to the terms and conditions of the Getty Images License Agreement. Photo by Jayne Kamin-Oncea Getty Images LOS ANGELES, CA DECEMBER 25 Danny Green 14 of the Los Angeles Lakers looks on from the court in the game against the Los Angeles Clippers at Staples Center on December 25, 2019 in Los Angeles, California. NOTE TO USER User expressly acknowledges and agrees that, by downloading and or using this Photograph, user is consenting to the terms and conditions of the Getty Images License Agreement. Photo by Jayne Kamin-Oncea Getty Images LOS ANGELES, CA DECEMBER 25 Anthony Davis 3 of the Los Angeles Lakers drives to the basket between Ivica Zubac 40 and Paul George 13 of the Los Angeles Clippers in the game at Staples Center on December 25, 2019 in Los Angeles, California. NOTE TO USER User expressly acknowledges and agrees that, by downloading and or using this Photograph, user is consenting to the terms and conditions of the Getty Images License Agreement. Photo by Jayne Kamin-Oncea Getty Images LOS ANGELES, CA DECEMBER 25 General manager Rob Pelinka of the Los Angeles Lakers attends the game against the Los Angeles Clippers at Staples Center on December 25, 2019 in Los Angeles, California. NOTE TO USER User expressly acknowledges and agrees that, by downloading and or using this Photograph, user is consenting to the terms and conditions of the Getty Images License Agreement. Photo by Jayne Kamin-Oncea Getty Images LOS ANGELES, CA DECEMBER 25 LeBron James 23 of the Los Angeles Lakers takes the ball down court in the game against the Los Angeles Clippers at Staples Center on December 25, 2019 in Los Angeles, California. NOTE TO USER User expressly acknowledges and agrees that, by downloading and or using this Photograph, user is consenting to the terms and conditions of the Getty Images License Agreement. Photo by Jayne Kamin-Oncea Getty Images LOS ANGELES, CA DECEMBER 25 LeBron James 23 argues a foul call with referee Michael Smith 38 in the game against the Los Angeles Clippers at Staples Center on December 25, 2019 in Los Angeles, California. NOTE TO USER User expressly acknowledges and agrees that, by downloading and or using this Photograph, user is consenting to the terms and conditions of the Getty Images License Agreement. Photo by Jayne Kamin-Oncea Getty Images LOS ANGELES, CA DECEMBER 25 LeBron James 23 argues a foul call with referee Michael Smith 38 in the game against the Los Angeles Clippers at Staples Center on December 25, 2019 in Los Angeles, California. NOTE TO USER User expressly acknowledges and agrees that, by downloading and or using this Photograph, user is consenting to the terms and conditions of the Getty Images License Agreement. Photo by Jayne Kamin-Oncea Getty Images LOS ANGELES, CA DECEMBER 25 Anthony Davis 3 and Kyle Kuzma 0 of the Los Angeles Lakers on the court in the game against the Los Angeles Clippers at Staples Center on December 25, 2019 in Los Angeles, California. NOTE TO USER User expressly acknowledges and agrees that, by downloading and or using this Photograph, user is consenting to the terms and conditions of the Getty Images License Agreement. Photo by Jayne Kamin-Oncea Getty Images LOS ANGELES, CA DECEMBER 25 LeBron James 23 of the Los Angeles Lakers takes the ball down court in the game against the Los Angeles Clippers at Staples Center on December 25, 2019 in Los Angeles, California. NOTE TO USER User expressly acknowledges and agrees that, by downloading and or using this Photograph, user is consenting to the terms and conditions of the Getty Images License Agreement. Photo by Jayne Kamin-Oncea Getty Images LOS ANGELES, CA DECEMBER 25 Kawhi Leonard 2 of the Los Angeles Clippers drives to the basket in the game against the Los Angeles Lakers at Staples Center on December 25, 2019 in Los Angeles, California. NOTE TO USER User expressly acknowledges and agrees that, by downloading and or using this Photograph, user is consenting to the terms and conditions of the Getty Images License Agreement. Photo by Jayne Kamin-Oncea Getty Images LOS ANGELES, CA DECEMBER 25 LeBron James 23 of the Los Angeles Lakers takes the ball down court in the game against the Los Angeles Clippers at Staples Center on December 25, 2019 in Los Angeles, California. NOTE TO USER User expressly acknowledges and agrees that, by downloading and or using this Photograph, user is consenting to the terms and conditions of the Getty Images License Agreement. Photo by Jayne Kamin-Oncea Getty Images LOS ANGELES, CA DECEMBER 25 LeBron James 23 of the Los Angeles Lakers guards Kawhi Leonard 2 of the Los Angeles Clippers in the game at Staples Center on December 25, 2019 in Los Angeles, California. NOTE TO USER User expressly acknowledges and agrees that, by downloading and or using this Photograph, user is consenting to the terms and conditions of the Getty Images License Agreement. Photo by Jayne Kamin-Oncea Getty Images LOS ANGELES, CA DECEMBER 25 LeBron James 23 of the Los Angeles Lakers defends Lou Williams 23 of the Los Angeles Clippers as he drives to the basket in the first half of the game at Staples Center on December 25, 2019 in Los Angeles, California. NOTE TO USER User expressly acknowledges and agrees that, by downloading and or using this Photograph, user is consenting to the terms and conditions of the Getty Images License Agreement. Photo by Jayne Kamin-Oncea Getty Images LOS ANGELES, CA DECEMBER 25 LeBron James 23 of the Los Angeles Lakers guards Montrezl Harrell 5 of the Los Angeles Clippers in the game at Staples Center on December 25, 2019 in Los Angeles, California. NOTE TO USER User expressly acknowledges and agrees that, by downloading and or using this Photograph, user is consenting to the terms and conditions of the Getty Images License Agreement. Photo by Jayne Kamin-Oncea Getty Images LOS ANGELES, CA DECEMBER 25 Anthony Davis 3 of the Los Angeles Lakers looks on during the game against the Los Angeles Clippers at Staples Center on December 25, 2019 in Los Angeles, California. NOTE TO USER User expressly acknowledges and agrees that, by downloading and or using this Photograph, user is consenting to the terms and conditions of the Getty Images License Agreement. Photo by Jayne Kamin-Oncea Getty Images LOS ANGELES, CA DECEMBER 25 Patrick Beverley 21 of the Los Angeles Clippers celebrates after he blocked a shot by LeBron James 23 of the Los Angeles Lakers in the second half of the game at Staples Center on December 25, 2019 in Los Angeles, California. NOTE TO USER User expressly acknowledges and agrees that, by downloading and or using this Photograph, user is consenting to the terms and conditions of the Getty Images License Agreement. Photo by Jayne Kamin-Oncea Getty Images LOS ANGELES, CA DECEMBER 25 Patrick Beverley 21 of the Los Angeles Clippers looks at the crowd after he blocked a shot by LeBron James 23 of the Los Angeles Lakers in the second half of the game at Staples Center on December 25, 2019 in Los Angeles, California. NOTE TO USER User expressly acknowledges and agrees that, by downloading and or using this Photograph, user is consenting to the terms and conditions of the Getty Images License Agreement. Photo by Jayne Kamin-Oncea Getty Images LOS ANGELES, CA DECEMBER 25 Patrick Beverley 21 gets a high five from Los Angeles Clippers owner Steve Balmer during the game against the Los Angeles Lakers at Staples Center on December 25, 2019 in Los Angeles, California. NOTE TO USER User expressly acknowledges and agrees that, by downloading and or using this Photograph, user is consenting to the terms and conditions of the Getty Images License Agreement. Photo by Jayne Kamin-Oncea Getty Images Los Angeles Lakers girls perform during a timeout in the first half of an NBA basketball game between the Lakers and the Los Angeles Clippers on Wednesday, Dec. 25, 2019, in Los Angeles. AP Photo Ringo H.W. Chiu Los Angeles Lakers girls perform during an NBA basketball game between Los Angeles Lakers and Los Angeles Clippers, Wednesday, Dec. 25, 2019, in Los Angeles. The Clippers won 111-106. AP Photo Ringo H.W. Chiu Los Angeles Lakers girls perform during an NBA basketball game between Los Angeles Lakers and Los Angeles Clippers, Wednesday, Dec. 25, 2019, in Los Angeles. The Clippers won 111-106. AP Photo Ringo H.W. Chiu LOS ANGELES, CA DECEMBER 25 The Los Angeles Lakers perform during the game against the Los Angeles Clippers at Staples Center on December 25, 2019 in Los Angeles, California. NOTE TO USER User expressly acknowledges and agrees that, by downloading and or using this Photograph, user is consenting to the terms and conditions of the Getty Images License Agreement. Photo by Jayne Kamin-Oncea Getty Images A Los Angeles Clippers fan holds a poster during an NBA basketball game between Los Angeles Lakers and Los Angeles Clippers, Wednesday, Dec. 25, 2019, in Los Angeles. The Clippers won 111-106. AP Photo Ringo H.W. Chiu Los Angeles Clippers Patrick Beverley 21 taps Los Angeles Lakers Anthony Davis 3 during the first half of an NBA basketball game Wednesday, Dec. 25, 2019, in Los Angeles. AP Photo Ringo H.W. Chiu LOS ANGELES, CA DECEMBER 25 Kawhi Leonard 2 of the Los Angeles Clippers leaves the court after the game against the Los Angeles Lakers at Staples Center on December 25, 2019 in Los Angeles, California. NOTE TO USER User expressly acknowledges and agrees that, by downloading and or using this Photograph, user is consenting to the terms and conditions of the Getty Images License Agreement. Photo by Jayne Kamin-Oncea Getty Images LOS ANGELES All the stars in Los Angeles didn t tip the scales of a Christmas Day showdown between the Lakers and Clippers. In the scope of things, it was a relatively fine detail, albeit an entirely predictable one Pat Beverley s hands never stop moving. As LeBron James looked for a potential game-winning shot with time running out, Beverley was all over him, pushing, prodding, probing. He pushed a hand into James shot as the Lakers forward rose up, sending the ball out of bounds and after an official review, it was determined to be Clippers ball with just over three seconds left. That all but ended an eventual 111-106 Clippers win, their second this season over the Lakers, as Paul George sank a pair of free throws to seal the win for a team that felt the heat of a hostile crowd in its own building. Pat did a great job of getting into him and not letting him put the ball on the ground, and we wanted him to raise it, Montrezl Harrell said. Pat has great hands He s No. 1 on that defensive team for a reason, I think. The Lakers 24-7 lost their fourth consecutive game, while the Clippers 23-10 inched closer to overtaking the top team in the Western Conference standings. Head-to-head, at least, it s been clear who the better team is. Even James, who was surprised by the overturned call, was forced to acknowledge that the Lakers are still in pursuit. In the locker room, he tore the final box score into neat little squares which he stacked like cards and flicked against his fingers as he spoke, bottling frustration. It was a great atmosphere, we had a chance to win, he said. But they made the plays. The victory was largely powered by the mechanized precision of Kawhi Leonard, who diced the Lakers defense for 35 points on 11-of-19 shooting. But the image of Beverley gleefully skipping off the court as the buzzer sounded is the one that s likely to keep the Lakers up at night as they continue to search for a way to top their crosstown rival, a precursor to what many believe is a postseason collision course for the two L.A. superteams. In a Christmas Day slate largely stacked with disappointing tilts, this one lived up to the hype. The stars played relatively strong, with James and Anthony Davis combining for 47 points while Leonard and Paul George had 53 between them. Kyle Kuzma led the Lakers with 25 points off the bench. Beverley had a relatively humble stat line of eight points, nine rebounds and four assists but the Clippers outscored the Lakers by 26 points during his 31 minutes on the floor. He made the Lakers earn every inch against his ball-pressure and set the tone as the Clippers held their rivals to misses on six of their last seven shots of the game. Beverley was a thorn in the Lakers side or in one very literal case on a first-quarter possession a knee to James groin. The Lakers were frustrated by the 32-21 disparity in free-throw attempts as well as calls that went against them late, such as fouls against Davis and Danny Green that gave the Clippers a four-point lead with two-and-a-half minutes left. But ultimately they acknowledged defensive miscues and settling for jump shots set them up to lose a game they led for most of the night. We gave that one away, said Davis, who had 24 points, two steals and two blocked shots. We had the game. We were in control of the entire game, even though we let them get back in it we were still leading by, I think, seven with six minutes to go. That s a game you ve got to close out. Of the Lakers two starters who had been questionable entering the game, James left more doubt that he was fully healthy. He looked timid at times, and his legs didn t always seem to be fully underneath him as he missed his first seven shots of the game after the last miss, he shook his head near the baseline in disgust. He said Beverley s knee to his groin set him back after five straight days of rehab. Related Articles LeBron James embraces the NBA s rookie stars, while dealing out tough lessons LeBron James notches triple double as Lakers knock off Zion Williamson, Pelicans again Lakers waive Troy Daniels, creating open roster spot for possible move Lakers look sluggish in loss to Ja Morant, Grizzlies Alex Caruso starts as Lakers continue experimenting with rotations But his cold start was offset by Kuzma s scintillating one. He started the first quarter with 15 points, including three 3-pointers. His last one on a ball screen two seconds before the quarter buzzer put the Lakers ahead by two and was one of the first loud standing ovations in a game in which the crowd was engaged in nearly every moment. It was striking that the highest-scoring bench in the NBA at times struggled to make an impact, particularly Lou Williams, who scored only six points. Montrezl Harrell found his scoring with 18 points on 8-of-12 shooting, but he struggled to outmuscle a determined Dwight Howard nine rebounds on the glass. Only once did the game appear to be tilting one way at all The Lakers led by 12 points at halftime, and extended that to 15 early in the third quarter. But Leonard helped guide the Clippers back, pushing until the teams were tied at 86 entering the fourth. The Lakers guarded him with a battalion rather than one defender, hoping the constant change would trip up Leonard s rhythm. Nothing did. We hung in there because I didn t think we played well early on and they were playing with such great energy, they really were, Clippers coach Doc Rivers said. You have to give them credit, and we didn t flinch. We just kind of hung in there and it almost felt like we were biding our time and trying to make a run. We had a chance to win but they made the plays. KingJames 23 PTS, 10 AST, 9 REB talks about the Lakers continuing to push forward and get better after a tough NBAXmas loss to the Clippers. pic.twitter.com GjmnilyfID Spectrum SportsNet SpectrumSN December 26, 2019 Frank Vogel talks post-game about the difference between halves for the Lakers' offense in tonight's 111-106 loss. pic.twitter.com 3PtoUquG7s Spectrum SportsNet SpectrumSN December 26, 2019 We beat ourselves. Plain and simple. kylekuzma 25 PTS, 4 REB on continuing to find his offensive rhythm and the Lakers' struggles down the stretch with LakersReporter. pic.twitter.com FDlbEeau7V Spectrum SportsNet SpectrumSN December 26, 2019 We gave that one away. AntDavis23 with LakersReporter on Lakers mental mistakes down the stretch allowing the Clippers to come out on top on NBAXmas. pic.twitter.com khpozcxK6x Spectrum SportsNet SpectrumSN December 26, 2019 This sequence from the Lake Show AD denied PG13, then Kuz drilled the three pic.twitter.com PkWX0t7MYh SportsCenter SportsCenter December 26, 2019 \n",
            "2- 1461705133 -- weight 0.48 -- url: https://losangeles.cbslocal.com/2019/12/04/chips-for-kids-2019-cbs2-kcal9-chp/ -- text:  Trending What's Heating Up Los Angeles' Food Scene This MonthWant the intel on Los Angeles's most talked-about local spots. We took a data-driven look at the question, using Yelp to deduce which eateries have been most discussed this month. Are These Trending Los Angeles Restaurants On Your Radar.Want the inside word on Los Angeles's buzziest local spots. Here's What To Do In Los Angeles This WeekFrom an album release show to a yoga and meditation practice, there's plenty to enjoy in Los Angeles this week. Read on for a rundown of ideas for how to fill your calendar. \n",
            "3- 1464103623 -- weight 0.36 -- url: https://www.latimes.com/california/story/2019-12-07/music-stars-headline-global-sleep-out-homeless-charity-event-at-rose-bowl -- text: A charity event Saturday night at the Rose Bowl to raise money for nonprofits serving homeless people will feature musical performances by Ziggy Marley, Randy Jackson, Meghan Trainor and others, part of a worldwide evening of solidarity with the less fortunate known as as The World s Big Sleep Out. Organizers of the event, hosted in Los Angeles by Charity On Top, hope to bring 50,000 people sleeping out in 50 cities across the globe and raise awareness and money to fight homelessness worldwide and for local charities that serve those living on the street, according to a news release. Other musical guests scheduled to perform include Sean Kingston and Ellie Goulding. The night will also feature stories read by celebrities, including a final bedtime story classic by Seth Green, the news release said. Homelessness is an all-consuming issue in Los Angeles County, with 95 of voters calling it a serious or very problem, according to a new poll conducted for the Los Angeles Times and the Los Angeles Business Council Institute. Homelessness increased by 12 in Los Angeles County this year to just shy of 59,000 people, while in the city of Los Angeles, the number soared to more than 36,000 for a 16 increase, according to local officials. Advertisement Doors for Saturday s event open at 4 30 p.m. Light rain is expected, so organizers advise bringing an umbrella. \n",
            "4- 1476679591 -- weight 0.33 -- url: https://abc7.com/man-fatally-shot-during-alleged-drunken-armed-robbery-attempt-in-south-la/5776036/ -- text: SOUTH LOS ANGELES, Calif. KABC -- A man was killed in a shooting in a South Los Angeles parking lot early Saturday morning, police say.The incident occurred around 1 45 a.m. behind the Vermont Community Clinic near 115th Street and Vermont Avenue, according to Los Angeles police.A witness said an intoxicated man pulled out a gun and threatened him and the shooting victim before attempting to rob them.The victim was then shot in the chest. Paramedics declared the man dead at the scene, authorities say.An investigation is ongoing. \n",
            "5- 1477071675 -- weight 0.3 -- url: https://www.seattletimes.com/nation-world/nation/california-church-to-pay-off-5-3m-in-family-medical-bills/?utm_source=RSS&utm_medium=Referral&utm_campaign=RSS_all -- text: LOS ANGELES AP A Los Angeles church is paying off 5.3 million worth of medical debt for nearly 6,000 households in Southern California, according to one of the church s pastors. Christian Assembly purchased the debt for 53,000 and is working with a nonprofit organization to pay the outstanding bills for 5,555 families in 28 neighborhoods, co-lead pastor Tom Hughes said in a video posted online Thursday. We are able to give a Christmas gift to the people of Los Angeles, no strings attached, he said. The church will also help the recipients repair their credit scores, Hughes said. \n",
            "6- 1478838054 -- weight 0.3 -- url: https://www.sgvtribune.com/2019/12/24/from-cuban-jazz-to-west-african-dance-las-musical-tapestry-shines-at-annual-christmas-celebration/ -- text: LOS ANGELES The 60th annual Los Angeles County Holiday Celebration at the Music Center s Dorothy Chandler Pavilion provided a soundtrack of sorts to usher in Christmas in the Southland. And its lineup was as diverse as LA itself. Billed by organizers as Los Angeles County s largest multicultural holiday celebration, the musical lineup included legendary Cuban jazz trumpet player Arturo Sandoval and his band performing a medley of holiday songs. The 25 music ensembles, choirs and dance companies were also on the bill, including the two-time Grammy-winning all-female ensemble Mariachi Divas de Cindy Shea. People enjoy the festivities during the 60th Annual L.A. County Holiday Celebration at the Music Center s Dorothy Chandler Pavilion in Los Angeles, Tuesday, Dec 24, 2019. Photo by Hans Gutknecht, Los Angeles Daily News SCNG People enjoy the festivities during the 60th Annual L.A. County Holiday Celebration at the Music Center s Dorothy Chandler Pavilion in Los Angeles, Tuesday, Dec 24, 2019. Photo by Hans Gutknecht, Los Angeles Daily News SCNG Sound The gallery will resume in seconds Henry Chau, Burbank, wears a decoration during the 60th Annual L.A. County Holiday Celebration at the Music Center s Dorothy Chandler Pavilion in Los Angeles, Tuesday, Dec 24, 2019. Photo by Hans Gutknecht, Los Angeles Daily News SCNG People enjoy the festivities during the 60th Annual L.A. County Holiday Celebration at the Music Center s Dorothy Chandler Pavilion in Los Angeles, Tuesday, Dec 24, 2019. Photo by Hans Gutknecht, Los Angeles Daily News SCNG UC Berkeley student Malko Takemoshita has some fun during the 60th Annual L.A. County Holiday Celebration at the Music Center s Dorothy Chandler Pavilion in Los Angeles, Tuesday, Dec 24, 2019. Photo by Hans Gutknecht, Los Angeles Daily News SCNG People wear decretive attire during the 60th Annual L.A. County Holiday Celebration at the Music Center s Dorothy Chandler Pavilion in Los Angeles, Tuesday, Dec 24, 2019. Photo by Hans Gutknecht, Los Angeles Daily News SCNG Arturo Sandoval band performs during the 60th Annual L.A. County Holiday Celebration at the Music Center s Dorothy Chandler Pavilion in Los Angeles, Tuesday, Dec 24, 2019. Photo by Hans Gutknecht, Los Angeles Daily News SCNG Street Corner Renaissance performs during the 60th Annual L.A. County Holiday Celebration at the Music Center s Dorothy Chandler Pavilion in Los Angeles, Tuesday, Dec 24, 2019. Photo by Hans Gutknecht, Los Angeles Daily News SCNG Street Corner Renaissance performs during the 60th Annual L.A. County Holiday Celebration at the Music Center s Dorothy Chandler Pavilion in Los Angeles, Tuesday, Dec 24, 2019. Photo by Hans Gutknecht, Los Angeles Daily News SCNG The Pasadena Girl s Choir performs during the 60th Annual L.A. County Holiday Celebration at the Music Center s Dorothy Chandler Pavilion in Los Angeles, Tuesday, Dec 24, 2019. Photo by Hans Gutknecht, Los Angeles Daily News SCNG The Gay Men s Chorus of Los Angeles performed at the celebration for the 25th consecutive year. The Jewish cultural revival band Mostly Kosher was set to share the stage with Urban Voices Project, a choir of homeless men and women from skid row. African Soul International performed Soli, a celebration dance from the West African nation of Guinea featuring dancers, stilt walkers and a fire eater, accompanied by drumming. The Harmonic Bronze Handbell Ensemble of 11- to 18-year-olds from Acton and Agua Dulce was set to perform the hymn O Sing a Song of Bethlehem and the modern composition, Novus. An addition to the celebration there was The Music Center s Plaza Wonderland, with a family fun zone with games, coloring and face-painting, a photo booth and art-making workshops where children and adults could create paper poinsettias and lanterns to take home. The program was set to be rebroadcast at 9 p.m. on KOCE and at noon and 7 p.m. Wednesday on KCET-TV Channel 28. More information about the celebration, including complete program information, is available at holidaycelebration.org or by calling the information hotline at 213-972-3099. By City News Service and LA Daily News staff contributed to this story. \n",
            "7- 1479440100 -- weight 0.29 -- url: https://www.presstelegram.com/2019/12/25/christmas-in-la-county-religious-services-in-and-out-of-church-and-meals-for-homeless-poor-abound/ -- text: Christmas in Los Angeles County on Wednesday, Dec. 25, included Masses and church services celebrating the birth of Jesus and annual events providing meals to the homeless and poor. English-language Masses were celebrated at the Cathedral of Our Lady of the Angels at 8 a.m. and 10 a.m. Archbishop Jose H. Gomez celebrated the 12 30 p.m. Spanish-language Mass, with the Spanish-language choir leading in song. The Spanish-language Mass was preceded at noon by the singing of Christmas carols by the cathedral s Spanish-language choir, which was livestreamed on the cathedral s website at olacathedral.org live along with the Mass. Founder and comedian Jamie Masada, second from right, and comedian Tiffany Haddish, right, greet guests from the community at the annual free Christmas dinner at the Laugh Factory in the Hollywood section of Los Angeles, Wednesday, Dec. 25, 2019. Top comedians served guests and performed live shows following each meal served throughout the day. Other celebrities helped, as well. The Factory welcomed anyone who has fallen on difficult times or whose children could use a toy and a warm holiday meal. AP Photo Richard Vogel Art Snyder eats Christmas dinner and waits for a performance by comedian Tiffany Haddish during the annual free Christmas dinner at the Laugh Factory in the Hollywood section of Los Angeles, Wednesday, Dec. 25, 2019. Top comedians served guests and performed live shows following each meal served throughout the day. Other celebrities helped, as well. The Factory welcomed anyone who has fallen on difficult times or whose children could use a toy and a warm holiday meal. AP Photo Richard Vogel Henry Chau, Burbank, wears a decoration during the 60th Annual L.A. County Holiday Celebration at the Music Center s Dorothy Chandler Pavilion in Los Angeles, Tuesday, Dec 24, 2019. Photo by Hans Gutknecht, Los Angeles Daily News SCNG Sound The gallery will resume in seconds People enjoy the festivities during the 60th Annual L.A. County Holiday Celebration at the Music Center s Dorothy Chandler Pavilion in Los Angeles, Tuesday, Dec 24, 2019. Photo by Hans Gutknecht, Los Angeles Daily News SCNG UC Berkeley student Malko Takemoshita has some fun during the 60th Annual L.A. County Holiday Celebration at the Music Center s Dorothy Chandler Pavilion in Los Angeles, Tuesday, Dec 24, 2019. Photo by Hans Gutknecht, Los Angeles Daily News SCNG People wear decretive attire during the 60th Annual L.A. County Holiday Celebration at the Music Center s Dorothy Chandler Pavilion in Los Angeles, Tuesday, Dec 24, 2019. Photo by Hans Gutknecht, Los Angeles Daily News SCNG Archbishop Jose Gomez greets an inmate at a cell inside the Men s Central Jail in Los Angeles, Calif., following a Christmas Mass on Wednesday, Dec. 25, 2019. Some of the inmates that did not attend the mass were visited at their cells by the Archbishop and given gifts. Photo by Trevor Stamp, Contributing Photographer Archbishop Jose Gomez led a Christmas Mass for general population inmates at the Men s Central Jail in Los Angeles, Calif., on Wednesday, Dec. 25, 2019. Some of the inmates that did not attend the mass were visited at their cells by the Archbishop. Photo by Trevor Stamp, Contributing Photographer Archbishop Jose Gomez greets inmates following a Christmas Mass at the Men s Central Jail in Los Angeles, Calif., on Wednesday, Dec. 25, 2019. Some of the inmates that did not attend the mass were visited at their cells by the Archbishop. Photo by Trevor Stamp, Contributing Photographer Archbishop Jose Gomez led a Christmas Mass for general population inmates at the Men s Central Jail in Los Angeles, Calif., on Wednesday, Dec. 25, 2019. Some of the inmates that did not attend the mass were visited at their cells by the Archbishop. Photo by Trevor Stamp, Contributing Photographer Archbishop Jose Gomez led a Christmas Mass for general population inmates at the Men s Central Jail in Los Angeles, Calif., on Wednesday, Dec. 25, 2019. Some of the inmates that did not attend the mass were visited at their cells by the Archbishop. Photo by Trevor Stamp, Contributing Photographer People enjoy the festivities during the 60th Annual L.A. County Holiday Celebration at the Music Center s Dorothy Chandler Pavilion in Los Angeles, Tuesday, Dec 24, 2019. Photo by Hans Gutknecht, Los Angeles Daily News SCNG People enjoy the festivities during the 60th Annual L.A. County Holiday Celebration at the Music Center s Dorothy Chandler Pavilion in Los Angeles, Tuesday, Dec 24, 2019. Photo by Hans Gutknecht, Los Angeles Daily News SCNG The Pasadena Girl s Choir performs during the 60th Annual L.A. County Holiday Celebration at the Music Center s Dorothy Chandler Pavilion in Los Angeles, Tuesday, Dec 24, 2019. Photo by Hans Gutknecht, Los Angeles Daily News SCNG Street Corner Renaissance performs during the 60th Annual L.A. County Holiday Celebration at the Music Center s Dorothy Chandler Pavilion in Los Angeles, Tuesday, Dec 24, 2019. Photo by Hans Gutknecht, Los Angeles Daily News SCNG Street Corner Renaissance performs during the 60th Annual L.A. County Holiday Celebration at the Music Center s Dorothy Chandler Pavilion in Los Angeles, Tuesday, Dec 24, 2019. Photo by Hans Gutknecht, Los Angeles Daily News SCNG Arturo Sandoval band performs during the 60th Annual L.A. County Holiday Celebration at the Music Center s Dorothy Chandler Pavilion in Los Angeles, Tuesday, Dec 24, 2019. Photo by Hans Gutknecht, Los Angeles Daily News SCNG Gomez also celebrated a Mass with general population inmates at the Men s Central Jail, where he was joined by Los Angeles County Sheriff Alex Villanueva. At Christmas we remember what the saints know that God is our father and he loves and cares for us as his children, Gomez said. We need to lean more on God, with absolute confidence. Jesus comes as a child to teach us to trust as children. As Jesus taught us, we need to look to him as our father, turn to him for all that is good and true and beautiful. Nearly 2,000 homeless men, women and children were served a Christmas brunch at The Midnight Mission beginning at 8 a.m. There was also be a Santa s Village where thousands of homeless and near-homeless children were able to select toys and meet Santa Claus. Families began lining up Tuesday morning to secure their places in line. The Christmas brunch and toy giveaway provides our homeless and near-homeless guests not only with a traditional holiday meal, but also with the emotional satisfaction that comes with the opportunity to celebrate a national holiday, said Georgia Berkovich, the mission s director of public affairs. Of the many services The Midnight Mission provides to our unique community, one of the most important is the sense of family we offer to those who often feel lost and forgotten during the holidays and other days of celebration. The mission is seeking donations of 5 to 10 to defray the costs of the nearly 2,000 meals served Wednesday. Donations can be made by texting the keyword Meals to 71777 from any cellphone. Organizers of the annual interfaith Christmas Dinner for the Homeless and Hungry at Hollywood United Methodist Church were prepared to serve 1,200 people. The Christmas Dinner was originally a project of the Hollywood Interfaith Coalition, whose churches had been serving Thanksgiving dinner. Some of the coalition s Jewish participants thought it would be a nice idea for the Jewish participants to take over the serving of Christmas dinner so the members of the coalition celebrating and observing Christmas could stay home with their families. Temple Israel of Hollywood became the lead organizer and host of the event in the 1980s. The Laugh Factory in Hollywood hosted a free Christmas Day Feast with each meal followed by a comedy show. People go to psychiatrists, they go to see therapists looking for happiness, club owner Jamie Masada told Fox11. The happiest moment in my life is in here to give people food. In his Christmas message President Donald Trump said, As families, friends, and communities come together to rejoice in the birth of Christ, we are reminded of the divine message from the first Christmas Glory to God in the highest and on earth peace, good will toward men. While the challenges that face our country are great, the bonds that unite us as Americans are much stronger. Together, we must strive to foster a culture of deeper understanding and respect, traits that exemplify the teachings of Christ.  \n",
            "8- 1471975674 -- weight 0.25 -- url: https://1390granitecitysports.com/vikings-clobber-chargers/ -- text: The Minnesota Vikings beat the Los Angeles Chargers 39-10 in front of approximately 25,000 Vikings fans and six Chargers fans in Los Angeles on Sunday afternoon. Minnesota is now 10-4 on the season. The Vikings forced seven turnovers defensively and played a balanced offensive game to steamroll Los Angeles. The Chargers actually led the game 10-9 at one point. Minnesota will host the Green Bay Packers on Monday, December 23rd. The game can be heard on AM 1240 and FM 95.3, WJON. \n",
            "9- 1465626415 -- weight 0.22 -- url: https://abc7.com/weather/heavy-rain-floods-los-angeles-streets-strands-man-in-river/5741042/ -- text: NORTH HOLLYWOOD, LOS ANGELES KABC -- Heavy rain Sunday flooded streets in North Hollywood and other parts of the region and led to at least one rescue from the Los Angeles River.In North Hollywood, the rain puddled up deep on some streets, leading to tricky navigation for drivers and drenching splashes for pedestrians.In Atwater Village, firefighters rescued a man who became stranded in the Los Angeles River near Los Feliz Boulevard.The 40-year-old man became stranded in several feet of floodwater about 25 feet from shore. The water was flowing about 5 to 8 mph. It's not clear how he initially became stranded.He was not hurt. \n",
            "10- 1469101066 -- weight 0.22 -- url: http://theavtimes.com/2019/12/12/two-sheriffs-deputies-charged-with-perjury-filing-false-reports/ -- text: LOS ANGELES Two Los Angeles County sheriff s deputies pleaded not guilty Thursday to charges that they filed false reports and committed perjury in connection with traffic stops they made in 2016 while working at the Santa Clarita Valley station. Michael Berk, 58, and Justin Fisk, 40, are accused of stopping motorists who wound up being law enforcement officers for speeding violations between September and November 2016 and issuing them citations for not having proof of insurance, even though the drivers had valid insurance, instead of giving them speeding tickets. The alleged misconduct came to light after a Los Angeles deputy police chief told a sheriff s captain that the two deputies may have issued falsified traffic tickets, according to the complaint. Berk is charged with four felony counts each of filing a false report and perjury, and could face up to five years in state prison if convicted as charged, according to the Los Angeles County District Attorney s Office. Fisk is charged with two felony counts each of filing a false report and perjury and could face up to three years and eight months behind bars. The case stems from an investigation by the Sheriff s Department s Internal Criminal Investigations Bureau.  \n",
            "11- 1461718710 -- weight 0.21 -- url: https://www.dailynews.com/2019/12/04/faith-leaders-join-about-200-people-to-mark-burial-of-unclaimed-dead-in-los-angeles-county/ -- text: Rain drops fell on a muddy cemetery field. Burning sage mixed with the humid air. About 200 people huddled under four canopies, while others carried umbrellas or braved the downpour in jackets. A Native American group blessed the sacred ground. Then a Hebrew song rang out. A Christian hymn followed, then a Zen Buddhist chant, and a Tongva song and blessing. These disparate groups, holding various beliefs, came to a Los Angeles County cemetery in East L.A. on Wednesday, Dec. 4, to honor the lives of those who have been forgotten to let them, for at least one day, be remembered. I wanted them to think about less fortunate people, says Dev Kumar, of Burbank, who brought his children Arthur, 8, Beatrice, 10, and William, 5, to Los Angeles County s interfaith ceremony for the 1,457 unclaimed dead from 2016 on Wednesday, December 4, 2019 at Los Angeles County Crematory and Cemetery after the cremated remains were buried together. Photo by Sarah Reingewirtz, Pasadena Star-News SCNG A woman brings flowers to the burial site of 1,457 unclaimed dead in Los Angeles County from 2016 during an interfaith ceremony on Wednesday, December 4, 2019 at the Los Angeles County Crematory and Cemetery. Photo by Sarah Reingewirtz, Pasadena Star-News SCNG Sound The gallery will resume in seconds Jennifer Stavros, of Culver City, leaves a blessing with myrrh for the 1,457 unclaimed dead from 2016 during an interfaith ceremony on Wednesday, December 4, 2019 at Los Angeles County Crematory and Cemetery. Stavos said she came because the stories and lives of those without family matter. Photo by Sarah Reingewirtz, Pasadena Star-News SCNG L.A. County holds an interfaith ceremony for the 1,457 unclaimed dead from 2016 on Wednesday, December 4, 2019 at Los Angeles County Crematory and Cemetery after the cremated remains were buried together. Photo by Sarah Reingewirtz, Pasadena Star-News SCNG L.A. County holds an interfaith ceremony for the 1,457 unclaimed dead from 2016 on Wednesday, December 4, 2019 at Los Angeles County Crematory and Cemetery after the cremated remains were buried together. Photo by Sarah Reingewirtz, Pasadena Star-News SCNG Flowers are left at the burial site of 1,457 unclaimed dead in Los Angeles County from 2016 during an interfaith ceremony on Wednesday, December 4, 2019 at the Los Angeles County Crematory and Cemetery. Photo by Sarah Reingewirtz, Pasadena Star-News SCNG Los Angeles County, as it does annually, once again brought together different religious leaders Wednesday for a multi-faith ceremony to remember, with dignity, the lives of 1,457 individuals who died in the county in 2016 but whose bodies went unclaimed. The Los Angeles County Department of Medical Examiner-Coroner said it processed 610 of those, with the rest coming from area hospitals and morgues. While most of their names are known, their relatives and friends are not, despite exhaustive efforts by county caseworkers. The dead included everyone from infants to the elderly. Yet, for whatever reason, perhaps burial costs or lack of contact, no friends or family members claimed their remains. So the county cremated them and kept the ashes for three years. Earlier this week, those ashes were buried at the Los Angeles County Crematorium-Cemetery. The single mass grave is marked 2016. Friar Chris Ponnet, director of spiritual care at Los Angeles County USC Medical Center, said the stories behind the individuals honored Wednesday are characterized by disconnection. Whether it s divorce or addiction or a bad family event that took place or the pain of someone else s death, said Ponnet, who led the proceedings, all those disconnections seem to be part of the story. Ponnet, wearing a light brown robe, said Wednesday that he commended L.A. County for keeping the remains of the unclaimed for three years. I think that s an amazing witness of dignity, Ponnet said, and to conclude this part of their existence by having an appropriate burial is a second blessing. Those who gathered at the ceremony Wednesday, despite the downpour, came for various reasons. Some worked with the homeless others recalled their own loved ones several just wanted to take part in a show of remembrance. It s important that we all have human dignity and we remember people and help those who might not have money for a funeral, Los Angeles resident Li i Furumoto, 43, said as she stood in the soggy cemetery grass. It s a way to show that we care. Furumoto said she s had family members who became homeless and she doesn t know what happened to them, so she understands how someone could die without anybody knowing. Inez Parra, 38, from Los Angeles, stood under an umbrella watching the ceremony. She said she tries to come to the burial service every year. As a social worker for roughly eight years, Parra said, she imagines that some of her former clients might be among those who were honored. I feel like it s essential to honor them because, whether it happened when they died or not, they did make an impact on people at some point in their lives, Parra said. Someone loved them. When the last remains of the sage burned out, and with the rain starting to dissipate, people began leaving the cemetery. Rev. Elizabeth Gibbs Zehnder, a chaplain at LAC USC Medical Center, said she found the event profound and healing. Roughly 30 of the patients at the hospital, she said, are homeless. So when they pass, they are there by themselves, Gibbs Zehnder said. To be here today, we can have this moment of the community coming together to say at least on this day and this moment, we see you and remember you and are grateful for the life you led. Jennifer Stavros, 37, from Culver City, said she attended the ceremony to show her respects and in memory of her own sister, who was killed in 2016 and would have celebrated a birthday this week. I came out as a way to ensure that nobody is forgotten, Stavros said near the cemetery s chapel. Everybody knows that their story deserves to be remembered no matter what place they came from. Information on claiming a decedent DHS.LACounty.gov or the Office of Decedent Affairs, 323-409-7161. \n",
            "12- 1461949589 -- weight 0.2 -- url: http://www.dailyherald.com/article/20191205/sports/312059982/ -- text: Edmonton hosts Los Angeles, looks to break home losing streak Los Angeles Kings 11-16-2, eighth in the Pacific Division vs. Edmonton Oilers 17-10-3, first in the Pacific Division Edmonton, Alberta Friday, 9 p.m. EST BOTTOM LINE Edmonton hosts Los Angeles looking to break its three-game home skid. The Oilers are 7-3-1 against the rest of their division. Edmonton ranks sixth in the league shooting 10.5 and averaging 3.0 goals on 28.8 shots per game. The Kings are 4-8-1 against Pacific Division opponents. Los Angeles has converted on 11.2 of power-play opportunities, scoring 11 power-play goals. In their last meeting on Nov. 21, Los Angeles won 5-1. Tyler Toffoli recorded a team-high 3 points for the Kings. TOP PERFORMERS Connor McDavid leads the Oilers with 19 goals, adding 32 assists and totaling 51 points. Leon Draisaitl has totaled three goals and 12 assists over the last 10 games for Edmonton. Anze Kopitar has collected 27 total points while scoring 10 goals and totaling 17 assists for the Kings. Nikolai Prokhorkin has scored four goals over the last 10 games for Los Angeles. LAST 10 GAMES Kings 4-5-1, averaging 2.4 goals, 4.2 assists, 2.5 penalties and five penalty minutes while giving up 2.4 goals per game with a .903 save percentage. Oilers 5-4-1, averaging 3.1 goals, 5.4 assists, 3.6 penalties and 9.4 penalty minutes while giving up 3.5 goals per game with a .896 save percentage. Oilers Injuries Brandon Manning out undisclosed , Mike Smith day to day lower body , Zack Kassian day to day lower body . Kings Injuries None listed. The Associated Press created this story using technology provided by Data Skrive and data from Sportradar. \n",
            "13- 1479539026 -- weight 0.2 -- url: https://www.reviewjournal.com/sports/basketball/clippers-win-christmas-battle-of-los-angeles-by-beating-lakers-1921822/ -- text: The Los Angeles Clippers were resilient and dominant in the second half to put away the Los Angeles Lakers, using the NBA s marquee Christmas game to show why the city and the Western Conference might belong to them this season. Los Angeles Lakers' LeBron James 23 is defended by Los Angeles Clippers' Paul George during the second half of an NBA basketball game Wednesday, Dec. 25, 2019, in Los Angeles. The Clippers won 111-106. AP Photo Ringo H.W. Chiu Kawhi Leonard, Clippers rally to beat Lakers 111-106 LOS ANGELES The Los Angeles Clippers were resilient and dominant in the second half to put away the Los Angeles Lakers, using the NBA s marquee Christmas game to show why the city and the Western Conference might belong to them this season. Kawhi Leonard scored 11 of his 35 points in the fourth quarter and had 12 rebounds and five assists to help the Clippers beat Lakers 111-106 on Wednesday night. The Clippers trailed by 12 points at halftime, by 15 in the third quarter, and by seven in the fourth quarter with 6 39 remaining, but they rallied to improve to 2-0 against the Lakers this season. And we didn t flinch, Clippers coach Doc Rivers said. Like, we just kind of hung in there. Almost felt like we were biding our time and just trying to make a run. That s something you have to have when things aren t going great for you. You just got to hang in there, and I thought we did that tonight. Leonard set a franchise record for points on Christmas, and he became the 10th player in NBA history with at least 35 points, 10 rebounds and five assists on Dec. 25. Montrezl Harrell had 18 points off the bench, and Paul George added 17, and the Clippers are 15-2 at Staples Center. We have so many interchanging parts, Clippers guard Lou Williams said. We have guys that s going to have big nights. I think I had five or six points tonight, and that s just how this team is built. It s going to be different guys every night. Kyle Kuzma led Los Angeles with 25 points. LeBron James had 23 points, 10 assists and nine rebounds, and Anthony Davis had 24 points. The Lakers have lost four straight games. Williams made two free throws after a questionable foul call against Davis for tapping the swingman after his transition layup rimmed out to give the Clippers a 105-103 lead with 3 29 to go. Leonard, who had a 3 to cap a 7-0 run and tie it at 101 with 5 14 remaining, then made four late free throws. They wanted it more, Davis said. We had a lot of mistakes down at the end of the game, mental mistakes at both ends of the floor. We fouled a lot in the fourth quarter, put them to the line. We gave that one away. Los Angeles had a chance to tie in the final seconds, but video review showed James touched the ball last after Patrick Beverly knocked it away as James went up for a 3. George hit two free throws for the final margin. That wasn t the game right there, James said. I mean, it s a big play and you want to try to get it right, but it wasn t where the game was lost.  \n",
            "14- 1458983156 -- weight 0.19 -- url: http://www.dailyherald.com/article/20191202/sports/312029972/ -- text: Anaheim and Los Angeles face off for conference battle Los Angeles Kings 11-14-2, eighth in the Pacific Division vs. Anaheim Ducks 11-12-4, seventh in the Pacific Division Anaheim, California Monday, 10 p.m. EST BOTTOM LINE Western Conference foes Anaheim and Los Angeles hit the ice. The Ducks are 3-4-1 against division opponents. Anaheim averages 11.7 penalty minutes per game, the second-most in the NHL. Nick Ritchie leads the team serving 54 total minutes. The Kings are 4-7-1 against opponents in the Pacific Division. Los Angeles has scored 11 power-play goals, converting on 11.8 of chances. The teams square off Monday for the first time this season. TOP PERFORMERS Ryan Getzlaf leads the Ducks with 20 points, scoring nine goals and adding 11 assists. Rickard Rakell has four goals and four assists over the last 10 games for Anaheim. Anze Kopitar leads the Kings with 10 goals and has recorded 27 points. Jeff Carter has four goals and two assists over the last 10 games for Los Angeles. LAST 10 GAMES Kings 6-3-1, averaging 2.7 goals, 4.9 assists, 2.6 penalties and 5.2 penalty minutes while giving up 2.2 goals per game with a .914 save percentage. Ducks 2-5-3, averaging 2.6 goals, 3.9 assists, five penalties and 15.5 penalty minutes while giving up 3.7 goals per game with a .876 save percentage. Ducks Injuries None listed. Kings Injuries None listed. The Associated Press created this story using technology provided by Data Skrive and data from Sportradar. \n",
            "15- 1464717431 -- weight 0.18 -- url: https://www.latimes.com/california/story/2019-12-08/weather-rain-los-angeles-county-thunderstorms-possible -- text: Meteorologists expect rains to continue to sprinkle across Los Angeles County on Sunday, with a chance of thunderstorms later in the day, before the weather dries up for the week. Later Sunday, it s possible we could get some thunderstorms down in the beach areas, said meteorologist Kathy Hoxsie of the National Weather Service. But all in all, it should be more blue skies than showers by late afternoon, Hoxsie said. As of Sunday morning, the heaviest rain in Los Angeles County was in the mountains and foothills. The recent rains have also fallen hard on parts of San Luis Obispo County and Santa Barbara County, including the San Marcos Pass in the Santa Ynez Mountains, according to rainfall totals provided by the National Weather Service. Advertisement At 815 am, area of light-moderate showers moving across SBA and Ventura counties. Highest rainfall rates mostly in the foothills mtns at 0.10-0.25 in past hour. Locally higher rates possible today in heavier showers or isolated tstms. LArain LAWeather cawx Socal pic.twitter.com bMF6hTP5jn NWS Los Angeles NWSLosAngeles December 8, 2019 Although Los Angeles County officials lifted an advisory on ocean water quality at noon on Saturday, the Department of Public Health cautioned on its website that beach users should continue to avoid water near flowing creeks and storm drains for at least 72 hours after significant rainfall, because storm runoff can ramp up bacteria levels. Elevated bacteria levels in ocean water may cause illness, especially in children and the elderly, the department noted. \n",
            "16- 1465470632 -- weight 0.18 -- url: https://www.latimes.com/california/story/2019-12-09/man-riding-bike-la-river-shot-dead -- text: A cyclist was found shot to death on a bike path along the Los Angeles River in Cudahy late Sunday, according to the Los Angeles County Sheriff s Department. A pedestrian found the man, who had been shot in his upper body, lying on the ground near Clara Street and River Road at around 10 53 p.m., sheriff s officials said. Deputies and paramedics responded and pronounced the man dead at the scene. Yellow crime scene tape surrounded the victim s body and a nearby bicycle as investigators worked overnight to scour the area for evidence. Early Monday, sheriff s officials said there were no suspect descriptions and the investigation was ongoing. Advertisement Anyone with information is asked to call the Sheriff s Department at 323 890-5500. \n",
            "17- 1461530814 -- weight 0.18 -- url: https://abc7.com/weather/socal-weather-scattered-rain-expected-throughout-wednesday/58983/ -- text: LOS ANGELES KABC -- Gusty winds linger on Tuesday in the Southland as conditions will mostly be sunny.Los Angeles and Orange counties will be in the upper 70s and the region will see plenty of sunshine, along with some gusty winds as strong as 35 mph in some parts.The valleys and Inland Empire will see similar conditions. Temperatures will reach a high of 81 and dip down to 44 at night.If you have the app, turn on push notifications and personalize the app. Click onfrom the bottom menu, then star the topics you'd like to follow and tap Done. \n",
            "18- 1464757194 -- weight 0.18 -- url: https://www.news4jax.com/sports/2019/12/08/game-day-live-charters-at-jaguars/ -- text: JACKSONVILLE, Fla. Follow the action as Jacksonville hosts Los Angeles. Please be patient if the tweets we're following take a few extra seconds to load. On our app. Tap here to view this Game Day Twitter feed. \n",
            "19- 1470973084 -- weight 0.17 -- url: https://www.eastbaytimes.com/2019/12/15/searcher-dies-while-seeking-missing-california-hiker/ -- text: LOS ANGELES AP The search for a missing Mount Baldy hiker has been suspended after a searcher died Saturday, authorities said. Tim Staples, 32, was a teacher and a volunteer for nine years with the San Bernardino County Sheriff s Department West Valley Search Rescue Team. Staples became separated from his partner. He was later spotted by helicopter in an ice chute after apparently falling to his death, authorities said. Staples, who was married in June, was among more than 100 volunteers who have been scouring the area northwest of Los Angeles for nearly a week. Sreenivas Sree Mokkapati, 52, vanished on Dec. 8 after becoming separated from a group of hikers. Friends and relatives said the Irvine man was an experienced hiker who had climbed the mountain several times but was only prepared for a day hike. The 10,046-foot 3,062-meter peak northeast of Los Angeles is a popular hiking spot but the trails are rugged and can be treacherous in winter because of ice and heavy snow. Several people have fallen to their deaths in recent years. Staples taught English and social studies and also coached cross country and track and field at Damien High School in La Verne, where a prayer service was planned for Monday. \n",
            "20- 1480287354 -- weight 0.17 -- url: https://www.usnews.com/news/best-states/california/articles/2019-12-27/girl-dies-after-having-medical-problem-on-california-plane -- text: LOS ANGELES AP A young girl died after she went into cardiac arrest on a plane flight to Seattle from Los Angeles International Airport, authorities said. The girl, believed to be about 10 years old, was on a Delta flight when she had the medical problem. The plane, which was still over Southern California, returned to the airport, KABC-TV reported. Paramedics furiously worked to save her life. Sadly, all efforts were futile and the child was beyond medical help, the Los Angeles Fire Department tweeted. Airport officials said the girl died on the plane, KNBC-TV reported. There was no immediate indication of anything suspicious about the death, authorities said. \n"
          ],
          "name": "stdout"
        }
      ]
    },
    {
      "cell_type": "markdown",
      "metadata": {
        "id": "kRaTuY2cvLWZ",
        "colab_type": "text"
      },
      "source": [
        "### _Applying a Topic Modeling_\n",
        "#### LDA Method"
      ]
    },
    {
      "cell_type": "code",
      "metadata": {
        "id": "Zr2bJx_KvZZZ",
        "colab_type": "code",
        "outputId": "a3317dfd-33e6-4fcd-9708-4e8522f1d594",
        "colab": {
          "base_uri": "https://localhost:8080/",
          "height": 211
        }
      },
      "source": [
        "!pip install https://github.com/clips/pattern/archive/python3.zip\n",
        "from gensim.models import LdaModel, LdaMulticore\n",
        "from gensim.utils import simple_preprocess, lemmatize\n",
        "\n",
        "import re\n",
        "import logging\n",
        "logging.basicConfig(format='%(asctime)s : %(levelname)s : %(message)s')\n",
        "logging.root.setLevel(level=logging.INFO)"
      ],
      "execution_count": 16,
      "outputs": [
        {
          "output_type": "stream",
          "text": [
            "Collecting https://github.com/clips/pattern/archive/python3.zip\n",
            "\u001b[?25l  Downloading https://github.com/clips/pattern/archive/python3.zip\n",
            "\u001b[K     / 32.5MB 216kB/s\n",
            "\u001b[?25hRequirement already satisfied: future in /usr/local/lib/python3.6/dist-packages (from Pattern==2.6) (0.16.0)\n",
            "Collecting backports.csv\n",
            "  Downloading https://files.pythonhosted.org/packages/8e/26/a6bd68f13e0f38fbb643d6e497fc3462be83a0b6c4d43425c78bb51a7291/backports.csv-1.0.7-py2.py3-none-any.whl\n",
            "Collecting mysqlclient\n",
            "\u001b[?25l  Downloading https://files.pythonhosted.org/packages/d0/97/7326248ac8d5049968bf4ec708a5d3d4806e412a42e74160d7f266a3e03a/mysqlclient-1.4.6.tar.gz (85kB)\n",
            "\u001b[K     |████████████████████████████████| 92kB 2.7MB/s \n",
            "\u001b[31mERROR: Command errored out with exit status 1: python setup.py egg_info Check the logs for full command output.\u001b[0m\n",
            "\u001b[?25h"
          ],
          "name": "stdout"
        }
      ]
    },
    {
      "cell_type": "code",
      "metadata": {
        "id": "L4MqMn2IH2Ps",
        "colab_type": "code",
        "outputId": "8e966112-4547-4923-cec0-d697b5e2e4e2",
        "colab": {
          "base_uri": "https://localhost:8080/",
          "height": 89
        }
      },
      "source": [
        "# Create the Inputs of LDA model: Dictionary and Corpus\n",
        "dictionary = corpora.Dictionary([story['text_token'] for story in df_4])\n",
        "corpus = [dictionary.doc2bow(line) for line in [story['text_token'] for story in df_4]]"
      ],
      "execution_count": 17,
      "outputs": [
        {
          "output_type": "stream",
          "text": [
            "2020-03-23 10:36:36,217 : INFO : adding document #0 to Dictionary(0 unique tokens: [])\n",
            "2020-03-23 10:36:38,788 : INFO : adding document #10000 to Dictionary(63996 unique tokens: ['-', 'angri', 'attack', 'attorney', 'author']...)\n",
            "2020-03-23 10:36:39,438 : INFO : built Dictionary(71484 unique tokens: ['-', 'angri', 'attack', 'attorney', 'author']...) from 12475 documents (total 3456002 corpus positions)\n"
          ],
          "name": "stderr"
        }
      ]
    },
    {
      "cell_type": "code",
      "metadata": {
        "id": "Dzt0gzSpJTYf",
        "colab_type": "code",
        "outputId": "f1cb487b-312f-46c5-f499-61b8f826dcdf",
        "colab": {
          "base_uri": "https://localhost:8080/",
          "height": 1000
        }
      },
      "source": [
        "# Train the LDA model\n",
        "lda_model = LdaMulticore(corpus=corpus,\n",
        "                         id2word=dictionary,\n",
        "                         random_state=100,\n",
        "                         num_topics=20,\n",
        "                         passes=10,\n",
        "                         chunksize=1000,\n",
        "                         batch=False,\n",
        "                         alpha='asymmetric',\n",
        "                         decay=0.5,\n",
        "                         offset=64,\n",
        "                         eta=None,\n",
        "                         eval_every=0,\n",
        "                         iterations=100,\n",
        "                         gamma_threshold=0.001,\n",
        "                         per_word_topics=True)"
      ],
      "execution_count": 19,
      "outputs": [
        {
          "output_type": "stream",
          "text": [
            "2020-03-23 10:37:15,856 : INFO : using asymmetric alpha [0.12456869, 0.10180451, 0.08607485, 0.07455541, 0.06575534, 0.05881336, 0.053197186, 0.048560105, 0.044666618, 0.041351136, 0.038493842, 0.0360059, 0.03382003, 0.031884372, 0.030158294, 0.028609501, 0.027212018, 0.0259447, 0.024790173, 0.023734018]\n",
            "2020-03-23 10:37:15,857 : INFO : using symmetric eta at 0.05\n",
            "2020-03-23 10:37:15,872 : INFO : using serial LDA version on this node\n",
            "2020-03-23 10:37:16,079 : INFO : running online LDA training, 20 topics, 10 passes over the supplied corpus of 12475 documents, updating every 3000 documents, evaluating every ~0 documents, iterating 100x with a convergence threshold of 0.001000\n",
            "2020-03-23 10:37:16,081 : INFO : training LDA model using 3 processes\n",
            "2020-03-23 10:37:16,167 : INFO : PROGRESS: pass 0, dispatched chunk #0 = documents up to #1000/12475, outstanding queue size 1\n",
            "2020-03-23 10:37:16,484 : INFO : PROGRESS: pass 0, dispatched chunk #1 = documents up to #2000/12475, outstanding queue size 2\n",
            "2020-03-23 10:37:16,490 : INFO : PROGRESS: pass 0, dispatched chunk #2 = documents up to #3000/12475, outstanding queue size 3\n",
            "2020-03-23 10:37:16,496 : INFO : PROGRESS: pass 0, dispatched chunk #3 = documents up to #4000/12475, outstanding queue size 4\n",
            "2020-03-23 10:37:16,501 : INFO : PROGRESS: pass 0, dispatched chunk #4 = documents up to #5000/12475, outstanding queue size 5\n",
            "2020-03-23 10:37:16,632 : INFO : PROGRESS: pass 0, dispatched chunk #5 = documents up to #6000/12475, outstanding queue size 6\n",
            "2020-03-23 10:37:16,639 : INFO : PROGRESS: pass 0, dispatched chunk #6 = documents up to #7000/12475, outstanding queue size 7\n",
            "2020-03-23 10:37:16,764 : INFO : PROGRESS: pass 0, dispatched chunk #7 = documents up to #8000/12475, outstanding queue size 8\n",
            "2020-03-23 10:37:16,946 : INFO : PROGRESS: pass 0, dispatched chunk #8 = documents up to #9000/12475, outstanding queue size 9\n",
            "2020-03-23 10:37:21,718 : INFO : PROGRESS: pass 0, dispatched chunk #9 = documents up to #10000/12475, outstanding queue size 9\n",
            "2020-03-23 10:37:22,681 : INFO : PROGRESS: pass 0, dispatched chunk #10 = documents up to #11000/12475, outstanding queue size 9\n",
            "2020-03-23 10:37:23,373 : INFO : merging changes from 3000 documents into a model of 12475 documents\n",
            "2020-03-23 10:37:23,983 : INFO : topic #19 (0.024): 0.015*\"-\" + 0.005*\"say\" + 0.002*\"dec\" + 0.002*\"citi\" + 0.002*\"year\" + 0.002*\"like\" + 0.002*\"imag\" + 0.002*\"new\" + 0.002*\"data\" + 0.001*\"christma\"\n",
            "2020-03-23 10:37:23,995 : INFO : topic #18 (0.025): 0.006*\"-\" + 0.002*\"say\" + 0.002*\"year\" + 0.001*\"like\" + 0.001*\"game\" + 0.001*\"state\" + 0.001*\"time\" + 0.001*\"point\" + 0.001*\"season\" + 0.001*\"new\"\n",
            "2020-03-23 10:37:24,008 : INFO : topic #2 (0.086): 0.005*\"-\" + 0.005*\"say\" + 0.002*\"year\" + 0.002*\"state\" + 0.002*\"citi\" + 0.001*\"new\" + 0.001*\"school\" + 0.001*\"polic\" + 0.001*\"peopl\" + 0.001*\"offic\"\n",
            "2020-03-23 10:37:24,012 : INFO : topic #1 (0.102): 0.005*\"-\" + 0.004*\"say\" + 0.002*\"time\" + 0.002*\"year\" + 0.001*\"citi\" + 0.001*\"peopl\" + 0.001*\"new\" + 0.001*\"state\" + 0.001*\"work\" + 0.001*\"report\"\n",
            "2020-03-23 10:37:24,016 : INFO : topic #0 (0.125): 0.004*\"say\" + 0.002*\"-\" + 0.001*\"game\" + 0.001*\"polic\" + 0.001*\"year\" + 0.001*\"counti\" + 0.001*\"time\" + 0.001*\"offic\" + 0.001*\"go\" + 0.001*\"accord\"\n",
            "2020-03-23 10:37:24,021 : INFO : topic diff=0.366989, rho=0.125000\n",
            "2020-03-23 10:37:24,023 : INFO : PROGRESS: pass 0, dispatched chunk #11 = documents up to #12000/12475, outstanding queue size 9\n",
            "2020-03-23 10:37:27,740 : INFO : PROGRESS: pass 0, dispatched chunk #12 = documents up to #12475/12475, outstanding queue size 9\n",
            "2020-03-23 10:37:29,741 : INFO : merging changes from 3000 documents into a model of 12475 documents\n",
            "2020-03-23 10:37:30,402 : INFO : topic #19 (0.024): 0.020*\"-\" + 0.007*\"say\" + 0.003*\"citi\" + 0.003*\"dec\" + 0.003*\"year\" + 0.002*\"like\" + 0.002*\"new\" + 0.002*\"polic\" + 0.002*\"work\" + 0.002*\"christma\"\n",
            "2020-03-23 10:37:30,424 : INFO : topic #18 (0.025): 0.009*\"-\" + 0.003*\"say\" + 0.003*\"year\" + 0.002*\"like\" + 0.002*\"game\" + 0.002*\"point\" + 0.002*\"state\" + 0.001*\"season\" + 0.001*\"time\" + 0.001*\"new\"\n",
            "2020-03-23 10:37:30,433 : INFO : topic #2 (0.086): 0.008*\"-\" + 0.007*\"say\" + 0.003*\"year\" + 0.003*\"citi\" + 0.003*\"state\" + 0.002*\"new\" + 0.002*\"polic\" + 0.002*\"offic\" + 0.002*\"school\" + 0.002*\"peopl\"\n",
            "2020-03-23 10:37:30,440 : INFO : topic #1 (0.102): 0.008*\"-\" + 0.006*\"say\" + 0.003*\"year\" + 0.002*\"time\" + 0.002*\"citi\" + 0.002*\"peopl\" + 0.002*\"new\" + 0.002*\"state\" + 0.002*\"report\" + 0.002*\"work\"\n",
            "2020-03-23 10:37:30,446 : INFO : topic #0 (0.125): 0.006*\"say\" + 0.003*\"-\" + 0.002*\"game\" + 0.002*\"polic\" + 0.002*\"year\" + 0.001*\"offic\" + 0.001*\"time\" + 0.001*\"counti\" + 0.001*\"go\" + 0.001*\"accord\"\n",
            "2020-03-23 10:37:30,455 : INFO : topic diff=0.303070, rho=0.122169\n",
            "2020-03-23 10:37:34,192 : INFO : merging changes from 3000 documents into a model of 12475 documents\n",
            "2020-03-23 10:37:34,851 : INFO : topic #19 (0.024): 0.022*\"-\" + 0.010*\"say\" + 0.004*\"year\" + 0.004*\"citi\" + 0.003*\"dec\" + 0.003*\"new\" + 0.003*\"polic\" + 0.003*\"like\" + 0.003*\"time\" + 0.003*\"state\"\n",
            "2020-03-23 10:37:34,862 : INFO : topic #18 (0.025): 0.010*\"-\" + 0.004*\"say\" + 0.003*\"year\" + 0.002*\"game\" + 0.002*\"point\" + 0.002*\"like\" + 0.002*\"season\" + 0.002*\"state\" + 0.002*\"time\" + 0.002*\"new\"\n",
            "2020-03-23 10:37:34,866 : INFO : topic #2 (0.086): 0.009*\"say\" + 0.009*\"-\" + 0.003*\"year\" + 0.003*\"polic\" + 0.003*\"state\" + 0.003*\"citi\" + 0.003*\"offic\" + 0.003*\"new\" + 0.002*\"school\" + 0.002*\"peopl\"\n",
            "2020-03-23 10:37:34,872 : INFO : topic #1 (0.102): 0.008*\"-\" + 0.007*\"say\" + 0.003*\"year\" + 0.003*\"time\" + 0.002*\"citi\" + 0.002*\"peopl\" + 0.002*\"new\" + 0.002*\"state\" + 0.002*\"report\" + 0.002*\"work\"\n",
            "2020-03-23 10:37:34,879 : INFO : topic #0 (0.125): 0.007*\"say\" + 0.003*\"-\" + 0.002*\"game\" + 0.002*\"polic\" + 0.002*\"year\" + 0.002*\"offic\" + 0.002*\"time\" + 0.001*\"counti\" + 0.001*\"go\" + 0.001*\"accord\"\n",
            "2020-03-23 10:37:34,886 : INFO : topic diff=0.229845, rho=0.119523\n",
            "2020-03-23 10:37:38,900 : INFO : merging changes from 3000 documents into a model of 12475 documents\n",
            "2020-03-23 10:37:39,162 : INFO : topic #19 (0.024): 0.023*\"-\" + 0.011*\"say\" + 0.004*\"citi\" + 0.004*\"year\" + 0.003*\"new\" + 0.003*\"dec\" + 0.003*\"polic\" + 0.003*\"time\" + 0.003*\"like\" + 0.003*\"state\"\n",
            "2020-03-23 10:37:39,170 : INFO : topic #18 (0.025): 0.010*\"-\" + 0.004*\"say\" + 0.003*\"year\" + 0.002*\"point\" + 0.002*\"game\" + 0.002*\"season\" + 0.002*\"like\" + 0.002*\"state\" + 0.002*\"time\" + 0.002*\"new\"\n",
            "2020-03-23 10:37:39,177 : INFO : topic #2 (0.086): 0.011*\"say\" + 0.009*\"-\" + 0.004*\"polic\" + 0.004*\"state\" + 0.004*\"citi\" + 0.003*\"offic\" + 0.003*\"year\" + 0.003*\"school\" + 0.003*\"counti\" + 0.003*\"new\"\n",
            "2020-03-23 10:37:39,183 : INFO : topic #1 (0.102): 0.008*\"-\" + 0.008*\"say\" + 0.003*\"year\" + 0.003*\"time\" + 0.003*\"citi\" + 0.002*\"peopl\" + 0.002*\"state\" + 0.002*\"new\" + 0.002*\"report\" + 0.002*\"work\"\n",
            "2020-03-23 10:37:39,189 : INFO : topic #0 (0.125): 0.007*\"say\" + 0.003*\"-\" + 0.002*\"game\" + 0.002*\"polic\" + 0.002*\"year\" + 0.002*\"offic\" + 0.001*\"time\" + 0.001*\"counti\" + 0.001*\"go\" + 0.001*\"accord\"\n",
            "2020-03-23 10:37:39,196 : INFO : topic diff=0.188903, rho=0.117041\n",
            "2020-03-23 10:37:39,717 : INFO : merging changes from 475 documents into a model of 12475 documents\n",
            "2020-03-23 10:37:39,925 : INFO : topic #19 (0.024): 0.023*\"-\" + 0.011*\"say\" + 0.005*\"citi\" + 0.004*\"year\" + 0.004*\"new\" + 0.003*\"dec\" + 0.003*\"time\" + 0.003*\"polic\" + 0.003*\"like\" + 0.003*\"state\"\n",
            "2020-03-23 10:37:39,932 : INFO : topic #18 (0.025): 0.011*\"-\" + 0.004*\"say\" + 0.003*\"year\" + 0.003*\"game\" + 0.002*\"point\" + 0.002*\"season\" + 0.002*\"state\" + 0.002*\"like\" + 0.002*\"time\" + 0.002*\"new\"\n",
            "2020-03-23 10:37:39,934 : INFO : topic #2 (0.086): 0.012*\"say\" + 0.010*\"-\" + 0.006*\"polic\" + 0.004*\"state\" + 0.004*\"citi\" + 0.004*\"offic\" + 0.004*\"year\" + 0.003*\"counti\" + 0.003*\"school\" + 0.003*\"report\"\n",
            "2020-03-23 10:37:39,937 : INFO : topic #1 (0.102): 0.009*\"say\" + 0.009*\"-\" + 0.003*\"year\" + 0.003*\"time\" + 0.002*\"citi\" + 0.002*\"court\" + 0.002*\"state\" + 0.002*\"peopl\" + 0.002*\"new\" + 0.002*\"report\"\n",
            "2020-03-23 10:37:39,940 : INFO : topic #0 (0.125): 0.007*\"say\" + 0.003*\"-\" + 0.002*\"game\" + 0.002*\"polic\" + 0.002*\"year\" + 0.002*\"offic\" + 0.001*\"time\" + 0.001*\"counti\" + 0.001*\"go\" + 0.001*\"accord\"\n",
            "2020-03-23 10:37:39,944 : INFO : topic diff=0.205212, rho=0.114708\n",
            "2020-03-23 10:37:41,271 : INFO : -8.754 per-word bound, 431.8 perplexity estimate based on a held-out corpus of 475 documents with 134953 words\n",
            "2020-03-23 10:37:41,275 : INFO : PROGRESS: pass 1, dispatched chunk #0 = documents up to #1000/12475, outstanding queue size 1\n",
            "2020-03-23 10:37:41,417 : INFO : PROGRESS: pass 1, dispatched chunk #1 = documents up to #2000/12475, outstanding queue size 2\n",
            "2020-03-23 10:37:41,420 : INFO : PROGRESS: pass 1, dispatched chunk #2 = documents up to #3000/12475, outstanding queue size 3\n",
            "2020-03-23 10:37:41,421 : INFO : PROGRESS: pass 1, dispatched chunk #3 = documents up to #4000/12475, outstanding queue size 4\n",
            "2020-03-23 10:37:41,423 : INFO : PROGRESS: pass 1, dispatched chunk #4 = documents up to #5000/12475, outstanding queue size 5\n",
            "2020-03-23 10:37:41,424 : INFO : PROGRESS: pass 1, dispatched chunk #5 = documents up to #6000/12475, outstanding queue size 6\n",
            "2020-03-23 10:37:41,544 : INFO : PROGRESS: pass 1, dispatched chunk #6 = documents up to #7000/12475, outstanding queue size 7\n",
            "2020-03-23 10:37:41,788 : INFO : PROGRESS: pass 1, dispatched chunk #7 = documents up to #8000/12475, outstanding queue size 8\n",
            "2020-03-23 10:37:41,877 : INFO : PROGRESS: pass 1, dispatched chunk #8 = documents up to #9000/12475, outstanding queue size 9\n",
            "2020-03-23 10:37:45,514 : INFO : PROGRESS: pass 1, dispatched chunk #9 = documents up to #10000/12475, outstanding queue size 9\n",
            "2020-03-23 10:37:46,138 : INFO : PROGRESS: pass 1, dispatched chunk #10 = documents up to #11000/12475, outstanding queue size 9\n",
            "2020-03-23 10:37:47,194 : INFO : merging changes from 3000 documents into a model of 12475 documents\n",
            "2020-03-23 10:37:47,826 : INFO : topic #19 (0.024): 0.024*\"-\" + 0.012*\"say\" + 0.005*\"citi\" + 0.005*\"year\" + 0.004*\"new\" + 0.003*\"dec\" + 0.003*\"time\" + 0.003*\"polic\" + 0.003*\"like\" + 0.003*\"state\"\n",
            "2020-03-23 10:37:47,840 : INFO : topic #18 (0.025): 0.011*\"-\" + 0.004*\"say\" + 0.003*\"year\" + 0.003*\"game\" + 0.002*\"point\" + 0.002*\"season\" + 0.002*\"state\" + 0.002*\"like\" + 0.002*\"time\" + 0.002*\"team\"\n",
            "2020-03-23 10:37:47,848 : INFO : topic #2 (0.086): 0.014*\"say\" + 0.010*\"-\" + 0.007*\"polic\" + 0.005*\"offic\" + 0.004*\"citi\" + 0.004*\"state\" + 0.004*\"counti\" + 0.004*\"year\" + 0.004*\"report\" + 0.003*\"investig\"\n",
            "2020-03-23 10:37:47,857 : INFO : topic #1 (0.102): 0.009*\"say\" + 0.009*\"-\" + 0.003*\"year\" + 0.003*\"time\" + 0.003*\"court\" + 0.002*\"state\" + 0.002*\"citi\" + 0.002*\"peopl\" + 0.002*\"new\" + 0.002*\"report\"\n",
            "2020-03-23 10:37:47,866 : INFO : topic #0 (0.125): 0.007*\"say\" + 0.003*\"-\" + 0.002*\"game\" + 0.002*\"polic\" + 0.002*\"year\" + 0.002*\"offic\" + 0.001*\"time\" + 0.001*\"counti\" + 0.001*\"go\" + 0.001*\"accord\"\n",
            "2020-03-23 10:37:47,876 : INFO : topic diff=0.198120, rho=0.113611\n",
            "2020-03-23 10:37:47,886 : INFO : PROGRESS: pass 1, dispatched chunk #11 = documents up to #12000/12475, outstanding queue size 9\n",
            "2020-03-23 10:37:50,214 : INFO : PROGRESS: pass 1, dispatched chunk #12 = documents up to #12475/12475, outstanding queue size 9\n",
            "2020-03-23 10:37:52,197 : INFO : merging changes from 3000 documents into a model of 12475 documents\n",
            "2020-03-23 10:37:52,842 : INFO : topic #19 (0.024): 0.024*\"-\" + 0.012*\"say\" + 0.005*\"citi\" + 0.005*\"year\" + 0.004*\"new\" + 0.004*\"dec\" + 0.003*\"time\" + 0.003*\"polic\" + 0.003*\"like\" + 0.003*\"state\"\n",
            "2020-03-23 10:37:52,850 : INFO : topic #18 (0.025): 0.011*\"-\" + 0.004*\"say\" + 0.003*\"year\" + 0.003*\"game\" + 0.002*\"point\" + 0.002*\"season\" + 0.002*\"state\" + 0.002*\"like\" + 0.002*\"time\" + 0.002*\"team\"\n",
            "2020-03-23 10:37:52,861 : INFO : topic #2 (0.086): 0.015*\"say\" + 0.010*\"-\" + 0.009*\"polic\" + 0.006*\"offic\" + 0.005*\"counti\" + 0.005*\"citi\" + 0.004*\"state\" + 0.004*\"report\" + 0.004*\"year\" + 0.004*\"investig\"\n",
            "2020-03-23 10:37:52,868 : INFO : topic #1 (0.102): 0.009*\"say\" + 0.009*\"-\" + 0.003*\"year\" + 0.003*\"court\" + 0.003*\"time\" + 0.003*\"state\" + 0.002*\"citi\" + 0.002*\"peopl\" + 0.002*\"new\" + 0.002*\"report\"\n",
            "2020-03-23 10:37:52,879 : INFO : topic #0 (0.125): 0.007*\"say\" + 0.003*\"-\" + 0.002*\"game\" + 0.002*\"polic\" + 0.002*\"year\" + 0.002*\"offic\" + 0.001*\"time\" + 0.001*\"counti\" + 0.001*\"go\" + 0.001*\"accord\"\n",
            "2020-03-23 10:37:52,888 : INFO : topic diff=0.207896, rho=0.113611\n",
            "2020-03-23 10:37:56,359 : INFO : merging changes from 3000 documents into a model of 12475 documents\n",
            "2020-03-23 10:37:57,041 : INFO : topic #19 (0.024): 0.024*\"-\" + 0.012*\"say\" + 0.005*\"citi\" + 0.005*\"year\" + 0.004*\"new\" + 0.004*\"dec\" + 0.003*\"time\" + 0.003*\"polic\" + 0.003*\"like\" + 0.003*\"state\"\n",
            "2020-03-23 10:37:57,045 : INFO : topic #18 (0.025): 0.011*\"-\" + 0.004*\"say\" + 0.003*\"year\" + 0.002*\"game\" + 0.002*\"point\" + 0.002*\"season\" + 0.002*\"state\" + 0.002*\"like\" + 0.002*\"time\" + 0.002*\"team\"\n",
            "2020-03-23 10:37:57,050 : INFO : topic #2 (0.086): 0.016*\"say\" + 0.010*\"-\" + 0.010*\"polic\" + 0.007*\"offic\" + 0.005*\"counti\" + 0.005*\"citi\" + 0.004*\"report\" + 0.004*\"state\" + 0.004*\"investig\" + 0.004*\"fire\"\n",
            "2020-03-23 10:37:57,053 : INFO : topic #1 (0.102): 0.010*\"say\" + 0.009*\"-\" + 0.003*\"court\" + 0.003*\"year\" + 0.003*\"time\" + 0.003*\"state\" + 0.002*\"citi\" + 0.002*\"new\" + 0.002*\"report\" + 0.002*\"peopl\"\n",
            "2020-03-23 10:37:57,057 : INFO : topic #0 (0.125): 0.007*\"say\" + 0.003*\"-\" + 0.002*\"game\" + 0.002*\"polic\" + 0.002*\"year\" + 0.002*\"offic\" + 0.001*\"time\" + 0.001*\"counti\" + 0.001*\"go\" + 0.001*\"accord\"\n",
            "2020-03-23 10:37:57,062 : INFO : topic diff=0.213735, rho=0.113611\n",
            "2020-03-23 10:37:59,480 : INFO : merging changes from 3000 documents into a model of 12475 documents\n",
            "2020-03-23 10:37:59,778 : INFO : topic #19 (0.024): 0.024*\"-\" + 0.012*\"say\" + 0.005*\"citi\" + 0.005*\"year\" + 0.004*\"new\" + 0.003*\"dec\" + 0.003*\"time\" + 0.003*\"like\" + 0.003*\"polic\" + 0.003*\"state\"\n",
            "2020-03-23 10:37:59,787 : INFO : topic #18 (0.025): 0.011*\"-\" + 0.004*\"say\" + 0.003*\"year\" + 0.002*\"game\" + 0.002*\"point\" + 0.002*\"season\" + 0.002*\"state\" + 0.002*\"like\" + 0.002*\"time\" + 0.002*\"team\"\n",
            "2020-03-23 10:37:59,794 : INFO : topic #2 (0.086): 0.017*\"say\" + 0.011*\"polic\" + 0.010*\"-\" + 0.007*\"offic\" + 0.006*\"counti\" + 0.005*\"report\" + 0.005*\"citi\" + 0.005*\"investig\" + 0.004*\"fire\" + 0.004*\"state\"\n",
            "2020-03-23 10:37:59,801 : INFO : topic #1 (0.102): 0.010*\"say\" + 0.009*\"-\" + 0.004*\"court\" + 0.003*\"year\" + 0.003*\"time\" + 0.003*\"state\" + 0.002*\"citi\" + 0.002*\"new\" + 0.002*\"case\" + 0.002*\"peopl\"\n",
            "2020-03-23 10:37:59,807 : INFO : topic #0 (0.125): 0.007*\"say\" + 0.003*\"-\" + 0.002*\"game\" + 0.002*\"polic\" + 0.002*\"year\" + 0.002*\"offic\" + 0.001*\"time\" + 0.001*\"counti\" + 0.001*\"go\" + 0.001*\"karzai\"\n",
            "2020-03-23 10:37:59,815 : INFO : topic diff=0.227460, rho=0.113611\n",
            "2020-03-23 10:37:59,841 : INFO : merging changes from 475 documents into a model of 12475 documents\n",
            "2020-03-23 10:38:00,049 : INFO : topic #19 (0.024): 0.023*\"-\" + 0.011*\"say\" + 0.005*\"citi\" + 0.005*\"year\" + 0.005*\"new\" + 0.003*\"dec\" + 0.003*\"time\" + 0.003*\"like\" + 0.003*\"polic\" + 0.003*\"state\"\n",
            "2020-03-23 10:38:00,052 : INFO : topic #18 (0.025): 0.011*\"-\" + 0.003*\"say\" + 0.003*\"year\" + 0.002*\"game\" + 0.002*\"point\" + 0.002*\"season\" + 0.002*\"state\" + 0.002*\"like\" + 0.002*\"time\" + 0.002*\"team\"\n",
            "2020-03-23 10:38:00,054 : INFO : topic #2 (0.086): 0.017*\"say\" + 0.011*\"polic\" + 0.011*\"-\" + 0.007*\"offic\" + 0.006*\"counti\" + 0.005*\"citi\" + 0.005*\"report\" + 0.005*\"fire\" + 0.005*\"investig\" + 0.004*\"state\"\n",
            "2020-03-23 10:38:00,057 : INFO : topic #1 (0.102): 0.011*\"say\" + 0.009*\"-\" + 0.005*\"court\" + 0.003*\"year\" + 0.003*\"time\" + 0.003*\"state\" + 0.003*\"case\" + 0.003*\"new\" + 0.002*\"citi\" + 0.002*\"iran\"\n",
            "2020-03-23 10:38:00,059 : INFO : topic #0 (0.125): 0.007*\"say\" + 0.003*\"-\" + 0.002*\"game\" + 0.002*\"polic\" + 0.002*\"year\" + 0.002*\"offic\" + 0.001*\"time\" + 0.001*\"counti\" + 0.001*\"go\" + 0.001*\"karzai\"\n",
            "2020-03-23 10:38:00,063 : INFO : topic diff=0.250448, rho=0.113611\n",
            "2020-03-23 10:38:01,279 : INFO : -8.445 per-word bound, 348.4 perplexity estimate based on a held-out corpus of 475 documents with 134953 words\n",
            "2020-03-23 10:38:01,290 : INFO : PROGRESS: pass 2, dispatched chunk #0 = documents up to #1000/12475, outstanding queue size 1\n",
            "2020-03-23 10:38:01,432 : INFO : PROGRESS: pass 2, dispatched chunk #1 = documents up to #2000/12475, outstanding queue size 2\n",
            "2020-03-23 10:38:01,436 : INFO : PROGRESS: pass 2, dispatched chunk #2 = documents up to #3000/12475, outstanding queue size 3\n",
            "2020-03-23 10:38:01,439 : INFO : PROGRESS: pass 2, dispatched chunk #3 = documents up to #4000/12475, outstanding queue size 4\n",
            "2020-03-23 10:38:01,588 : INFO : PROGRESS: pass 2, dispatched chunk #4 = documents up to #5000/12475, outstanding queue size 5\n",
            "2020-03-23 10:38:01,593 : INFO : PROGRESS: pass 2, dispatched chunk #5 = documents up to #6000/12475, outstanding queue size 6\n",
            "2020-03-23 10:38:01,596 : INFO : PROGRESS: pass 2, dispatched chunk #6 = documents up to #7000/12475, outstanding queue size 7\n",
            "2020-03-23 10:38:01,757 : INFO : PROGRESS: pass 2, dispatched chunk #7 = documents up to #8000/12475, outstanding queue size 8\n",
            "2020-03-23 10:38:01,824 : INFO : PROGRESS: pass 2, dispatched chunk #8 = documents up to #9000/12475, outstanding queue size 9\n",
            "2020-03-23 10:38:04,927 : INFO : PROGRESS: pass 2, dispatched chunk #9 = documents up to #10000/12475, outstanding queue size 9\n",
            "2020-03-23 10:38:06,478 : INFO : merging changes from 3000 documents into a model of 12475 documents\n",
            "2020-03-23 10:38:07,073 : INFO : topic #19 (0.024): 0.024*\"-\" + 0.011*\"say\" + 0.005*\"citi\" + 0.005*\"year\" + 0.005*\"new\" + 0.004*\"dec\" + 0.003*\"time\" + 0.003*\"like\" + 0.003*\"includ\" + 0.003*\"day\"\n",
            "2020-03-23 10:38:07,084 : INFO : topic #18 (0.025): 0.011*\"-\" + 0.003*\"say\" + 0.003*\"year\" + 0.002*\"game\" + 0.002*\"point\" + 0.002*\"season\" + 0.002*\"state\" + 0.002*\"like\" + 0.002*\"time\" + 0.002*\"team\"\n",
            "2020-03-23 10:38:07,098 : INFO : topic #2 (0.086): 0.018*\"say\" + 0.012*\"polic\" + 0.010*\"-\" + 0.008*\"offic\" + 0.006*\"counti\" + 0.005*\"report\" + 0.005*\"citi\" + 0.005*\"investig\" + 0.005*\"shoot\" + 0.005*\"fire\"\n",
            "2020-03-23 10:38:07,110 : INFO : topic #1 (0.102): 0.011*\"say\" + 0.010*\"-\" + 0.006*\"court\" + 0.003*\"year\" + 0.003*\"state\" + 0.003*\"case\" + 0.003*\"time\" + 0.002*\"new\" + 0.002*\"iran\" + 0.002*\"attorney\"\n",
            "2020-03-23 10:38:07,114 : INFO : topic #0 (0.125): 0.007*\"say\" + 0.003*\"-\" + 0.002*\"game\" + 0.002*\"polic\" + 0.002*\"year\" + 0.002*\"offic\" + 0.001*\"afghanistan\" + 0.001*\"time\" + 0.001*\"karzai\" + 0.001*\"counti\"\n",
            "2020-03-23 10:38:07,122 : INFO : topic diff=0.273596, rho=0.112885\n",
            "2020-03-23 10:38:07,126 : INFO : PROGRESS: pass 2, dispatched chunk #10 = documents up to #11000/12475, outstanding queue size 8\n",
            "2020-03-23 10:38:07,132 : INFO : PROGRESS: pass 2, dispatched chunk #11 = documents up to #12000/12475, outstanding queue size 9\n",
            "2020-03-23 10:38:08,647 : INFO : PROGRESS: pass 2, dispatched chunk #12 = documents up to #12475/12475, outstanding queue size 9\n",
            "2020-03-23 10:38:10,904 : INFO : merging changes from 3000 documents into a model of 12475 documents\n",
            "2020-03-23 10:38:11,534 : INFO : topic #19 (0.024): 0.025*\"-\" + 0.011*\"say\" + 0.005*\"citi\" + 0.005*\"year\" + 0.005*\"new\" + 0.004*\"dec\" + 0.003*\"time\" + 0.003*\"like\" + 0.003*\"christma\" + 0.003*\"day\"\n",
            "2020-03-23 10:38:11,551 : INFO : topic #18 (0.025): 0.010*\"-\" + 0.003*\"say\" + 0.003*\"year\" + 0.002*\"point\" + 0.002*\"game\" + 0.002*\"season\" + 0.002*\"like\" + 0.002*\"state\" + 0.002*\"time\" + 0.002*\"team\"\n",
            "2020-03-23 10:38:11,557 : INFO : topic #2 (0.086): 0.019*\"say\" + 0.013*\"polic\" + 0.010*\"-\" + 0.009*\"offic\" + 0.007*\"counti\" + 0.006*\"report\" + 0.005*\"citi\" + 0.005*\"investig\" + 0.005*\"shoot\" + 0.005*\"accord\"\n",
            "2020-03-23 10:38:11,562 : INFO : topic #1 (0.102): 0.011*\"say\" + 0.010*\"-\" + 0.006*\"court\" + 0.003*\"state\" + 0.003*\"case\" + 0.003*\"year\" + 0.003*\"time\" + 0.003*\"iran\" + 0.003*\"attorney\" + 0.002*\"new\"\n",
            "2020-03-23 10:38:11,568 : INFO : topic #0 (0.125): 0.007*\"say\" + 0.003*\"-\" + 0.002*\"game\" + 0.002*\"polic\" + 0.002*\"year\" + 0.002*\"offic\" + 0.001*\"time\" + 0.001*\"counti\" + 0.001*\"afghanistan\" + 0.001*\"karzai\"\n",
            "2020-03-23 10:38:11,575 : INFO : topic diff=0.292050, rho=0.112885\n",
            "2020-03-23 10:38:14,106 : INFO : merging changes from 3000 documents into a model of 12475 documents\n",
            "2020-03-23 10:38:14,721 : INFO : topic #19 (0.024): 0.024*\"-\" + 0.011*\"say\" + 0.005*\"citi\" + 0.005*\"year\" + 0.005*\"new\" + 0.004*\"dec\" + 0.003*\"time\" + 0.003*\"like\" + 0.003*\"day\" + 0.003*\"includ\"\n",
            "2020-03-23 10:38:14,732 : INFO : topic #18 (0.025): 0.011*\"-\" + 0.003*\"say\" + 0.003*\"year\" + 0.002*\"point\" + 0.002*\"game\" + 0.002*\"season\" + 0.002*\"like\" + 0.002*\"state\" + 0.002*\"time\" + 0.002*\"team\"\n",
            "2020-03-23 10:38:14,739 : INFO : topic #2 (0.086): 0.020*\"say\" + 0.014*\"polic\" + 0.010*\"-\" + 0.009*\"offic\" + 0.007*\"counti\" + 0.006*\"report\" + 0.005*\"investig\" + 0.005*\"citi\" + 0.005*\"shoot\" + 0.005*\"fire\"\n",
            "2020-03-23 10:38:14,745 : INFO : topic #1 (0.102): 0.011*\"say\" + 0.010*\"-\" + 0.006*\"court\" + 0.004*\"case\" + 0.003*\"state\" + 0.003*\"year\" + 0.003*\"time\" + 0.003*\"iran\" + 0.003*\"attorney\" + 0.003*\"new\"\n",
            "2020-03-23 10:38:14,748 : INFO : topic #0 (0.125): 0.007*\"say\" + 0.003*\"-\" + 0.002*\"game\" + 0.002*\"polic\" + 0.002*\"year\" + 0.002*\"afghanistan\" + 0.002*\"offic\" + 0.001*\"karzai\" + 0.001*\"time\" + 0.001*\"counti\"\n",
            "2020-03-23 10:38:14,756 : INFO : topic diff=0.303811, rho=0.112885\n",
            "2020-03-23 10:38:17,149 : INFO : merging changes from 3000 documents into a model of 12475 documents\n",
            "2020-03-23 10:38:17,467 : INFO : topic #19 (0.024): 0.024*\"-\" + 0.011*\"say\" + 0.005*\"citi\" + 0.005*\"year\" + 0.005*\"new\" + 0.004*\"dec\" + 0.003*\"time\" + 0.003*\"like\" + 0.003*\"christma\" + 0.003*\"day\"\n",
            "2020-03-23 10:38:17,470 : INFO : topic #18 (0.025): 0.011*\"-\" + 0.003*\"say\" + 0.003*\"year\" + 0.002*\"point\" + 0.002*\"game\" + 0.002*\"season\" + 0.002*\"like\" + 0.002*\"state\" + 0.002*\"bree\" + 0.002*\"time\"\n",
            "2020-03-23 10:38:17,473 : INFO : topic #2 (0.086): 0.020*\"say\" + 0.014*\"polic\" + 0.011*\"-\" + 0.009*\"offic\" + 0.007*\"counti\" + 0.006*\"report\" + 0.005*\"investig\" + 0.005*\"citi\" + 0.005*\"shoot\" + 0.005*\"fire\"\n",
            "2020-03-23 10:38:17,475 : INFO : topic #1 (0.102): 0.011*\"say\" + 0.010*\"-\" + 0.007*\"court\" + 0.004*\"case\" + 0.004*\"state\" + 0.003*\"year\" + 0.003*\"time\" + 0.003*\"iran\" + 0.003*\"attorney\" + 0.003*\"new\"\n",
            "2020-03-23 10:38:17,478 : INFO : topic #0 (0.125): 0.007*\"say\" + 0.003*\"-\" + 0.002*\"afghanistan\" + 0.002*\"karzai\" + 0.002*\"game\" + 0.002*\"polic\" + 0.002*\"year\" + 0.002*\"taliban\" + 0.001*\"offic\" + 0.001*\"time\"\n",
            "2020-03-23 10:38:17,482 : INFO : topic diff=0.321785, rho=0.112885\n",
            "2020-03-23 10:38:17,505 : INFO : merging changes from 475 documents into a model of 12475 documents\n",
            "2020-03-23 10:38:17,713 : INFO : topic #19 (0.024): 0.024*\"-\" + 0.010*\"say\" + 0.005*\"citi\" + 0.005*\"year\" + 0.005*\"new\" + 0.003*\"dec\" + 0.003*\"time\" + 0.003*\"like\" + 0.003*\"open\" + 0.003*\"includ\"\n",
            "2020-03-23 10:38:17,716 : INFO : topic #18 (0.025): 0.010*\"-\" + 0.003*\"say\" + 0.003*\"year\" + 0.002*\"point\" + 0.002*\"game\" + 0.002*\"howel\" + 0.002*\"season\" + 0.002*\"like\" + 0.002*\"state\" + 0.002*\"team\"\n",
            "2020-03-23 10:38:17,718 : INFO : topic #2 (0.086): 0.021*\"say\" + 0.014*\"polic\" + 0.011*\"-\" + 0.009*\"offic\" + 0.007*\"counti\" + 0.006*\"report\" + 0.005*\"citi\" + 0.005*\"investig\" + 0.005*\"shoot\" + 0.005*\"fire\"\n",
            "2020-03-23 10:38:17,721 : INFO : topic #1 (0.102): 0.012*\"say\" + 0.010*\"-\" + 0.008*\"court\" + 0.004*\"case\" + 0.004*\"state\" + 0.003*\"year\" + 0.003*\"attorney\" + 0.003*\"time\" + 0.003*\"trump\" + 0.003*\"iran\"\n",
            "2020-03-23 10:38:17,723 : INFO : topic #0 (0.125): 0.007*\"say\" + 0.003*\"-\" + 0.002*\"afghanistan\" + 0.002*\"karzai\" + 0.002*\"game\" + 0.002*\"polic\" + 0.002*\"year\" + 0.001*\"taliban\" + 0.001*\"offic\" + 0.001*\"time\"\n",
            "2020-03-23 10:38:17,727 : INFO : topic diff=0.350262, rho=0.112885\n",
            "2020-03-23 10:38:18,929 : INFO : -8.257 per-word bound, 305.9 perplexity estimate based on a held-out corpus of 475 documents with 134953 words\n",
            "2020-03-23 10:38:18,938 : INFO : PROGRESS: pass 3, dispatched chunk #0 = documents up to #1000/12475, outstanding queue size 1\n",
            "2020-03-23 10:38:19,083 : INFO : PROGRESS: pass 3, dispatched chunk #1 = documents up to #2000/12475, outstanding queue size 2\n",
            "2020-03-23 10:38:19,085 : INFO : PROGRESS: pass 3, dispatched chunk #2 = documents up to #3000/12475, outstanding queue size 3\n",
            "2020-03-23 10:38:19,090 : INFO : PROGRESS: pass 3, dispatched chunk #3 = documents up to #4000/12475, outstanding queue size 4\n",
            "2020-03-23 10:38:19,232 : INFO : PROGRESS: pass 3, dispatched chunk #4 = documents up to #5000/12475, outstanding queue size 5\n",
            "2020-03-23 10:38:19,240 : INFO : PROGRESS: pass 3, dispatched chunk #5 = documents up to #6000/12475, outstanding queue size 6\n",
            "2020-03-23 10:38:19,439 : INFO : PROGRESS: pass 3, dispatched chunk #6 = documents up to #7000/12475, outstanding queue size 7\n",
            "2020-03-23 10:38:19,441 : INFO : PROGRESS: pass 3, dispatched chunk #7 = documents up to #8000/12475, outstanding queue size 8\n",
            "2020-03-23 10:38:19,625 : INFO : PROGRESS: pass 3, dispatched chunk #8 = documents up to #9000/12475, outstanding queue size 9\n",
            "2020-03-23 10:38:22,541 : INFO : PROGRESS: pass 3, dispatched chunk #9 = documents up to #10000/12475, outstanding queue size 9\n",
            "2020-03-23 10:38:23,961 : INFO : merging changes from 3000 documents into a model of 12475 documents\n",
            "2020-03-23 10:38:24,573 : INFO : topic #19 (0.024): 0.025*\"-\" + 0.010*\"say\" + 0.005*\"citi\" + 0.005*\"year\" + 0.005*\"new\" + 0.004*\"dec\" + 0.003*\"time\" + 0.003*\"like\" + 0.003*\"christma\" + 0.003*\"day\"\n",
            "2020-03-23 10:38:24,589 : INFO : topic #18 (0.025): 0.011*\"-\" + 0.003*\"say\" + 0.003*\"year\" + 0.003*\"howel\" + 0.002*\"point\" + 0.002*\"game\" + 0.002*\"season\" + 0.002*\"bree\" + 0.002*\"sagal\" + 0.002*\"like\"\n",
            "2020-03-23 10:38:24,598 : INFO : topic #2 (0.086): 0.021*\"say\" + 0.014*\"polic\" + 0.011*\"-\" + 0.009*\"offic\" + 0.007*\"counti\" + 0.006*\"report\" + 0.006*\"citi\" + 0.005*\"investig\" + 0.005*\"man\" + 0.005*\"shoot\"\n",
            "2020-03-23 10:38:24,605 : INFO : topic #1 (0.102): 0.012*\"say\" + 0.010*\"-\" + 0.008*\"court\" + 0.004*\"case\" + 0.004*\"state\" + 0.003*\"year\" + 0.003*\"attorney\" + 0.003*\"time\" + 0.003*\"trump\" + 0.003*\"iran\"\n",
            "2020-03-23 10:38:24,612 : INFO : topic #0 (0.125): 0.007*\"say\" + 0.003*\"afghanistan\" + 0.003*\"-\" + 0.003*\"karzai\" + 0.002*\"taliban\" + 0.002*\"afghan\" + 0.002*\"game\" + 0.002*\"polic\" + 0.002*\"year\" + 0.001*\"offic\"\n",
            "2020-03-23 10:38:24,620 : INFO : topic diff=0.380588, rho=0.112172\n",
            "2020-03-23 10:38:24,627 : INFO : PROGRESS: pass 3, dispatched chunk #10 = documents up to #11000/12475, outstanding queue size 8\n",
            "2020-03-23 10:38:24,643 : INFO : PROGRESS: pass 3, dispatched chunk #11 = documents up to #12000/12475, outstanding queue size 9\n",
            "2020-03-23 10:38:26,451 : INFO : PROGRESS: pass 3, dispatched chunk #12 = documents up to #12475/12475, outstanding queue size 9\n",
            "2020-03-23 10:38:27,478 : INFO : merging changes from 3000 documents into a model of 12475 documents\n",
            "2020-03-23 10:38:28,196 : INFO : topic #19 (0.024): 0.025*\"-\" + 0.010*\"say\" + 0.005*\"year\" + 0.005*\"citi\" + 0.005*\"new\" + 0.004*\"dec\" + 0.003*\"time\" + 0.003*\"like\" + 0.003*\"christma\" + 0.003*\"day\"\n",
            "2020-03-23 10:38:28,216 : INFO : topic #18 (0.025): 0.010*\"-\" + 0.003*\"say\" + 0.003*\"howel\" + 0.003*\"year\" + 0.002*\"point\" + 0.002*\"game\" + 0.002*\"season\" + 0.002*\"bree\" + 0.002*\"like\" + 0.002*\"sagal\"\n",
            "2020-03-23 10:38:28,227 : INFO : topic #2 (0.086): 0.021*\"say\" + 0.015*\"polic\" + 0.011*\"-\" + 0.010*\"offic\" + 0.008*\"counti\" + 0.006*\"report\" + 0.006*\"citi\" + 0.006*\"investig\" + 0.006*\"man\" + 0.005*\"shoot\"\n",
            "2020-03-23 10:38:28,239 : INFO : topic #1 (0.102): 0.012*\"say\" + 0.010*\"-\" + 0.009*\"court\" + 0.005*\"case\" + 0.004*\"state\" + 0.003*\"attorney\" + 0.003*\"year\" + 0.003*\"judg\" + 0.003*\"time\" + 0.003*\"trump\"\n",
            "2020-03-23 10:38:28,252 : INFO : topic #0 (0.125): 0.007*\"say\" + 0.004*\"afghanistan\" + 0.003*\"-\" + 0.003*\"karzai\" + 0.002*\"afghan\" + 0.002*\"taliban\" + 0.002*\"game\" + 0.002*\"year\" + 0.002*\"polic\" + 0.001*\"offic\"\n",
            "2020-03-23 10:38:28,268 : INFO : topic diff=0.400676, rho=0.112172\n",
            "2020-03-23 10:38:30,985 : INFO : merging changes from 3000 documents into a model of 12475 documents\n",
            "2020-03-23 10:38:31,659 : INFO : topic #19 (0.024): 0.025*\"-\" + 0.010*\"say\" + 0.005*\"year\" + 0.005*\"new\" + 0.005*\"citi\" + 0.004*\"dec\" + 0.003*\"time\" + 0.003*\"like\" + 0.003*\"christma\" + 0.003*\"day\"\n",
            "2020-03-23 10:38:31,681 : INFO : topic #18 (0.025): 0.011*\"-\" + 0.003*\"say\" + 0.003*\"howel\" + 0.002*\"point\" + 0.002*\"year\" + 0.002*\"bree\" + 0.002*\"game\" + 0.002*\"season\" + 0.002*\"cosbi\" + 0.002*\"riley\"\n",
            "2020-03-23 10:38:31,693 : INFO : topic #2 (0.086): 0.022*\"say\" + 0.015*\"polic\" + 0.011*\"-\" + 0.010*\"offic\" + 0.008*\"counti\" + 0.007*\"report\" + 0.006*\"investig\" + 0.006*\"man\" + 0.006*\"citi\" + 0.006*\"shoot\"\n",
            "2020-03-23 10:38:31,710 : INFO : topic #1 (0.102): 0.012*\"say\" + 0.010*\"-\" + 0.009*\"court\" + 0.005*\"case\" + 0.004*\"state\" + 0.003*\"attorney\" + 0.003*\"year\" + 0.003*\"judg\" + 0.003*\"feder\" + 0.003*\"iran\"\n",
            "2020-03-23 10:38:31,717 : INFO : topic #0 (0.125): 0.006*\"say\" + 0.004*\"afghanistan\" + 0.003*\"afghan\" + 0.003*\"-\" + 0.003*\"karzai\" + 0.003*\"taliban\" + 0.002*\"game\" + 0.002*\"year\" + 0.002*\"polic\" + 0.001*\"offic\"\n",
            "2020-03-23 10:38:31,724 : INFO : topic diff=0.410695, rho=0.112172\n",
            "2020-03-23 10:38:34,146 : INFO : merging changes from 3475 documents into a model of 12475 documents\n",
            "2020-03-23 10:38:34,354 : INFO : topic #19 (0.024): 0.025*\"-\" + 0.010*\"say\" + 0.005*\"year\" + 0.005*\"new\" + 0.005*\"citi\" + 0.004*\"dec\" + 0.003*\"time\" + 0.003*\"like\" + 0.003*\"christma\" + 0.003*\"day\"\n",
            "2020-03-23 10:38:34,359 : INFO : topic #18 (0.025): 0.011*\"-\" + 0.003*\"howel\" + 0.003*\"say\" + 0.002*\"bree\" + 0.002*\"point\" + 0.002*\"year\" + 0.002*\"riley\" + 0.002*\"game\" + 0.002*\"cosbi\" + 0.002*\"season\"\n",
            "2020-03-23 10:38:34,361 : INFO : topic #2 (0.086): 0.022*\"say\" + 0.015*\"polic\" + 0.011*\"-\" + 0.010*\"offic\" + 0.008*\"counti\" + 0.007*\"report\" + 0.006*\"investig\" + 0.006*\"citi\" + 0.006*\"man\" + 0.006*\"shoot\"\n",
            "2020-03-23 10:38:34,364 : INFO : topic #1 (0.102): 0.012*\"say\" + 0.010*\"-\" + 0.009*\"court\" + 0.005*\"case\" + 0.004*\"state\" + 0.004*\"attorney\" + 0.003*\"judg\" + 0.003*\"year\" + 0.003*\"feder\" + 0.003*\"law\"\n",
            "2020-03-23 10:38:34,366 : INFO : topic #0 (0.125): 0.006*\"say\" + 0.005*\"afghanistan\" + 0.004*\"karzai\" + 0.003*\"afghan\" + 0.003*\"taliban\" + 0.003*\"-\" + 0.002*\"corrupt\" + 0.002*\"game\" + 0.002*\"year\" + 0.001*\"polic\"\n",
            "2020-03-23 10:38:34,370 : INFO : topic diff=0.425267, rho=0.112172\n",
            "2020-03-23 10:38:35,574 : INFO : -8.214 per-word bound, 296.9 perplexity estimate based on a held-out corpus of 475 documents with 134953 words\n",
            "2020-03-23 10:38:35,578 : INFO : PROGRESS: pass 4, dispatched chunk #0 = documents up to #1000/12475, outstanding queue size 1\n",
            "2020-03-23 10:38:35,719 : INFO : PROGRESS: pass 4, dispatched chunk #1 = documents up to #2000/12475, outstanding queue size 2\n",
            "2020-03-23 10:38:35,720 : INFO : PROGRESS: pass 4, dispatched chunk #2 = documents up to #3000/12475, outstanding queue size 3\n",
            "2020-03-23 10:38:35,723 : INFO : PROGRESS: pass 4, dispatched chunk #3 = documents up to #4000/12475, outstanding queue size 4\n",
            "2020-03-23 10:38:35,724 : INFO : PROGRESS: pass 4, dispatched chunk #4 = documents up to #5000/12475, outstanding queue size 5\n",
            "2020-03-23 10:38:35,726 : INFO : PROGRESS: pass 4, dispatched chunk #5 = documents up to #6000/12475, outstanding queue size 6\n",
            "2020-03-23 10:38:35,842 : INFO : PROGRESS: pass 4, dispatched chunk #6 = documents up to #7000/12475, outstanding queue size 7\n",
            "2020-03-23 10:38:36,076 : INFO : PROGRESS: pass 4, dispatched chunk #7 = documents up to #8000/12475, outstanding queue size 8\n",
            "2020-03-23 10:38:36,140 : INFO : PROGRESS: pass 4, dispatched chunk #8 = documents up to #9000/12475, outstanding queue size 9\n",
            "2020-03-23 10:38:38,981 : INFO : PROGRESS: pass 4, dispatched chunk #9 = documents up to #10000/12475, outstanding queue size 9\n",
            "2020-03-23 10:38:40,097 : INFO : merging changes from 3000 documents into a model of 12475 documents\n",
            "2020-03-23 10:38:40,967 : INFO : topic #19 (0.024): 0.025*\"-\" + 0.009*\"say\" + 0.005*\"year\" + 0.005*\"new\" + 0.005*\"citi\" + 0.004*\"dec\" + 0.004*\"like\" + 0.004*\"time\" + 0.003*\"christma\" + 0.003*\"day\"\n",
            "2020-03-23 10:38:40,979 : INFO : topic #18 (0.025): 0.011*\"-\" + 0.004*\"howel\" + 0.003*\"say\" + 0.003*\"bree\" + 0.003*\"sagal\" + 0.002*\"riley\" + 0.002*\"cosbi\" + 0.002*\"year\" + 0.002*\"point\" + 0.002*\"lee\"\n",
            "2020-03-23 10:38:40,988 : INFO : topic #2 (0.086): 0.022*\"say\" + 0.015*\"polic\" + 0.011*\"-\" + 0.010*\"offic\" + 0.008*\"counti\" + 0.007*\"report\" + 0.006*\"man\" + 0.006*\"investig\" + 0.006*\"citi\" + 0.006*\"accord\"\n",
            "2020-03-23 10:38:40,991 : INFO : topic #1 (0.102): 0.012*\"say\" + 0.011*\"-\" + 0.010*\"court\" + 0.005*\"case\" + 0.005*\"state\" + 0.004*\"attorney\" + 0.004*\"judg\" + 0.003*\"feder\" + 0.003*\"year\" + 0.003*\"law\"\n",
            "2020-03-23 10:38:40,994 : INFO : topic #0 (0.125): 0.007*\"afghanistan\" + 0.006*\"say\" + 0.004*\"afghan\" + 0.004*\"karzai\" + 0.004*\"taliban\" + 0.003*\"-\" + 0.002*\"corrupt\" + 0.002*\"ceasefir\" + 0.002*\"game\" + 0.002*\"peac\"\n",
            "2020-03-23 10:38:41,006 : INFO : topic diff=0.461282, rho=0.111473\n",
            "2020-03-23 10:38:41,008 : INFO : PROGRESS: pass 4, dispatched chunk #10 = documents up to #11000/12475, outstanding queue size 8\n",
            "2020-03-23 10:38:41,009 : INFO : PROGRESS: pass 4, dispatched chunk #11 = documents up to #12000/12475, outstanding queue size 9\n",
            "2020-03-23 10:38:42,207 : INFO : PROGRESS: pass 4, dispatched chunk #12 = documents up to #12475/12475, outstanding queue size 9\n",
            "2020-03-23 10:38:43,943 : INFO : merging changes from 3000 documents into a model of 12475 documents\n",
            "2020-03-23 10:38:45,035 : INFO : topic #19 (0.024): 0.026*\"-\" + 0.009*\"say\" + 0.005*\"year\" + 0.005*\"new\" + 0.005*\"citi\" + 0.004*\"dec\" + 0.004*\"like\" + 0.004*\"time\" + 0.003*\"christma\" + 0.003*\"day\"\n",
            "2020-03-23 10:38:45,039 : INFO : topic #18 (0.025): 0.010*\"-\" + 0.004*\"howel\" + 0.003*\"say\" + 0.003*\"avalanch\" + 0.003*\"bree\" + 0.002*\"riley\" + 0.002*\"sagal\" + 0.002*\"year\" + 0.002*\"cosbi\" + 0.002*\"point\"\n",
            "2020-03-23 10:38:45,046 : INFO : topic #2 (0.086): 0.023*\"say\" + 0.016*\"polic\" + 0.011*\"-\" + 0.010*\"offic\" + 0.008*\"counti\" + 0.007*\"report\" + 0.006*\"man\" + 0.006*\"citi\" + 0.006*\"investig\" + 0.006*\"shoot\"\n",
            "2020-03-23 10:38:45,051 : INFO : topic #1 (0.102): 0.013*\"say\" + 0.011*\"-\" + 0.010*\"court\" + 0.005*\"case\" + 0.005*\"state\" + 0.004*\"attorney\" + 0.004*\"judg\" + 0.004*\"feder\" + 0.004*\"law\" + 0.003*\"year\"\n",
            "2020-03-23 10:38:45,057 : INFO : topic #0 (0.125): 0.008*\"afghanistan\" + 0.006*\"say\" + 0.005*\"afghan\" + 0.004*\"taliban\" + 0.004*\"karzai\" + 0.003*\"-\" + 0.002*\"corrupt\" + 0.002*\"kabul\" + 0.002*\"ceasefir\" + 0.002*\"game\"\n",
            "2020-03-23 10:38:45,065 : INFO : topic diff=0.476483, rho=0.111473\n",
            "2020-03-23 10:38:48,002 : INFO : merging changes from 3000 documents into a model of 12475 documents\n",
            "2020-03-23 10:38:48,505 : INFO : topic #19 (0.024): 0.025*\"-\" + 0.009*\"say\" + 0.005*\"year\" + 0.005*\"new\" + 0.005*\"citi\" + 0.004*\"dec\" + 0.004*\"like\" + 0.004*\"time\" + 0.003*\"christma\" + 0.003*\"day\"\n",
            "2020-03-23 10:38:48,515 : INFO : topic #18 (0.025): 0.011*\"-\" + 0.004*\"howel\" + 0.003*\"bree\" + 0.003*\"avalanch\" + 0.003*\"say\" + 0.003*\"riley\" + 0.003*\"cosbi\" + 0.002*\"point\" + 0.002*\"sagal\" + 0.002*\"jedi\"\n",
            "2020-03-23 10:38:48,522 : INFO : topic #2 (0.086): 0.023*\"say\" + 0.016*\"polic\" + 0.011*\"-\" + 0.010*\"offic\" + 0.008*\"counti\" + 0.007*\"report\" + 0.006*\"man\" + 0.006*\"investig\" + 0.006*\"citi\" + 0.006*\"accord\"\n",
            "2020-03-23 10:38:48,530 : INFO : topic #1 (0.102): 0.013*\"say\" + 0.011*\"-\" + 0.010*\"court\" + 0.006*\"case\" + 0.005*\"state\" + 0.004*\"judg\" + 0.004*\"attorney\" + 0.004*\"feder\" + 0.004*\"law\" + 0.003*\"year\"\n",
            "2020-03-23 10:38:48,538 : INFO : topic #0 (0.125): 0.008*\"afghanistan\" + 0.006*\"say\" + 0.006*\"afghan\" + 0.005*\"taliban\" + 0.004*\"karzai\" + 0.002*\"-\" + 0.002*\"corrupt\" + 0.002*\"kabul\" + 0.002*\"peac\" + 0.002*\"ceasefir\"\n",
            "2020-03-23 10:38:48,547 : INFO : topic diff=0.477238, rho=0.111473\n",
            "2020-03-23 10:38:50,826 : INFO : merging changes from 3475 documents into a model of 12475 documents\n",
            "2020-03-23 10:38:51,038 : INFO : topic #19 (0.024): 0.025*\"-\" + 0.009*\"say\" + 0.005*\"year\" + 0.005*\"new\" + 0.005*\"citi\" + 0.004*\"like\" + 0.004*\"dec\" + 0.004*\"time\" + 0.003*\"christma\" + 0.003*\"day\"\n",
            "2020-03-23 10:38:51,040 : INFO : topic #18 (0.025): 0.011*\"-\" + 0.005*\"howel\" + 0.003*\"bree\" + 0.003*\"avalanch\" + 0.003*\"riley\" + 0.003*\"say\" + 0.003*\"cosbi\" + 0.003*\"jedi\" + 0.002*\"point\" + 0.002*\"star\"\n",
            "2020-03-23 10:38:51,043 : INFO : topic #2 (0.086): 0.023*\"say\" + 0.016*\"polic\" + 0.011*\"-\" + 0.010*\"offic\" + 0.008*\"counti\" + 0.007*\"report\" + 0.006*\"man\" + 0.006*\"investig\" + 0.006*\"citi\" + 0.006*\"shoot\"\n",
            "2020-03-23 10:38:51,045 : INFO : topic #1 (0.102): 0.013*\"say\" + 0.011*\"-\" + 0.010*\"court\" + 0.006*\"case\" + 0.005*\"state\" + 0.004*\"judg\" + 0.004*\"attorney\" + 0.004*\"feder\" + 0.004*\"law\" + 0.003*\"year\"\n",
            "2020-03-23 10:38:51,048 : INFO : topic #0 (0.125): 0.010*\"afghanistan\" + 0.006*\"say\" + 0.006*\"afghan\" + 0.005*\"taliban\" + 0.005*\"karzai\" + 0.003*\"corrupt\" + 0.002*\"-\" + 0.002*\"peac\" + 0.002*\"kabul\" + 0.002*\"ceasefir\"\n",
            "2020-03-23 10:38:51,052 : INFO : topic diff=0.483601, rho=0.111473\n",
            "2020-03-23 10:38:52,258 : INFO : -8.180 per-word bound, 290.0 perplexity estimate based on a held-out corpus of 475 documents with 134953 words\n",
            "2020-03-23 10:38:52,268 : INFO : PROGRESS: pass 5, dispatched chunk #0 = documents up to #1000/12475, outstanding queue size 1\n",
            "2020-03-23 10:38:52,414 : INFO : PROGRESS: pass 5, dispatched chunk #1 = documents up to #2000/12475, outstanding queue size 2\n",
            "2020-03-23 10:38:52,416 : INFO : PROGRESS: pass 5, dispatched chunk #2 = documents up to #3000/12475, outstanding queue size 3\n",
            "2020-03-23 10:38:52,420 : INFO : PROGRESS: pass 5, dispatched chunk #3 = documents up to #4000/12475, outstanding queue size 4\n",
            "2020-03-23 10:38:52,421 : INFO : PROGRESS: pass 5, dispatched chunk #4 = documents up to #5000/12475, outstanding queue size 5\n",
            "2020-03-23 10:38:52,422 : INFO : PROGRESS: pass 5, dispatched chunk #5 = documents up to #6000/12475, outstanding queue size 6\n",
            "2020-03-23 10:38:52,538 : INFO : PROGRESS: pass 5, dispatched chunk #6 = documents up to #7000/12475, outstanding queue size 7\n",
            "2020-03-23 10:38:52,747 : INFO : PROGRESS: pass 5, dispatched chunk #7 = documents up to #8000/12475, outstanding queue size 8\n",
            "2020-03-23 10:38:52,815 : INFO : PROGRESS: pass 5, dispatched chunk #8 = documents up to #9000/12475, outstanding queue size 9\n",
            "2020-03-23 10:38:55,412 : INFO : PROGRESS: pass 5, dispatched chunk #9 = documents up to #10000/12475, outstanding queue size 9\n",
            "2020-03-23 10:38:56,236 : INFO : PROGRESS: pass 5, dispatched chunk #10 = documents up to #11000/12475, outstanding queue size 10\n",
            "2020-03-23 10:38:56,869 : INFO : merging changes from 3000 documents into a model of 12475 documents\n",
            "2020-03-23 10:38:57,473 : INFO : topic #19 (0.024): 0.026*\"-\" + 0.009*\"say\" + 0.005*\"year\" + 0.005*\"new\" + 0.005*\"citi\" + 0.004*\"like\" + 0.004*\"dec\" + 0.004*\"time\" + 0.004*\"christma\" + 0.003*\"day\"\n",
            "2020-03-23 10:38:57,488 : INFO : topic #18 (0.025): 0.011*\"-\" + 0.005*\"howel\" + 0.004*\"riley\" + 0.003*\"sagal\" + 0.003*\"bree\" + 0.003*\"cosbi\" + 0.003*\"lee\" + 0.003*\"avalanch\" + 0.003*\"jedi\" + 0.003*\"star\"\n",
            "2020-03-23 10:38:57,498 : INFO : topic #2 (0.086): 0.023*\"say\" + 0.016*\"polic\" + 0.011*\"-\" + 0.010*\"offic\" + 0.008*\"counti\" + 0.007*\"report\" + 0.006*\"man\" + 0.006*\"citi\" + 0.006*\"investig\" + 0.006*\"accord\"\n",
            "2020-03-23 10:38:57,504 : INFO : topic #1 (0.102): 0.013*\"say\" + 0.011*\"-\" + 0.010*\"court\" + 0.006*\"case\" + 0.005*\"state\" + 0.004*\"judg\" + 0.004*\"feder\" + 0.004*\"attorney\" + 0.004*\"law\" + 0.004*\"year\"\n",
            "2020-03-23 10:38:57,511 : INFO : topic #0 (0.125): 0.011*\"afghanistan\" + 0.008*\"afghan\" + 0.006*\"say\" + 0.006*\"taliban\" + 0.006*\"karzai\" + 0.003*\"corrupt\" + 0.003*\"peac\" + 0.002*\"ceasefir\" + 0.002*\"kabul\" + 0.002*\"-\"\n",
            "2020-03-23 10:38:57,519 : INFO : topic diff=0.513428, rho=0.110787\n",
            "2020-03-23 10:38:57,525 : INFO : PROGRESS: pass 5, dispatched chunk #11 = documents up to #12000/12475, outstanding queue size 9\n",
            "2020-03-23 10:38:59,077 : INFO : PROGRESS: pass 5, dispatched chunk #12 = documents up to #12475/12475, outstanding queue size 9\n",
            "2020-03-23 10:39:00,479 : INFO : merging changes from 3000 documents into a model of 12475 documents\n",
            "2020-03-23 10:39:01,200 : INFO : topic #19 (0.024): 0.026*\"-\" + 0.009*\"say\" + 0.005*\"year\" + 0.005*\"new\" + 0.005*\"citi\" + 0.004*\"like\" + 0.004*\"christma\" + 0.004*\"dec\" + 0.004*\"time\" + 0.003*\"day\"\n",
            "2020-03-23 10:39:01,214 : INFO : topic #18 (0.025): 0.011*\"-\" + 0.006*\"howel\" + 0.004*\"avalanch\" + 0.003*\"riley\" + 0.003*\"bree\" + 0.003*\"sagal\" + 0.003*\"lee\" + 0.003*\"cosbi\" + 0.003*\"star\" + 0.003*\"jedi\"\n",
            "2020-03-23 10:39:01,220 : INFO : topic #2 (0.086): 0.024*\"say\" + 0.016*\"polic\" + 0.011*\"-\" + 0.011*\"offic\" + 0.008*\"counti\" + 0.007*\"report\" + 0.006*\"man\" + 0.006*\"citi\" + 0.006*\"investig\" + 0.006*\"accord\"\n",
            "2020-03-23 10:39:01,225 : INFO : topic #1 (0.102): 0.013*\"say\" + 0.011*\"-\" + 0.010*\"court\" + 0.006*\"case\" + 0.005*\"state\" + 0.004*\"law\" + 0.004*\"attorney\" + 0.004*\"feder\" + 0.004*\"judg\" + 0.004*\"year\"\n",
            "2020-03-23 10:39:01,231 : INFO : topic #0 (0.125): 0.012*\"afghanistan\" + 0.009*\"afghan\" + 0.007*\"taliban\" + 0.006*\"say\" + 0.005*\"karzai\" + 0.003*\"corrupt\" + 0.003*\"kabul\" + 0.003*\"peac\" + 0.002*\"ceasefir\" + 0.002*\"-\"\n",
            "2020-03-23 10:39:01,249 : INFO : topic diff=0.517817, rho=0.110787\n",
            "2020-03-23 10:39:03,570 : INFO : merging changes from 3000 documents into a model of 12475 documents\n",
            "2020-03-23 10:39:04,297 : INFO : topic #19 (0.024): 0.026*\"-\" + 0.008*\"say\" + 0.006*\"year\" + 0.005*\"new\" + 0.005*\"citi\" + 0.004*\"like\" + 0.004*\"christma\" + 0.004*\"dec\" + 0.004*\"time\" + 0.003*\"day\"\n",
            "2020-03-23 10:39:04,317 : INFO : topic #18 (0.025): 0.012*\"-\" + 0.006*\"howel\" + 0.004*\"avalanch\" + 0.004*\"bree\" + 0.004*\"riley\" + 0.003*\"cosbi\" + 0.003*\"star\" + 0.003*\"jedi\" + 0.003*\"sagal\" + 0.003*\"lee\"\n",
            "2020-03-23 10:39:04,328 : INFO : topic #2 (0.086): 0.024*\"say\" + 0.016*\"polic\" + 0.011*\"offic\" + 0.011*\"-\" + 0.008*\"counti\" + 0.007*\"report\" + 0.006*\"man\" + 0.006*\"investig\" + 0.006*\"citi\" + 0.006*\"accord\"\n",
            "2020-03-23 10:39:04,340 : INFO : topic #1 (0.102): 0.013*\"say\" + 0.011*\"-\" + 0.010*\"court\" + 0.006*\"case\" + 0.006*\"state\" + 0.004*\"law\" + 0.004*\"feder\" + 0.004*\"judg\" + 0.004*\"attorney\" + 0.004*\"year\"\n",
            "2020-03-23 10:39:04,351 : INFO : topic #0 (0.125): 0.013*\"afghanistan\" + 0.009*\"afghan\" + 0.007*\"taliban\" + 0.006*\"say\" + 0.005*\"karzai\" + 0.003*\"corrupt\" + 0.003*\"peac\" + 0.003*\"kabul\" + 0.002*\"document\" + 0.002*\"-\"\n",
            "2020-03-23 10:39:04,359 : INFO : topic diff=0.504272, rho=0.110787\n",
            "2020-03-23 10:39:06,851 : INFO : merging changes from 3475 documents into a model of 12475 documents\n",
            "2020-03-23 10:39:07,061 : INFO : topic #19 (0.024): 0.025*\"-\" + 0.008*\"say\" + 0.006*\"year\" + 0.005*\"new\" + 0.005*\"citi\" + 0.004*\"like\" + 0.004*\"christma\" + 0.004*\"dec\" + 0.004*\"time\" + 0.003*\"day\"\n",
            "2020-03-23 10:39:07,064 : INFO : topic #18 (0.025): 0.011*\"-\" + 0.007*\"howel\" + 0.004*\"avalanch\" + 0.004*\"riley\" + 0.004*\"bree\" + 0.004*\"star\" + 0.003*\"jedi\" + 0.003*\"cosbi\" + 0.003*\"lee\" + 0.003*\"sagal\"\n",
            "2020-03-23 10:39:07,066 : INFO : topic #2 (0.086): 0.024*\"say\" + 0.016*\"polic\" + 0.011*\"offic\" + 0.011*\"-\" + 0.008*\"counti\" + 0.007*\"report\" + 0.006*\"man\" + 0.006*\"citi\" + 0.006*\"investig\" + 0.006*\"accord\"\n",
            "2020-03-23 10:39:07,068 : INFO : topic #1 (0.102): 0.013*\"say\" + 0.011*\"-\" + 0.011*\"court\" + 0.006*\"case\" + 0.006*\"state\" + 0.004*\"law\" + 0.004*\"feder\" + 0.004*\"judg\" + 0.004*\"attorney\" + 0.004*\"year\"\n",
            "2020-03-23 10:39:07,071 : INFO : topic #0 (0.125): 0.015*\"afghanistan\" + 0.009*\"afghan\" + 0.008*\"taliban\" + 0.007*\"karzai\" + 0.006*\"say\" + 0.004*\"corrupt\" + 0.003*\"peac\" + 0.003*\"kabul\" + 0.003*\"document\" + 0.003*\"ceasefir\"\n",
            "2020-03-23 10:39:07,074 : INFO : topic diff=0.498222, rho=0.110787\n",
            "2020-03-23 10:39:08,286 : INFO : -8.158 per-word bound, 285.6 perplexity estimate based on a held-out corpus of 475 documents with 134953 words\n",
            "2020-03-23 10:39:08,290 : INFO : PROGRESS: pass 6, dispatched chunk #0 = documents up to #1000/12475, outstanding queue size 1\n",
            "2020-03-23 10:39:08,435 : INFO : PROGRESS: pass 6, dispatched chunk #1 = documents up to #2000/12475, outstanding queue size 2\n",
            "2020-03-23 10:39:08,436 : INFO : PROGRESS: pass 6, dispatched chunk #2 = documents up to #3000/12475, outstanding queue size 3\n",
            "2020-03-23 10:39:08,437 : INFO : PROGRESS: pass 6, dispatched chunk #3 = documents up to #4000/12475, outstanding queue size 4\n",
            "2020-03-23 10:39:08,438 : INFO : PROGRESS: pass 6, dispatched chunk #4 = documents up to #5000/12475, outstanding queue size 5\n",
            "2020-03-23 10:39:08,439 : INFO : PROGRESS: pass 6, dispatched chunk #5 = documents up to #6000/12475, outstanding queue size 6\n",
            "2020-03-23 10:39:08,554 : INFO : PROGRESS: pass 6, dispatched chunk #6 = documents up to #7000/12475, outstanding queue size 7\n",
            "2020-03-23 10:39:08,758 : INFO : PROGRESS: pass 6, dispatched chunk #7 = documents up to #8000/12475, outstanding queue size 8\n",
            "2020-03-23 10:39:08,824 : INFO : PROGRESS: pass 6, dispatched chunk #8 = documents up to #9000/12475, outstanding queue size 9\n",
            "2020-03-23 10:39:11,610 : INFO : PROGRESS: pass 6, dispatched chunk #9 = documents up to #10000/12475, outstanding queue size 9\n",
            "2020-03-23 10:39:12,528 : INFO : merging changes from 3000 documents into a model of 12475 documents\n",
            "2020-03-23 10:39:13,387 : INFO : topic #19 (0.024): 0.026*\"-\" + 0.008*\"say\" + 0.006*\"year\" + 0.005*\"new\" + 0.004*\"citi\" + 0.004*\"like\" + 0.004*\"christma\" + 0.004*\"dec\" + 0.004*\"time\" + 0.003*\"day\"\n",
            "2020-03-23 10:39:13,396 : INFO : topic #18 (0.025): 0.012*\"-\" + 0.007*\"howel\" + 0.005*\"riley\" + 0.004*\"avalanch\" + 0.004*\"bree\" + 0.004*\"sagal\" + 0.004*\"star\" + 0.004*\"lee\" + 0.004*\"cosbi\" + 0.004*\"jedi\"\n",
            "2020-03-23 10:39:13,404 : INFO : topic #2 (0.086): 0.024*\"say\" + 0.016*\"polic\" + 0.011*\"offic\" + 0.011*\"-\" + 0.008*\"counti\" + 0.007*\"report\" + 0.006*\"man\" + 0.006*\"citi\" + 0.006*\"investig\" + 0.006*\"accord\"\n",
            "2020-03-23 10:39:13,412 : INFO : topic #1 (0.102): 0.013*\"say\" + 0.011*\"-\" + 0.011*\"court\" + 0.006*\"case\" + 0.006*\"state\" + 0.005*\"law\" + 0.004*\"feder\" + 0.004*\"judg\" + 0.004*\"attorney\" + 0.004*\"year\"\n",
            "2020-03-23 10:39:13,419 : INFO : topic #0 (0.125): 0.016*\"afghanistan\" + 0.011*\"afghan\" + 0.009*\"taliban\" + 0.007*\"karzai\" + 0.007*\"say\" + 0.004*\"corrupt\" + 0.004*\"peac\" + 0.003*\"kabul\" + 0.003*\"document\" + 0.003*\"ceasefir\"\n",
            "2020-03-23 10:39:13,433 : INFO : topic diff=0.518517, rho=0.110113\n",
            "2020-03-23 10:39:13,446 : INFO : PROGRESS: pass 6, dispatched chunk #10 = documents up to #11000/12475, outstanding queue size 8\n",
            "2020-03-23 10:39:13,453 : INFO : PROGRESS: pass 6, dispatched chunk #11 = documents up to #12000/12475, outstanding queue size 9\n",
            "2020-03-23 10:39:15,248 : INFO : PROGRESS: pass 6, dispatched chunk #12 = documents up to #12475/12475, outstanding queue size 9\n",
            "2020-03-23 10:39:15,913 : INFO : merging changes from 3000 documents into a model of 12475 documents\n",
            "2020-03-23 10:39:16,812 : INFO : topic #19 (0.024): 0.026*\"-\" + 0.008*\"say\" + 0.006*\"year\" + 0.005*\"new\" + 0.004*\"citi\" + 0.004*\"christma\" + 0.004*\"like\" + 0.004*\"dec\" + 0.004*\"time\" + 0.003*\"day\"\n",
            "2020-03-23 10:39:16,822 : INFO : topic #18 (0.025): 0.011*\"-\" + 0.007*\"howel\" + 0.006*\"avalanch\" + 0.004*\"riley\" + 0.004*\"star\" + 0.004*\"bree\" + 0.004*\"sagal\" + 0.004*\"lee\" + 0.004*\"jedi\" + 0.003*\"cosbi\"\n",
            "2020-03-23 10:39:16,829 : INFO : topic #2 (0.086): 0.024*\"say\" + 0.016*\"polic\" + 0.011*\"offic\" + 0.011*\"-\" + 0.008*\"counti\" + 0.007*\"report\" + 0.006*\"man\" + 0.006*\"citi\" + 0.006*\"investig\" + 0.006*\"accord\"\n",
            "2020-03-23 10:39:16,834 : INFO : topic #1 (0.102): 0.013*\"say\" + 0.011*\"-\" + 0.011*\"court\" + 0.006*\"case\" + 0.006*\"state\" + 0.005*\"law\" + 0.005*\"feder\" + 0.004*\"attorney\" + 0.004*\"judg\" + 0.004*\"year\"\n",
            "2020-03-23 10:39:16,841 : INFO : topic #0 (0.125): 0.017*\"afghanistan\" + 0.012*\"afghan\" + 0.009*\"taliban\" + 0.006*\"karzai\" + 0.006*\"say\" + 0.004*\"corrupt\" + 0.004*\"peac\" + 0.003*\"kabul\" + 0.003*\"document\" + 0.003*\"ceasefir\"\n",
            "2020-03-23 10:39:16,850 : INFO : topic diff=0.510134, rho=0.110113\n",
            "2020-03-23 10:39:19,538 : INFO : merging changes from 3000 documents into a model of 12475 documents\n",
            "2020-03-23 10:39:20,067 : INFO : topic #19 (0.024): 0.026*\"-\" + 0.008*\"say\" + 0.006*\"year\" + 0.005*\"new\" + 0.004*\"citi\" + 0.004*\"like\" + 0.004*\"christma\" + 0.004*\"dec\" + 0.004*\"time\" + 0.003*\"day\"\n",
            "2020-03-23 10:39:20,081 : INFO : topic #18 (0.025): 0.012*\"-\" + 0.008*\"howel\" + 0.006*\"avalanch\" + 0.005*\"riley\" + 0.004*\"bree\" + 0.004*\"star\" + 0.004*\"jedi\" + 0.004*\"cosbi\" + 0.004*\"war\" + 0.004*\"lee\"\n",
            "2020-03-23 10:39:20,090 : INFO : topic #2 (0.086): 0.024*\"say\" + 0.016*\"polic\" + 0.011*\"offic\" + 0.011*\"-\" + 0.008*\"counti\" + 0.007*\"report\" + 0.006*\"man\" + 0.006*\"citi\" + 0.006*\"investig\" + 0.006*\"accord\"\n",
            "2020-03-23 10:39:20,099 : INFO : topic #1 (0.102): 0.013*\"say\" + 0.011*\"-\" + 0.011*\"court\" + 0.006*\"case\" + 0.006*\"state\" + 0.005*\"law\" + 0.005*\"feder\" + 0.005*\"judg\" + 0.004*\"attorney\" + 0.004*\"year\"\n",
            "2020-03-23 10:39:20,107 : INFO : topic #0 (0.125): 0.018*\"afghanistan\" + 0.012*\"afghan\" + 0.009*\"taliban\" + 0.006*\"karzai\" + 0.006*\"say\" + 0.004*\"corrupt\" + 0.004*\"peac\" + 0.003*\"kabul\" + 0.003*\"document\" + 0.003*\"drake\"\n",
            "2020-03-23 10:39:20,117 : INFO : topic diff=0.481997, rho=0.110113\n",
            "2020-03-23 10:39:22,446 : INFO : merging changes from 3000 documents into a model of 12475 documents\n",
            "2020-03-23 10:39:22,746 : INFO : topic #19 (0.024): 0.026*\"-\" + 0.008*\"say\" + 0.006*\"year\" + 0.005*\"new\" + 0.004*\"citi\" + 0.004*\"like\" + 0.004*\"christma\" + 0.004*\"time\" + 0.004*\"dec\" + 0.003*\"day\"\n",
            "2020-03-23 10:39:22,749 : INFO : topic #18 (0.025): 0.012*\"-\" + 0.008*\"howel\" + 0.006*\"avalanch\" + 0.005*\"riley\" + 0.005*\"bree\" + 0.005*\"star\" + 0.004*\"jedi\" + 0.004*\"cosbi\" + 0.004*\"war\" + 0.004*\"lee\"\n",
            "2020-03-23 10:39:22,752 : INFO : topic #2 (0.086): 0.024*\"say\" + 0.016*\"polic\" + 0.011*\"offic\" + 0.011*\"-\" + 0.008*\"counti\" + 0.007*\"report\" + 0.006*\"man\" + 0.006*\"citi\" + 0.006*\"investig\" + 0.006*\"accord\"\n",
            "2020-03-23 10:39:22,754 : INFO : topic #1 (0.102): 0.013*\"say\" + 0.011*\"-\" + 0.011*\"court\" + 0.007*\"case\" + 0.006*\"state\" + 0.005*\"law\" + 0.005*\"feder\" + 0.005*\"judg\" + 0.005*\"attorney\" + 0.004*\"year\"\n",
            "2020-03-23 10:39:22,757 : INFO : topic #0 (0.125): 0.019*\"afghanistan\" + 0.012*\"afghan\" + 0.010*\"taliban\" + 0.008*\"karzai\" + 0.007*\"say\" + 0.005*\"corrupt\" + 0.004*\"peac\" + 0.004*\"document\" + 0.004*\"kabul\" + 0.004*\"govern\"\n",
            "2020-03-23 10:39:22,761 : INFO : topic diff=0.464458, rho=0.110113\n",
            "2020-03-23 10:39:22,783 : INFO : merging changes from 475 documents into a model of 12475 documents\n",
            "2020-03-23 10:39:22,991 : INFO : topic #19 (0.024): 0.025*\"-\" + 0.008*\"say\" + 0.006*\"year\" + 0.005*\"new\" + 0.004*\"citi\" + 0.004*\"like\" + 0.004*\"christma\" + 0.004*\"time\" + 0.003*\"dec\" + 0.003*\"open\"\n",
            "2020-03-23 10:39:22,993 : INFO : topic #18 (0.025): 0.012*\"-\" + 0.010*\"howel\" + 0.006*\"star\" + 0.006*\"riley\" + 0.005*\"jedi\" + 0.005*\"war\" + 0.005*\"avalanch\" + 0.004*\"bree\" + 0.004*\"lee\" + 0.004*\"westmoreland\"\n",
            "2020-03-23 10:39:22,996 : INFO : topic #2 (0.086): 0.025*\"say\" + 0.017*\"polic\" + 0.011*\"offic\" + 0.011*\"-\" + 0.008*\"counti\" + 0.007*\"report\" + 0.006*\"man\" + 0.006*\"citi\" + 0.006*\"investig\" + 0.006*\"shoot\"\n",
            "2020-03-23 10:39:22,999 : INFO : topic #1 (0.102): 0.014*\"say\" + 0.011*\"-\" + 0.011*\"court\" + 0.007*\"case\" + 0.006*\"state\" + 0.005*\"law\" + 0.005*\"attorney\" + 0.005*\"feder\" + 0.004*\"judg\" + 0.004*\"trump\"\n",
            "2020-03-23 10:39:23,002 : INFO : topic #0 (0.125): 0.018*\"afghanistan\" + 0.012*\"afghan\" + 0.009*\"taliban\" + 0.008*\"karzai\" + 0.007*\"say\" + 0.005*\"corrupt\" + 0.004*\"peac\" + 0.004*\"document\" + 0.004*\"kabul\" + 0.003*\"govern\"\n",
            "2020-03-23 10:39:23,006 : INFO : topic diff=0.461972, rho=0.110113\n",
            "2020-03-23 10:39:24,194 : INFO : -8.037 per-word bound, 262.7 perplexity estimate based on a held-out corpus of 475 documents with 134953 words\n",
            "2020-03-23 10:39:24,206 : INFO : PROGRESS: pass 7, dispatched chunk #0 = documents up to #1000/12475, outstanding queue size 1\n",
            "2020-03-23 10:39:24,341 : INFO : PROGRESS: pass 7, dispatched chunk #1 = documents up to #2000/12475, outstanding queue size 2\n",
            "2020-03-23 10:39:24,342 : INFO : PROGRESS: pass 7, dispatched chunk #2 = documents up to #3000/12475, outstanding queue size 3\n",
            "2020-03-23 10:39:24,344 : INFO : PROGRESS: pass 7, dispatched chunk #3 = documents up to #4000/12475, outstanding queue size 4\n",
            "2020-03-23 10:39:24,346 : INFO : PROGRESS: pass 7, dispatched chunk #4 = documents up to #5000/12475, outstanding queue size 5\n",
            "2020-03-23 10:39:24,347 : INFO : PROGRESS: pass 7, dispatched chunk #5 = documents up to #6000/12475, outstanding queue size 6\n",
            "2020-03-23 10:39:24,506 : INFO : PROGRESS: pass 7, dispatched chunk #6 = documents up to #7000/12475, outstanding queue size 7\n",
            "2020-03-23 10:39:24,669 : INFO : PROGRESS: pass 7, dispatched chunk #7 = documents up to #8000/12475, outstanding queue size 8\n",
            "2020-03-23 10:39:24,736 : INFO : PROGRESS: pass 7, dispatched chunk #8 = documents up to #9000/12475, outstanding queue size 9\n",
            "2020-03-23 10:39:27,585 : INFO : PROGRESS: pass 7, dispatched chunk #9 = documents up to #10000/12475, outstanding queue size 9\n",
            "2020-03-23 10:39:28,059 : INFO : merging changes from 3000 documents into a model of 12475 documents\n",
            "2020-03-23 10:39:28,983 : INFO : topic #19 (0.024): 0.026*\"-\" + 0.007*\"say\" + 0.006*\"year\" + 0.005*\"new\" + 0.004*\"citi\" + 0.004*\"like\" + 0.004*\"christma\" + 0.004*\"time\" + 0.004*\"dec\" + 0.003*\"open\"\n",
            "2020-03-23 10:39:28,990 : INFO : topic #18 (0.025): 0.013*\"-\" + 0.010*\"howel\" + 0.007*\"star\" + 0.006*\"riley\" + 0.006*\"war\" + 0.006*\"jedi\" + 0.005*\"avalanch\" + 0.005*\"lee\" + 0.004*\"bree\" + 0.004*\"sagal\"\n",
            "2020-03-23 10:39:28,996 : INFO : topic #2 (0.086): 0.025*\"say\" + 0.017*\"polic\" + 0.011*\"offic\" + 0.011*\"-\" + 0.008*\"counti\" + 0.007*\"report\" + 0.006*\"man\" + 0.006*\"citi\" + 0.006*\"investig\" + 0.006*\"accord\"\n",
            "2020-03-23 10:39:29,003 : INFO : topic #1 (0.102): 0.014*\"say\" + 0.011*\"-\" + 0.011*\"court\" + 0.007*\"case\" + 0.006*\"state\" + 0.005*\"law\" + 0.005*\"attorney\" + 0.005*\"feder\" + 0.004*\"judg\" + 0.004*\"trump\"\n",
            "2020-03-23 10:39:29,014 : INFO : topic #0 (0.125): 0.019*\"afghanistan\" + 0.013*\"afghan\" + 0.010*\"taliban\" + 0.008*\"karzai\" + 0.007*\"say\" + 0.005*\"corrupt\" + 0.005*\"peac\" + 0.004*\"kabul\" + 0.004*\"govern\" + 0.004*\"document\"\n",
            "2020-03-23 10:39:29,023 : INFO : topic diff=0.463588, rho=0.109452\n",
            "2020-03-23 10:39:29,030 : INFO : PROGRESS: pass 7, dispatched chunk #10 = documents up to #11000/12475, outstanding queue size 8\n",
            "2020-03-23 10:39:29,035 : INFO : PROGRESS: pass 7, dispatched chunk #11 = documents up to #12000/12475, outstanding queue size 9\n",
            "2020-03-23 10:39:31,042 : INFO : PROGRESS: pass 7, dispatched chunk #12 = documents up to #12475/12475, outstanding queue size 9\n",
            "2020-03-23 10:39:32,230 : INFO : merging changes from 3000 documents into a model of 12475 documents\n",
            "2020-03-23 10:39:32,940 : INFO : topic #19 (0.024): 0.026*\"-\" + 0.007*\"say\" + 0.006*\"year\" + 0.005*\"new\" + 0.004*\"citi\" + 0.004*\"christma\" + 0.004*\"like\" + 0.004*\"time\" + 0.004*\"dec\" + 0.003*\"open\"\n",
            "2020-03-23 10:39:32,943 : INFO : topic #18 (0.025): 0.012*\"-\" + 0.010*\"howel\" + 0.007*\"star\" + 0.006*\"avalanch\" + 0.006*\"riley\" + 0.006*\"war\" + 0.005*\"jedi\" + 0.005*\"lee\" + 0.004*\"bree\" + 0.004*\"sagal\"\n",
            "2020-03-23 10:39:32,951 : INFO : topic #2 (0.086): 0.025*\"say\" + 0.017*\"polic\" + 0.011*\"offic\" + 0.011*\"-\" + 0.008*\"counti\" + 0.007*\"report\" + 0.006*\"man\" + 0.006*\"citi\" + 0.006*\"shoot\" + 0.006*\"accord\"\n",
            "2020-03-23 10:39:32,953 : INFO : topic #1 (0.102): 0.014*\"say\" + 0.011*\"-\" + 0.011*\"court\" + 0.007*\"case\" + 0.006*\"state\" + 0.005*\"law\" + 0.005*\"attorney\" + 0.005*\"feder\" + 0.004*\"judg\" + 0.004*\"trump\"\n",
            "2020-03-23 10:39:32,956 : INFO : topic #0 (0.125): 0.020*\"afghanistan\" + 0.014*\"afghan\" + 0.010*\"taliban\" + 0.007*\"karzai\" + 0.007*\"say\" + 0.005*\"corrupt\" + 0.004*\"peac\" + 0.004*\"kabul\" + 0.004*\"govern\" + 0.004*\"document\"\n",
            "2020-03-23 10:39:32,960 : INFO : topic diff=0.443417, rho=0.109452\n",
            "2020-03-23 10:39:35,435 : INFO : merging changes from 3000 documents into a model of 12475 documents\n",
            "2020-03-23 10:39:36,131 : INFO : topic #19 (0.024): 0.026*\"-\" + 0.007*\"say\" + 0.006*\"year\" + 0.005*\"new\" + 0.004*\"citi\" + 0.004*\"like\" + 0.004*\"christma\" + 0.004*\"time\" + 0.004*\"dec\" + 0.003*\"day\"\n",
            "2020-03-23 10:39:36,146 : INFO : topic #18 (0.025): 0.013*\"-\" + 0.010*\"howel\" + 0.007*\"star\" + 0.007*\"avalanch\" + 0.006*\"war\" + 0.006*\"riley\" + 0.005*\"jedi\" + 0.005*\"bree\" + 0.005*\"lee\" + 0.004*\"cosbi\"\n",
            "2020-03-23 10:39:36,149 : INFO : topic #2 (0.086): 0.025*\"say\" + 0.017*\"polic\" + 0.011*\"offic\" + 0.011*\"-\" + 0.008*\"counti\" + 0.008*\"report\" + 0.006*\"man\" + 0.006*\"citi\" + 0.006*\"accord\" + 0.006*\"investig\"\n",
            "2020-03-23 10:39:36,154 : INFO : topic #1 (0.102): 0.014*\"say\" + 0.011*\"-\" + 0.011*\"court\" + 0.007*\"case\" + 0.006*\"state\" + 0.005*\"law\" + 0.005*\"feder\" + 0.005*\"attorney\" + 0.005*\"judg\" + 0.004*\"trump\"\n",
            "2020-03-23 10:39:36,160 : INFO : topic #0 (0.125): 0.021*\"afghanistan\" + 0.014*\"afghan\" + 0.010*\"taliban\" + 0.007*\"karzai\" + 0.006*\"say\" + 0.005*\"corrupt\" + 0.004*\"peac\" + 0.004*\"govern\" + 0.004*\"kabul\" + 0.004*\"drake\"\n",
            "2020-03-23 10:39:36,169 : INFO : topic diff=0.403844, rho=0.109452\n",
            "2020-03-23 10:39:38,267 : INFO : merging changes from 3000 documents into a model of 12475 documents\n",
            "2020-03-23 10:39:38,525 : INFO : topic #19 (0.024): 0.026*\"-\" + 0.007*\"say\" + 0.006*\"year\" + 0.005*\"new\" + 0.004*\"citi\" + 0.004*\"christma\" + 0.004*\"like\" + 0.004*\"time\" + 0.003*\"dec\" + 0.003*\"day\"\n",
            "2020-03-23 10:39:38,530 : INFO : topic #18 (0.025): 0.013*\"-\" + 0.011*\"howel\" + 0.007*\"star\" + 0.007*\"avalanch\" + 0.006*\"war\" + 0.006*\"riley\" + 0.006*\"jedi\" + 0.005*\"bree\" + 0.005*\"lee\" + 0.004*\"cosbi\"\n",
            "2020-03-23 10:39:38,533 : INFO : topic #2 (0.086): 0.025*\"say\" + 0.017*\"polic\" + 0.011*\"offic\" + 0.011*\"-\" + 0.008*\"counti\" + 0.008*\"report\" + 0.006*\"man\" + 0.006*\"citi\" + 0.006*\"shoot\" + 0.006*\"investig\"\n",
            "2020-03-23 10:39:38,537 : INFO : topic #1 (0.102): 0.014*\"say\" + 0.011*\"-\" + 0.011*\"court\" + 0.007*\"case\" + 0.007*\"state\" + 0.006*\"law\" + 0.005*\"feder\" + 0.005*\"attorney\" + 0.005*\"judg\" + 0.004*\"trump\"\n",
            "2020-03-23 10:39:38,540 : INFO : topic #0 (0.125): 0.022*\"afghanistan\" + 0.014*\"afghan\" + 0.011*\"taliban\" + 0.009*\"karzai\" + 0.007*\"say\" + 0.006*\"corrupt\" + 0.005*\"govern\" + 0.005*\"peac\" + 0.004*\"document\" + 0.004*\"offici\"\n",
            "2020-03-23 10:39:38,544 : INFO : topic diff=0.377948, rho=0.109452\n",
            "2020-03-23 10:39:38,569 : INFO : merging changes from 475 documents into a model of 12475 documents\n",
            "2020-03-23 10:39:38,778 : INFO : topic #19 (0.024): 0.026*\"-\" + 0.007*\"say\" + 0.006*\"year\" + 0.006*\"new\" + 0.004*\"citi\" + 0.004*\"christma\" + 0.004*\"like\" + 0.004*\"time\" + 0.003*\"open\" + 0.003*\"dec\"\n",
            "2020-03-23 10:39:38,780 : INFO : topic #18 (0.025): 0.013*\"-\" + 0.013*\"howel\" + 0.009*\"star\" + 0.008*\"war\" + 0.007*\"riley\" + 0.007*\"jedi\" + 0.006*\"avalanch\" + 0.005*\"lee\" + 0.004*\"bree\" + 0.004*\"westmoreland\"\n",
            "2020-03-23 10:39:38,783 : INFO : topic #2 (0.086): 0.025*\"say\" + 0.017*\"polic\" + 0.011*\"offic\" + 0.011*\"-\" + 0.008*\"counti\" + 0.007*\"report\" + 0.006*\"citi\" + 0.006*\"man\" + 0.006*\"shoot\" + 0.006*\"investig\"\n",
            "2020-03-23 10:39:38,785 : INFO : topic #1 (0.102): 0.014*\"say\" + 0.011*\"-\" + 0.011*\"court\" + 0.007*\"case\" + 0.007*\"state\" + 0.006*\"law\" + 0.005*\"attorney\" + 0.005*\"feder\" + 0.005*\"trump\" + 0.004*\"judg\"\n",
            "2020-03-23 10:39:38,788 : INFO : topic #0 (0.125): 0.021*\"afghanistan\" + 0.013*\"afghan\" + 0.011*\"taliban\" + 0.008*\"karzai\" + 0.007*\"say\" + 0.006*\"corrupt\" + 0.005*\"govern\" + 0.005*\"peac\" + 0.004*\"document\" + 0.004*\"offici\"\n",
            "2020-03-23 10:39:38,792 : INFO : topic diff=0.369713, rho=0.109452\n",
            "2020-03-23 10:39:39,964 : INFO : -7.976 per-word bound, 251.8 perplexity estimate based on a held-out corpus of 475 documents with 134953 words\n",
            "2020-03-23 10:39:39,974 : INFO : PROGRESS: pass 8, dispatched chunk #0 = documents up to #1000/12475, outstanding queue size 1\n",
            "2020-03-23 10:39:40,115 : INFO : PROGRESS: pass 8, dispatched chunk #1 = documents up to #2000/12475, outstanding queue size 2\n",
            "2020-03-23 10:39:40,119 : INFO : PROGRESS: pass 8, dispatched chunk #2 = documents up to #3000/12475, outstanding queue size 3\n",
            "2020-03-23 10:39:40,122 : INFO : PROGRESS: pass 8, dispatched chunk #3 = documents up to #4000/12475, outstanding queue size 4\n",
            "2020-03-23 10:39:40,270 : INFO : PROGRESS: pass 8, dispatched chunk #4 = documents up to #5000/12475, outstanding queue size 5\n",
            "2020-03-23 10:39:40,275 : INFO : PROGRESS: pass 8, dispatched chunk #5 = documents up to #6000/12475, outstanding queue size 6\n",
            "2020-03-23 10:39:40,276 : INFO : PROGRESS: pass 8, dispatched chunk #6 = documents up to #7000/12475, outstanding queue size 7\n",
            "2020-03-23 10:39:40,530 : INFO : PROGRESS: pass 8, dispatched chunk #7 = documents up to #8000/12475, outstanding queue size 8\n",
            "2020-03-23 10:39:40,965 : INFO : PROGRESS: pass 8, dispatched chunk #8 = documents up to #9000/12475, outstanding queue size 9\n",
            "2020-03-23 10:39:43,388 : INFO : PROGRESS: pass 8, dispatched chunk #9 = documents up to #10000/12475, outstanding queue size 9\n",
            "2020-03-23 10:39:43,954 : INFO : PROGRESS: pass 8, dispatched chunk #10 = documents up to #11000/12475, outstanding queue size 9\n",
            "2020-03-23 10:39:44,726 : INFO : merging changes from 3000 documents into a model of 12475 documents\n",
            "2020-03-23 10:39:45,519 : INFO : topic #19 (0.024): 0.026*\"-\" + 0.007*\"say\" + 0.006*\"year\" + 0.006*\"new\" + 0.004*\"citi\" + 0.004*\"christma\" + 0.004*\"like\" + 0.004*\"time\" + 0.003*\"open\" + 0.003*\"dec\"\n",
            "2020-03-23 10:39:45,526 : INFO : topic #18 (0.025): 0.014*\"-\" + 0.012*\"howel\" + 0.009*\"star\" + 0.008*\"war\" + 0.007*\"riley\" + 0.007*\"jedi\" + 0.006*\"lee\" + 0.006*\"avalanch\" + 0.005*\"bree\" + 0.004*\"sagal\"\n",
            "2020-03-23 10:39:45,537 : INFO : topic #2 (0.086): 0.025*\"say\" + 0.017*\"polic\" + 0.011*\"offic\" + 0.011*\"-\" + 0.008*\"counti\" + 0.008*\"report\" + 0.006*\"man\" + 0.006*\"citi\" + 0.006*\"shoot\" + 0.006*\"accord\"\n",
            "2020-03-23 10:39:45,543 : INFO : topic #1 (0.102): 0.014*\"say\" + 0.011*\"-\" + 0.011*\"court\" + 0.007*\"case\" + 0.007*\"state\" + 0.006*\"law\" + 0.005*\"attorney\" + 0.005*\"feder\" + 0.005*\"trump\" + 0.004*\"judg\"\n",
            "2020-03-23 10:39:45,556 : INFO : topic #0 (0.125): 0.022*\"afghanistan\" + 0.014*\"afghan\" + 0.011*\"taliban\" + 0.008*\"karzai\" + 0.007*\"say\" + 0.006*\"corrupt\" + 0.005*\"peac\" + 0.005*\"govern\" + 0.004*\"document\" + 0.004*\"kabul\"\n",
            "2020-03-23 10:39:45,568 : INFO : topic diff=0.368941, rho=0.108802\n",
            "2020-03-23 10:39:45,574 : INFO : PROGRESS: pass 8, dispatched chunk #11 = documents up to #12000/12475, outstanding queue size 9\n",
            "2020-03-23 10:39:47,159 : INFO : PROGRESS: pass 8, dispatched chunk #12 = documents up to #12475/12475, outstanding queue size 8\n",
            "2020-03-23 10:39:47,821 : INFO : merging changes from 3000 documents into a model of 12475 documents\n",
            "2020-03-23 10:39:48,828 : INFO : topic #19 (0.024): 0.026*\"-\" + 0.007*\"say\" + 0.006*\"year\" + 0.006*\"new\" + 0.004*\"christma\" + 0.004*\"citi\" + 0.004*\"like\" + 0.004*\"time\" + 0.003*\"dec\" + 0.003*\"open\"\n",
            "2020-03-23 10:39:48,849 : INFO : topic #18 (0.025): 0.013*\"-\" + 0.012*\"howel\" + 0.009*\"star\" + 0.008*\"war\" + 0.007*\"avalanch\" + 0.007*\"riley\" + 0.006*\"jedi\" + 0.006*\"lee\" + 0.004*\"bree\" + 0.004*\"book\"\n",
            "2020-03-23 10:39:48,860 : INFO : topic #2 (0.086): 0.025*\"say\" + 0.017*\"polic\" + 0.011*\"offic\" + 0.011*\"-\" + 0.008*\"counti\" + 0.008*\"report\" + 0.007*\"man\" + 0.006*\"citi\" + 0.006*\"shoot\" + 0.006*\"accord\"\n",
            "2020-03-23 10:39:48,866 : INFO : topic #1 (0.102): 0.014*\"say\" + 0.011*\"-\" + 0.011*\"court\" + 0.007*\"case\" + 0.007*\"state\" + 0.006*\"law\" + 0.005*\"attorney\" + 0.005*\"feder\" + 0.005*\"trump\" + 0.004*\"judg\"\n",
            "2020-03-23 10:39:48,871 : INFO : topic #0 (0.125): 0.023*\"afghanistan\" + 0.015*\"afghan\" + 0.011*\"taliban\" + 0.008*\"karzai\" + 0.007*\"say\" + 0.006*\"corrupt\" + 0.005*\"govern\" + 0.005*\"peac\" + 0.004*\"offici\" + 0.004*\"kabul\"\n",
            "2020-03-23 10:39:48,878 : INFO : topic diff=0.345495, rho=0.108802\n",
            "2020-03-23 10:39:50,839 : INFO : merging changes from 3000 documents into a model of 12475 documents\n",
            "2020-03-23 10:39:51,593 : INFO : topic #19 (0.024): 0.026*\"-\" + 0.007*\"say\" + 0.006*\"year\" + 0.005*\"new\" + 0.004*\"christma\" + 0.004*\"like\" + 0.004*\"citi\" + 0.004*\"time\" + 0.003*\"dec\" + 0.003*\"holiday\"\n",
            "2020-03-23 10:39:51,603 : INFO : topic #18 (0.025): 0.014*\"-\" + 0.012*\"howel\" + 0.009*\"star\" + 0.009*\"war\" + 0.007*\"avalanch\" + 0.007*\"riley\" + 0.006*\"jedi\" + 0.006*\"lee\" + 0.005*\"bree\" + 0.004*\"say\"\n",
            "2020-03-23 10:39:51,611 : INFO : topic #2 (0.086): 0.025*\"say\" + 0.017*\"polic\" + 0.011*\"offic\" + 0.011*\"-\" + 0.008*\"counti\" + 0.008*\"report\" + 0.007*\"man\" + 0.006*\"citi\" + 0.006*\"shoot\" + 0.006*\"accord\"\n",
            "2020-03-23 10:39:51,618 : INFO : topic #1 (0.102): 0.014*\"say\" + 0.011*\"-\" + 0.011*\"court\" + 0.007*\"case\" + 0.007*\"state\" + 0.006*\"law\" + 0.005*\"attorney\" + 0.005*\"feder\" + 0.005*\"trump\" + 0.005*\"judg\"\n",
            "2020-03-23 10:39:51,626 : INFO : topic #0 (0.125): 0.023*\"afghanistan\" + 0.015*\"afghan\" + 0.011*\"taliban\" + 0.007*\"karzai\" + 0.007*\"say\" + 0.006*\"corrupt\" + 0.005*\"govern\" + 0.005*\"peac\" + 0.004*\"drake\" + 0.004*\"offici\"\n",
            "2020-03-23 10:39:51,634 : INFO : topic diff=0.303489, rho=0.108802\n",
            "2020-03-23 10:39:53,989 : INFO : merging changes from 3000 documents into a model of 12475 documents\n",
            "2020-03-23 10:39:54,317 : INFO : topic #19 (0.024): 0.026*\"-\" + 0.007*\"say\" + 0.006*\"year\" + 0.006*\"new\" + 0.004*\"christma\" + 0.004*\"like\" + 0.004*\"citi\" + 0.004*\"time\" + 0.003*\"holiday\" + 0.003*\"dec\"\n",
            "2020-03-23 10:39:54,320 : INFO : topic #18 (0.025): 0.014*\"-\" + 0.013*\"howel\" + 0.010*\"star\" + 0.009*\"war\" + 0.007*\"avalanch\" + 0.007*\"riley\" + 0.007*\"jedi\" + 0.006*\"lee\" + 0.005*\"bree\" + 0.004*\"say\"\n",
            "2020-03-23 10:39:54,324 : INFO : topic #2 (0.086): 0.025*\"say\" + 0.017*\"polic\" + 0.011*\"offic\" + 0.011*\"-\" + 0.008*\"counti\" + 0.008*\"report\" + 0.007*\"man\" + 0.006*\"citi\" + 0.006*\"shoot\" + 0.006*\"accord\"\n",
            "2020-03-23 10:39:54,327 : INFO : topic #1 (0.102): 0.014*\"say\" + 0.011*\"-\" + 0.011*\"court\" + 0.007*\"case\" + 0.007*\"state\" + 0.006*\"law\" + 0.005*\"attorney\" + 0.005*\"feder\" + 0.005*\"trump\" + 0.005*\"judg\"\n",
            "2020-03-23 10:39:54,331 : INFO : topic #0 (0.125): 0.024*\"afghanistan\" + 0.015*\"afghan\" + 0.012*\"taliban\" + 0.009*\"karzai\" + 0.008*\"say\" + 0.006*\"corrupt\" + 0.006*\"govern\" + 0.005*\"peac\" + 0.005*\"offici\" + 0.005*\"document\"\n",
            "2020-03-23 10:39:54,335 : INFO : topic diff=0.277385, rho=0.108802\n",
            "2020-03-23 10:39:54,363 : INFO : merging changes from 475 documents into a model of 12475 documents\n",
            "2020-03-23 10:39:54,579 : INFO : topic #19 (0.024): 0.026*\"-\" + 0.007*\"say\" + 0.006*\"year\" + 0.006*\"new\" + 0.004*\"citi\" + 0.004*\"christma\" + 0.004*\"like\" + 0.004*\"time\" + 0.004*\"open\" + 0.004*\"holiday\"\n",
            "2020-03-23 10:39:54,582 : INFO : topic #18 (0.025): 0.014*\"-\" + 0.014*\"howel\" + 0.011*\"star\" + 0.011*\"war\" + 0.008*\"riley\" + 0.007*\"jedi\" + 0.006*\"avalanch\" + 0.006*\"say\" + 0.006*\"lee\" + 0.005*\"book\"\n",
            "2020-03-23 10:39:54,584 : INFO : topic #2 (0.086): 0.025*\"say\" + 0.017*\"polic\" + 0.011*\"offic\" + 0.011*\"-\" + 0.008*\"counti\" + 0.008*\"report\" + 0.007*\"citi\" + 0.006*\"man\" + 0.006*\"shoot\" + 0.006*\"investig\"\n",
            "2020-03-23 10:39:54,587 : INFO : topic #1 (0.102): 0.014*\"say\" + 0.011*\"-\" + 0.011*\"court\" + 0.007*\"case\" + 0.007*\"state\" + 0.006*\"law\" + 0.005*\"trump\" + 0.005*\"attorney\" + 0.005*\"feder\" + 0.004*\"judg\"\n",
            "2020-03-23 10:39:54,589 : INFO : topic #0 (0.125): 0.023*\"afghanistan\" + 0.014*\"afghan\" + 0.011*\"taliban\" + 0.009*\"karzai\" + 0.007*\"say\" + 0.006*\"corrupt\" + 0.006*\"govern\" + 0.005*\"peac\" + 0.005*\"document\" + 0.005*\"offici\"\n",
            "2020-03-23 10:39:54,594 : INFO : topic diff=0.269398, rho=0.108802\n",
            "2020-03-23 10:39:55,751 : INFO : -7.941 per-word bound, 245.7 perplexity estimate based on a held-out corpus of 475 documents with 134953 words\n",
            "2020-03-23 10:39:55,761 : INFO : PROGRESS: pass 9, dispatched chunk #0 = documents up to #1000/12475, outstanding queue size 1\n",
            "2020-03-23 10:39:55,898 : INFO : PROGRESS: pass 9, dispatched chunk #1 = documents up to #2000/12475, outstanding queue size 2\n",
            "2020-03-23 10:39:55,902 : INFO : PROGRESS: pass 9, dispatched chunk #2 = documents up to #3000/12475, outstanding queue size 3\n",
            "2020-03-23 10:39:55,903 : INFO : PROGRESS: pass 9, dispatched chunk #3 = documents up to #4000/12475, outstanding queue size 4\n",
            "2020-03-23 10:39:55,905 : INFO : PROGRESS: pass 9, dispatched chunk #4 = documents up to #5000/12475, outstanding queue size 5\n",
            "2020-03-23 10:39:56,050 : INFO : PROGRESS: pass 9, dispatched chunk #5 = documents up to #6000/12475, outstanding queue size 6\n",
            "2020-03-23 10:39:56,052 : INFO : PROGRESS: pass 9, dispatched chunk #6 = documents up to #7000/12475, outstanding queue size 7\n",
            "2020-03-23 10:39:56,227 : INFO : PROGRESS: pass 9, dispatched chunk #7 = documents up to #8000/12475, outstanding queue size 8\n",
            "2020-03-23 10:39:56,292 : INFO : PROGRESS: pass 9, dispatched chunk #8 = documents up to #9000/12475, outstanding queue size 9\n",
            "2020-03-23 10:39:58,797 : INFO : PROGRESS: pass 9, dispatched chunk #9 = documents up to #10000/12475, outstanding queue size 9\n",
            "2020-03-23 10:39:59,836 : INFO : PROGRESS: pass 9, dispatched chunk #10 = documents up to #11000/12475, outstanding queue size 9\n",
            "2020-03-23 10:40:00,346 : INFO : merging changes from 3000 documents into a model of 12475 documents\n",
            "2020-03-23 10:40:01,245 : INFO : topic #19 (0.024): 0.026*\"-\" + 0.007*\"say\" + 0.006*\"year\" + 0.006*\"new\" + 0.004*\"christma\" + 0.004*\"like\" + 0.004*\"citi\" + 0.004*\"time\" + 0.004*\"open\" + 0.004*\"holiday\"\n",
            "2020-03-23 10:40:01,249 : INFO : topic #18 (0.025): 0.015*\"-\" + 0.014*\"howel\" + 0.012*\"star\" + 0.011*\"war\" + 0.008*\"riley\" + 0.007*\"jedi\" + 0.007*\"lee\" + 0.006*\"avalanch\" + 0.006*\"say\" + 0.005*\"book\"\n",
            "2020-03-23 10:40:01,267 : INFO : topic #2 (0.086): 0.025*\"say\" + 0.017*\"polic\" + 0.011*\"offic\" + 0.011*\"-\" + 0.008*\"counti\" + 0.008*\"report\" + 0.007*\"man\" + 0.007*\"citi\" + 0.006*\"shoot\" + 0.006*\"accord\"\n",
            "2020-03-23 10:40:01,271 : INFO : topic #1 (0.102): 0.014*\"say\" + 0.012*\"-\" + 0.011*\"court\" + 0.007*\"case\" + 0.007*\"state\" + 0.006*\"law\" + 0.005*\"trump\" + 0.005*\"attorney\" + 0.005*\"feder\" + 0.004*\"judg\"\n",
            "2020-03-23 10:40:01,279 : INFO : topic #0 (0.125): 0.024*\"afghanistan\" + 0.015*\"afghan\" + 0.012*\"taliban\" + 0.009*\"karzai\" + 0.008*\"say\" + 0.006*\"govern\" + 0.006*\"corrupt\" + 0.006*\"peac\" + 0.005*\"jenner\" + 0.005*\"document\"\n",
            "2020-03-23 10:40:01,294 : INFO : topic diff=0.272644, rho=0.108163\n",
            "2020-03-23 10:40:01,304 : INFO : PROGRESS: pass 9, dispatched chunk #11 = documents up to #12000/12475, outstanding queue size 9\n",
            "2020-03-23 10:40:02,259 : INFO : PROGRESS: pass 9, dispatched chunk #12 = documents up to #12475/12475, outstanding queue size 9\n",
            "2020-03-23 10:40:03,657 : INFO : merging changes from 3000 documents into a model of 12475 documents\n",
            "2020-03-23 10:40:04,486 : INFO : topic #19 (0.024): 0.026*\"-\" + 0.007*\"say\" + 0.006*\"year\" + 0.006*\"new\" + 0.004*\"christma\" + 0.004*\"like\" + 0.004*\"citi\" + 0.004*\"time\" + 0.004*\"open\" + 0.004*\"holiday\"\n",
            "2020-03-23 10:40:04,495 : INFO : topic #18 (0.025): 0.014*\"-\" + 0.013*\"howel\" + 0.012*\"star\" + 0.011*\"war\" + 0.007*\"avalanch\" + 0.007*\"riley\" + 0.007*\"jedi\" + 0.006*\"lee\" + 0.006*\"say\" + 0.005*\"book\"\n",
            "2020-03-23 10:40:04,499 : INFO : topic #2 (0.086): 0.026*\"say\" + 0.017*\"polic\" + 0.011*\"offic\" + 0.011*\"-\" + 0.008*\"counti\" + 0.008*\"report\" + 0.007*\"man\" + 0.007*\"citi\" + 0.006*\"shoot\" + 0.006*\"accord\"\n",
            "2020-03-23 10:40:04,503 : INFO : topic #1 (0.102): 0.015*\"say\" + 0.012*\"-\" + 0.011*\"court\" + 0.007*\"case\" + 0.007*\"state\" + 0.006*\"law\" + 0.006*\"trump\" + 0.005*\"attorney\" + 0.005*\"feder\" + 0.004*\"judg\"\n",
            "2020-03-23 10:40:04,508 : INFO : topic #0 (0.125): 0.024*\"afghanistan\" + 0.016*\"afghan\" + 0.012*\"taliban\" + 0.008*\"karzai\" + 0.007*\"say\" + 0.006*\"govern\" + 0.006*\"corrupt\" + 0.006*\"drake\" + 0.005*\"peac\" + 0.005*\"offici\"\n",
            "2020-03-23 10:40:04,514 : INFO : topic diff=0.251943, rho=0.108163\n",
            "2020-03-23 10:40:06,665 : INFO : merging changes from 3000 documents into a model of 12475 documents\n",
            "2020-03-23 10:40:07,725 : INFO : topic #19 (0.024): 0.026*\"-\" + 0.007*\"say\" + 0.006*\"year\" + 0.006*\"new\" + 0.004*\"christma\" + 0.004*\"like\" + 0.004*\"citi\" + 0.004*\"time\" + 0.004*\"holiday\" + 0.004*\"open\"\n",
            "2020-03-23 10:40:07,735 : INFO : topic #18 (0.025): 0.015*\"-\" + 0.013*\"howel\" + 0.012*\"star\" + 0.012*\"war\" + 0.008*\"avalanch\" + 0.007*\"riley\" + 0.007*\"jedi\" + 0.007*\"lee\" + 0.006*\"say\" + 0.005*\"skywalk\"\n",
            "2020-03-23 10:40:07,740 : INFO : topic #2 (0.086): 0.026*\"say\" + 0.017*\"polic\" + 0.011*\"offic\" + 0.011*\"-\" + 0.008*\"counti\" + 0.008*\"report\" + 0.007*\"man\" + 0.007*\"citi\" + 0.006*\"shoot\" + 0.006*\"accord\"\n",
            "2020-03-23 10:40:07,745 : INFO : topic #1 (0.102): 0.015*\"say\" + 0.011*\"-\" + 0.011*\"court\" + 0.007*\"case\" + 0.007*\"state\" + 0.006*\"law\" + 0.006*\"trump\" + 0.005*\"attorney\" + 0.005*\"feder\" + 0.004*\"judg\"\n",
            "2020-03-23 10:40:07,750 : INFO : topic #0 (0.125): 0.025*\"afghanistan\" + 0.016*\"afghan\" + 0.012*\"taliban\" + 0.008*\"karzai\" + 0.007*\"say\" + 0.006*\"govern\" + 0.006*\"drake\" + 0.006*\"corrupt\" + 0.005*\"peac\" + 0.005*\"offici\"\n",
            "2020-03-23 10:40:07,760 : INFO : topic diff=0.213021, rho=0.108163\n",
            "2020-03-23 10:40:10,057 : INFO : merging changes from 3475 documents into a model of 12475 documents\n",
            "2020-03-23 10:40:10,267 : INFO : topic #19 (0.024): 0.026*\"-\" + 0.006*\"say\" + 0.006*\"year\" + 0.006*\"new\" + 0.004*\"christma\" + 0.004*\"like\" + 0.004*\"citi\" + 0.004*\"time\" + 0.004*\"holiday\" + 0.004*\"open\"\n",
            "2020-03-23 10:40:10,269 : INFO : topic #18 (0.025): 0.014*\"-\" + 0.014*\"howel\" + 0.013*\"star\" + 0.013*\"war\" + 0.007*\"avalanch\" + 0.007*\"riley\" + 0.007*\"jedi\" + 0.006*\"lee\" + 0.006*\"say\" + 0.006*\"skywalk\"\n",
            "2020-03-23 10:40:10,272 : INFO : topic #2 (0.086): 0.026*\"say\" + 0.017*\"polic\" + 0.011*\"offic\" + 0.011*\"-\" + 0.008*\"counti\" + 0.008*\"report\" + 0.007*\"man\" + 0.007*\"citi\" + 0.006*\"shoot\" + 0.006*\"accord\"\n",
            "2020-03-23 10:40:10,275 : INFO : topic #1 (0.102): 0.015*\"say\" + 0.011*\"-\" + 0.011*\"court\" + 0.007*\"case\" + 0.007*\"state\" + 0.006*\"law\" + 0.006*\"trump\" + 0.005*\"attorney\" + 0.005*\"feder\" + 0.005*\"judg\"\n",
            "2020-03-23 10:40:10,277 : INFO : topic #0 (0.125): 0.025*\"afghanistan\" + 0.015*\"afghan\" + 0.012*\"taliban\" + 0.009*\"karzai\" + 0.008*\"say\" + 0.007*\"govern\" + 0.006*\"corrupt\" + 0.006*\"peac\" + 0.005*\"drake\" + 0.005*\"offici\"\n",
            "2020-03-23 10:40:10,281 : INFO : topic diff=0.190820, rho=0.108163\n",
            "2020-03-23 10:40:11,445 : INFO : -7.980 per-word bound, 252.4 perplexity estimate based on a held-out corpus of 475 documents with 134953 words\n"
          ],
          "name": "stderr"
        }
      ]
    },
    {
      "cell_type": "code",
      "metadata": {
        "id": "XKDrlnxkJ5nS",
        "colab_type": "code",
        "outputId": "495b4829-9648-4ebd-904e-782f39bd0a0e",
        "colab": {
          "base_uri": "https://localhost:8080/",
          "height": 1000
        }
      },
      "source": [
        "lda_model.print_topics(-1)"
      ],
      "execution_count": 20,
      "outputs": [
        {
          "output_type": "stream",
          "text": [
            "2020-03-23 10:41:02,604 : INFO : topic #0 (0.125): 0.025*\"afghanistan\" + 0.015*\"afghan\" + 0.012*\"taliban\" + 0.009*\"karzai\" + 0.008*\"say\" + 0.007*\"govern\" + 0.006*\"corrupt\" + 0.006*\"peac\" + 0.005*\"drake\" + 0.005*\"offici\"\n",
            "2020-03-23 10:41:02,607 : INFO : topic #1 (0.102): 0.015*\"say\" + 0.011*\"-\" + 0.011*\"court\" + 0.007*\"case\" + 0.007*\"state\" + 0.006*\"law\" + 0.006*\"trump\" + 0.005*\"attorney\" + 0.005*\"feder\" + 0.005*\"judg\"\n",
            "2020-03-23 10:41:02,611 : INFO : topic #2 (0.086): 0.026*\"say\" + 0.017*\"polic\" + 0.011*\"offic\" + 0.011*\"-\" + 0.008*\"counti\" + 0.008*\"report\" + 0.007*\"man\" + 0.007*\"citi\" + 0.006*\"shoot\" + 0.006*\"accord\"\n",
            "2020-03-23 10:41:02,613 : INFO : topic #3 (0.075): 0.017*\"-\" + 0.008*\"navi\" + 0.007*\"dec\" + 0.007*\"ufc\" + 0.006*\"fight\" + 0.006*\"funer\" + 0.005*\"date\" + 0.005*\"armi\" + 0.004*\"photo\" + 0.004*\"church\"\n",
            "2020-03-23 10:41:02,616 : INFO : topic #4 (0.066): 0.028*\"las_vegas$\" + 0.020*\"cruis\" + 0.018*\"port\" + 0.013*\"sr\" + 0.013*\"ship\" + 0.011*\"journal\" + 0.011*\"elizabeth\" + 0.011*\"brumley\" + 0.010*\"fisher\" + 0.010*\"review\"\n",
            "2020-03-23 10:41:02,619 : INFO : topic #5 (0.059): 0.011*\"plant\" + 0.011*\"lng\" + 0.010*\"shark\" + 0.007*\"beethoven\" + 0.007*\"kinder\" + 0.006*\"imus\" + 0.005*\"morgan\" + 0.005*\"ping\" + 0.005*\"poison\" + 0.004*\"white\"\n",
            "2020-03-23 10:41:02,621 : INFO : topic #6 (0.053): 0.018*\"say\" + 0.010*\"hunter\" + 0.008*\"-\" + 0.007*\"year\" + 0.006*\"murphi\" + 0.006*\"arkansa\" + 0.005*\"brewster\" + 0.005*\"'\" + 0.005*\"guilti\" + 0.005*\"investig\"\n",
            "2020-03-23 10:41:02,623 : INFO : topic #7 (0.049): 0.029*\"game\" + 0.023*\"point\" + 0.021*\"averag\" + 0.020*\"percent\" + 0.018*\"vs\" + 0.015*\"houston$\" + 0.014*\"goal\" + 0.013*\"assist\" + 0.012*\"texan\" + 0.009*\"rebound\"\n",
            "2020-03-23 10:41:02,626 : INFO : topic #8 (0.045): 0.022*\"-\" + 0.018*\"game\" + 0.012*\"team\" + 0.011*\"season\" + 0.011*\"play\" + 0.009*\"point\" + 0.008*\"say\" + 0.007*\"coach\" + 0.007*\"year\" + 0.006*\"win\"\n",
            "2020-03-23 10:41:02,627 : INFO : topic #9 (0.041): 0.011*\"sioux\" + 0.006*\"flea\" + 0.004*\"hornet\" + 0.003*\"inglewood\" + 0.003*\"flagstaff\" + 0.003*\"anello\" + 0.003*\"flandreau\" + 0.003*\"azwx\" + 0.002*\"severtson\" + 0.002*\"sosh\"\n",
            "2020-03-23 10:41:02,630 : INFO : topic #10 (0.038): 0.013*\"cedar\" + 0.011*\"kati\" + 0.006*\"counti\" + 0.006*\"redland\" + 0.005*\"friedrich\" + 0.004*\"regist\" + 0.004*\"orang\" + 0.004*\"rapid\" + 0.004*\"hoa\" + 0.004*\"bel\"\n",
            "2020-03-23 10:41:02,632 : INFO : topic #11 (0.036): 0.018*\"tesla\" + 0.011*\"driver\" + 0.009*\"car\" + 0.009*\"-\" + 0.008*\"uber\" + 0.008*\"year\" + 0.007*\"say\" + 0.005*\"vehicl\" + 0.005*\"alaska\" + 0.004*\"model\"\n",
            "2020-03-23 10:41:02,634 : INFO : topic #12 (0.034): 0.043*\"island\" + 0.016*\"zealand\" + 0.013*\"fish\" + 0.013*\"boat\" + 0.013*\"new\" + 0.013*\"erupt\" + 0.009*\"bodi\" + 0.007*\"australia\" + 0.007*\"water\" + 0.007*\"volcano\"\n",
            "2020-03-23 10:41:02,637 : INFO : topic #13 (0.032): 0.014*\"sale\" + 0.014*\"shall\" + 0.011*\"counti\" + 0.009*\"cuyahoga\" + 0.008*\"properti\" + 0.008*\"ohio\" + 0.007*\"apprais\" + 0.007*\"di\" + 0.006*\"bid\" + 0.006*\"offer\"\n",
            "2020-03-23 10:41:02,639 : INFO : topic #14 (0.030): 0.017*\"say\" + 0.015*\"-\" + 0.008*\"year\" + 0.007*\"peopl\" + 0.005*\"school\" + 0.005*\"work\" + 0.005*\"state\" + 0.005*\"time\" + 0.005*\"like\" + 0.004*\"famili\"\n",
            "2020-03-23 10:41:02,641 : INFO : topic #15 (0.029): 0.044*\"de\" + 0.022*\"la\" + 0.021*\"el\" + 0.011*\"-\" + 0.009*\"en\" + 0.009*\"und\" + 0.008*\"die\" + 0.008*\"los\" + 0.006*\"que\" + 0.006*\"der\"\n",
            "2020-03-23 10:41:02,643 : INFO : topic #16 (0.027): 0.017*\"memori\" + 0.012*\"lowel\" + 0.011*\"merri\" + 0.009*\"christma\" + 0.008*\"anonym\" + 0.007*\"buck\" + 0.006*\"chelmsford\" + 0.004*\"charlayn\" + 0.004*\"simm\" + 0.004*\"dracut\"\n",
            "2020-03-23 10:41:02,647 : INFO : topic #17 (0.026): 0.021*\"-\" + 0.010*\"compani\" + 0.010*\"say\" + 0.008*\"year\" + 0.006*\"market\" + 0.005*\"new\" + 0.005*\"state\" + 0.004*\"million\" + 0.004*\"busi\" + 0.004*\"trump\"\n",
            "2020-03-23 10:41:02,649 : INFO : topic #18 (0.025): 0.014*\"-\" + 0.014*\"howel\" + 0.013*\"star\" + 0.013*\"war\" + 0.007*\"avalanch\" + 0.007*\"riley\" + 0.007*\"jedi\" + 0.006*\"lee\" + 0.006*\"say\" + 0.006*\"skywalk\"\n",
            "2020-03-23 10:41:02,651 : INFO : topic #19 (0.024): 0.026*\"-\" + 0.006*\"say\" + 0.006*\"year\" + 0.006*\"new\" + 0.004*\"christma\" + 0.004*\"like\" + 0.004*\"citi\" + 0.004*\"time\" + 0.004*\"holiday\" + 0.004*\"open\"\n"
          ],
          "name": "stderr"
        },
        {
          "output_type": "execute_result",
          "data": {
            "text/plain": [
              "[(0,\n",
              "  '0.025*\"afghanistan\" + 0.015*\"afghan\" + 0.012*\"taliban\" + 0.009*\"karzai\" + 0.008*\"say\" + 0.007*\"govern\" + 0.006*\"corrupt\" + 0.006*\"peac\" + 0.005*\"drake\" + 0.005*\"offici\"'),\n",
              " (1,\n",
              "  '0.015*\"say\" + 0.011*\"-\" + 0.011*\"court\" + 0.007*\"case\" + 0.007*\"state\" + 0.006*\"law\" + 0.006*\"trump\" + 0.005*\"attorney\" + 0.005*\"feder\" + 0.005*\"judg\"'),\n",
              " (2,\n",
              "  '0.026*\"say\" + 0.017*\"polic\" + 0.011*\"offic\" + 0.011*\"-\" + 0.008*\"counti\" + 0.008*\"report\" + 0.007*\"man\" + 0.007*\"citi\" + 0.006*\"shoot\" + 0.006*\"accord\"'),\n",
              " (3,\n",
              "  '0.017*\"-\" + 0.008*\"navi\" + 0.007*\"dec\" + 0.007*\"ufc\" + 0.006*\"fight\" + 0.006*\"funer\" + 0.005*\"date\" + 0.005*\"armi\" + 0.004*\"photo\" + 0.004*\"church\"'),\n",
              " (4,\n",
              "  '0.028*\"las_vegas$\" + 0.020*\"cruis\" + 0.018*\"port\" + 0.013*\"sr\" + 0.013*\"ship\" + 0.011*\"journal\" + 0.011*\"elizabeth\" + 0.011*\"brumley\" + 0.010*\"fisher\" + 0.010*\"review\"'),\n",
              " (5,\n",
              "  '0.011*\"plant\" + 0.011*\"lng\" + 0.010*\"shark\" + 0.007*\"beethoven\" + 0.007*\"kinder\" + 0.006*\"imus\" + 0.005*\"morgan\" + 0.005*\"ping\" + 0.005*\"poison\" + 0.004*\"white\"'),\n",
              " (6,\n",
              "  '0.018*\"say\" + 0.010*\"hunter\" + 0.008*\"-\" + 0.007*\"year\" + 0.006*\"murphi\" + 0.006*\"arkansa\" + 0.005*\"brewster\" + 0.005*\"\\'\" + 0.005*\"guilti\" + 0.005*\"investig\"'),\n",
              " (7,\n",
              "  '0.029*\"game\" + 0.023*\"point\" + 0.021*\"averag\" + 0.020*\"percent\" + 0.018*\"vs\" + 0.015*\"houston$\" + 0.014*\"goal\" + 0.013*\"assist\" + 0.012*\"texan\" + 0.009*\"rebound\"'),\n",
              " (8,\n",
              "  '0.022*\"-\" + 0.018*\"game\" + 0.012*\"team\" + 0.011*\"season\" + 0.011*\"play\" + 0.009*\"point\" + 0.008*\"say\" + 0.007*\"coach\" + 0.007*\"year\" + 0.006*\"win\"'),\n",
              " (9,\n",
              "  '0.011*\"sioux\" + 0.006*\"flea\" + 0.004*\"hornet\" + 0.003*\"inglewood\" + 0.003*\"flagstaff\" + 0.003*\"anello\" + 0.003*\"flandreau\" + 0.003*\"azwx\" + 0.002*\"severtson\" + 0.002*\"sosh\"'),\n",
              " (10,\n",
              "  '0.013*\"cedar\" + 0.011*\"kati\" + 0.006*\"counti\" + 0.006*\"redland\" + 0.005*\"friedrich\" + 0.004*\"regist\" + 0.004*\"orang\" + 0.004*\"rapid\" + 0.004*\"hoa\" + 0.004*\"bel\"'),\n",
              " (11,\n",
              "  '0.018*\"tesla\" + 0.011*\"driver\" + 0.009*\"car\" + 0.009*\"-\" + 0.008*\"uber\" + 0.008*\"year\" + 0.007*\"say\" + 0.005*\"vehicl\" + 0.005*\"alaska\" + 0.004*\"model\"'),\n",
              " (12,\n",
              "  '0.043*\"island\" + 0.016*\"zealand\" + 0.013*\"fish\" + 0.013*\"boat\" + 0.013*\"new\" + 0.013*\"erupt\" + 0.009*\"bodi\" + 0.007*\"australia\" + 0.007*\"water\" + 0.007*\"volcano\"'),\n",
              " (13,\n",
              "  '0.014*\"sale\" + 0.014*\"shall\" + 0.011*\"counti\" + 0.009*\"cuyahoga\" + 0.008*\"properti\" + 0.008*\"ohio\" + 0.007*\"apprais\" + 0.007*\"di\" + 0.006*\"bid\" + 0.006*\"offer\"'),\n",
              " (14,\n",
              "  '0.017*\"say\" + 0.015*\"-\" + 0.008*\"year\" + 0.007*\"peopl\" + 0.005*\"school\" + 0.005*\"work\" + 0.005*\"state\" + 0.005*\"time\" + 0.005*\"like\" + 0.004*\"famili\"'),\n",
              " (15,\n",
              "  '0.044*\"de\" + 0.022*\"la\" + 0.021*\"el\" + 0.011*\"-\" + 0.009*\"en\" + 0.009*\"und\" + 0.008*\"die\" + 0.008*\"los\" + 0.006*\"que\" + 0.006*\"der\"'),\n",
              " (16,\n",
              "  '0.017*\"memori\" + 0.012*\"lowel\" + 0.011*\"merri\" + 0.009*\"christma\" + 0.008*\"anonym\" + 0.007*\"buck\" + 0.006*\"chelmsford\" + 0.004*\"charlayn\" + 0.004*\"simm\" + 0.004*\"dracut\"'),\n",
              " (17,\n",
              "  '0.021*\"-\" + 0.010*\"compani\" + 0.010*\"say\" + 0.008*\"year\" + 0.006*\"market\" + 0.005*\"new\" + 0.005*\"state\" + 0.004*\"million\" + 0.004*\"busi\" + 0.004*\"trump\"'),\n",
              " (18,\n",
              "  '0.014*\"-\" + 0.014*\"howel\" + 0.013*\"star\" + 0.013*\"war\" + 0.007*\"avalanch\" + 0.007*\"riley\" + 0.007*\"jedi\" + 0.006*\"lee\" + 0.006*\"say\" + 0.006*\"skywalk\"'),\n",
              " (19,\n",
              "  '0.026*\"-\" + 0.006*\"say\" + 0.006*\"year\" + 0.006*\"new\" + 0.004*\"christma\" + 0.004*\"like\" + 0.004*\"citi\" + 0.004*\"time\" + 0.004*\"holiday\" + 0.004*\"open\"')]"
            ]
          },
          "metadata": {
            "tags": []
          },
          "execution_count": 20
        }
      ]
    },
    {
      "cell_type": "markdown",
      "metadata": {
        "id": "3GDygGOJNW0X",
        "colab_type": "text"
      },
      "source": [
        "#### LSI Method"
      ]
    },
    {
      "cell_type": "code",
      "metadata": {
        "id": "GqRkKPwtwzGU",
        "colab_type": "code",
        "outputId": "aaea5089-7e1d-4d00-a264-b982934c19bc",
        "colab": {
          "base_uri": "https://localhost:8080/",
          "height": 297
        }
      },
      "source": [
        "from gensim.models import LsiModel\n",
        "\n",
        "# Build the LSI Model\n",
        "lsi_model = LsiModel(corpus=corpus, id2word=dictionary, num_topics=100, decay=0.5)"
      ],
      "execution_count": 22,
      "outputs": [
        {
          "output_type": "stream",
          "text": [
            "2020-03-23 10:41:35,406 : INFO : using serial LSI version on this node\n",
            "2020-03-23 10:41:35,408 : INFO : updating model with new documents\n",
            "2020-03-23 10:41:35,414 : INFO : preparing a new chunk of documents\n",
            "2020-03-23 10:41:35,991 : INFO : using 100 extra samples and 2 power iterations\n",
            "2020-03-23 10:41:36,048 : INFO : 1st phase: constructing (71484, 200) action matrix\n",
            "2020-03-23 10:41:36,751 : INFO : orthonormalizing (71484, 200) action matrix\n",
            "2020-03-23 10:41:42,740 : INFO : 2nd phase: running dense svd on (200, 12475) matrix\n",
            "2020-03-23 10:41:43,226 : INFO : computing the final decomposition\n",
            "2020-03-23 10:41:43,228 : INFO : keeping 100 factors (discarding 11.182% of energy spectrum)\n",
            "2020-03-23 10:41:43,392 : INFO : processed documents up to #12475\n",
            "2020-03-23 10:41:43,400 : INFO : topic #0(1747.357): 0.849*\"-\" + 0.185*\"say\" + 0.178*\"imag\" + 0.159*\"data\" + 0.105*\"dec\" + 0.100*\"year\" + 0.090*\"los_angeles$\" + 0.062*\"time\" + 0.059*\"state\" + 0.059*\"like\"\n",
            "2020-03-23 10:41:43,407 : INFO : topic #1(1163.976): 0.688*\"los_angeles$\" + 0.303*\"clipper\" + 0.247*\"laker\" + 0.211*\"user\" + 0.178*\"photo\" + 0.175*\"game\" + 0.153*\"decemb\" + 0.148*\"getti\" + -0.133*\"-\" + 0.113*\"imag\"\n",
            "2020-03-23 10:41:43,413 : INFO : topic #2(978.905): -0.538*\"say\" + 0.326*\"-\" + 0.227*\"data\" + 0.209*\"imag\" + -0.166*\"year\" + -0.125*\"state\" + -0.114*\"peopl\" + -0.108*\"citi\" + -0.107*\"time\" + -0.096*\"work\"\n",
            "2020-03-23 10:41:43,420 : INFO : topic #3(495.654): 0.428*\"say\" + -0.293*\"game\" + -0.210*\"team\" + 0.196*\"imag\" + 0.189*\"data\" + 0.176*\"polic\" + -0.170*\"season\" + -0.165*\"play\" + -0.148*\"point\" + -0.141*\"year\"\n",
            "2020-03-23 10:41:43,426 : INFO : topic #4(433.667): 0.382*\"say\" + 0.228*\"game\" + -0.188*\"citi\" + -0.183*\"hous\" + 0.173*\"polic\" + -0.159*\"new\" + -0.146*\"year\" + 0.133*\"play\" + -0.124*\"state\" + 0.122*\"team\"\n"
          ],
          "name": "stderr"
        }
      ]
    },
    {
      "cell_type": "code",
      "metadata": {
        "id": "b8L1fKNfnk4Z",
        "colab_type": "code",
        "outputId": "9faf4a98-857f-4128-918c-d26bff6ca227",
        "colab": {
          "base_uri": "https://localhost:8080/",
          "height": 1000
        }
      },
      "source": [
        "# View Topics\n",
        "print(lsi_model.print_topics(-1))"
      ],
      "execution_count": 23,
      "outputs": [
        {
          "output_type": "stream",
          "text": [
            "2020-03-23 10:41:47,677 : INFO : topic #0(1747.357): 0.849*\"-\" + 0.185*\"say\" + 0.178*\"imag\" + 0.159*\"data\" + 0.105*\"dec\" + 0.100*\"year\" + 0.090*\"los_angeles$\" + 0.062*\"time\" + 0.059*\"state\" + 0.059*\"like\"\n",
            "2020-03-23 10:41:47,687 : INFO : topic #1(1163.976): 0.688*\"los_angeles$\" + 0.303*\"clipper\" + 0.247*\"laker\" + 0.211*\"user\" + 0.178*\"photo\" + 0.175*\"game\" + 0.153*\"decemb\" + 0.148*\"getti\" + -0.133*\"-\" + 0.113*\"imag\"\n",
            "2020-03-23 10:41:47,695 : INFO : topic #2(978.905): -0.538*\"say\" + 0.326*\"-\" + 0.227*\"data\" + 0.209*\"imag\" + -0.166*\"year\" + -0.125*\"state\" + -0.114*\"peopl\" + -0.108*\"citi\" + -0.107*\"time\" + -0.096*\"work\"\n",
            "2020-03-23 10:41:47,701 : INFO : topic #3(495.654): 0.428*\"say\" + -0.293*\"game\" + -0.210*\"team\" + 0.196*\"imag\" + 0.189*\"data\" + 0.176*\"polic\" + -0.170*\"season\" + -0.165*\"play\" + -0.148*\"point\" + -0.141*\"year\"\n",
            "2020-03-23 10:41:47,708 : INFO : topic #4(433.667): 0.382*\"say\" + 0.228*\"game\" + -0.188*\"citi\" + -0.183*\"hous\" + 0.173*\"polic\" + -0.159*\"new\" + -0.146*\"year\" + 0.133*\"play\" + -0.124*\"state\" + 0.122*\"team\"\n",
            "2020-03-23 10:41:47,714 : INFO : topic #5(415.337): -0.698*\"vs\" + -0.355*\"record\" + -0.349*\"rate\" + -0.341*\"sagarin\" + -0.142*\"state\" + 0.089*\"like\" + -0.071*\"polic\" + -0.071*\"citi\" + 0.063*\"know\" + -0.059*\"offic\"\n",
            "2020-03-23 10:41:47,719 : INFO : topic #6(399.567): 0.364*\"dec\" + -0.253*\"trump\" + 0.236*\"citi\" + -0.216*\"say\" + 0.206*\"christma\" + 0.182*\"polic\" + 0.182*\"suspect\" + 0.155*\"vehicl\" + -0.152*\"presid\" + 0.136*\"holiday\"\n",
            "2020-03-23 10:41:47,725 : INFO : topic #7(381.874): -0.280*\"state\" + 0.217*\"vs\" + -0.203*\"game\" + 0.192*\"like\" + -0.168*\"citi\" + -0.165*\"team\" + -0.155*\"trump\" + 0.146*\"know\" + 0.135*\"peopl\" + -0.120*\"polic\"\n",
            "2020-03-23 10:41:47,730 : INFO : topic #8(370.100): 0.349*\"dec\" + 0.265*\"school\" + -0.214*\"suspect\" + 0.192*\"christma\" + 0.188*\"say\" + -0.177*\"vehicl\" + -0.158*\"polic\" + 0.152*\"student\" + -0.141*\"unknown\" + -0.132*\"right\"\n",
            "2020-03-23 10:41:47,736 : INFO : topic #9(363.301): 0.450*\"dec\" + 0.406*\"trump\" + 0.265*\"christma\" + 0.240*\"presid\" + -0.210*\"school\" + 0.159*\"democrat\" + 0.154*\"impeach\" + 0.135*\"holiday\" + -0.135*\"student\" + -0.108*\"citi\"\n",
            "2020-03-23 10:41:47,742 : INFO : topic #10(346.880): 0.410*\"citi\" + -0.247*\"suspect\" + -0.214*\"vehicl\" + -0.187*\"unknown\" + 0.176*\"hous\" + 0.147*\"right\" + -0.140*\"year\" + 0.134*\"round\" + -0.128*\"oct\" + -0.126*\"take\"\n",
            "2020-03-23 10:41:47,748 : INFO : topic #11(336.579): 0.490*\"school\" + 0.315*\"student\" + -0.220*\"citi\" + 0.172*\"right\" + 0.164*\"round\" + 0.158*\"high\" + 0.147*\"de\" + 0.142*\"kick\" + 0.141*\"punch\" + 0.120*\"land\"\n",
            "2020-03-23 10:41:47,752 : INFO : topic #12(320.681): 0.261*\"compani\" + -0.260*\"school\" + -0.245*\"citi\" + -0.225*\"hous\" + 0.165*\"market\" + -0.156*\"trump\" + -0.139*\"suspect\" + 0.134*\"dec\" + -0.130*\"like\" + -0.120*\"student\"\n",
            "2020-03-23 10:41:47,757 : INFO : topic #13(318.836): 0.359*\"polic\" + -0.338*\"say\" + 0.238*\"offic\" + -0.189*\"suspect\" + -0.178*\"unknown\" + -0.166*\"vehicl\" + -0.154*\"hous\" + 0.149*\"school\" + 0.129*\"report\" + -0.121*\"oct\"\n",
            "2020-03-23 10:41:47,762 : INFO : topic #14(299.084): -0.248*\"data\" + -0.232*\"imag\" + 0.228*\"state\" + -0.193*\"citi\" + -0.187*\"el\" + 0.184*\"counti\" + 0.164*\"all\" + -0.163*\"compani\" + 0.152*\"sr\" + -0.151*\"mont\"\n",
            "2020-03-23 10:41:47,767 : INFO : topic #15(291.851): -0.277*\"data\" + -0.262*\"imag\" + -0.204*\"state\" + 0.196*\"el\" + 0.179*\"-\" + -0.174*\"year\" + 0.160*\"say\" + 0.156*\"mont\" + 0.150*\"trump\" + 0.135*\"decemb\"\n",
            "2020-03-23 10:41:47,772 : INFO : topic #16(279.563): 0.315*\"state\" + 0.310*\"year\" + -0.234*\"student\" + -0.219*\"school\" + 0.205*\"el\" + 0.201*\"de\" + -0.201*\"point\" + -0.157*\"game\" + 0.146*\"mont\" + -0.136*\"hous\"\n",
            "2020-03-23 10:41:47,777 : INFO : topic #17(276.203): 0.375*\"year\" + -0.256*\"el\" + -0.224*\"mont\" + -0.213*\"health\" + -0.151*\"dec\" + -0.149*\"care\" + -0.142*\"peopl\" + 0.136*\"new\" + -0.130*\"game\" + -0.124*\"patient\"\n",
            "2020-03-23 10:41:47,782 : INFO : topic #18(270.746): -0.375*\"citi\" + 0.316*\"hous\" + 0.277*\"counti\" + -0.230*\"dec\" + 0.213*\"home\" + 0.191*\"famili\" + 0.132*\"com\" + -0.128*\"like\" + 0.127*\"child\" + -0.119*\"know\"\n",
            "2020-03-23 10:41:47,787 : INFO : topic #19(254.229): -0.316*\"las_vegas$\" + -0.294*\"year\" + -0.172*\"mont\" + -0.167*\"review\" + -0.163*\"journal\" + -0.161*\"fire\" + -0.156*\"el\" + 0.156*\"'\" + 0.153*\"com\" + 0.136*\"citi\"\n",
            "2020-03-23 10:41:47,793 : INFO : topic #20(251.843): 0.249*\"las_vegas$\" + 0.244*\"de\" + -0.219*\"hous\" + 0.202*\"com\" + 0.184*\"counti\" + -0.154*\"christma\" + -0.152*\"compani\" + 0.148*\"journal\" + -0.137*\"team\" + 0.134*\"review\"\n",
            "2020-03-23 10:41:47,798 : INFO : topic #21(250.074): 0.520*\"de\" + 0.161*\"la\" + -0.161*\"counti\" + -0.155*\"monday\" + 0.149*\"el\" + 0.145*\"polic\" + 0.145*\"en\" + 0.136*\"hous\" + -0.132*\"decemb\" + -0.128*\"perform\"\n",
            "2020-03-23 10:41:47,803 : INFO : topic #22(243.406): 0.265*\"year\" + -0.247*\"'\" + -0.224*\"`\" + -0.208*\"test\" + -0.198*\"state\" + 0.191*\"health\" + 0.182*\"polic\" + 0.140*\"patient\" + -0.135*\"court\" + 0.125*\"gatzk\"\n",
            "2020-03-23 10:41:47,808 : INFO : topic #23(240.749): 0.388*\"de\" + -0.189*\"state\" + 0.178*\"court\" + -0.154*\"mont\" + 0.144*\"famili\" + -0.137*\"test\" + -0.128*\"polic\" + 0.123*\"la\" + 0.119*\"colleg\" + -0.117*\"north\"\n",
            "2020-03-23 10:41:47,813 : INFO : topic #24(237.170): -0.453*\"counti\" + 0.344*\"state\" + -0.180*\"'\" + -0.151*\"`\" + -0.147*\"citi\" + 0.141*\"peopl\" + -0.123*\"gatzk\" + -0.115*\"year\" + -0.111*\"pain\" + -0.108*\"opioid\"\n",
            "2020-03-23 10:41:47,818 : INFO : topic #25(236.033): 0.218*\"counti\" + -0.200*\"test\" + 0.197*\"compani\" + -0.177*\"year\" + -0.161*\"'\" + -0.149*\"`\" + -0.146*\"gatzk\" + -0.141*\"patient\" + 0.139*\"team\" + -0.138*\"opioid\"\n",
            "2020-03-23 10:41:47,823 : INFO : topic #26(230.986): 0.224*\"las_vegas$\" + -0.187*\"new\" + -0.173*\"point\" + 0.172*\"citi\" + 0.170*\"'\" + 0.166*\"`\" + 0.164*\"health\" + 0.157*\"test\" + 0.155*\"famili\" + 0.145*\"team\"\n",
            "2020-03-23 10:41:47,829 : INFO : topic #27(226.296): -0.356*\"counti\" + 0.204*\"citi\" + 0.202*\"new\" + 0.174*\"court\" + 0.169*\"mont\" + -0.151*\"colleg\" + -0.147*\"photo\" + -0.144*\"offic\" + -0.142*\"de\" + -0.113*\"parad\"\n",
            "2020-03-23 10:41:47,834 : INFO : topic #28(218.246): 0.328*\"point\" + -0.235*\"new\" + 0.176*\"christma\" + 0.143*\"famili\" + 0.128*\"democrat\" + 0.127*\"lead\" + 0.121*\"shoot\" + 0.120*\"year\" + 0.120*\"test\" + -0.113*\"star\"\n",
            "2020-03-23 10:41:47,838 : INFO : topic #29(217.572): 0.274*\"'\" + -0.255*\"report\" + 0.212*\"`\" + 0.208*\"new\" + -0.205*\"state\" + 0.194*\"polic\" + 0.159*\"health\" + -0.152*\"trump\" + -0.151*\"citi\" + 0.141*\"hous\"\n",
            "2020-03-23 10:41:47,843 : INFO : topic #30(214.129): 0.309*\"test\" + -0.184*\"point\" + 0.164*\"time\" + -0.164*\"new\" + -0.148*\"`\" + -0.145*\"'\" + -0.135*\"counti\" + -0.132*\"shoot\" + 0.125*\"area\" + -0.119*\"war\"\n",
            "2020-03-23 10:41:47,848 : INFO : topic #31(211.729): -0.284*\"state\" + -0.215*\"famili\" + -0.185*\"compani\" + 0.184*\"peopl\" + -0.177*\"market\" + 0.161*\"health\" + -0.151*\"com\" + 0.147*\"test\" + 0.144*\"point\" + -0.134*\"'\"\n",
            "2020-03-23 10:41:47,853 : INFO : topic #32(206.710): -0.306*\"report\" + 0.305*\"test\" + -0.189*\"black\" + 0.180*\"trump\" + -0.167*\"'\" + -0.141*\"`\" + -0.131*\"market\" + -0.131*\"star\" + 0.128*\"shoot\" + 0.125*\"know\"\n",
            "2020-03-23 10:41:47,858 : INFO : topic #33(205.156): 0.251*\"market\" + 0.216*\"com\" + -0.179*\"famili\" + -0.166*\"work\" + -0.161*\"compani\" + -0.152*\"christma\" + -0.149*\"star\" + -0.142*\"employe\" + 0.140*\"health\" + -0.130*\"war\"\n",
            "2020-03-23 10:41:47,862 : INFO : topic #34(203.233): -0.435*\"new\" + -0.214*\"health\" + 0.210*\"year\" + -0.178*\"star\" + -0.137*\"counti\" + 0.129*\"million\" + 0.126*\"black\" + -0.119*\"famili\" + -0.118*\"care\" + 0.118*\"art\"\n",
            "2020-03-23 10:41:47,866 : INFO : topic #35(199.278): -0.213*\"report\" + 0.208*\"health\" + 0.203*\"christma\" + -0.176*\"point\" + -0.172*\"new\" + 0.169*\"fire\" + -0.160*\"dec\" + -0.157*\"woman\" + 0.141*\"season\" + -0.136*\"year\"\n",
            "2020-03-23 10:41:47,870 : INFO : topic #36(196.501): -0.359*\"report\" + 0.176*\"peopl\" + 0.173*\"black\" + 0.172*\"court\" + -0.140*\"know\" + -0.139*\"health\" + 0.137*\"north\" + -0.130*\"care\" + 0.123*\"counti\" + -0.119*\"work\"\n",
            "2020-03-23 10:41:47,874 : INFO : topic #37(195.002): -0.203*\"child\" + 0.197*\"compani\" + 0.190*\"point\" + 0.175*\"fire\" + 0.154*\"'\" + -0.153*\"market\" + 0.151*\"`\" + -0.141*\"star\" + 0.131*\"hous\" + 0.126*\"work\"\n",
            "2020-03-23 10:41:47,878 : INFO : topic #38(191.552): 0.325*\"new\" + 0.161*\"christma\" + -0.156*\"work\" + -0.154*\"star\" + -0.149*\"health\" + 0.142*\"know\" + -0.139*\"photo\" + 0.131*\"build\" + -0.128*\"store\" + -0.125*\"employe\"\n",
            "2020-03-23 10:41:47,882 : INFO : topic #39(189.411): -0.240*\"home\" + 0.228*\"christma\" + -0.192*\"million\" + -0.161*\"fire\" + -0.160*\"dec\" + 0.157*\"offic\" + 0.152*\"new\" + -0.151*\"school\" + 0.147*\"counti\" + -0.139*\"build\"\n",
            "2020-03-23 10:41:47,886 : INFO : topic #40(188.876): -0.217*\"team\" + -0.214*\"star\" + -0.177*\"point\" + 0.165*\"peopl\" + 0.142*\"compani\" + 0.142*\"home\" + -0.142*\"offic\" + 0.139*\"game\" + 0.139*\"student\" + -0.129*\"data\"\n",
            "2020-03-23 10:41:47,890 : INFO : topic #41(186.525): 0.233*\"time\" + -0.227*\"million\" + -0.227*\"peopl\" + -0.224*\"fund\" + 0.182*\"work\" + -0.138*\"report\" + -0.133*\"star\" + -0.128*\"game\" + -0.120*\"like\" + -0.115*\"program\"\n",
            "2020-03-23 10:41:47,895 : INFO : topic #42(186.114): 0.259*\"fire\" + 0.230*\"peopl\" + -0.202*\"home\" + 0.182*\"shoot\" + 0.147*\"music\" + 0.128*\"market\" + -0.123*\"colleg\" + 0.121*\"time\" + 0.119*\"school\" + -0.114*\"famili\"\n",
            "2020-03-23 10:41:47,901 : INFO : topic #43(183.088): -0.228*\"million\" + 0.184*\"fire\" + 0.169*\"offic\" + 0.155*\"market\" + -0.149*\"fund\" + -0.138*\"black\" + -0.135*\"north\" + 0.124*\"vote\" + 0.114*\"year\" + 0.112*\"test\"\n",
            "2020-03-23 10:41:47,906 : INFO : topic #44(181.172): -0.288*\"time\" + -0.258*\"fund\" + 0.213*\"million\" + 0.135*\"christma\" + 0.127*\"vega\" + 0.126*\"center\" + -0.124*\"distribut\" + 0.118*\"las\" + 0.117*\"coach\" + 0.112*\"memori\"\n",
            "2020-03-23 10:41:47,911 : INFO : topic #45(180.013): -0.268*\"student\" + -0.216*\"million\" + -0.214*\"north\" + -0.192*\"art\" + 0.147*\"school\" + 0.129*\"board\" + -0.127*\"star\" + 0.123*\"communiti\" + 0.116*\"servic\" + -0.114*\"counti\"\n",
            "2020-03-23 10:41:47,916 : INFO : topic #46(179.659): 0.186*\"fire\" + 0.168*\"build\" + -0.164*\"servic\" + 0.153*\"new\" + -0.149*\"star\" + -0.142*\"compani\" + -0.140*\"peopl\" + -0.136*\"time\" + 0.133*\"black\" + 0.129*\"health\"\n",
            "2020-03-23 10:41:47,920 : INFO : topic #47(178.155): -0.247*\"com\" + -0.216*\"north\" + -0.203*\"photo\" + 0.165*\"million\" + 0.154*\"music\" + -0.146*\"fire\" + -0.144*\"student\" + -0.144*\"beauti\" + -0.144*\"vote\" + -0.134*\"black\"\n",
            "2020-03-23 10:41:47,924 : INFO : topic #48(176.303): 0.183*\"time\" + -0.160*\"vega\" + 0.157*\"black\" + -0.156*\"las\" + 0.138*\"fire\" + -0.132*\"center\" + -0.124*\"peopl\" + -0.123*\"news\" + -0.116*\"test\" + -0.111*\"north\"\n",
            "2020-03-23 10:41:47,928 : INFO : topic #49(175.250): -0.176*\"yard\" + -0.173*\"offic\" + 0.164*\"team\" + 0.151*\"fire\" + 0.147*\"coach\" + -0.145*\"game\" + -0.143*\"pass\" + -0.141*\"work\" + -0.134*\"vote\" + -0.132*\"center\"\n",
            "2020-03-23 10:41:47,933 : INFO : topic #50(173.171): -0.178*\"memori\" + -0.178*\"north\" + -0.166*\"woman\" + 0.148*\"day\" + -0.139*\"com\" + -0.138*\"man\" + -0.137*\"lowel\" + 0.124*\"new\" + 0.123*\"child\" + -0.116*\"school\"\n",
            "2020-03-23 10:41:47,937 : INFO : topic #51(173.043): 0.209*\"fire\" + -0.182*\"home\" + 0.171*\"black\" + 0.150*\"child\" + -0.149*\"vote\" + 0.137*\"compani\" + -0.125*\"report\" + 0.123*\"market\" + -0.121*\"shoot\" + -0.121*\"music\"\n",
            "2020-03-23 10:41:47,944 : INFO : topic #52(171.530): 0.285*\"work\" + -0.250*\"child\" + -0.225*\"vote\" + -0.208*\"compani\" + 0.202*\"market\" + 0.130*\"fund\" + 0.106*\"vega\" + 0.104*\"campaign\" + 0.102*\"las\" + 0.100*\"peopl\"\n",
            "2020-03-23 10:41:47,948 : INFO : topic #53(170.757): -0.210*\"black\" + -0.206*\"million\" + -0.157*\"peopl\" + -0.156*\"home\" + -0.154*\"compani\" + 0.153*\"work\" + -0.150*\"com\" + 0.139*\"'\" + 0.136*\"good\" + -0.136*\"school\"\n",
            "2020-03-23 10:41:47,954 : INFO : topic #54(169.342): -0.187*\"home\" + -0.173*\"woman\" + -0.171*\"million\" + -0.166*\"vote\" + -0.157*\"servic\" + -0.156*\"time\" + -0.149*\"day\" + 0.136*\"famili\" + 0.130*\"com\" + -0.115*\"center\"\n",
            "2020-03-23 10:41:47,958 : INFO : topic #55(168.642): -0.186*\"black\" + 0.184*\"north\" + 0.163*\"market\" + -0.156*\"home\" + 0.150*\"glove\" + 0.146*\"million\" + -0.140*\"store\" + -0.128*\"vega\" + -0.122*\"las\" + -0.120*\"trade\"\n",
            "2020-03-23 10:41:47,962 : INFO : topic #56(167.699): -0.272*\"time\" + 0.169*\"work\" + 0.167*\"season\" + -0.142*\"student\" + 0.131*\"employe\" + -0.129*\"center\" + 0.122*\"coach\" + -0.120*\"counti\" + 0.117*\"communiti\" + -0.115*\"market\"\n",
            "2020-03-23 10:41:47,969 : INFO : topic #57(165.682): 0.312*\"game\" + -0.171*\"twin\" + -0.141*\"woman\" + -0.138*\"beauti\" + -0.116*\"point\" + 0.116*\"child\" + 0.113*\"black\" + 0.105*\"center\" + 0.104*\"fund\" + -0.101*\"lead\"\n",
            "2020-03-23 10:41:47,973 : INFO : topic #58(164.424): 0.175*\"famili\" + 0.171*\"board\" + -0.171*\"charg\" + 0.165*\"black\" + 0.157*\"report\" + 0.156*\"offic\" + 0.148*\"meet\" + -0.140*\"man\" + -0.135*\"child\" + -0.125*\"program\"\n",
            "2020-03-23 10:41:47,977 : INFO : topic #59(164.051): -0.284*\"million\" + -0.251*\"time\" + 0.211*\"woman\" + 0.185*\"park\" + 0.161*\"car\" + 0.158*\"man\" + -0.157*\"communiti\" + 0.150*\"fund\" + 0.140*\"game\" + -0.124*\"north\"\n",
            "2020-03-23 10:41:47,983 : INFO : topic #60(162.729): -0.293*\"home\" + -0.285*\"north\" + 0.189*\"china\" + 0.178*\"trade\" + 0.167*\"com\" + 0.163*\"die\" + -0.135*\"korea\" + 0.133*\"und\" + 0.122*\"chines\" + 0.118*\"child\"\n",
            "2020-03-23 10:41:47,988 : INFO : topic #61(160.799): 0.277*\"offic\" + -0.145*\"work\" + 0.143*\"play\" + -0.134*\"polic\" + -0.133*\"holiday\" + -0.125*\"store\" + 0.113*\"music\" + -0.112*\"decemb\" + -0.112*\"good\" + 0.112*\"famili\"\n",
            "2020-03-23 10:41:47,993 : INFO : topic #62(160.568): 0.280*\"servic\" + -0.220*\"polic\" + 0.203*\"offic\" + -0.201*\"time\" + 0.145*\"music\" + 0.127*\"woman\" + -0.126*\"com\" + 0.115*\"good\" + 0.113*\"glove\" + -0.104*\"child\"\n",
            "2020-03-23 10:41:47,999 : INFO : topic #63(159.079): 0.217*\"ford\" + 0.181*\"foto\" + 0.179*\"sourc\" + 0.175*\"woman\" + -0.136*\"music\" + -0.135*\"game\" + 0.129*\"season\" + 0.125*\"man\" + 0.122*\"henri\" + 0.118*\"million\"\n",
            "2020-03-23 10:41:48,003 : INFO : topic #64(158.740): 0.227*\"die\" + 0.179*\"und\" + -0.172*\"com\" + 0.158*\"report\" + 0.147*\"vote\" + 0.132*\"time\" + -0.129*\"princ\" + 0.117*\"der\" + -0.113*\"woman\" + 0.107*\"von\"\n",
            "2020-03-23 10:41:48,009 : INFO : topic #65(158.662): 0.201*\"offic\" + -0.197*\"ford\" + -0.170*\"car\" + -0.166*\"tesla\" + 0.164*\"die\" + -0.157*\"charg\" + 0.156*\"season\" + -0.139*\"fire\" + 0.135*\"und\" + 0.132*\"park\"\n",
            "2020-03-23 10:41:48,014 : INFO : topic #66(157.699): 0.213*\"woman\" + -0.206*\"home\" + -0.198*\"ford\" + -0.173*\"sourc\" + -0.168*\"foto\" + 0.139*\"man\" + 0.132*\"famili\" + 0.121*\"park\" + -0.120*\"henri\" + 0.110*\"law\"\n",
            "2020-03-23 10:41:48,020 : INFO : topic #67(156.874): 0.201*\"child\" + 0.178*\"vote\" + -0.174*\"report\" + 0.153*\"day\" + -0.147*\"offic\" + -0.146*\"peopl\" + -0.140*\"light\" + 0.138*\"like\" + -0.120*\"homeless\" + 0.113*\"play\"\n",
            "2020-03-23 10:41:48,025 : INFO : topic #68(156.288): -0.227*\"day\" + 0.181*\"store\" + 0.145*\"home\" + 0.140*\"car\" + -0.134*\"restaur\" + 0.118*\"communiti\" + -0.111*\"vote\" + -0.111*\"hous\" + -0.108*\"charg\" + -0.106*\"food\"\n",
            "2020-03-23 10:41:48,030 : INFO : topic #69(155.439): -0.257*\"offic\" + 0.218*\"polic\" + 0.206*\"famili\" + -0.186*\"home\" + -0.170*\"decemb\" + -0.160*\"day\" + 0.136*\"court\" + 0.129*\"vote\" + -0.113*\"gun\" + 0.112*\"servic\"\n",
            "2020-03-23 10:41:48,035 : INFO : topic #70(154.677): 0.176*\"wed\" + 0.156*\"child\" + -0.140*\"food\" + 0.134*\"shoot\" + 0.132*\"park\" + -0.117*\"depart\" + -0.115*\"board\" + -0.110*\"health\" + 0.110*\"day\" + -0.109*\"like\"\n",
            "2020-03-23 10:41:48,041 : INFO : topic #71(154.157): -0.164*\"die\" + 0.164*\"st\" + -0.147*\"wed\" + -0.143*\"und\" + -0.140*\"polic\" + 0.138*\"child\" + -0.132*\"event\" + 0.131*\"vote\" + 0.127*\"coach\" + 0.124*\"time\"\n",
            "2020-03-23 10:41:48,045 : INFO : topic #72(152.532): 0.225*\"ford\" + 0.185*\"sourc\" + 0.184*\"foto\" + -0.158*\"charg\" + 0.156*\"park\" + -0.152*\"art\" + 0.138*\"henri\" + -0.126*\"vote\" + 0.121*\"time\" + -0.113*\"work\"\n",
            "2020-03-23 10:41:48,050 : INFO : topic #73(151.748): 0.187*\"charg\" + 0.184*\"like\" + 0.166*\"board\" + 0.144*\"shoot\" + 0.143*\"member\" + 0.139*\"servic\" + 0.129*\"peopl\" + -0.122*\"car\" + 0.117*\"arrest\" + -0.115*\"tesla\"\n",
            "2020-03-23 10:41:48,054 : INFO : topic #74(150.508): 0.211*\"center\" + -0.207*\"charg\" + 0.182*\"vega\" + 0.182*\"las\" + -0.174*\"park\" + 0.163*\"glove\" + -0.152*\"las_vegas$\" + -0.127*\"photo\" + -0.123*\"arrest\" + 0.116*\"iowa\"\n",
            "2020-03-23 10:41:48,058 : INFO : topic #75(149.395): -0.216*\"famili\" + 0.181*\"child\" + 0.154*\"home\" + 0.151*\"busi\" + 0.143*\"day\" + 0.129*\"report\" + -0.127*\"woman\" + -0.118*\"meet\" + -0.118*\"store\" + -0.115*\"game\"\n",
            "2020-03-23 10:41:48,063 : INFO : topic #76(148.450): 0.206*\"busi\" + 0.187*\"woman\" + 0.177*\"communiti\" + -0.164*\"park\" + 0.144*\"report\" + 0.138*\"vote\" + -0.130*\"car\" + 0.118*\"law\" + -0.116*\"board\" + 0.115*\"insur\"\n",
            "2020-03-23 10:41:48,069 : INFO : topic #77(148.025): -0.174*\"woman\" + 0.142*\"season\" + -0.135*\"work\" + -0.134*\"iowa\" + 0.131*\"center\" + -0.126*\"open\" + -0.122*\"store\" + -0.122*\"million\" + 0.116*\"park\" + -0.115*\"game\"\n",
            "2020-03-23 10:41:48,073 : INFO : topic #78(147.152): 0.183*\"board\" + 0.170*\"child\" + -0.138*\"shoot\" + -0.134*\"food\" + 0.123*\"insur\" + 0.119*\"law\" + -0.104*\"park\" + 0.104*\"peopl\" + 0.101*\"area\" + 0.100*\"snow\"\n",
            "2020-03-23 10:41:48,078 : INFO : topic #79(146.832): 0.153*\"tesla\" + -0.134*\"water\" + -0.132*\"polic\" + -0.132*\"chang\" + 0.122*\"day\" + 0.122*\"famili\" + -0.121*\"law\" + 0.120*\"car\" + 0.110*\"project\" + 0.110*\"news\"\n",
            "2020-03-23 10:41:48,082 : INFO : topic #80(145.733): -0.161*\"man\" + 0.155*\"child\" + 0.146*\"home\" + -0.141*\"play\" + -0.140*\"california\" + -0.140*\"find\" + -0.139*\"famili\" + 0.133*\"go\" + 0.115*\"iowa\" + -0.108*\"vega\"\n",
            "2020-03-23 10:41:48,088 : INFO : topic #81(144.895): 0.172*\"busi\" + -0.159*\"charg\" + 0.151*\"servic\" + -0.144*\"island\" + -0.123*\"offic\" + 0.121*\"presid\" + -0.118*\"woman\" + 0.114*\"gun\" + 0.113*\"restaur\" + -0.112*\"board\"\n",
            "2020-03-23 10:41:48,091 : INFO : topic #82(143.561): 0.266*\"like\" + -0.174*\"good\" + -0.167*\"store\" + -0.162*\"day\" + 0.144*\"shoot\" + 0.124*\"servic\" + -0.120*\"north\" + -0.116*\"offic\" + -0.111*\"high\" + -0.107*\"amazon\"\n",
            "2020-03-23 10:41:48,098 : INFO : topic #83(142.940): -0.161*\"trump\" + 0.154*\"nation\" + -0.148*\"plan\" + 0.144*\"fire\" + 0.126*\"time\" + -0.126*\"decemb\" + 0.124*\"park\" + -0.123*\"find\" + 0.118*\"depart\" + 0.118*\"store\"\n",
            "2020-03-23 10:41:48,102 : INFO : topic #84(142.201): -0.187*\"investig\" + -0.181*\"light\" + -0.135*\"glove\" + 0.129*\"presid\" + -0.125*\"includ\" + -0.122*\"communiti\" + 0.119*\"houston$\" + 0.110*\"polic\" + -0.109*\"gun\" + 0.109*\"music\"\n",
            "2020-03-23 10:41:48,107 : INFO : topic #85(141.728): 0.175*\"park\" + 0.170*\"decemb\" + 0.159*\"polic\" + 0.134*\"build\" + 0.131*\"presid\" + 0.128*\"depart\" + -0.123*\"read\" + -0.118*\"offic\" + -0.116*\"man\" + 0.116*\"miss\"\n",
            "2020-03-23 10:41:48,113 : INFO : topic #86(140.844): 0.158*\"iowa\" + -0.146*\"high\" + 0.139*\"decemb\" + -0.132*\"--\" + -0.123*\"presid\" + 0.122*\"area\" + 0.118*\"black\" + -0.116*\"las_vegas$\" + 0.113*\"plan\" + -0.112*\"woman\"\n",
            "2020-03-23 10:41:48,118 : INFO : topic #87(139.541): 0.228*\"day\" + 0.163*\"houston$\" + -0.146*\"water\" + 0.145*\"photo\" + -0.142*\"servic\" + 0.133*\"busi\" + 0.129*\"like\" + -0.127*\"go\" + -0.123*\"come\" + 0.117*\"friday\"\n",
            "2020-03-23 10:41:48,123 : INFO : topic #88(138.850): -0.180*\"light\" + 0.169*\"decemb\" + 0.141*\"go\" + 0.129*\"trump\" + -0.125*\"presid\" + 0.111*\"famili\" + 0.108*\"area\" + -0.101*\"game\" + 0.094*\"air\" + 0.093*\"point\"\n",
            "2020-03-23 10:41:48,127 : INFO : topic #89(138.379): 0.230*\"busi\" + 0.153*\"shoot\" + 0.143*\"program\" + 0.134*\"woman\" + -0.121*\"church\" + -0.117*\"member\" + 0.114*\"famili\" + -0.108*\"servic\" + 0.102*\"black\" + -0.096*\"iowa\"\n",
            "2020-03-23 10:41:48,132 : INFO : topic #90(137.960): 0.158*\"houston$\" + 0.145*\"percent\" + 0.144*\"tell\" + -0.133*\"dulo\" + 0.131*\"trump\" + -0.130*\"like\" + -0.125*\"presid\" + 0.119*\"colleg\" + 0.108*\"gun\" + 0.108*\"art\"\n",
            "2020-03-23 10:41:48,136 : INFO : topic #91(137.128): 0.169*\"coach\" + -0.152*\"compani\" + 0.148*\"accord\" + 0.141*\"music\" + 0.136*\"high\" + -0.135*\"park\" + 0.132*\"employe\" + -0.126*\"communiti\" + -0.114*\"good\" + 0.114*\"center\"\n",
            "2020-03-23 10:41:48,140 : INFO : topic #92(137.071): -0.197*\"busi\" + 0.140*\"report\" + 0.140*\"art\" + 0.135*\"plan\" + -0.130*\"iowa\" + 0.129*\"coach\" + 0.128*\"compani\" + -0.119*\"investig\" + 0.116*\"servic\" + -0.115*\"nation\"\n",
            "2020-03-23 10:41:48,144 : INFO : topic #93(136.843): 0.173*\"season\" + 0.131*\"program\" + -0.123*\"law\" + -0.122*\"high\" + -0.122*\"good\" + 0.118*\"insur\" + 0.113*\"day\" + 0.107*\"friday\" + -0.103*\"snow\" + -0.100*\"employe\"\n",
            "2020-03-23 10:41:48,151 : INFO : topic #94(136.133): 0.158*\"day\" + 0.153*\"nation\" + 0.140*\"meet\" + -0.137*\"good\" + 0.131*\"program\" + -0.131*\"tesla\" + 0.128*\"servic\" + -0.121*\"musk\" + 0.104*\"world\" + 0.100*\"film\"\n",
            "2020-03-23 10:41:48,156 : INFO : topic #95(135.900): -0.162*\"art\" + -0.133*\"investig\" + 0.132*\"shelter\" + 0.123*\"center\" + -0.120*\"san\" + 0.115*\"christma\" + -0.113*\"servic\" + -0.112*\"north\" + 0.108*\"open\" + -0.102*\"musk\"\n",
            "2020-03-23 10:41:48,161 : INFO : topic #96(134.478): 0.147*\"depart\" + 0.144*\"man\" + 0.138*\"--\" + 0.128*\"court\" + -0.125*\"dog\" + 0.125*\"employe\" + 0.122*\"church\" + -0.115*\"miami$\" + 0.113*\"tuesday\" + 0.111*\"iowa\"\n",
            "2020-03-23 10:41:48,166 : INFO : topic #97(133.285): 0.170*\"book\" + 0.157*\"program\" + -0.143*\"iowa\" + -0.140*\"season\" + 0.133*\"like\" + 0.132*\"accord\" + 0.131*\"island\" + 0.130*\"read\" + -0.125*\"chang\" + 0.123*\"miami$\"\n",
            "2020-03-23 10:41:48,170 : INFO : topic #98(132.739): -0.177*\"build\" + 0.174*\"park\" + -0.133*\"week\" + 0.133*\"film\" + 0.132*\"coach\" + 0.126*\"st\" + -0.118*\"race\" + 0.114*\"free\" + 0.112*\"fire\" + -0.110*\"light\"\n",
            "2020-03-23 10:41:48,175 : INFO : topic #99(132.212): -0.150*\"gun\" + -0.141*\"book\" + 0.140*\"light\" + -0.128*\"center\" + -0.127*\"season\" + -0.126*\"record\" + -0.119*\"read\" + 0.109*\"st\" + -0.107*\"island\" + -0.100*\"board\"\n"
          ],
          "name": "stderr"
        },
        {
          "output_type": "stream",
          "text": [
            "[(0, '0.849*\"-\" + 0.185*\"say\" + 0.178*\"imag\" + 0.159*\"data\" + 0.105*\"dec\" + 0.100*\"year\" + 0.090*\"los_angeles$\" + 0.062*\"time\" + 0.059*\"state\" + 0.059*\"like\"'), (1, '0.688*\"los_angeles$\" + 0.303*\"clipper\" + 0.247*\"laker\" + 0.211*\"user\" + 0.178*\"photo\" + 0.175*\"game\" + 0.153*\"decemb\" + 0.148*\"getti\" + -0.133*\"-\" + 0.113*\"imag\"'), (2, '-0.538*\"say\" + 0.326*\"-\" + 0.227*\"data\" + 0.209*\"imag\" + -0.166*\"year\" + -0.125*\"state\" + -0.114*\"peopl\" + -0.108*\"citi\" + -0.107*\"time\" + -0.096*\"work\"'), (3, '0.428*\"say\" + -0.293*\"game\" + -0.210*\"team\" + 0.196*\"imag\" + 0.189*\"data\" + 0.176*\"polic\" + -0.170*\"season\" + -0.165*\"play\" + -0.148*\"point\" + -0.141*\"year\"'), (4, '0.382*\"say\" + 0.228*\"game\" + -0.188*\"citi\" + -0.183*\"hous\" + 0.173*\"polic\" + -0.159*\"new\" + -0.146*\"year\" + 0.133*\"play\" + -0.124*\"state\" + 0.122*\"team\"'), (5, '-0.698*\"vs\" + -0.355*\"record\" + -0.349*\"rate\" + -0.341*\"sagarin\" + -0.142*\"state\" + 0.089*\"like\" + -0.071*\"polic\" + -0.071*\"citi\" + 0.063*\"know\" + -0.059*\"offic\"'), (6, '0.364*\"dec\" + -0.253*\"trump\" + 0.236*\"citi\" + -0.216*\"say\" + 0.206*\"christma\" + 0.182*\"polic\" + 0.182*\"suspect\" + 0.155*\"vehicl\" + -0.152*\"presid\" + 0.136*\"holiday\"'), (7, '-0.280*\"state\" + 0.217*\"vs\" + -0.203*\"game\" + 0.192*\"like\" + -0.168*\"citi\" + -0.165*\"team\" + -0.155*\"trump\" + 0.146*\"know\" + 0.135*\"peopl\" + -0.120*\"polic\"'), (8, '0.349*\"dec\" + 0.265*\"school\" + -0.214*\"suspect\" + 0.192*\"christma\" + 0.188*\"say\" + -0.177*\"vehicl\" + -0.158*\"polic\" + 0.152*\"student\" + -0.141*\"unknown\" + -0.132*\"right\"'), (9, '0.450*\"dec\" + 0.406*\"trump\" + 0.265*\"christma\" + 0.240*\"presid\" + -0.210*\"school\" + 0.159*\"democrat\" + 0.154*\"impeach\" + 0.135*\"holiday\" + -0.135*\"student\" + -0.108*\"citi\"'), (10, '0.410*\"citi\" + -0.247*\"suspect\" + -0.214*\"vehicl\" + -0.187*\"unknown\" + 0.176*\"hous\" + 0.147*\"right\" + -0.140*\"year\" + 0.134*\"round\" + -0.128*\"oct\" + -0.126*\"take\"'), (11, '0.490*\"school\" + 0.315*\"student\" + -0.220*\"citi\" + 0.172*\"right\" + 0.164*\"round\" + 0.158*\"high\" + 0.147*\"de\" + 0.142*\"kick\" + 0.141*\"punch\" + 0.120*\"land\"'), (12, '0.261*\"compani\" + -0.260*\"school\" + -0.245*\"citi\" + -0.225*\"hous\" + 0.165*\"market\" + -0.156*\"trump\" + -0.139*\"suspect\" + 0.134*\"dec\" + -0.130*\"like\" + -0.120*\"student\"'), (13, '0.359*\"polic\" + -0.338*\"say\" + 0.238*\"offic\" + -0.189*\"suspect\" + -0.178*\"unknown\" + -0.166*\"vehicl\" + -0.154*\"hous\" + 0.149*\"school\" + 0.129*\"report\" + -0.121*\"oct\"'), (14, '-0.248*\"data\" + -0.232*\"imag\" + 0.228*\"state\" + -0.193*\"citi\" + -0.187*\"el\" + 0.184*\"counti\" + 0.164*\"all\" + -0.163*\"compani\" + 0.152*\"sr\" + -0.151*\"mont\"'), (15, '-0.277*\"data\" + -0.262*\"imag\" + -0.204*\"state\" + 0.196*\"el\" + 0.179*\"-\" + -0.174*\"year\" + 0.160*\"say\" + 0.156*\"mont\" + 0.150*\"trump\" + 0.135*\"decemb\"'), (16, '0.315*\"state\" + 0.310*\"year\" + -0.234*\"student\" + -0.219*\"school\" + 0.205*\"el\" + 0.201*\"de\" + -0.201*\"point\" + -0.157*\"game\" + 0.146*\"mont\" + -0.136*\"hous\"'), (17, '0.375*\"year\" + -0.256*\"el\" + -0.224*\"mont\" + -0.213*\"health\" + -0.151*\"dec\" + -0.149*\"care\" + -0.142*\"peopl\" + 0.136*\"new\" + -0.130*\"game\" + -0.124*\"patient\"'), (18, '-0.375*\"citi\" + 0.316*\"hous\" + 0.277*\"counti\" + -0.230*\"dec\" + 0.213*\"home\" + 0.191*\"famili\" + 0.132*\"com\" + -0.128*\"like\" + 0.127*\"child\" + -0.119*\"know\"'), (19, '-0.316*\"las_vegas$\" + -0.294*\"year\" + -0.172*\"mont\" + -0.167*\"review\" + -0.163*\"journal\" + -0.161*\"fire\" + -0.156*\"el\" + 0.156*\"\\'\" + 0.153*\"com\" + 0.136*\"citi\"'), (20, '0.249*\"las_vegas$\" + 0.244*\"de\" + -0.219*\"hous\" + 0.202*\"com\" + 0.184*\"counti\" + -0.154*\"christma\" + -0.152*\"compani\" + 0.148*\"journal\" + -0.137*\"team\" + 0.134*\"review\"'), (21, '0.520*\"de\" + 0.161*\"la\" + -0.161*\"counti\" + -0.155*\"monday\" + 0.149*\"el\" + 0.145*\"polic\" + 0.145*\"en\" + 0.136*\"hous\" + -0.132*\"decemb\" + -0.128*\"perform\"'), (22, '0.265*\"year\" + -0.247*\"\\'\" + -0.224*\"`\" + -0.208*\"test\" + -0.198*\"state\" + 0.191*\"health\" + 0.182*\"polic\" + 0.140*\"patient\" + -0.135*\"court\" + 0.125*\"gatzk\"'), (23, '0.388*\"de\" + -0.189*\"state\" + 0.178*\"court\" + -0.154*\"mont\" + 0.144*\"famili\" + -0.137*\"test\" + -0.128*\"polic\" + 0.123*\"la\" + 0.119*\"colleg\" + -0.117*\"north\"'), (24, '-0.453*\"counti\" + 0.344*\"state\" + -0.180*\"\\'\" + -0.151*\"`\" + -0.147*\"citi\" + 0.141*\"peopl\" + -0.123*\"gatzk\" + -0.115*\"year\" + -0.111*\"pain\" + -0.108*\"opioid\"'), (25, '0.218*\"counti\" + -0.200*\"test\" + 0.197*\"compani\" + -0.177*\"year\" + -0.161*\"\\'\" + -0.149*\"`\" + -0.146*\"gatzk\" + -0.141*\"patient\" + 0.139*\"team\" + -0.138*\"opioid\"'), (26, '0.224*\"las_vegas$\" + -0.187*\"new\" + -0.173*\"point\" + 0.172*\"citi\" + 0.170*\"\\'\" + 0.166*\"`\" + 0.164*\"health\" + 0.157*\"test\" + 0.155*\"famili\" + 0.145*\"team\"'), (27, '-0.356*\"counti\" + 0.204*\"citi\" + 0.202*\"new\" + 0.174*\"court\" + 0.169*\"mont\" + -0.151*\"colleg\" + -0.147*\"photo\" + -0.144*\"offic\" + -0.142*\"de\" + -0.113*\"parad\"'), (28, '0.328*\"point\" + -0.235*\"new\" + 0.176*\"christma\" + 0.143*\"famili\" + 0.128*\"democrat\" + 0.127*\"lead\" + 0.121*\"shoot\" + 0.120*\"year\" + 0.120*\"test\" + -0.113*\"star\"'), (29, '0.274*\"\\'\" + -0.255*\"report\" + 0.212*\"`\" + 0.208*\"new\" + -0.205*\"state\" + 0.194*\"polic\" + 0.159*\"health\" + -0.152*\"trump\" + -0.151*\"citi\" + 0.141*\"hous\"'), (30, '0.309*\"test\" + -0.184*\"point\" + 0.164*\"time\" + -0.164*\"new\" + -0.148*\"`\" + -0.145*\"\\'\" + -0.135*\"counti\" + -0.132*\"shoot\" + 0.125*\"area\" + -0.119*\"war\"'), (31, '-0.284*\"state\" + -0.215*\"famili\" + -0.185*\"compani\" + 0.184*\"peopl\" + -0.177*\"market\" + 0.161*\"health\" + -0.151*\"com\" + 0.147*\"test\" + 0.144*\"point\" + -0.134*\"\\'\"'), (32, '-0.306*\"report\" + 0.305*\"test\" + -0.189*\"black\" + 0.180*\"trump\" + -0.167*\"\\'\" + -0.141*\"`\" + -0.131*\"market\" + -0.131*\"star\" + 0.128*\"shoot\" + 0.125*\"know\"'), (33, '0.251*\"market\" + 0.216*\"com\" + -0.179*\"famili\" + -0.166*\"work\" + -0.161*\"compani\" + -0.152*\"christma\" + -0.149*\"star\" + -0.142*\"employe\" + 0.140*\"health\" + -0.130*\"war\"'), (34, '-0.435*\"new\" + -0.214*\"health\" + 0.210*\"year\" + -0.178*\"star\" + -0.137*\"counti\" + 0.129*\"million\" + 0.126*\"black\" + -0.119*\"famili\" + -0.118*\"care\" + 0.118*\"art\"'), (35, '-0.213*\"report\" + 0.208*\"health\" + 0.203*\"christma\" + -0.176*\"point\" + -0.172*\"new\" + 0.169*\"fire\" + -0.160*\"dec\" + -0.157*\"woman\" + 0.141*\"season\" + -0.136*\"year\"'), (36, '-0.359*\"report\" + 0.176*\"peopl\" + 0.173*\"black\" + 0.172*\"court\" + -0.140*\"know\" + -0.139*\"health\" + 0.137*\"north\" + -0.130*\"care\" + 0.123*\"counti\" + -0.119*\"work\"'), (37, '-0.203*\"child\" + 0.197*\"compani\" + 0.190*\"point\" + 0.175*\"fire\" + 0.154*\"\\'\" + -0.153*\"market\" + 0.151*\"`\" + -0.141*\"star\" + 0.131*\"hous\" + 0.126*\"work\"'), (38, '0.325*\"new\" + 0.161*\"christma\" + -0.156*\"work\" + -0.154*\"star\" + -0.149*\"health\" + 0.142*\"know\" + -0.139*\"photo\" + 0.131*\"build\" + -0.128*\"store\" + -0.125*\"employe\"'), (39, '-0.240*\"home\" + 0.228*\"christma\" + -0.192*\"million\" + -0.161*\"fire\" + -0.160*\"dec\" + 0.157*\"offic\" + 0.152*\"new\" + -0.151*\"school\" + 0.147*\"counti\" + -0.139*\"build\"'), (40, '-0.217*\"team\" + -0.214*\"star\" + -0.177*\"point\" + 0.165*\"peopl\" + 0.142*\"compani\" + 0.142*\"home\" + -0.142*\"offic\" + 0.139*\"game\" + 0.139*\"student\" + -0.129*\"data\"'), (41, '0.233*\"time\" + -0.227*\"million\" + -0.227*\"peopl\" + -0.224*\"fund\" + 0.182*\"work\" + -0.138*\"report\" + -0.133*\"star\" + -0.128*\"game\" + -0.120*\"like\" + -0.115*\"program\"'), (42, '0.259*\"fire\" + 0.230*\"peopl\" + -0.202*\"home\" + 0.182*\"shoot\" + 0.147*\"music\" + 0.128*\"market\" + -0.123*\"colleg\" + 0.121*\"time\" + 0.119*\"school\" + -0.114*\"famili\"'), (43, '-0.228*\"million\" + 0.184*\"fire\" + 0.169*\"offic\" + 0.155*\"market\" + -0.149*\"fund\" + -0.138*\"black\" + -0.135*\"north\" + 0.124*\"vote\" + 0.114*\"year\" + 0.112*\"test\"'), (44, '-0.288*\"time\" + -0.258*\"fund\" + 0.213*\"million\" + 0.135*\"christma\" + 0.127*\"vega\" + 0.126*\"center\" + -0.124*\"distribut\" + 0.118*\"las\" + 0.117*\"coach\" + 0.112*\"memori\"'), (45, '-0.268*\"student\" + -0.216*\"million\" + -0.214*\"north\" + -0.192*\"art\" + 0.147*\"school\" + 0.129*\"board\" + -0.127*\"star\" + 0.123*\"communiti\" + 0.116*\"servic\" + -0.114*\"counti\"'), (46, '0.186*\"fire\" + 0.168*\"build\" + -0.164*\"servic\" + 0.153*\"new\" + -0.149*\"star\" + -0.142*\"compani\" + -0.140*\"peopl\" + -0.136*\"time\" + 0.133*\"black\" + 0.129*\"health\"'), (47, '-0.247*\"com\" + -0.216*\"north\" + -0.203*\"photo\" + 0.165*\"million\" + 0.154*\"music\" + -0.146*\"fire\" + -0.144*\"student\" + -0.144*\"beauti\" + -0.144*\"vote\" + -0.134*\"black\"'), (48, '0.183*\"time\" + -0.160*\"vega\" + 0.157*\"black\" + -0.156*\"las\" + 0.138*\"fire\" + -0.132*\"center\" + -0.124*\"peopl\" + -0.123*\"news\" + -0.116*\"test\" + -0.111*\"north\"'), (49, '-0.176*\"yard\" + -0.173*\"offic\" + 0.164*\"team\" + 0.151*\"fire\" + 0.147*\"coach\" + -0.145*\"game\" + -0.143*\"pass\" + -0.141*\"work\" + -0.134*\"vote\" + -0.132*\"center\"'), (50, '-0.178*\"memori\" + -0.178*\"north\" + -0.166*\"woman\" + 0.148*\"day\" + -0.139*\"com\" + -0.138*\"man\" + -0.137*\"lowel\" + 0.124*\"new\" + 0.123*\"child\" + -0.116*\"school\"'), (51, '0.209*\"fire\" + -0.182*\"home\" + 0.171*\"black\" + 0.150*\"child\" + -0.149*\"vote\" + 0.137*\"compani\" + -0.125*\"report\" + 0.123*\"market\" + -0.121*\"shoot\" + -0.121*\"music\"'), (52, '0.285*\"work\" + -0.250*\"child\" + -0.225*\"vote\" + -0.208*\"compani\" + 0.202*\"market\" + 0.130*\"fund\" + 0.106*\"vega\" + 0.104*\"campaign\" + 0.102*\"las\" + 0.100*\"peopl\"'), (53, '-0.210*\"black\" + -0.206*\"million\" + -0.157*\"peopl\" + -0.156*\"home\" + -0.154*\"compani\" + 0.153*\"work\" + -0.150*\"com\" + 0.139*\"\\'\" + 0.136*\"good\" + -0.136*\"school\"'), (54, '-0.187*\"home\" + -0.173*\"woman\" + -0.171*\"million\" + -0.166*\"vote\" + -0.157*\"servic\" + -0.156*\"time\" + -0.149*\"day\" + 0.136*\"famili\" + 0.130*\"com\" + -0.115*\"center\"'), (55, '-0.186*\"black\" + 0.184*\"north\" + 0.163*\"market\" + -0.156*\"home\" + 0.150*\"glove\" + 0.146*\"million\" + -0.140*\"store\" + -0.128*\"vega\" + -0.122*\"las\" + -0.120*\"trade\"'), (56, '-0.272*\"time\" + 0.169*\"work\" + 0.167*\"season\" + -0.142*\"student\" + 0.131*\"employe\" + -0.129*\"center\" + 0.122*\"coach\" + -0.120*\"counti\" + 0.117*\"communiti\" + -0.115*\"market\"'), (57, '0.312*\"game\" + -0.171*\"twin\" + -0.141*\"woman\" + -0.138*\"beauti\" + -0.116*\"point\" + 0.116*\"child\" + 0.113*\"black\" + 0.105*\"center\" + 0.104*\"fund\" + -0.101*\"lead\"'), (58, '0.175*\"famili\" + 0.171*\"board\" + -0.171*\"charg\" + 0.165*\"black\" + 0.157*\"report\" + 0.156*\"offic\" + 0.148*\"meet\" + -0.140*\"man\" + -0.135*\"child\" + -0.125*\"program\"'), (59, '-0.284*\"million\" + -0.251*\"time\" + 0.211*\"woman\" + 0.185*\"park\" + 0.161*\"car\" + 0.158*\"man\" + -0.157*\"communiti\" + 0.150*\"fund\" + 0.140*\"game\" + -0.124*\"north\"'), (60, '-0.293*\"home\" + -0.285*\"north\" + 0.189*\"china\" + 0.178*\"trade\" + 0.167*\"com\" + 0.163*\"die\" + -0.135*\"korea\" + 0.133*\"und\" + 0.122*\"chines\" + 0.118*\"child\"'), (61, '0.277*\"offic\" + -0.145*\"work\" + 0.143*\"play\" + -0.134*\"polic\" + -0.133*\"holiday\" + -0.125*\"store\" + 0.113*\"music\" + -0.112*\"decemb\" + -0.112*\"good\" + 0.112*\"famili\"'), (62, '0.280*\"servic\" + -0.220*\"polic\" + 0.203*\"offic\" + -0.201*\"time\" + 0.145*\"music\" + 0.127*\"woman\" + -0.126*\"com\" + 0.115*\"good\" + 0.113*\"glove\" + -0.104*\"child\"'), (63, '0.217*\"ford\" + 0.181*\"foto\" + 0.179*\"sourc\" + 0.175*\"woman\" + -0.136*\"music\" + -0.135*\"game\" + 0.129*\"season\" + 0.125*\"man\" + 0.122*\"henri\" + 0.118*\"million\"'), (64, '0.227*\"die\" + 0.179*\"und\" + -0.172*\"com\" + 0.158*\"report\" + 0.147*\"vote\" + 0.132*\"time\" + -0.129*\"princ\" + 0.117*\"der\" + -0.113*\"woman\" + 0.107*\"von\"'), (65, '0.201*\"offic\" + -0.197*\"ford\" + -0.170*\"car\" + -0.166*\"tesla\" + 0.164*\"die\" + -0.157*\"charg\" + 0.156*\"season\" + -0.139*\"fire\" + 0.135*\"und\" + 0.132*\"park\"'), (66, '0.213*\"woman\" + -0.206*\"home\" + -0.198*\"ford\" + -0.173*\"sourc\" + -0.168*\"foto\" + 0.139*\"man\" + 0.132*\"famili\" + 0.121*\"park\" + -0.120*\"henri\" + 0.110*\"law\"'), (67, '0.201*\"child\" + 0.178*\"vote\" + -0.174*\"report\" + 0.153*\"day\" + -0.147*\"offic\" + -0.146*\"peopl\" + -0.140*\"light\" + 0.138*\"like\" + -0.120*\"homeless\" + 0.113*\"play\"'), (68, '-0.227*\"day\" + 0.181*\"store\" + 0.145*\"home\" + 0.140*\"car\" + -0.134*\"restaur\" + 0.118*\"communiti\" + -0.111*\"vote\" + -0.111*\"hous\" + -0.108*\"charg\" + -0.106*\"food\"'), (69, '-0.257*\"offic\" + 0.218*\"polic\" + 0.206*\"famili\" + -0.186*\"home\" + -0.170*\"decemb\" + -0.160*\"day\" + 0.136*\"court\" + 0.129*\"vote\" + -0.113*\"gun\" + 0.112*\"servic\"'), (70, '0.176*\"wed\" + 0.156*\"child\" + -0.140*\"food\" + 0.134*\"shoot\" + 0.132*\"park\" + -0.117*\"depart\" + -0.115*\"board\" + -0.110*\"health\" + 0.110*\"day\" + -0.109*\"like\"'), (71, '-0.164*\"die\" + 0.164*\"st\" + -0.147*\"wed\" + -0.143*\"und\" + -0.140*\"polic\" + 0.138*\"child\" + -0.132*\"event\" + 0.131*\"vote\" + 0.127*\"coach\" + 0.124*\"time\"'), (72, '0.225*\"ford\" + 0.185*\"sourc\" + 0.184*\"foto\" + -0.158*\"charg\" + 0.156*\"park\" + -0.152*\"art\" + 0.138*\"henri\" + -0.126*\"vote\" + 0.121*\"time\" + -0.113*\"work\"'), (73, '0.187*\"charg\" + 0.184*\"like\" + 0.166*\"board\" + 0.144*\"shoot\" + 0.143*\"member\" + 0.139*\"servic\" + 0.129*\"peopl\" + -0.122*\"car\" + 0.117*\"arrest\" + -0.115*\"tesla\"'), (74, '0.211*\"center\" + -0.207*\"charg\" + 0.182*\"vega\" + 0.182*\"las\" + -0.174*\"park\" + 0.163*\"glove\" + -0.152*\"las_vegas$\" + -0.127*\"photo\" + -0.123*\"arrest\" + 0.116*\"iowa\"'), (75, '-0.216*\"famili\" + 0.181*\"child\" + 0.154*\"home\" + 0.151*\"busi\" + 0.143*\"day\" + 0.129*\"report\" + -0.127*\"woman\" + -0.118*\"meet\" + -0.118*\"store\" + -0.115*\"game\"'), (76, '0.206*\"busi\" + 0.187*\"woman\" + 0.177*\"communiti\" + -0.164*\"park\" + 0.144*\"report\" + 0.138*\"vote\" + -0.130*\"car\" + 0.118*\"law\" + -0.116*\"board\" + 0.115*\"insur\"'), (77, '-0.174*\"woman\" + 0.142*\"season\" + -0.135*\"work\" + -0.134*\"iowa\" + 0.131*\"center\" + -0.126*\"open\" + -0.122*\"store\" + -0.122*\"million\" + 0.116*\"park\" + -0.115*\"game\"'), (78, '0.183*\"board\" + 0.170*\"child\" + -0.138*\"shoot\" + -0.134*\"food\" + 0.123*\"insur\" + 0.119*\"law\" + -0.104*\"park\" + 0.104*\"peopl\" + 0.101*\"area\" + 0.100*\"snow\"'), (79, '0.153*\"tesla\" + -0.134*\"water\" + -0.132*\"polic\" + -0.132*\"chang\" + 0.122*\"day\" + 0.122*\"famili\" + -0.121*\"law\" + 0.120*\"car\" + 0.110*\"project\" + 0.110*\"news\"'), (80, '-0.161*\"man\" + 0.155*\"child\" + 0.146*\"home\" + -0.141*\"play\" + -0.140*\"california\" + -0.140*\"find\" + -0.139*\"famili\" + 0.133*\"go\" + 0.115*\"iowa\" + -0.108*\"vega\"'), (81, '0.172*\"busi\" + -0.159*\"charg\" + 0.151*\"servic\" + -0.144*\"island\" + -0.123*\"offic\" + 0.121*\"presid\" + -0.118*\"woman\" + 0.114*\"gun\" + 0.113*\"restaur\" + -0.112*\"board\"'), (82, '0.266*\"like\" + -0.174*\"good\" + -0.167*\"store\" + -0.162*\"day\" + 0.144*\"shoot\" + 0.124*\"servic\" + -0.120*\"north\" + -0.116*\"offic\" + -0.111*\"high\" + -0.107*\"amazon\"'), (83, '-0.161*\"trump\" + 0.154*\"nation\" + -0.148*\"plan\" + 0.144*\"fire\" + 0.126*\"time\" + -0.126*\"decemb\" + 0.124*\"park\" + -0.123*\"find\" + 0.118*\"depart\" + 0.118*\"store\"'), (84, '-0.187*\"investig\" + -0.181*\"light\" + -0.135*\"glove\" + 0.129*\"presid\" + -0.125*\"includ\" + -0.122*\"communiti\" + 0.119*\"houston$\" + 0.110*\"polic\" + -0.109*\"gun\" + 0.109*\"music\"'), (85, '0.175*\"park\" + 0.170*\"decemb\" + 0.159*\"polic\" + 0.134*\"build\" + 0.131*\"presid\" + 0.128*\"depart\" + -0.123*\"read\" + -0.118*\"offic\" + -0.116*\"man\" + 0.116*\"miss\"'), (86, '0.158*\"iowa\" + -0.146*\"high\" + 0.139*\"decemb\" + -0.132*\"--\" + -0.123*\"presid\" + 0.122*\"area\" + 0.118*\"black\" + -0.116*\"las_vegas$\" + 0.113*\"plan\" + -0.112*\"woman\"'), (87, '0.228*\"day\" + 0.163*\"houston$\" + -0.146*\"water\" + 0.145*\"photo\" + -0.142*\"servic\" + 0.133*\"busi\" + 0.129*\"like\" + -0.127*\"go\" + -0.123*\"come\" + 0.117*\"friday\"'), (88, '-0.180*\"light\" + 0.169*\"decemb\" + 0.141*\"go\" + 0.129*\"trump\" + -0.125*\"presid\" + 0.111*\"famili\" + 0.108*\"area\" + -0.101*\"game\" + 0.094*\"air\" + 0.093*\"point\"'), (89, '0.230*\"busi\" + 0.153*\"shoot\" + 0.143*\"program\" + 0.134*\"woman\" + -0.121*\"church\" + -0.117*\"member\" + 0.114*\"famili\" + -0.108*\"servic\" + 0.102*\"black\" + -0.096*\"iowa\"'), (90, '0.158*\"houston$\" + 0.145*\"percent\" + 0.144*\"tell\" + -0.133*\"dulo\" + 0.131*\"trump\" + -0.130*\"like\" + -0.125*\"presid\" + 0.119*\"colleg\" + 0.108*\"gun\" + 0.108*\"art\"'), (91, '0.169*\"coach\" + -0.152*\"compani\" + 0.148*\"accord\" + 0.141*\"music\" + 0.136*\"high\" + -0.135*\"park\" + 0.132*\"employe\" + -0.126*\"communiti\" + -0.114*\"good\" + 0.114*\"center\"'), (92, '-0.197*\"busi\" + 0.140*\"report\" + 0.140*\"art\" + 0.135*\"plan\" + -0.130*\"iowa\" + 0.129*\"coach\" + 0.128*\"compani\" + -0.119*\"investig\" + 0.116*\"servic\" + -0.115*\"nation\"'), (93, '0.173*\"season\" + 0.131*\"program\" + -0.123*\"law\" + -0.122*\"high\" + -0.122*\"good\" + 0.118*\"insur\" + 0.113*\"day\" + 0.107*\"friday\" + -0.103*\"snow\" + -0.100*\"employe\"'), (94, '0.158*\"day\" + 0.153*\"nation\" + 0.140*\"meet\" + -0.137*\"good\" + 0.131*\"program\" + -0.131*\"tesla\" + 0.128*\"servic\" + -0.121*\"musk\" + 0.104*\"world\" + 0.100*\"film\"'), (95, '-0.162*\"art\" + -0.133*\"investig\" + 0.132*\"shelter\" + 0.123*\"center\" + -0.120*\"san\" + 0.115*\"christma\" + -0.113*\"servic\" + -0.112*\"north\" + 0.108*\"open\" + -0.102*\"musk\"'), (96, '0.147*\"depart\" + 0.144*\"man\" + 0.138*\"--\" + 0.128*\"court\" + -0.125*\"dog\" + 0.125*\"employe\" + 0.122*\"church\" + -0.115*\"miami$\" + 0.113*\"tuesday\" + 0.111*\"iowa\"'), (97, '0.170*\"book\" + 0.157*\"program\" + -0.143*\"iowa\" + -0.140*\"season\" + 0.133*\"like\" + 0.132*\"accord\" + 0.131*\"island\" + 0.130*\"read\" + -0.125*\"chang\" + 0.123*\"miami$\"'), (98, '-0.177*\"build\" + 0.174*\"park\" + -0.133*\"week\" + 0.133*\"film\" + 0.132*\"coach\" + 0.126*\"st\" + -0.118*\"race\" + 0.114*\"free\" + 0.112*\"fire\" + -0.110*\"light\"'), (99, '-0.150*\"gun\" + -0.141*\"book\" + 0.140*\"light\" + -0.128*\"center\" + -0.127*\"season\" + -0.126*\"record\" + -0.119*\"read\" + 0.109*\"st\" + -0.107*\"island\" + -0.100*\"board\"')]\n"
          ],
          "name": "stdout"
        }
      ]
    },
    {
      "cell_type": "markdown",
      "metadata": {
        "id": "G73u4br7_EUK",
        "colab_type": "text"
      },
      "source": [
        "## <font color='red'>SECTION 4.</font>  Training a Word2Vec model\n",
        "### _Import Libraries_"
      ]
    },
    {
      "cell_type": "code",
      "metadata": {
        "id": "47Ieko0i_ck2",
        "colab_type": "code",
        "outputId": "71a8d4af-003d-4d3f-90f9-a069e2e3f2ab",
        "colab": {
          "base_uri": "https://localhost:8080/",
          "height": 52
        }
      },
      "source": [
        "import gensim\n",
        "from gensim.models import Word2Vec\n",
        "import json\n",
        "import pandas as pd\n",
        "import nltk\n",
        "nltk.download('punkt')\n",
        "import spacy\n",
        "import en_core_web_sm\n",
        "nlp = en_core_web_sm.load()\n",
        "import numpy as np\n",
        "\n",
        "# Get the interactive Tools for Matplotlib\n",
        "%matplotlib inline\n",
        "import matplotlib.pyplot as plt\n",
        "plt.style.use('ggplot')\n",
        "\n",
        "from sklearn.decomposition import PCA\n",
        "\n",
        "from gensim.test.utils import datapath, get_tmpfile\n",
        "from gensim.models import KeyedVectors\n",
        "from gensim.scripts.glove2word2vec import glove2word2vec\n",
        "\n",
        "# Display scatterplot with pca\n",
        "def display_pca_scatterplot(model, words_1=None,words_2 = None, sample=0):\n",
        "    if words_1 == None:\n",
        "        if sample > 0:\n",
        "            words_1 = model.vocabulary.sample(sample)\n",
        "        else:\n",
        "            words_1 = [ word for word in model.vocab ]\n",
        "    words = words_1 + words_2    \n",
        "    word_vectors = np.array([model[w] for w in words])\n",
        "\n",
        "    twodim = PCA().fit_transform(word_vectors)[:,:2]\n",
        "    \n",
        "    plt.figure(figsize=(17,17))\n",
        "    plt.scatter(twodim[:,0], twodim[:,1], edgecolors='k', c='r')\n",
        "    for word, (x,y) in zip(words, twodim):\n",
        "        if word in words_1:\n",
        "          plt.text(x+0.05, y+0.05, word,c='r')\n",
        "        else:\n",
        "          plt.text(x+0.05, y+0.05, word,c='b')"
      ],
      "execution_count": 25,
      "outputs": [
        {
          "output_type": "stream",
          "text": [
            "[nltk_data] Downloading package punkt to /root/nltk_data...\n",
            "[nltk_data]   Package punkt is already up-to-date!\n"
          ],
          "name": "stdout"
        }
      ]
    },
    {
      "cell_type": "markdown",
      "metadata": {
        "id": "sMKAAr4NSa17",
        "colab_type": "text"
      },
      "source": [
        "### Convert data to compatible input format for trainig the W2V model"
      ]
    },
    {
      "cell_type": "code",
      "metadata": {
        "id": "4kHEfs70RMkx",
        "colab_type": "code",
        "colab": {}
      },
      "source": [
        "article_tokenized = []\n",
        "for story in df_4:\n",
        "  for sent in story['text_sent_token']:\n",
        "    article_tokenized.append(sent)"
      ],
      "execution_count": 0,
      "outputs": []
    },
    {
      "cell_type": "markdown",
      "metadata": {
        "id": "xl4c2GEg_71n",
        "colab_type": "text"
      },
      "source": [
        "### _Training the model_"
      ]
    },
    {
      "cell_type": "code",
      "metadata": {
        "id": "q1MWw7aL_PXQ",
        "colab_type": "code",
        "colab": {
          "base_uri": "https://localhost:8080/",
          "height": 1000
        },
        "outputId": "c9950e8c-39f1-48e5-954e-67d8330bd2cf"
      },
      "source": [
        "model = Word2Vec(article_tokenized, min_count=1,size= 50,workers=3, window =3, sg = 1)"
      ],
      "execution_count": 27,
      "outputs": [
        {
          "output_type": "stream",
          "text": [
            "2020-03-23 10:46:31,315 : WARNING : consider setting layer size to a multiple of 4 for greater performance\n",
            "2020-03-23 10:46:31,318 : INFO : collecting all words and their counts\n",
            "2020-03-23 10:46:31,319 : INFO : PROGRESS: at sentence #0, processed 0 words, keeping 0 word types\n",
            "2020-03-23 10:46:31,352 : INFO : PROGRESS: at sentence #10000, processed 111240 words, keeping 11954 word types\n",
            "2020-03-23 10:46:31,380 : INFO : PROGRESS: at sentence #20000, processed 224152 words, keeping 17718 word types\n",
            "2020-03-23 10:46:31,409 : INFO : PROGRESS: at sentence #30000, processed 334750 words, keeping 21670 word types\n",
            "2020-03-23 10:46:31,439 : INFO : PROGRESS: at sentence #40000, processed 440076 words, keeping 25171 word types\n",
            "2020-03-23 10:46:31,470 : INFO : PROGRESS: at sentence #50000, processed 551518 words, keeping 28253 word types\n",
            "2020-03-23 10:46:31,501 : INFO : PROGRESS: at sentence #60000, processed 657725 words, keeping 30778 word types\n",
            "2020-03-23 10:46:31,534 : INFO : PROGRESS: at sentence #70000, processed 767332 words, keeping 33435 word types\n",
            "2020-03-23 10:46:31,564 : INFO : PROGRESS: at sentence #80000, processed 873382 words, keeping 35737 word types\n",
            "2020-03-23 10:46:31,595 : INFO : PROGRESS: at sentence #90000, processed 978378 words, keeping 37767 word types\n",
            "2020-03-23 10:46:31,626 : INFO : PROGRESS: at sentence #100000, processed 1085897 words, keeping 39835 word types\n",
            "2020-03-23 10:46:31,659 : INFO : PROGRESS: at sentence #110000, processed 1193320 words, keeping 42122 word types\n",
            "2020-03-23 10:46:31,696 : INFO : PROGRESS: at sentence #120000, processed 1304555 words, keeping 43914 word types\n",
            "2020-03-23 10:46:31,729 : INFO : PROGRESS: at sentence #130000, processed 1415015 words, keeping 45482 word types\n",
            "2020-03-23 10:46:31,764 : INFO : PROGRESS: at sentence #140000, processed 1525433 words, keeping 47039 word types\n",
            "2020-03-23 10:46:31,800 : INFO : PROGRESS: at sentence #150000, processed 1636604 words, keeping 48599 word types\n",
            "2020-03-23 10:46:31,837 : INFO : PROGRESS: at sentence #160000, processed 1746509 words, keeping 50673 word types\n",
            "2020-03-23 10:46:31,873 : INFO : PROGRESS: at sentence #170000, processed 1857800 words, keeping 52220 word types\n",
            "2020-03-23 10:46:31,908 : INFO : PROGRESS: at sentence #180000, processed 1968263 words, keeping 53799 word types\n",
            "2020-03-23 10:46:31,945 : INFO : PROGRESS: at sentence #190000, processed 2078879 words, keeping 55140 word types\n",
            "2020-03-23 10:46:31,980 : INFO : PROGRESS: at sentence #200000, processed 2188550 words, keeping 56567 word types\n",
            "2020-03-23 10:46:32,015 : INFO : PROGRESS: at sentence #210000, processed 2297001 words, keeping 58051 word types\n",
            "2020-03-23 10:46:32,050 : INFO : PROGRESS: at sentence #220000, processed 2407438 words, keeping 59333 word types\n",
            "2020-03-23 10:46:32,085 : INFO : PROGRESS: at sentence #230000, processed 2519820 words, keeping 60697 word types\n",
            "2020-03-23 10:46:32,121 : INFO : PROGRESS: at sentence #240000, processed 2627944 words, keeping 61936 word types\n",
            "2020-03-23 10:46:32,157 : INFO : PROGRESS: at sentence #250000, processed 2737370 words, keeping 63372 word types\n",
            "2020-03-23 10:46:32,193 : INFO : PROGRESS: at sentence #260000, processed 2847803 words, keeping 64672 word types\n",
            "2020-03-23 10:46:32,229 : INFO : PROGRESS: at sentence #270000, processed 2955232 words, keeping 65885 word types\n",
            "2020-03-23 10:46:32,266 : INFO : PROGRESS: at sentence #280000, processed 3067459 words, keeping 67147 word types\n",
            "2020-03-23 10:46:32,302 : INFO : PROGRESS: at sentence #290000, processed 3177700 words, keeping 68379 word types\n",
            "2020-03-23 10:46:32,337 : INFO : PROGRESS: at sentence #300000, processed 3287963 words, keeping 69845 word types\n",
            "2020-03-23 10:46:32,374 : INFO : PROGRESS: at sentence #310000, processed 3399319 words, keeping 70871 word types\n",
            "2020-03-23 10:46:32,393 : INFO : collected 71484 word types from a corpus of 3456002 raw words and 315282 sentences\n",
            "2020-03-23 10:46:32,394 : INFO : Loading a fresh vocabulary\n",
            "2020-03-23 10:46:32,560 : INFO : effective_min_count=1 retains 71484 unique words (100% of original 71484, drops 0)\n",
            "2020-03-23 10:46:32,562 : INFO : effective_min_count=1 leaves 3456002 word corpus (100% of original 3456002, drops 0)\n",
            "2020-03-23 10:46:32,837 : INFO : deleting the raw counts dictionary of 71484 items\n",
            "2020-03-23 10:46:32,840 : INFO : sample=0.001 downsamples 11 most-common words\n",
            "2020-03-23 10:46:32,843 : INFO : downsampling leaves estimated 3359778 word corpus (97.2% of prior 3456002)\n",
            "2020-03-23 10:46:33,180 : INFO : estimated required memory for 71484 words and 50 dimensions: 64335600 bytes\n",
            "2020-03-23 10:46:33,181 : INFO : resetting layer weights\n",
            "2020-03-23 10:46:47,035 : INFO : training model with 3 workers on 71484 vocabulary and 50 features, using sg=1 hs=0 sample=0.001 negative=5 window=3\n",
            "2020-03-23 10:46:48,043 : INFO : EPOCH 1 - PROGRESS: at 9.65% examples, 329977 words/s, in_qsize 5, out_qsize 0\n",
            "2020-03-23 10:46:49,076 : INFO : EPOCH 1 - PROGRESS: at 19.66% examples, 324622 words/s, in_qsize 5, out_qsize 0\n",
            "2020-03-23 10:46:50,119 : INFO : EPOCH 1 - PROGRESS: at 30.31% examples, 328250 words/s, in_qsize 5, out_qsize 0\n",
            "2020-03-23 10:46:51,142 : INFO : EPOCH 1 - PROGRESS: at 40.17% examples, 326971 words/s, in_qsize 5, out_qsize 0\n",
            "2020-03-23 10:46:52,142 : INFO : EPOCH 1 - PROGRESS: at 50.53% examples, 331330 words/s, in_qsize 5, out_qsize 0\n",
            "2020-03-23 10:46:53,145 : INFO : EPOCH 1 - PROGRESS: at 60.51% examples, 332547 words/s, in_qsize 5, out_qsize 0\n",
            "2020-03-23 10:46:54,161 : INFO : EPOCH 1 - PROGRESS: at 70.69% examples, 332889 words/s, in_qsize 4, out_qsize 1\n",
            "2020-03-23 10:46:55,187 : INFO : EPOCH 1 - PROGRESS: at 81.04% examples, 333901 words/s, in_qsize 5, out_qsize 0\n",
            "2020-03-23 10:46:56,207 : INFO : EPOCH 1 - PROGRESS: at 91.39% examples, 334901 words/s, in_qsize 5, out_qsize 0\n",
            "2020-03-23 10:46:56,982 : INFO : worker thread finished; awaiting finish of 2 more threads\n",
            "2020-03-23 10:46:56,999 : INFO : worker thread finished; awaiting finish of 1 more threads\n",
            "2020-03-23 10:46:57,036 : INFO : worker thread finished; awaiting finish of 0 more threads\n",
            "2020-03-23 10:46:57,038 : INFO : EPOCH - 1 : training on 3456002 raw words (3359693 effective words) took 10.0s, 336138 effective words/s\n",
            "2020-03-23 10:46:58,053 : INFO : EPOCH 2 - PROGRESS: at 9.65% examples, 327378 words/s, in_qsize 5, out_qsize 0\n",
            "2020-03-23 10:46:59,089 : INFO : EPOCH 2 - PROGRESS: at 19.94% examples, 327635 words/s, in_qsize 5, out_qsize 0\n",
            "2020-03-23 10:47:00,144 : INFO : EPOCH 2 - PROGRESS: at 30.62% examples, 328966 words/s, in_qsize 5, out_qsize 0\n",
            "2020-03-23 10:47:01,152 : INFO : EPOCH 2 - PROGRESS: at 40.49% examples, 328728 words/s, in_qsize 3, out_qsize 2\n",
            "2020-03-23 10:47:02,180 : INFO : EPOCH 2 - PROGRESS: at 51.08% examples, 332816 words/s, in_qsize 5, out_qsize 0\n",
            "2020-03-23 10:47:03,197 : INFO : EPOCH 2 - PROGRESS: at 61.41% examples, 334632 words/s, in_qsize 5, out_qsize 0\n",
            "2020-03-23 10:47:04,202 : INFO : EPOCH 2 - PROGRESS: at 71.74% examples, 336517 words/s, in_qsize 5, out_qsize 0\n",
            "2020-03-23 10:47:05,207 : INFO : EPOCH 2 - PROGRESS: at 82.16% examples, 337934 words/s, in_qsize 5, out_qsize 0\n",
            "2020-03-23 10:47:06,209 : INFO : EPOCH 2 - PROGRESS: at 92.25% examples, 338107 words/s, in_qsize 5, out_qsize 0\n",
            "2020-03-23 10:47:06,897 : INFO : worker thread finished; awaiting finish of 2 more threads\n",
            "2020-03-23 10:47:06,920 : INFO : worker thread finished; awaiting finish of 1 more threads\n",
            "2020-03-23 10:47:06,939 : INFO : worker thread finished; awaiting finish of 0 more threads\n",
            "2020-03-23 10:47:06,940 : INFO : EPOCH - 2 : training on 3456002 raw words (3359650 effective words) took 9.9s, 339520 effective words/s\n",
            "2020-03-23 10:47:08,023 : INFO : EPOCH 3 - PROGRESS: at 9.97% examples, 316233 words/s, in_qsize 4, out_qsize 1\n",
            "2020-03-23 10:47:09,034 : INFO : EPOCH 3 - PROGRESS: at 20.79% examples, 335353 words/s, in_qsize 5, out_qsize 0\n",
            "2020-03-23 10:47:10,045 : INFO : EPOCH 3 - PROGRESS: at 31.20% examples, 335718 words/s, in_qsize 4, out_qsize 1\n",
            "2020-03-23 10:47:11,072 : INFO : EPOCH 3 - PROGRESS: at 41.62% examples, 336983 words/s, in_qsize 5, out_qsize 0\n",
            "2020-03-23 10:47:12,092 : INFO : EPOCH 3 - PROGRESS: at 51.95% examples, 338086 words/s, in_qsize 5, out_qsize 0\n",
            "2020-03-23 10:47:13,096 : INFO : EPOCH 3 - PROGRESS: at 61.97% examples, 338152 words/s, in_qsize 5, out_qsize 0\n",
            "2020-03-23 10:47:14,103 : INFO : EPOCH 3 - PROGRESS: at 72.02% examples, 338094 words/s, in_qsize 5, out_qsize 0\n",
            "2020-03-23 10:47:15,135 : INFO : EPOCH 3 - PROGRESS: at 82.46% examples, 338203 words/s, in_qsize 5, out_qsize 0\n",
            "2020-03-23 10:47:16,173 : INFO : EPOCH 3 - PROGRESS: at 92.81% examples, 338073 words/s, in_qsize 5, out_qsize 0\n",
            "2020-03-23 10:47:16,815 : INFO : worker thread finished; awaiting finish of 2 more threads\n",
            "2020-03-23 10:47:16,820 : INFO : worker thread finished; awaiting finish of 1 more threads\n",
            "2020-03-23 10:47:16,840 : INFO : worker thread finished; awaiting finish of 0 more threads\n",
            "2020-03-23 10:47:16,842 : INFO : EPOCH - 3 : training on 3456002 raw words (3360360 effective words) took 9.9s, 339687 effective words/s\n",
            "2020-03-23 10:47:17,861 : INFO : EPOCH 4 - PROGRESS: at 9.65% examples, 326946 words/s, in_qsize 5, out_qsize 0\n",
            "2020-03-23 10:47:18,867 : INFO : EPOCH 4 - PROGRESS: at 20.23% examples, 337238 words/s, in_qsize 5, out_qsize 0\n",
            "2020-03-23 10:47:19,868 : INFO : EPOCH 4 - PROGRESS: at 30.62% examples, 338040 words/s, in_qsize 4, out_qsize 1\n",
            "2020-03-23 10:47:20,892 : INFO : EPOCH 4 - PROGRESS: at 41.05% examples, 338966 words/s, in_qsize 5, out_qsize 0\n",
            "2020-03-23 10:47:21,905 : INFO : EPOCH 4 - PROGRESS: at 51.37% examples, 340123 words/s, in_qsize 5, out_qsize 0\n",
            "2020-03-23 10:47:22,923 : INFO : EPOCH 4 - PROGRESS: at 61.41% examples, 339064 words/s, in_qsize 5, out_qsize 0\n",
            "2020-03-23 10:47:23,929 : INFO : EPOCH 4 - PROGRESS: at 71.74% examples, 340310 words/s, in_qsize 6, out_qsize 0\n",
            "2020-03-23 10:47:24,932 : INFO : EPOCH 4 - PROGRESS: at 81.60% examples, 338940 words/s, in_qsize 5, out_qsize 0\n",
            "2020-03-23 10:47:25,960 : INFO : EPOCH 4 - PROGRESS: at 91.97% examples, 339092 words/s, in_qsize 5, out_qsize 0\n",
            "2020-03-23 10:47:26,679 : INFO : worker thread finished; awaiting finish of 2 more threads\n",
            "2020-03-23 10:47:26,701 : INFO : worker thread finished; awaiting finish of 1 more threads\n",
            "2020-03-23 10:47:26,724 : INFO : worker thread finished; awaiting finish of 0 more threads\n",
            "2020-03-23 10:47:26,726 : INFO : EPOCH - 4 : training on 3456002 raw words (3359785 effective words) took 9.9s, 340258 effective words/s\n",
            "2020-03-23 10:47:27,776 : INFO : EPOCH 5 - PROGRESS: at 9.93% examples, 325818 words/s, in_qsize 5, out_qsize 0\n",
            "2020-03-23 10:47:28,780 : INFO : EPOCH 5 - PROGRESS: at 20.51% examples, 336770 words/s, in_qsize 5, out_qsize 0\n",
            "2020-03-23 10:47:29,803 : INFO : EPOCH 5 - PROGRESS: at 31.20% examples, 338448 words/s, in_qsize 5, out_qsize 0\n",
            "2020-03-23 10:47:30,850 : INFO : EPOCH 5 - PROGRESS: at 41.62% examples, 337379 words/s, in_qsize 4, out_qsize 1\n",
            "2020-03-23 10:47:31,866 : INFO : EPOCH 5 - PROGRESS: at 51.67% examples, 336744 words/s, in_qsize 5, out_qsize 0\n",
            "2020-03-23 10:47:32,919 : INFO : EPOCH 5 - PROGRESS: at 61.97% examples, 335944 words/s, in_qsize 5, out_qsize 0\n",
            "2020-03-23 10:47:33,931 : INFO : EPOCH 5 - PROGRESS: at 72.31% examples, 337265 words/s, in_qsize 5, out_qsize 0\n",
            "2020-03-23 10:47:34,974 : INFO : EPOCH 5 - PROGRESS: at 82.44% examples, 335878 words/s, in_qsize 5, out_qsize 0\n",
            "2020-03-23 10:47:36,009 : INFO : EPOCH 5 - PROGRESS: at 92.81% examples, 336121 words/s, in_qsize 5, out_qsize 0\n",
            "2020-03-23 10:47:36,696 : INFO : worker thread finished; awaiting finish of 2 more threads\n",
            "2020-03-23 10:47:36,698 : INFO : worker thread finished; awaiting finish of 1 more threads\n",
            "2020-03-23 10:47:36,707 : INFO : worker thread finished; awaiting finish of 0 more threads\n",
            "2020-03-23 10:47:36,707 : INFO : EPOCH - 5 : training on 3456002 raw words (3359676 effective words) took 10.0s, 336819 effective words/s\n",
            "2020-03-23 10:47:36,710 : INFO : training on a 17280010 raw words (16799164 effective words) took 49.7s, 338193 effective words/s\n"
          ],
          "name": "stderr"
        }
      ]
    },
    {
      "cell_type": "markdown",
      "metadata": {
        "id": "rcNM-Je7YI-e",
        "colab_type": "text"
      },
      "source": [
        "**Similarity of words**"
      ]
    },
    {
      "cell_type": "code",
      "metadata": {
        "id": "wdfvvEW-_rRG",
        "colab_type": "code",
        "outputId": "fcda08cb-9100-46c8-d705-b4e49fac3628",
        "colab": {
          "base_uri": "https://localhost:8080/",
          "height": 297
        }
      },
      "source": [
        "model.most_similar('new_york$')"
      ],
      "execution_count": 29,
      "outputs": [
        {
          "output_type": "stream",
          "text": [
            "/usr/local/lib/python3.6/dist-packages/ipykernel_launcher.py:1: DeprecationWarning: Call to deprecated `most_similar` (Method will be removed in 4.0.0, use self.wv.most_similar() instead).\n",
            "  \"\"\"Entry point for launching an IPython kernel.\n",
            "2020-03-23 10:47:45,102 : INFO : precomputing L2-norms of word weight vectors\n",
            "/usr/local/lib/python3.6/dist-packages/gensim/matutils.py:737: FutureWarning: Conversion of the second argument of issubdtype from `int` to `np.signedinteger` is deprecated. In future, it will be treated as `np.int64 == np.dtype(int).type`.\n",
            "  if np.issubdtype(vec.dtype, np.int):\n"
          ],
          "name": "stderr"
        },
        {
          "output_type": "execute_result",
          "data": {
            "text/plain": [
              "[('wabc', 0.8076508641242981),\n",
              " ('boston$', 0.7865062952041626),\n",
              " ('chicago$', 0.7830195426940918),\n",
              " ('monsey', 0.7733372449874878),\n",
              " ('philadelphia$', 0.7657303810119629),\n",
              " ('hattiesburg', 0.7635786533355713),\n",
              " ('bronx$', 0.762633740901947),\n",
              " ('brooklyn$', 0.7617875337600708),\n",
              " ('berlin', 0.760088324546814),\n",
              " ('borough', 0.7540232539176941)]"
            ]
          },
          "metadata": {
            "tags": []
          },
          "execution_count": 29
        }
      ]
    },
    {
      "cell_type": "markdown",
      "metadata": {
        "id": "Ags7EVfLYjPm",
        "colab_type": "text"
      },
      "source": [
        "**Analogy**"
      ]
    },
    {
      "cell_type": "code",
      "metadata": {
        "id": "pkqPhLHkYhpz",
        "colab_type": "code",
        "colab": {}
      },
      "source": [
        "def analogy(x1, x2, y1):\n",
        "    result = model.most_similar(positive=[y1, x2], negative=[x1])\n",
        "    return result[0][0]"
      ],
      "execution_count": 0,
      "outputs": []
    },
    {
      "cell_type": "code",
      "metadata": {
        "id": "NO7_ZXX9Y1wP",
        "colab_type": "code",
        "outputId": "d625c567-1e14-4a7b-e9e5-776c5702a9cd",
        "colab": {
          "base_uri": "https://localhost:8080/",
          "height": 124
        }
      },
      "source": [
        "analogy('detroit$', 'crime', 'boston$')"
      ],
      "execution_count": 36,
      "outputs": [
        {
          "output_type": "stream",
          "text": [
            "/usr/local/lib/python3.6/dist-packages/ipykernel_launcher.py:2: DeprecationWarning: Call to deprecated `most_similar` (Method will be removed in 4.0.0, use self.wv.most_similar() instead).\n",
            "  \n",
            "/usr/local/lib/python3.6/dist-packages/gensim/matutils.py:737: FutureWarning: Conversion of the second argument of issubdtype from `int` to `np.signedinteger` is deprecated. In future, it will be treated as `np.int64 == np.dtype(int).type`.\n",
            "  if np.issubdtype(vec.dtype, np.int):\n"
          ],
          "name": "stderr"
        },
        {
          "output_type": "execute_result",
          "data": {
            "text/plain": [
              "'violenc'"
            ]
          },
          "metadata": {
            "tags": []
          },
          "execution_count": 36
        }
      ]
    },
    {
      "cell_type": "markdown",
      "metadata": {
        "id": "ldGtLcT0BRAm",
        "colab_type": "text"
      },
      "source": [
        "### _Visualizing in 2D_"
      ]
    },
    {
      "cell_type": "code",
      "metadata": {
        "id": "hmF2aOrPrT2j",
        "colab_type": "code",
        "colab": {}
      },
      "source": [
        "city_names = []\n",
        "for city in cities_1:\n",
        "  c = city['city.2'].replace(' ','_').lower()\n",
        "  c = c+ \"$\"\n",
        "  city_names.append(c)"
      ],
      "execution_count": 0,
      "outputs": []
    },
    {
      "cell_type": "code",
      "metadata": {
        "id": "nDKzxe2D104D",
        "colab_type": "code",
        "colab": {}
      },
      "source": [
        "satisfiers = ['crime', 'kidnap','violent','crimin', 'violenc', 'homeless','shelter','hous','renter',\n",
        "              'freedom','democraci','extremist','radic','authoritarian','ideolog']"
      ],
      "execution_count": 0,
      "outputs": []
    },
    {
      "cell_type": "code",
      "metadata": {
        "id": "52Q6oMp7sJFm",
        "colab_type": "code",
        "outputId": "22c4d4d5-668d-4d12-8407-cfaa46d58b86",
        "colab": {
          "base_uri": "https://localhost:8080/",
          "height": 1000
        }
      },
      "source": [
        "display_pca_scatterplot(model, city_names , satisfiers)"
      ],
      "execution_count": 39,
      "outputs": [
        {
          "output_type": "stream",
          "text": [
            "/usr/local/lib/python3.6/dist-packages/ipykernel_launcher.py:31: DeprecationWarning: Call to deprecated `__getitem__` (Method will be removed in 4.0.0, use self.wv.__getitem__() instead).\n"
          ],
          "name": "stderr"
        },
        {
          "output_type": "display_data",
          "data": {
            "image/png": "[encoded data removed]",
            "text/plain": [
              "<Figure size 1224x1224 with 1 Axes>"
            ]
          },
          "metadata": {
            "tags": []
          }
        }
      ]
    },
    {
      "cell_type": "markdown",
      "metadata": {
        "id": "FdONDtGeBZ8M",
        "colab_type": "text"
      },
      "source": [
        "### Similarity of city names to a set of words"
      ]
    },
    {
      "cell_type": "code",
      "metadata": {
        "id": "ExPEgFRUr3fB",
        "colab_type": "code",
        "outputId": "b4deda61-27ad-44cc-c68a-4b44a526901e",
        "colab": {
          "base_uri": "https://localhost:8080/",
          "height": 211
        }
      },
      "source": [
        "similarity_1=[]\n",
        "similarity_2=[]\n",
        "similarity_3=[]\n",
        "similarity_4=[]\n",
        "\n",
        "for city in city_names:\n",
        "  similarity_1.append(model.similarity('crime',city))\n",
        "  similarity_2.append(model.similarity('rape',city))\n",
        "  similarity_3.append( model.similarity('kidnap',city))\n",
        "  similarity_4.append(model.similarity('violent',city))\n",
        "\n",
        "  #print (\"-- {} : crime: {} -- rape: {} -- kidnap: {} -- violent: {} \".format(city,similarity_1,similarity_2,similarity_3,similarity_4))\n",
        "sim_ranks = pd.DataFrame({'city': city_names, 'crime': similarity_1, 'rape': similarity_2, 'kidnap': similarity_3, 'violent': similarity_4})"
      ],
      "execution_count": 40,
      "outputs": [
        {
          "output_type": "stream",
          "text": [
            "/usr/local/lib/python3.6/dist-packages/ipykernel_launcher.py:7: DeprecationWarning: Call to deprecated `similarity` (Method will be removed in 4.0.0, use self.wv.similarity() instead).\n",
            "  import sys\n",
            "/usr/local/lib/python3.6/dist-packages/gensim/matutils.py:737: FutureWarning: Conversion of the second argument of issubdtype from `int` to `np.signedinteger` is deprecated. In future, it will be treated as `np.int64 == np.dtype(int).type`.\n",
            "  if np.issubdtype(vec.dtype, np.int):\n",
            "/usr/local/lib/python3.6/dist-packages/ipykernel_launcher.py:8: DeprecationWarning: Call to deprecated `similarity` (Method will be removed in 4.0.0, use self.wv.similarity() instead).\n",
            "  \n",
            "/usr/local/lib/python3.6/dist-packages/ipykernel_launcher.py:9: DeprecationWarning: Call to deprecated `similarity` (Method will be removed in 4.0.0, use self.wv.similarity() instead).\n",
            "  if __name__ == '__main__':\n",
            "/usr/local/lib/python3.6/dist-packages/ipykernel_launcher.py:10: DeprecationWarning: Call to deprecated `similarity` (Method will be removed in 4.0.0, use self.wv.similarity() instead).\n",
            "  # Remove the CWD from sys.path while we load stuff.\n"
          ],
          "name": "stderr"
        }
      ]
    },
    {
      "cell_type": "code",
      "metadata": {
        "id": "owWKaLNrJofR",
        "colab_type": "code",
        "colab": {
          "base_uri": "https://localhost:8080/",
          "height": 1000
        },
        "outputId": "32ec3846-0361-4d06-c2c3-f7cc324296f8"
      },
      "source": [
        "sim_ranks['crime'] = sim_ranks.apply (lambda row: row.crime/sim_ranks.crime.values.max(), axis=1)\n",
        "sim_ranks['rape'] = sim_ranks.apply (lambda row: row.rape/sim_ranks.rape.values.max(), axis=1)\n",
        "sim_ranks.sort_values(by='rape', ascending=False).iloc[50:100,:]"
      ],
      "execution_count": 41,
      "outputs": [
        {
          "output_type": "execute_result",
          "data": {
            "text/html": [
              "<div>\n",
              "<style scoped>\n",
              "    .dataframe tbody tr th:only-of-type {\n",
              "        vertical-align: middle;\n",
              "    }\n",
              "\n",
              "    .dataframe tbody tr th {\n",
              "        vertical-align: top;\n",
              "    }\n",
              "\n",
              "    .dataframe thead th {\n",
              "        text-align: right;\n",
              "    }\n",
              "</style>\n",
              "<table border=\"1\" class=\"dataframe\">\n",
              "  <thead>\n",
              "    <tr style=\"text-align: right;\">\n",
              "      <th></th>\n",
              "      <th>city</th>\n",
              "      <th>crime</th>\n",
              "      <th>rape</th>\n",
              "      <th>kidnap</th>\n",
              "      <th>violent</th>\n",
              "    </tr>\n",
              "  </thead>\n",
              "  <tbody>\n",
              "    <tr>\n",
              "      <th>10</th>\n",
              "      <td>phoenix$</td>\n",
              "      <td>0.673692</td>\n",
              "      <td>0.739583</td>\n",
              "      <td>0.523593</td>\n",
              "      <td>0.393208</td>\n",
              "    </tr>\n",
              "    <tr>\n",
              "      <th>66</th>\n",
              "      <td>allentown$</td>\n",
              "      <td>0.640466</td>\n",
              "      <td>0.734415</td>\n",
              "      <td>0.452878</td>\n",
              "      <td>0.404523</td>\n",
              "    </tr>\n",
              "    <tr>\n",
              "      <th>17</th>\n",
              "      <td>denver$</td>\n",
              "      <td>0.872604</td>\n",
              "      <td>0.732453</td>\n",
              "      <td>0.449749</td>\n",
              "      <td>0.567249</td>\n",
              "    </tr>\n",
              "    <tr>\n",
              "      <th>67</th>\n",
              "      <td>tulsa$</td>\n",
              "      <td>0.857764</td>\n",
              "      <td>0.731191</td>\n",
              "      <td>0.507489</td>\n",
              "      <td>0.560615</td>\n",
              "    </tr>\n",
              "    <tr>\n",
              "      <th>83</th>\n",
              "      <td>provo$</td>\n",
              "      <td>0.702093</td>\n",
              "      <td>0.731064</td>\n",
              "      <td>0.472044</td>\n",
              "      <td>0.418127</td>\n",
              "    </tr>\n",
              "    <tr>\n",
              "      <th>29</th>\n",
              "      <td>cleveland$</td>\n",
              "      <td>0.856614</td>\n",
              "      <td>0.730668</td>\n",
              "      <td>0.492614</td>\n",
              "      <td>0.517451</td>\n",
              "    </tr>\n",
              "    <tr>\n",
              "      <th>19</th>\n",
              "      <td>queens$</td>\n",
              "      <td>0.703113</td>\n",
              "      <td>0.729449</td>\n",
              "      <td>0.498515</td>\n",
              "      <td>0.485086</td>\n",
              "    </tr>\n",
              "    <tr>\n",
              "      <th>97</th>\n",
              "      <td>madison$</td>\n",
              "      <td>0.643499</td>\n",
              "      <td>0.724696</td>\n",
              "      <td>0.466470</td>\n",
              "      <td>0.433264</td>\n",
              "    </tr>\n",
              "    <tr>\n",
              "      <th>38</th>\n",
              "      <td>charlotte$</td>\n",
              "      <td>0.878604</td>\n",
              "      <td>0.724389</td>\n",
              "      <td>0.520314</td>\n",
              "      <td>0.498590</td>\n",
              "    </tr>\n",
              "    <tr>\n",
              "      <th>42</th>\n",
              "      <td>jacksonville$</td>\n",
              "      <td>0.855159</td>\n",
              "      <td>0.723811</td>\n",
              "      <td>0.530115</td>\n",
              "      <td>0.542119</td>\n",
              "    </tr>\n",
              "    <tr>\n",
              "      <th>20</th>\n",
              "      <td>baltimore$</td>\n",
              "      <td>0.943804</td>\n",
              "      <td>0.723692</td>\n",
              "      <td>0.530272</td>\n",
              "      <td>0.532231</td>\n",
              "    </tr>\n",
              "    <tr>\n",
              "      <th>92</th>\n",
              "      <td>long_beach$</td>\n",
              "      <td>0.631492</td>\n",
              "      <td>0.713086</td>\n",
              "      <td>0.511933</td>\n",
              "      <td>0.433313</td>\n",
              "    </tr>\n",
              "    <tr>\n",
              "      <th>98</th>\n",
              "      <td>reno$</td>\n",
              "      <td>0.831070</td>\n",
              "      <td>0.708587</td>\n",
              "      <td>0.481244</td>\n",
              "      <td>0.452223</td>\n",
              "    </tr>\n",
              "    <tr>\n",
              "      <th>15</th>\n",
              "      <td>minneapolis$</td>\n",
              "      <td>0.755665</td>\n",
              "      <td>0.704836</td>\n",
              "      <td>0.466700</td>\n",
              "      <td>0.456411</td>\n",
              "    </tr>\n",
              "    <tr>\n",
              "      <th>73</th>\n",
              "      <td>grand_rapids$</td>\n",
              "      <td>0.652058</td>\n",
              "      <td>0.693264</td>\n",
              "      <td>0.479727</td>\n",
              "      <td>0.424016</td>\n",
              "    </tr>\n",
              "    <tr>\n",
              "      <th>71</th>\n",
              "      <td>colorado_springs$</td>\n",
              "      <td>0.731534</td>\n",
              "      <td>0.681084</td>\n",
              "      <td>0.447616</td>\n",
              "      <td>0.419971</td>\n",
              "    </tr>\n",
              "    <tr>\n",
              "      <th>63</th>\n",
              "      <td>rochester$</td>\n",
              "      <td>0.636712</td>\n",
              "      <td>0.680890</td>\n",
              "      <td>0.457821</td>\n",
              "      <td>0.432289</td>\n",
              "    </tr>\n",
              "    <tr>\n",
              "      <th>11</th>\n",
              "      <td>seattle$</td>\n",
              "      <td>0.652564</td>\n",
              "      <td>0.680853</td>\n",
              "      <td>0.410372</td>\n",
              "      <td>0.493400</td>\n",
              "    </tr>\n",
              "    <tr>\n",
              "      <th>74</th>\n",
              "      <td>mission_viejo$</td>\n",
              "      <td>0.603962</td>\n",
              "      <td>0.677540</td>\n",
              "      <td>0.453880</td>\n",
              "      <td>0.401476</td>\n",
              "    </tr>\n",
              "    <tr>\n",
              "      <th>35</th>\n",
              "      <td>indianapolis$</td>\n",
              "      <td>0.816521</td>\n",
              "      <td>0.667117</td>\n",
              "      <td>0.476251</td>\n",
              "      <td>0.545970</td>\n",
              "    </tr>\n",
              "    <tr>\n",
              "      <th>49</th>\n",
              "      <td>louisville$</td>\n",
              "      <td>0.762739</td>\n",
              "      <td>0.652906</td>\n",
              "      <td>0.475048</td>\n",
              "      <td>0.520950</td>\n",
              "    </tr>\n",
              "    <tr>\n",
              "      <th>28</th>\n",
              "      <td>orlando$</td>\n",
              "      <td>0.811507</td>\n",
              "      <td>0.643037</td>\n",
              "      <td>0.406578</td>\n",
              "      <td>0.443329</td>\n",
              "    </tr>\n",
              "    <tr>\n",
              "      <th>99</th>\n",
              "      <td>st_lucie$</td>\n",
              "      <td>0.605199</td>\n",
              "      <td>0.640961</td>\n",
              "      <td>0.447051</td>\n",
              "      <td>0.404267</td>\n",
              "    </tr>\n",
              "    <tr>\n",
              "      <th>8</th>\n",
              "      <td>atlanta$</td>\n",
              "      <td>0.827500</td>\n",
              "      <td>0.637704</td>\n",
              "      <td>0.511166</td>\n",
              "      <td>0.472029</td>\n",
              "    </tr>\n",
              "    <tr>\n",
              "      <th>0</th>\n",
              "      <td>new_york$</td>\n",
              "      <td>0.801969</td>\n",
              "      <td>0.635833</td>\n",
              "      <td>0.344352</td>\n",
              "      <td>0.564276</td>\n",
              "    </tr>\n",
              "    <tr>\n",
              "      <th>86</th>\n",
              "      <td>palm_bay$</td>\n",
              "      <td>0.629540</td>\n",
              "      <td>0.635517</td>\n",
              "      <td>0.460568</td>\n",
              "      <td>0.449831</td>\n",
              "    </tr>\n",
              "    <tr>\n",
              "      <th>47</th>\n",
              "      <td>new_orleans$</td>\n",
              "      <td>0.806791</td>\n",
              "      <td>0.634166</td>\n",
              "      <td>0.382577</td>\n",
              "      <td>0.518704</td>\n",
              "    </tr>\n",
              "    <tr>\n",
              "      <th>88</th>\n",
              "      <td>murrieta$</td>\n",
              "      <td>0.714319</td>\n",
              "      <td>0.627383</td>\n",
              "      <td>0.436030</td>\n",
              "      <td>0.403636</td>\n",
              "    </tr>\n",
              "    <tr>\n",
              "      <th>7</th>\n",
              "      <td>washington$</td>\n",
              "      <td>0.578173</td>\n",
              "      <td>0.623551</td>\n",
              "      <td>0.369367</td>\n",
              "      <td>0.433900</td>\n",
              "    </tr>\n",
              "    <tr>\n",
              "      <th>16</th>\n",
              "      <td>tampa$</td>\n",
              "      <td>0.718381</td>\n",
              "      <td>0.616061</td>\n",
              "      <td>0.457382</td>\n",
              "      <td>0.458223</td>\n",
              "    </tr>\n",
              "    <tr>\n",
              "      <th>24</th>\n",
              "      <td>portland$</td>\n",
              "      <td>0.675757</td>\n",
              "      <td>0.615973</td>\n",
              "      <td>0.419483</td>\n",
              "      <td>0.388270</td>\n",
              "    </tr>\n",
              "    <tr>\n",
              "      <th>46</th>\n",
              "      <td>richmond$</td>\n",
              "      <td>0.646601</td>\n",
              "      <td>0.609359</td>\n",
              "      <td>0.410980</td>\n",
              "      <td>0.425263</td>\n",
              "    </tr>\n",
              "    <tr>\n",
              "      <th>6</th>\n",
              "      <td>houston$</td>\n",
              "      <td>0.884359</td>\n",
              "      <td>0.605155</td>\n",
              "      <td>0.448821</td>\n",
              "      <td>0.454393</td>\n",
              "    </tr>\n",
              "    <tr>\n",
              "      <th>61</th>\n",
              "      <td>birmingham$</td>\n",
              "      <td>0.815030</td>\n",
              "      <td>0.599801</td>\n",
              "      <td>0.451018</td>\n",
              "      <td>0.509239</td>\n",
              "    </tr>\n",
              "    <tr>\n",
              "      <th>52</th>\n",
              "      <td>buffalo$</td>\n",
              "      <td>0.663777</td>\n",
              "      <td>0.597233</td>\n",
              "      <td>0.446380</td>\n",
              "      <td>0.486482</td>\n",
              "    </tr>\n",
              "    <tr>\n",
              "      <th>23</th>\n",
              "      <td>las_vegas$</td>\n",
              "      <td>0.604077</td>\n",
              "      <td>0.594775</td>\n",
              "      <td>0.418760</td>\n",
              "      <td>0.350438</td>\n",
              "    </tr>\n",
              "    <tr>\n",
              "      <th>81</th>\n",
              "      <td>columbia$</td>\n",
              "      <td>0.559044</td>\n",
              "      <td>0.593883</td>\n",
              "      <td>0.424504</td>\n",
              "      <td>0.401571</td>\n",
              "    </tr>\n",
              "    <tr>\n",
              "      <th>25</th>\n",
              "      <td>san_antonio$</td>\n",
              "      <td>0.801852</td>\n",
              "      <td>0.590730</td>\n",
              "      <td>0.440484</td>\n",
              "      <td>0.413800</td>\n",
              "    </tr>\n",
              "    <tr>\n",
              "      <th>22</th>\n",
              "      <td>st_louis$</td>\n",
              "      <td>0.751893</td>\n",
              "      <td>0.586395</td>\n",
              "      <td>0.449138</td>\n",
              "      <td>0.449522</td>\n",
              "    </tr>\n",
              "    <tr>\n",
              "      <th>57</th>\n",
              "      <td>honolulu$</td>\n",
              "      <td>0.670871</td>\n",
              "      <td>0.577351</td>\n",
              "      <td>0.374610</td>\n",
              "      <td>0.451990</td>\n",
              "    </tr>\n",
              "    <tr>\n",
              "      <th>50</th>\n",
              "      <td>oklahoma$</td>\n",
              "      <td>0.791019</td>\n",
              "      <td>0.547784</td>\n",
              "      <td>0.422521</td>\n",
              "      <td>0.498249</td>\n",
              "    </tr>\n",
              "    <tr>\n",
              "      <th>31</th>\n",
              "      <td>cincinnati$</td>\n",
              "      <td>0.850339</td>\n",
              "      <td>0.536772</td>\n",
              "      <td>0.358307</td>\n",
              "      <td>0.435844</td>\n",
              "    </tr>\n",
              "    <tr>\n",
              "      <th>48</th>\n",
              "      <td>raleigh$</td>\n",
              "      <td>0.594511</td>\n",
              "      <td>0.527813</td>\n",
              "      <td>0.413127</td>\n",
              "      <td>0.336240</td>\n",
              "    </tr>\n",
              "    <tr>\n",
              "      <th>1</th>\n",
              "      <td>los_angeles$</td>\n",
              "      <td>0.596613</td>\n",
              "      <td>0.527128</td>\n",
              "      <td>0.289920</td>\n",
              "      <td>0.406745</td>\n",
              "    </tr>\n",
              "    <tr>\n",
              "      <th>43</th>\n",
              "      <td>salt_lake$</td>\n",
              "      <td>0.764980</td>\n",
              "      <td>0.513520</td>\n",
              "      <td>0.398388</td>\n",
              "      <td>0.442665</td>\n",
              "    </tr>\n",
              "    <tr>\n",
              "      <th>3</th>\n",
              "      <td>miami$</td>\n",
              "      <td>0.709711</td>\n",
              "      <td>0.508378</td>\n",
              "      <td>0.287521</td>\n",
              "      <td>0.462474</td>\n",
              "    </tr>\n",
              "    <tr>\n",
              "      <th>58</th>\n",
              "      <td>omaha$</td>\n",
              "      <td>0.428598</td>\n",
              "      <td>0.506721</td>\n",
              "      <td>0.363908</td>\n",
              "      <td>0.368435</td>\n",
              "    </tr>\n",
              "    <tr>\n",
              "      <th>72</th>\n",
              "      <td>charleston$</td>\n",
              "      <td>0.729801</td>\n",
              "      <td>0.499257</td>\n",
              "      <td>0.414861</td>\n",
              "      <td>0.442496</td>\n",
              "    </tr>\n",
              "    <tr>\n",
              "      <th>45</th>\n",
              "      <td>memphis$</td>\n",
              "      <td>0.610686</td>\n",
              "      <td>0.491759</td>\n",
              "      <td>0.379247</td>\n",
              "      <td>0.400409</td>\n",
              "    </tr>\n",
              "    <tr>\n",
              "      <th>34</th>\n",
              "      <td>kansas$</td>\n",
              "      <td>0.893124</td>\n",
              "      <td>0.487969</td>\n",
              "      <td>0.333654</td>\n",
              "      <td>0.506647</td>\n",
              "    </tr>\n",
              "  </tbody>\n",
              "</table>\n",
              "</div>"
            ],
            "text/plain": [
              "                 city     crime      rape    kidnap   violent\n",
              "10           phoenix$  0.673692  0.739583  0.523593  0.393208\n",
              "66         allentown$  0.640466  0.734415  0.452878  0.404523\n",
              "17            denver$  0.872604  0.732453  0.449749  0.567249\n",
              "67             tulsa$  0.857764  0.731191  0.507489  0.560615\n",
              "83             provo$  0.702093  0.731064  0.472044  0.418127\n",
              "29         cleveland$  0.856614  0.730668  0.492614  0.517451\n",
              "19            queens$  0.703113  0.729449  0.498515  0.485086\n",
              "97           madison$  0.643499  0.724696  0.466470  0.433264\n",
              "38         charlotte$  0.878604  0.724389  0.520314  0.498590\n",
              "42      jacksonville$  0.855159  0.723811  0.530115  0.542119\n",
              "20         baltimore$  0.943804  0.723692  0.530272  0.532231\n",
              "92        long_beach$  0.631492  0.713086  0.511933  0.433313\n",
              "98              reno$  0.831070  0.708587  0.481244  0.452223\n",
              "15       minneapolis$  0.755665  0.704836  0.466700  0.456411\n",
              "73      grand_rapids$  0.652058  0.693264  0.479727  0.424016\n",
              "71  colorado_springs$  0.731534  0.681084  0.447616  0.419971\n",
              "63         rochester$  0.636712  0.680890  0.457821  0.432289\n",
              "11           seattle$  0.652564  0.680853  0.410372  0.493400\n",
              "74     mission_viejo$  0.603962  0.677540  0.453880  0.401476\n",
              "35      indianapolis$  0.816521  0.667117  0.476251  0.545970\n",
              "49        louisville$  0.762739  0.652906  0.475048  0.520950\n",
              "28           orlando$  0.811507  0.643037  0.406578  0.443329\n",
              "99          st_lucie$  0.605199  0.640961  0.447051  0.404267\n",
              "8            atlanta$  0.827500  0.637704  0.511166  0.472029\n",
              "0           new_york$  0.801969  0.635833  0.344352  0.564276\n",
              "86          palm_bay$  0.629540  0.635517  0.460568  0.449831\n",
              "47       new_orleans$  0.806791  0.634166  0.382577  0.518704\n",
              "88          murrieta$  0.714319  0.627383  0.436030  0.403636\n",
              "7         washington$  0.578173  0.623551  0.369367  0.433900\n",
              "16             tampa$  0.718381  0.616061  0.457382  0.458223\n",
              "24          portland$  0.675757  0.615973  0.419483  0.388270\n",
              "46          richmond$  0.646601  0.609359  0.410980  0.425263\n",
              "6            houston$  0.884359  0.605155  0.448821  0.454393\n",
              "61        birmingham$  0.815030  0.599801  0.451018  0.509239\n",
              "52           buffalo$  0.663777  0.597233  0.446380  0.486482\n",
              "23         las_vegas$  0.604077  0.594775  0.418760  0.350438\n",
              "81          columbia$  0.559044  0.593883  0.424504  0.401571\n",
              "25       san_antonio$  0.801852  0.590730  0.440484  0.413800\n",
              "22          st_louis$  0.751893  0.586395  0.449138  0.449522\n",
              "57          honolulu$  0.670871  0.577351  0.374610  0.451990\n",
              "50          oklahoma$  0.791019  0.547784  0.422521  0.498249\n",
              "31        cincinnati$  0.850339  0.536772  0.358307  0.435844\n",
              "48           raleigh$  0.594511  0.527813  0.413127  0.336240\n",
              "1        los_angeles$  0.596613  0.527128  0.289920  0.406745\n",
              "43         salt_lake$  0.764980  0.513520  0.398388  0.442665\n",
              "3              miami$  0.709711  0.508378  0.287521  0.462474\n",
              "58             omaha$  0.428598  0.506721  0.363908  0.368435\n",
              "72        charleston$  0.729801  0.499257  0.414861  0.442496\n",
              "45           memphis$  0.610686  0.491759  0.379247  0.400409\n",
              "34            kansas$  0.893124  0.487969  0.333654  0.506647"
            ]
          },
          "metadata": {
            "tags": []
          },
          "execution_count": 41
        }
      ]
    },
    {
      "cell_type": "markdown",
      "metadata": {
        "id": "6goPtw6iCHLu",
        "colab_type": "text"
      },
      "source": [
        "### Similarity of city names to a set of words"
      ]
    },
    {
      "cell_type": "code",
      "metadata": {
        "id": "uhx_O1ZnSYBv",
        "colab_type": "code",
        "outputId": "d8e6ba7b-1bfd-41b0-9d83-01a835a608b2",
        "colab": {
          "base_uri": "https://localhost:8080/",
          "height": 107
        }
      },
      "source": [
        "similarity=[]\n",
        "for city in city_names:\n",
        "  similarity.append(model.n_similarity(list(city.split()),['crime','kidnap','crimin','violent','homicid','violenc']))\n",
        "\n",
        "  #print (\"-- {} : crime: {} -- rape: {} -- kidnap: {} -- violent: {} \".format(city,similarity_1,similarity_2,similarity_3,similarity_4))\n",
        "sim_ranks = pd.DataFrame({'city': city_names, 'crime_set': similarity})"
      ],
      "execution_count": 42,
      "outputs": [
        {
          "output_type": "stream",
          "text": [
            "/usr/local/lib/python3.6/dist-packages/ipykernel_launcher.py:3: DeprecationWarning: Call to deprecated `n_similarity` (Method will be removed in 4.0.0, use self.wv.n_similarity() instead).\n",
            "  This is separate from the ipykernel package so we can avoid doing imports until\n",
            "/usr/local/lib/python3.6/dist-packages/gensim/matutils.py:737: FutureWarning: Conversion of the second argument of issubdtype from `int` to `np.signedinteger` is deprecated. In future, it will be treated as `np.int64 == np.dtype(int).type`.\n",
            "  if np.issubdtype(vec.dtype, np.int):\n"
          ],
          "name": "stderr"
        }
      ]
    },
    {
      "cell_type": "code",
      "metadata": {
        "id": "qLOlVxpjWX0Y",
        "colab_type": "code",
        "outputId": "f2b65496-7966-44b7-9464-79b1daf9d42f",
        "colab": {
          "base_uri": "https://localhost:8080/",
          "height": 1000
        }
      },
      "source": [
        "sim_ranks['crime_set'] = sim_ranks.apply (lambda row: row.crime_set/sim_ranks.crime_set.values.max(), axis=1)\n",
        "sim_ranks.sort_values(by='crime_set', ascending=False).iloc[50:100,:]"
      ],
      "execution_count": 43,
      "outputs": [
        {
          "output_type": "execute_result",
          "data": {
            "text/html": [
              "<div>\n",
              "<style scoped>\n",
              "    .dataframe tbody tr th:only-of-type {\n",
              "        vertical-align: middle;\n",
              "    }\n",
              "\n",
              "    .dataframe tbody tr th {\n",
              "        vertical-align: top;\n",
              "    }\n",
              "\n",
              "    .dataframe thead th {\n",
              "        text-align: right;\n",
              "    }\n",
              "</style>\n",
              "<table border=\"1\" class=\"dataframe\">\n",
              "  <thead>\n",
              "    <tr style=\"text-align: right;\">\n",
              "      <th></th>\n",
              "      <th>city</th>\n",
              "      <th>crime_set</th>\n",
              "    </tr>\n",
              "  </thead>\n",
              "  <tbody>\n",
              "    <tr>\n",
              "      <th>39</th>\n",
              "      <td>bronx$</td>\n",
              "      <td>0.776361</td>\n",
              "    </tr>\n",
              "    <tr>\n",
              "      <th>61</th>\n",
              "      <td>birmingham$</td>\n",
              "      <td>0.774044</td>\n",
              "    </tr>\n",
              "    <tr>\n",
              "      <th>13</th>\n",
              "      <td>detroit$</td>\n",
              "      <td>0.769311</td>\n",
              "    </tr>\n",
              "    <tr>\n",
              "      <th>97</th>\n",
              "      <td>madison$</td>\n",
              "      <td>0.762716</td>\n",
              "    </tr>\n",
              "    <tr>\n",
              "      <th>41</th>\n",
              "      <td>providence$</td>\n",
              "      <td>0.760945</td>\n",
              "    </tr>\n",
              "    <tr>\n",
              "      <th>27</th>\n",
              "      <td>san_jose$</td>\n",
              "      <td>0.758837</td>\n",
              "    </tr>\n",
              "    <tr>\n",
              "      <th>76</th>\n",
              "      <td>knoxville$</td>\n",
              "      <td>0.758294</td>\n",
              "    </tr>\n",
              "    <tr>\n",
              "      <th>8</th>\n",
              "      <td>atlanta$</td>\n",
              "      <td>0.756430</td>\n",
              "    </tr>\n",
              "    <tr>\n",
              "      <th>15</th>\n",
              "      <td>minneapolis$</td>\n",
              "      <td>0.752152</td>\n",
              "    </tr>\n",
              "    <tr>\n",
              "      <th>34</th>\n",
              "      <td>kansas$</td>\n",
              "      <td>0.749511</td>\n",
              "    </tr>\n",
              "    <tr>\n",
              "      <th>85</th>\n",
              "      <td>mesa$</td>\n",
              "      <td>0.743538</td>\n",
              "    </tr>\n",
              "    <tr>\n",
              "      <th>33</th>\n",
              "      <td>austin$</td>\n",
              "      <td>0.742861</td>\n",
              "    </tr>\n",
              "    <tr>\n",
              "      <th>19</th>\n",
              "      <td>queens$</td>\n",
              "      <td>0.741564</td>\n",
              "    </tr>\n",
              "    <tr>\n",
              "      <th>83</th>\n",
              "      <td>provo$</td>\n",
              "      <td>0.741141</td>\n",
              "    </tr>\n",
              "    <tr>\n",
              "      <th>6</th>\n",
              "      <td>houston$</td>\n",
              "      <td>0.737985</td>\n",
              "    </tr>\n",
              "    <tr>\n",
              "      <th>50</th>\n",
              "      <td>oklahoma$</td>\n",
              "      <td>0.737773</td>\n",
              "    </tr>\n",
              "    <tr>\n",
              "      <th>71</th>\n",
              "      <td>colorado_springs$</td>\n",
              "      <td>0.732723</td>\n",
              "    </tr>\n",
              "    <tr>\n",
              "      <th>32</th>\n",
              "      <td>manhattan$</td>\n",
              "      <td>0.731965</td>\n",
              "    </tr>\n",
              "    <tr>\n",
              "      <th>88</th>\n",
              "      <td>murrieta$</td>\n",
              "      <td>0.729838</td>\n",
              "    </tr>\n",
              "    <tr>\n",
              "      <th>22</th>\n",
              "      <td>st_louis$</td>\n",
              "      <td>0.729349</td>\n",
              "    </tr>\n",
              "    <tr>\n",
              "      <th>0</th>\n",
              "      <td>new_york$</td>\n",
              "      <td>0.726252</td>\n",
              "    </tr>\n",
              "    <tr>\n",
              "      <th>28</th>\n",
              "      <td>orlando$</td>\n",
              "      <td>0.724664</td>\n",
              "    </tr>\n",
              "    <tr>\n",
              "      <th>72</th>\n",
              "      <td>charleston$</td>\n",
              "      <td>0.720765</td>\n",
              "    </tr>\n",
              "    <tr>\n",
              "      <th>31</th>\n",
              "      <td>cincinnati$</td>\n",
              "      <td>0.716709</td>\n",
              "    </tr>\n",
              "    <tr>\n",
              "      <th>73</th>\n",
              "      <td>grand_rapids$</td>\n",
              "      <td>0.714309</td>\n",
              "    </tr>\n",
              "    <tr>\n",
              "      <th>10</th>\n",
              "      <td>phoenix$</td>\n",
              "      <td>0.708374</td>\n",
              "    </tr>\n",
              "    <tr>\n",
              "      <th>25</th>\n",
              "      <td>san_antonio$</td>\n",
              "      <td>0.707961</td>\n",
              "    </tr>\n",
              "    <tr>\n",
              "      <th>52</th>\n",
              "      <td>buffalo$</td>\n",
              "      <td>0.701029</td>\n",
              "    </tr>\n",
              "    <tr>\n",
              "      <th>16</th>\n",
              "      <td>tampa$</td>\n",
              "      <td>0.698722</td>\n",
              "    </tr>\n",
              "    <tr>\n",
              "      <th>63</th>\n",
              "      <td>rochester$</td>\n",
              "      <td>0.698142</td>\n",
              "    </tr>\n",
              "    <tr>\n",
              "      <th>11</th>\n",
              "      <td>seattle$</td>\n",
              "      <td>0.691565</td>\n",
              "    </tr>\n",
              "    <tr>\n",
              "      <th>92</th>\n",
              "      <td>long_beach$</td>\n",
              "      <td>0.690423</td>\n",
              "    </tr>\n",
              "    <tr>\n",
              "      <th>46</th>\n",
              "      <td>richmond$</td>\n",
              "      <td>0.689919</td>\n",
              "    </tr>\n",
              "    <tr>\n",
              "      <th>66</th>\n",
              "      <td>allentown$</td>\n",
              "      <td>0.689487</td>\n",
              "    </tr>\n",
              "    <tr>\n",
              "      <th>47</th>\n",
              "      <td>new_orleans$</td>\n",
              "      <td>0.686150</td>\n",
              "    </tr>\n",
              "    <tr>\n",
              "      <th>43</th>\n",
              "      <td>salt_lake$</td>\n",
              "      <td>0.684468</td>\n",
              "    </tr>\n",
              "    <tr>\n",
              "      <th>86</th>\n",
              "      <td>palm_bay$</td>\n",
              "      <td>0.681889</td>\n",
              "    </tr>\n",
              "    <tr>\n",
              "      <th>57</th>\n",
              "      <td>honolulu$</td>\n",
              "      <td>0.680864</td>\n",
              "    </tr>\n",
              "    <tr>\n",
              "      <th>24</th>\n",
              "      <td>portland$</td>\n",
              "      <td>0.679991</td>\n",
              "    </tr>\n",
              "    <tr>\n",
              "      <th>74</th>\n",
              "      <td>mission_viejo$</td>\n",
              "      <td>0.670909</td>\n",
              "    </tr>\n",
              "    <tr>\n",
              "      <th>3</th>\n",
              "      <td>miami$</td>\n",
              "      <td>0.665563</td>\n",
              "    </tr>\n",
              "    <tr>\n",
              "      <th>99</th>\n",
              "      <td>st_lucie$</td>\n",
              "      <td>0.654904</td>\n",
              "    </tr>\n",
              "    <tr>\n",
              "      <th>7</th>\n",
              "      <td>washington$</td>\n",
              "      <td>0.649500</td>\n",
              "    </tr>\n",
              "    <tr>\n",
              "      <th>45</th>\n",
              "      <td>memphis$</td>\n",
              "      <td>0.633150</td>\n",
              "    </tr>\n",
              "    <tr>\n",
              "      <th>81</th>\n",
              "      <td>columbia$</td>\n",
              "      <td>0.629800</td>\n",
              "    </tr>\n",
              "    <tr>\n",
              "      <th>12</th>\n",
              "      <td>san_francisco$</td>\n",
              "      <td>0.626041</td>\n",
              "    </tr>\n",
              "    <tr>\n",
              "      <th>48</th>\n",
              "      <td>raleigh$</td>\n",
              "      <td>0.614279</td>\n",
              "    </tr>\n",
              "    <tr>\n",
              "      <th>23</th>\n",
              "      <td>las_vegas$</td>\n",
              "      <td>0.602528</td>\n",
              "    </tr>\n",
              "    <tr>\n",
              "      <th>58</th>\n",
              "      <td>omaha$</td>\n",
              "      <td>0.542894</td>\n",
              "    </tr>\n",
              "    <tr>\n",
              "      <th>1</th>\n",
              "      <td>los_angeles$</td>\n",
              "      <td>0.537786</td>\n",
              "    </tr>\n",
              "  </tbody>\n",
              "</table>\n",
              "</div>"
            ],
            "text/plain": [
              "                 city  crime_set\n",
              "39             bronx$   0.776361\n",
              "61        birmingham$   0.774044\n",
              "13           detroit$   0.769311\n",
              "97           madison$   0.762716\n",
              "41        providence$   0.760945\n",
              "27          san_jose$   0.758837\n",
              "76         knoxville$   0.758294\n",
              "8            atlanta$   0.756430\n",
              "15       minneapolis$   0.752152\n",
              "34            kansas$   0.749511\n",
              "85              mesa$   0.743538\n",
              "33            austin$   0.742861\n",
              "19            queens$   0.741564\n",
              "83             provo$   0.741141\n",
              "6            houston$   0.737985\n",
              "50          oklahoma$   0.737773\n",
              "71  colorado_springs$   0.732723\n",
              "32         manhattan$   0.731965\n",
              "88          murrieta$   0.729838\n",
              "22          st_louis$   0.729349\n",
              "0           new_york$   0.726252\n",
              "28           orlando$   0.724664\n",
              "72        charleston$   0.720765\n",
              "31        cincinnati$   0.716709\n",
              "73      grand_rapids$   0.714309\n",
              "10           phoenix$   0.708374\n",
              "25       san_antonio$   0.707961\n",
              "52           buffalo$   0.701029\n",
              "16             tampa$   0.698722\n",
              "63         rochester$   0.698142\n",
              "11           seattle$   0.691565\n",
              "92        long_beach$   0.690423\n",
              "46          richmond$   0.689919\n",
              "66         allentown$   0.689487\n",
              "47       new_orleans$   0.686150\n",
              "43         salt_lake$   0.684468\n",
              "86          palm_bay$   0.681889\n",
              "57          honolulu$   0.680864\n",
              "24          portland$   0.679991\n",
              "74     mission_viejo$   0.670909\n",
              "3              miami$   0.665563\n",
              "99          st_lucie$   0.654904\n",
              "7         washington$   0.649500\n",
              "45           memphis$   0.633150\n",
              "81          columbia$   0.629800\n",
              "12     san_francisco$   0.626041\n",
              "48           raleigh$   0.614279\n",
              "23         las_vegas$   0.602528\n",
              "58             omaha$   0.542894\n",
              "1        los_angeles$   0.537786"
            ]
          },
          "metadata": {
            "tags": []
          },
          "execution_count": 43
        }
      ]
    },
    {
      "cell_type": "markdown",
      "metadata": {
        "id": "hiFQv-XikWgY",
        "colab_type": "text"
      },
      "source": [
        "### _An idea for retrofitting city name vectors_\n",
        "- Here I tried to subtract the city name vectors and the mean vector of other cities to remove the mutual semantic of the cities to excavate the specifity of each city name in the space"
      ]
    },
    {
      "cell_type": "code",
      "metadata": {
        "id": "b2b-tjuSoSw_",
        "colab_type": "code",
        "outputId": "ecb7db35-3fd9-412b-9187-efe344cde737",
        "colab": {
          "base_uri": "https://localhost:8080/",
          "height": 72
        }
      },
      "source": [
        "city_vectors = []\n",
        "for city in city_names:\n",
        "  item = {}\n",
        "  item ['city'] = city\n",
        "  item ['vec'] = model[city]\n",
        "  city_vectors.append(item)\n",
        "#city_vectors = np.array(city_vectors) #convert to numpy format\n",
        "#city_mean_v = np.mean(city_vectors, axis=0)\n"
      ],
      "execution_count": 44,
      "outputs": [
        {
          "output_type": "stream",
          "text": [
            "/usr/local/lib/python3.6/dist-packages/ipykernel_launcher.py:5: DeprecationWarning: Call to deprecated `__getitem__` (Method will be removed in 4.0.0, use self.wv.__getitem__() instead).\n",
            "  \"\"\"\n"
          ],
          "name": "stderr"
        }
      ]
    },
    {
      "cell_type": "code",
      "metadata": {
        "id": "WNu8Nne7Iqy_",
        "colab_type": "code",
        "colab": {}
      },
      "source": [
        "for item in city_vectors:\n",
        "  other_city_vec = np.array([x['vec'] for x in city_vectors if x['city'] != item['city']]) #convert to numpy format\n",
        "  city_mean_v = np.mean(other_city_vec, axis=0)\n",
        "  item['new_vec'] = np.sum(np.array([item['vec'],np.negative(city_mean_v)]),axis=0)"
      ],
      "execution_count": 0,
      "outputs": []
    },
    {
      "cell_type": "markdown",
      "metadata": {
        "id": "c1q2Cx3q1IJf",
        "colab_type": "text"
      },
      "source": [
        "Cosin similarity using numpy"
      ]
    },
    {
      "cell_type": "code",
      "metadata": {
        "id": "Q4uWvrg503fs",
        "colab_type": "code",
        "outputId": "0159e0ad-e447-4a96-dfe7-96a2bdcd8bb2",
        "colab": {
          "base_uri": "https://localhost:8080/",
          "height": 72
        }
      },
      "source": [
        "similarity=[]\n",
        "for i in range (len(city_names)):\n",
        "  #similarity.append(model.n_similarity(list(city.split()),['crime','kidnap','crimin','violent','homicid','violenc']))\n",
        "  a= city_vectors[i]['new_vec']\n",
        "  b= model['rape']\n",
        "  similarity.append(dot(a, b)/(norm(a)*norm(b)))\n",
        "  #print (\"-- {} : crime: {} -- rape: {} -- kidnap: {} -- violent: {} \".format(city,similarity_1,similarity_2,similarity_3,similarity_4))\n",
        "sim_ranks = pd.DataFrame({'city': city_names, 'sat': similarity})"
      ],
      "execution_count": 47,
      "outputs": [
        {
          "output_type": "stream",
          "text": [
            "/usr/local/lib/python3.6/dist-packages/ipykernel_launcher.py:5: DeprecationWarning: Call to deprecated `__getitem__` (Method will be removed in 4.0.0, use self.wv.__getitem__() instead).\n",
            "  \"\"\"\n"
          ],
          "name": "stderr"
        }
      ]
    },
    {
      "cell_type": "code",
      "metadata": {
        "id": "5ienxIYr24xs",
        "colab_type": "code",
        "outputId": "23840b1a-4db6-437b-e9a1-1a623f78934a",
        "colab": {
          "base_uri": "https://localhost:8080/",
          "height": 1000
        }
      },
      "source": [
        "#sim_ranks['crime_set'] = sim_ranks.apply (lambda row: row.crime_set/sim_ranks.crime_set.values.max(), axis=1)\n",
        "sim_ranks.sort_values(by='sat', ascending=False).iloc[0:50,:]"
      ],
      "execution_count": 48,
      "outputs": [
        {
          "output_type": "execute_result",
          "data": {
            "text/html": [
              "<div>\n",
              "<style scoped>\n",
              "    .dataframe tbody tr th:only-of-type {\n",
              "        vertical-align: middle;\n",
              "    }\n",
              "\n",
              "    .dataframe tbody tr th {\n",
              "        vertical-align: top;\n",
              "    }\n",
              "\n",
              "    .dataframe thead th {\n",
              "        text-align: right;\n",
              "    }\n",
              "</style>\n",
              "<table border=\"1\" class=\"dataframe\">\n",
              "  <thead>\n",
              "    <tr style=\"text-align: right;\">\n",
              "      <th></th>\n",
              "      <th>city</th>\n",
              "      <th>sat</th>\n",
              "    </tr>\n",
              "  </thead>\n",
              "  <tbody>\n",
              "    <tr>\n",
              "      <th>54</th>\n",
              "      <td>fort_worth$</td>\n",
              "      <td>0.440869</td>\n",
              "    </tr>\n",
              "    <tr>\n",
              "      <th>90</th>\n",
              "      <td>des_moines$</td>\n",
              "      <td>0.410500</td>\n",
              "    </tr>\n",
              "    <tr>\n",
              "      <th>21</th>\n",
              "      <td>riverside$</td>\n",
              "      <td>0.395194</td>\n",
              "    </tr>\n",
              "    <tr>\n",
              "      <th>80</th>\n",
              "      <td>new_haven$</td>\n",
              "      <td>0.387429</td>\n",
              "    </tr>\n",
              "    <tr>\n",
              "      <th>56</th>\n",
              "      <td>el_paso$</td>\n",
              "      <td>0.381924</td>\n",
              "    </tr>\n",
              "    <tr>\n",
              "      <th>44</th>\n",
              "      <td>nashville$</td>\n",
              "      <td>0.334691</td>\n",
              "    </tr>\n",
              "    <tr>\n",
              "      <th>89</th>\n",
              "      <td>wichita$</td>\n",
              "      <td>0.317082</td>\n",
              "    </tr>\n",
              "    <tr>\n",
              "      <th>33</th>\n",
              "      <td>austin$</td>\n",
              "      <td>0.286933</td>\n",
              "    </tr>\n",
              "    <tr>\n",
              "      <th>27</th>\n",
              "      <td>san_jose$</td>\n",
              "      <td>0.279655</td>\n",
              "    </tr>\n",
              "    <tr>\n",
              "      <th>5</th>\n",
              "      <td>philadelphia$</td>\n",
              "      <td>0.272920</td>\n",
              "    </tr>\n",
              "    <tr>\n",
              "      <th>40</th>\n",
              "      <td>milwaukee$</td>\n",
              "      <td>0.268334</td>\n",
              "    </tr>\n",
              "    <tr>\n",
              "      <th>55</th>\n",
              "      <td>tucson$</td>\n",
              "      <td>0.251806</td>\n",
              "    </tr>\n",
              "    <tr>\n",
              "      <th>9</th>\n",
              "      <td>boston$</td>\n",
              "      <td>0.238242</td>\n",
              "    </tr>\n",
              "    <tr>\n",
              "      <th>18</th>\n",
              "      <td>brooklyn$</td>\n",
              "      <td>0.235250</td>\n",
              "    </tr>\n",
              "    <tr>\n",
              "      <th>60</th>\n",
              "      <td>albuquerque$</td>\n",
              "      <td>0.229255</td>\n",
              "    </tr>\n",
              "    <tr>\n",
              "      <th>14</th>\n",
              "      <td>san_diego$</td>\n",
              "      <td>0.227227</td>\n",
              "    </tr>\n",
              "    <tr>\n",
              "      <th>12</th>\n",
              "      <td>san_francisco$</td>\n",
              "      <td>0.213841</td>\n",
              "    </tr>\n",
              "    <tr>\n",
              "      <th>26</th>\n",
              "      <td>sacramento$</td>\n",
              "      <td>0.207180</td>\n",
              "    </tr>\n",
              "    <tr>\n",
              "      <th>94</th>\n",
              "      <td>little_rock$</td>\n",
              "      <td>0.204442</td>\n",
              "    </tr>\n",
              "    <tr>\n",
              "      <th>53</th>\n",
              "      <td>hartford$</td>\n",
              "      <td>0.204247</td>\n",
              "    </tr>\n",
              "    <tr>\n",
              "      <th>2</th>\n",
              "      <td>chicago$</td>\n",
              "      <td>0.197973</td>\n",
              "    </tr>\n",
              "    <tr>\n",
              "      <th>65</th>\n",
              "      <td>fresno$</td>\n",
              "      <td>0.178953</td>\n",
              "    </tr>\n",
              "    <tr>\n",
              "      <th>84</th>\n",
              "      <td>worcester$</td>\n",
              "      <td>0.172704</td>\n",
              "    </tr>\n",
              "    <tr>\n",
              "      <th>4</th>\n",
              "      <td>dallas$</td>\n",
              "      <td>0.170278</td>\n",
              "    </tr>\n",
              "    <tr>\n",
              "      <th>77</th>\n",
              "      <td>baton_rouge$</td>\n",
              "      <td>0.166558</td>\n",
              "    </tr>\n",
              "    <tr>\n",
              "      <th>23</th>\n",
              "      <td>las_vegas$</td>\n",
              "      <td>0.161244</td>\n",
              "    </tr>\n",
              "    <tr>\n",
              "      <th>10</th>\n",
              "      <td>phoenix$</td>\n",
              "      <td>0.160999</td>\n",
              "    </tr>\n",
              "    <tr>\n",
              "      <th>32</th>\n",
              "      <td>manhattan$</td>\n",
              "      <td>0.158462</td>\n",
              "    </tr>\n",
              "    <tr>\n",
              "      <th>92</th>\n",
              "      <td>long_beach$</td>\n",
              "      <td>0.155492</td>\n",
              "    </tr>\n",
              "    <tr>\n",
              "      <th>38</th>\n",
              "      <td>charlotte$</td>\n",
              "      <td>0.152935</td>\n",
              "    </tr>\n",
              "    <tr>\n",
              "      <th>17</th>\n",
              "      <td>denver$</td>\n",
              "      <td>0.143534</td>\n",
              "    </tr>\n",
              "    <tr>\n",
              "      <th>29</th>\n",
              "      <td>cleveland$</td>\n",
              "      <td>0.141236</td>\n",
              "    </tr>\n",
              "    <tr>\n",
              "      <th>97</th>\n",
              "      <td>madison$</td>\n",
              "      <td>0.140223</td>\n",
              "    </tr>\n",
              "    <tr>\n",
              "      <th>68</th>\n",
              "      <td>concord$</td>\n",
              "      <td>0.134118</td>\n",
              "    </tr>\n",
              "    <tr>\n",
              "      <th>6</th>\n",
              "      <td>houston$</td>\n",
              "      <td>0.131207</td>\n",
              "    </tr>\n",
              "    <tr>\n",
              "      <th>93</th>\n",
              "      <td>greenville$</td>\n",
              "      <td>0.129629</td>\n",
              "    </tr>\n",
              "    <tr>\n",
              "      <th>83</th>\n",
              "      <td>provo$</td>\n",
              "      <td>0.123600</td>\n",
              "    </tr>\n",
              "    <tr>\n",
              "      <th>36</th>\n",
              "      <td>columbus$</td>\n",
              "      <td>0.118081</td>\n",
              "    </tr>\n",
              "    <tr>\n",
              "      <th>13</th>\n",
              "      <td>detroit$</td>\n",
              "      <td>0.116074</td>\n",
              "    </tr>\n",
              "    <tr>\n",
              "      <th>75</th>\n",
              "      <td>albany$</td>\n",
              "      <td>0.104234</td>\n",
              "    </tr>\n",
              "    <tr>\n",
              "      <th>15</th>\n",
              "      <td>minneapolis$</td>\n",
              "      <td>0.099973</td>\n",
              "    </tr>\n",
              "    <tr>\n",
              "      <th>1</th>\n",
              "      <td>los_angeles$</td>\n",
              "      <td>0.080408</td>\n",
              "    </tr>\n",
              "    <tr>\n",
              "      <th>85</th>\n",
              "      <td>mesa$</td>\n",
              "      <td>0.079304</td>\n",
              "    </tr>\n",
              "    <tr>\n",
              "      <th>70</th>\n",
              "      <td>springfield$</td>\n",
              "      <td>0.072835</td>\n",
              "    </tr>\n",
              "    <tr>\n",
              "      <th>0</th>\n",
              "      <td>new_york$</td>\n",
              "      <td>0.071987</td>\n",
              "    </tr>\n",
              "    <tr>\n",
              "      <th>20</th>\n",
              "      <td>baltimore$</td>\n",
              "      <td>0.069597</td>\n",
              "    </tr>\n",
              "    <tr>\n",
              "      <th>30</th>\n",
              "      <td>pittsburgh$</td>\n",
              "      <td>0.057193</td>\n",
              "    </tr>\n",
              "    <tr>\n",
              "      <th>28</th>\n",
              "      <td>orlando$</td>\n",
              "      <td>0.052099</td>\n",
              "    </tr>\n",
              "    <tr>\n",
              "      <th>67</th>\n",
              "      <td>tulsa$</td>\n",
              "      <td>0.040215</td>\n",
              "    </tr>\n",
              "    <tr>\n",
              "      <th>63</th>\n",
              "      <td>rochester$</td>\n",
              "      <td>0.036448</td>\n",
              "    </tr>\n",
              "  </tbody>\n",
              "</table>\n",
              "</div>"
            ],
            "text/plain": [
              "              city       sat\n",
              "54     fort_worth$  0.440869\n",
              "90     des_moines$  0.410500\n",
              "21      riverside$  0.395194\n",
              "80      new_haven$  0.387429\n",
              "56        el_paso$  0.381924\n",
              "44      nashville$  0.334691\n",
              "89        wichita$  0.317082\n",
              "33         austin$  0.286933\n",
              "27       san_jose$  0.279655\n",
              "5    philadelphia$  0.272920\n",
              "40      milwaukee$  0.268334\n",
              "55         tucson$  0.251806\n",
              "9          boston$  0.238242\n",
              "18       brooklyn$  0.235250\n",
              "60    albuquerque$  0.229255\n",
              "14      san_diego$  0.227227\n",
              "12  san_francisco$  0.213841\n",
              "26     sacramento$  0.207180\n",
              "94    little_rock$  0.204442\n",
              "53       hartford$  0.204247\n",
              "2         chicago$  0.197973\n",
              "65         fresno$  0.178953\n",
              "84      worcester$  0.172704\n",
              "4          dallas$  0.170278\n",
              "77    baton_rouge$  0.166558\n",
              "23      las_vegas$  0.161244\n",
              "10        phoenix$  0.160999\n",
              "32      manhattan$  0.158462\n",
              "92     long_beach$  0.155492\n",
              "38      charlotte$  0.152935\n",
              "17         denver$  0.143534\n",
              "29      cleveland$  0.141236\n",
              "97        madison$  0.140223\n",
              "68        concord$  0.134118\n",
              "6         houston$  0.131207\n",
              "93     greenville$  0.129629\n",
              "83          provo$  0.123600\n",
              "36       columbus$  0.118081\n",
              "13        detroit$  0.116074\n",
              "75         albany$  0.104234\n",
              "15    minneapolis$  0.099973\n",
              "1     los_angeles$  0.080408\n",
              "85           mesa$  0.079304\n",
              "70    springfield$  0.072835\n",
              "0        new_york$  0.071987\n",
              "20      baltimore$  0.069597\n",
              "30     pittsburgh$  0.057193\n",
              "28        orlando$  0.052099\n",
              "67          tulsa$  0.040215\n",
              "63      rochester$  0.036448"
            ]
          },
          "metadata": {
            "tags": []
          },
          "execution_count": 48
        }
      ]
    }
  ]
}